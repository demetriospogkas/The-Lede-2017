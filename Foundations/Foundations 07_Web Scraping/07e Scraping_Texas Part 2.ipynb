{
 "cells": [
  {
   "cell_type": "markdown",
   "metadata": {},
   "source": [
    "# Texas Tow Trucks\n",
    "\n",
    "We're going to scrape some [tow trucks in Texas](https://www.tdlr.texas.gov/tools_search/).\n",
    "\n",
    "Try searching for the TLDR Number `006179570C`."
   ]
  },
  {
   "cell_type": "markdown",
   "metadata": {},
   "source": [
    "## Preparation: Knowing your tags\n",
    "\n",
    "These questions are the same for every data set, and might not work exactly for yours."
   ]
  },
  {
   "cell_type": "markdown",
   "metadata": {},
   "source": [
    "### What is the tag and class name for the business name?"
   ]
  },
  {
   "cell_type": "code",
   "execution_count": 1,
   "metadata": {
    "collapsed": true
   },
   "outputs": [],
   "source": [
    "# <tr> \n",
    "    # <td align=\"left\" width=\"50%\"><strong>Name:&nbsp;&nbsp;&nbsp;</strong>B.D. SMITH TOWING</td>\n",
    "    # <td align=\"left\" nowrap=\"nowrap\" width=\"50%\"><strong>DBA:&nbsp;&nbsp;&nbsp;<font color=\"red\">NO DATA</font></strong></td>\t\t\n",
    "#</tr>"
   ]
  },
  {
   "cell_type": "markdown",
   "metadata": {},
   "source": [
    "### What is the tag and class name for their phone number?"
   ]
  },
  {
   "cell_type": "code",
   "execution_count": 2,
   "metadata": {
    "collapsed": true
   },
   "outputs": [],
   "source": [
    "# <td><strong>Phone:</strong>&nbsp;&nbsp;&nbsp;8173330706<br><br></td>"
   ]
  },
  {
   "cell_type": "markdown",
   "metadata": {},
   "source": [
    "### What is the tag and class name for their license status? (Expired, Active, Suspended)"
   ]
  },
  {
   "cell_type": "code",
   "execution_count": 3,
   "metadata": {
    "collapsed": true
   },
   "outputs": [],
   "source": [
    "# <td bgcolor=\"#FFF8DC\"><strong>Status:</strong>&nbsp;&nbsp;<font color=\"green\"><font color=\"green\">Active</font></font></td>"
   ]
  },
  {
   "cell_type": "markdown",
   "metadata": {},
   "source": [
    "### What is the tag and class name for the physical address?"
   ]
  },
  {
   "cell_type": "code",
   "execution_count": 4,
   "metadata": {
    "collapsed": true
   },
   "outputs": [],
   "source": [
    "# <td nowrap=\"nowrap\"><strong>Carrier Type:</strong>&nbsp;&nbsp;Tow Truck Company\n",
    "   # <br>\n",
    "\t   # <b>Number of Active Tow Trucks:</b> &nbsp; 0\n",
    "           # <br><br>\n",
    "           # <strong>Address Information</strong><br>\n",
    "           # <strong>Mailing:</strong><br>13619 BRETT JACKSON RD <br>\n",
    "\t\t\t   # FORT WORTH,&nbsp;TX.&nbsp;76179\n",
    "           # <br><br>\n",
    "           # <strong>Physical:</strong><br>13619 BRETT JACKSON RD.<br>\n",
    "\t\t\t   # FORT WORTH,&nbsp;TX.&nbsp;76179\n",
    "       # </td>"
   ]
  },
  {
   "cell_type": "markdown",
   "metadata": {},
   "source": [
    "## Setup: Import what you'll need to scrape the page\n",
    "\n",
    "Use `requests`, not `urllib`."
   ]
  },
  {
   "cell_type": "code",
   "execution_count": 5,
   "metadata": {
    "collapsed": true
   },
   "outputs": [],
   "source": [
    "import requests"
   ]
  },
  {
   "cell_type": "code",
   "execution_count": 6,
   "metadata": {
    "collapsed": true
   },
   "outputs": [],
   "source": [
    "from bs4 import BeautifulSoup"
   ]
  },
  {
   "cell_type": "markdown",
   "metadata": {},
   "source": [
    "## Scrape this page\n",
    "\n",
    "Scrape this page, displaying the\n",
    "\n",
    "- The business name\n",
    "- Phone number\n",
    "- License status\n",
    "- Physical address\n",
    "\n",
    "**You should know how to do `.post` requests by now.**\n",
    "\n",
    "- *TIP: For physical address, **ask me on the board** and I'll give you a secret trick about situations like this.*"
   ]
  },
  {
   "cell_type": "code",
   "execution_count": 7,
   "metadata": {
    "scrolled": true
   },
   "outputs": [
    {
     "data": {
      "text/plain": [
       "\n",
       "<link href=\"style.css\" rel=\"stylesheet\" type=\"text/css\"/>\n",
       "<html>\n",
       "<head><title>Towing Company Information</title></head>\n",
       "<body onload=\"scrollTo(4000,4000)\" topmargin=\"0\">\n",
       "<style media=\"screen\" type=\"text/css\">\n",
       "\tbody {\n",
       "\t\tbackground-color: #CCCCCC;\n",
       "\t\tborder-color: #000000;\n",
       "\t\tcolor: #2e2d2c;\n",
       "\t\tfont-family: Arial, Helvetica, sans-serif;\n",
       "\t\tfont-size: .9em;\n",
       "\t\tline-height: normal;\n",
       "\t\tmargin: 0 0 0 0;\n",
       "\t\tpadding: 0 0 0 0;\n",
       "\t\ttext-align: center;\n",
       "\t}\n",
       "\n",
       "\t#outerWrapper {\n",
       "\t\tposition: relative;\n",
       "\t\tbackground-color: #ffc;\n",
       "\t\tmargin: 0 auto 0 auto; \n",
       "\t\twidth: 960px;\n",
       "\t}\n",
       "\t#outerWrapper #header {\n",
       "\t\tbackground-color: #dbc9a0;\n",
       "\t\ttext-align: left; \n",
       "\t}\n",
       "\t#outerWrapper #header h1 {\n",
       "\t\tbackground-color: #fff6d9;\n",
       "\t\ttext-align: left; \n",
       "\t\tcolor: #000000;\n",
       "\t}\n",
       "\t#outerWrapper #topNavigation {\n",
       "\t\tclear: left;\n",
       "\t\tmargin: 0 0 0 0;\n",
       "\t\tline-height: 2em;\n",
       "\t\tborder-bottom: 1px solid #ccc;\n",
       "\t\tbackground-color: #FFC;\n",
       "\t\tborder-bottom: 1px solid #ccc;\n",
       "\t\tborder-top: 1px solid #ccc;\n",
       "\t}\n",
       "\t#outerWrapper #main-nav {\n",
       "\t\tbackground-color: #FFC;\n",
       "\t\tfont-family:helvetica,arial,sans-serif;\n",
       "\t\tmargin:0;\n",
       "\t\tpadding: 0px 25px 0px 20px;\n",
       "\t\tfloat:left;\n",
       "\t\t\twidth: 915px;\n",
       "\t\tfont-size: .85em;\n",
       "\t}\n",
       "\t\t\tul#main-nav li {margin:0;padding:0;list-style:none;float:left;margin:0 0.5em 0 0;}\n",
       "\t\t\tul#main-nav li a {text-decoration:none;padding:0.5em 0.5em;color:#039;}\n",
       "\t\t\tul#main-nav li a:hover {color:#33c;background:#efefef;\n",
       "\t}\n",
       "\t#outerWrapper #contentWrapper {\n",
       "\t\ttext-align: left; \n",
       "\t\toverflow: hidden;\n",
       "\t\tclear: both;\n",
       "\t}\n",
       "\t#outerWrapper #contentWrapper #content {\n",
       "\t\tposition: relative;\n",
       "\t\tbackground-color: #ffffff;\n",
       "\t\tcolor: #333333;\n",
       "\t\tfont-family: Arial, Helvetica, sans-serif;\n",
       "\t\tfont-size: 0.9em;\n",
       "\t\tline-height: normal;\n",
       "\t\tmargin: 0px;\n",
       "\t\tpadding: 1em 4em .5em 4em;\n",
       "\t}\n",
       "\t#outerWrapper #footer {\n",
       "\t\tclear: both;\n",
       "\t\tcolor: #000;\n",
       "\t\t\ttext-align: center;\n",
       "\t\tfont-family: Arial, Helvetica, sans-serif;\n",
       "\t\tfont-size: 0.9em;\n",
       "\t\theight: 20px;\n",
       "\t\tline-height: normal;\n",
       "\t\tpadding: 5px 0px 20px 0px; /* perimeter of the footer div */\n",
       "\t}\n",
       "\t#outerWrapper #footer a {\n",
       "\t\tcolor: #000;\n",
       "\t\t\ttext-align: center;\n",
       "\t\t\tfont-family: Arial, Helvetica, sans-serif;\n",
       "\t\tfont-size: .9em;\n",
       "\t\theight: 20px;\n",
       "\t\tline-height: normal;\n",
       "\t\tpadding: 5px 10px 0px 10px; /* perimeter of each individual <a ...> in footer */\n",
       "\t}\n",
       "\t\t\n",
       "\t.float_left {\n",
       "\tfloat:left;\n",
       "\t}\n",
       "\n",
       "\t.float_right {\n",
       "\tfloat:right;\n",
       "\t}\n",
       "</style>\n",
       "<a href=\"/index.htm\"><img align=\"middle\" alt=\"Texas Department of Licensing and Regulation\" border=\"0\" src=\"/images/logo-bar.gif\"/></a>\n",
       "<div id=\"outerWrapper\">\n",
       "<div id=\"contentWrapper\">\n",
       "<div id=\"content\">\n",
       "<table id=\"t1\"><tr><td>\n",
       "<html>\n",
       "<head>\n",
       "<meta content=\"Microsoft Visual Studio 6.0\" name=\"GENERATOR\"/>\n",
       "<title>\n",
       "\tMCCS_Seach Functions\n",
       "</title>\n",
       "</head></html>\n",
       "<table align=\"center\" border=\"0\" cellpadding=\"1\" cellspacing=\"0\">\n",
       "<td><font face=\"Arial\" size=\"4\"><strong><a name=\"anchor\">Company Information</a></strong></font></td>\n",
       "</table>\n",
       "<hr/>\n",
       "<br/>\n",
       "<font size=\"2\">\n",
       "<table align=\"center\" border=\"3\" bordercolor=\"black\" cellpadding=\"1\" cellspacing=\"1\" width=\"86%\">\n",
       "<tr>\n",
       "<td bgcolor=\"#FFF8DC\"><font face=\"Arial\" size=\"2\"><b>IMPORTANT</b>: A tow company is not authorized to operate any tow trucks unless both its certificate status and automobile \n",
       "\t\tliability insurance are active.  Please view the Company Information page and Company Insurance Information page to determine the status of the tow company's certificate and \n",
       "\t\tinsurance.  <b>Exception</b>: Vehicles Storage Facility operators are not required to file vehicles or automobile liability insurance with TDLR.  \n",
       "\t\tA Vehicle Storage Facility can be identified by noting the Company Type on the Company Information page.</font></td>\n",
       "</tr>\n",
       "</table>\n",
       "<br/>\n",
       "<br/>\n",
       "<hr/>\n",
       "<br/>\n",
       "<table align=\"center\" border=\"0\" cellpadding=\"0\" cellspacing=\"0\" width=\"\">\n",
       "<tr>\n",
       "<td bgcolor=\"#FFF8DC\"><font face=\"Arial\" size=\"2\"><strong>Company Information:</strong></font></td><td bgcolor=\"#FFF8DC\"><img src=\"SPACER.gif\"/></td>\n",
       "</tr>\n",
       "<tr>\n",
       "<td align=\"left\" width=\"50%\"><strong>Name:   </strong>B.D. SMITH TOWING</td>\n",
       "<td align=\"left\" nowrap=\"nowrap\" width=\"50%\"><strong>DBA:   <font color=\"red\">NO DATA</font></strong></td>\n",
       "</tr>\n",
       "<tr>\n",
       "<td align=\"left\" width=\"400\"><strong>Owner/Officer:   </strong>BRANDT SMITH                                                 / OWNER<br/></td>\n",
       "<td><img src=\"SPACER.gif\"/></td>\n",
       "</tr>\n",
       "<tr>\n",
       "<td><strong>Phone:</strong>   8173330706<br/><br/></td>\n",
       "<td><img src=\"SPACER.gif\"/></td>\n",
       "</tr>\n",
       "</table>\n",
       "<table align=\"center\" border=\"1\" cellpadding=\"1\" cellspacing=\"0\" width=\"96%\">\n",
       "<tr>\n",
       "<td bgcolor=\"#FFF8DC\"><strong>Certificate Information:</strong></td>\n",
       "<td bgcolor=\"#FFF8DC\"><strong>Status:</strong>  <font color=\"green\"><font color=\"green\">Active</font></font></td>\n",
       "</tr>\n",
       "<tr>\n",
       "<td nowrap=\"nowrap\"><strong>Number:  </strong><font color=\"green\"><b>006179570C</b> (<font color=\"green\">Active</font>)</font></td>\n",
       "<td nowrap=\"nowrap\"><strong>Carrier Type:</strong>  Tow Truck Company\n",
       "    <br>\n",
       "<b>Number of Active Tow Trucks:</b>   0\n",
       "            <br/><br/>\n",
       "<strong>Address Information</strong><br/>\n",
       "<strong>Mailing:</strong><br/>\n",
       "\n",
       "13619 BRETT JACKSON RD <br/>\n",
       "\t\t\t    FORT WORTH, TX. 76179\n",
       "            <br/><br/>\n",
       "<strong>Physical:</strong><br/>\n",
       "\n",
       "13619 BRETT JACKSON RD.<br/>\n",
       "\t\t\t    FORT WORTH, TX. 76179\n",
       "        </br></td>\n",
       "</tr>\n",
       "</table>\n",
       "</font></td></tr></table>\n",
       "<form action=\"mccs_information_display.asp#anchor\" method=\"post\" name=\"typeinfo\">\n",
       "<table border=\"0\" cellpadding=\"0\" cellspacing=\"0\">\n",
       "<td bgcolor=\"#FFF8DC\" colspan=\"6\"><strong>View Company Information By:</strong><br/></td>\n",
       "<tr>\n",
       "<td><input name=\"infotype\" type=\"radio\" value=\"Activity\"/>Activity</td>\n",
       "<td><input name=\"infotype\" type=\"radio\" value=\"Insurance\"/>Insurance</td>\n",
       "<td><input name=\"infotype\" type=\"radio\" value=\"Vehicle\"/>Vehicle</td>\n",
       "<td><input checked=\"\" name=\"infotype\" type=\"radio\" value=\"Carrier\"/>Company Information</td>\n",
       "<!--<td><img src=\"SPACER.gif\"></td> ''by Tao, to show the following message instead. 11-16-2009-->\n",
       "<td>  <font color=\"maroon\">No Tow Fee Schedule on file</font> </td>\n",
       "<td><button id=\"submit3\" name=\"proc\" type=\"submit\"> Go </button></td>\n",
       "</tr>\n",
       "</table>\n",
       "<hr/>\n",
       "<table border=\"0\" cellpadding=\"1\" cellspacing=\"0\" width=\"86%\">\n",
       "<tr>\n",
       "<td align=\"left\" width=\"50%\"><a href=\"mccs_search.asp\"><strong>New Search</strong></a></td>\n",
       "<td align=\"right\" width=\"50%\"><a href=\"#top\"><strong>Top of Page</strong></a>\n",
       "</td></tr>\n",
       "</table>\n",
       "<hr/>\n",
       "<br>\n",
       "</br></form></div> <!-- content -->\n",
       "</div> <!-- contentWrapper -->\n",
       "<div id=\"footer\">\n",
       "<a href=\"/disclaimer.htm\" target=\"_blank\">Privacy and Security Policy</a> | <a href=\"/disclaimer.htm#access\" target=\"_blank\">Accessibility</a> | <a href=\"/disclaimer.htm#PublicInfoPolicy\" target=\"_blank\">Open Records Policy</a> | <a href=\"/disclaimer.htm#link\" target=\"_blank\">Link Policy</a> | <a href=\"/compact.htm\" target=\"_blank\">Compact with Texans</a><br>\n",
       "<a href=\"http://www.texas.gov/en/Pages/default.aspx\" target=\"_blank\">Texas.gov</a> | <a href=\"http://www2.tsl.state.tx.us/trail/\" target=\"_blank\">TRAIL Search</a> | <a href=\"http://www.texashomelandsecurity.com/\" target=\"_blank\">Texas Homeland Security</a> | <a href=\"/links.htm\" target=\"_blank\">Links</a> | <a href=\"http://www.window.state.tx.us/wherethemoneygoes\" target=\"_blank\">Where the Money Goes</a>\n",
       "</br></div> <!-- footer -->\n",
       "</div> <!-- outerWrapper -->\n",
       "</body>\n",
       "</html>"
      ]
     },
     "execution_count": 7,
     "metadata": {},
     "output_type": "execute_result"
    }
   ],
   "source": [
    "# If you try to print the code, and returns errors, the cookie in headers might have expired.\n",
    "\n",
    "url_tow = \"https://www.tdlr.texas.gov/tools_search/mccs_display.asp?mcrnumber=006179570C\"\n",
    "data = {\n",
    "    'namedata':'',\n",
    "    'name_carrier_type':'COMPANY',\n",
    "    'searchtype':'mcr',\n",
    "    'mcrdata':'006179570C',\n",
    "    'citydata':'',\n",
    "    'city_status':'A',\n",
    "    'city_carrier_type':'tow',\n",
    "    'zipcodedata':'',\n",
    "    'zip_status':'ALL',\n",
    "    'zip_carrier_type':'all',\n",
    "    'proc':'',\n",
    "}\n",
    "headers = {\n",
    "    'Referer': 'https://www.tdlr.texas.gov/tools_search/',\n",
    "    'Cookie': 'ASPSESSIONIDSGHSRQDT=EIFGAGBADBMHBNPKHMCEOBHG'\n",
    "}\n",
    "\n",
    "response_tow = requests.post(url_tow, data=data, headers=headers)\n",
    "doc_tow = BeautifulSoup(response_tow.text, \"html.parser\")\n",
    "doc_tow"
   ]
  },
  {
   "cell_type": "code",
   "execution_count": 8,
   "metadata": {
    "scrolled": true
   },
   "outputs": [
    {
     "data": {
      "text/plain": [
       "[<td align=\"left\" width=\"50%\"><strong>Name:   </strong>B.D. SMITH TOWING</td>,\n",
       " <td align=\"left\" nowrap=\"nowrap\" width=\"50%\"><strong>DBA:   <font color=\"red\">NO DATA</font></strong></td>,\n",
       " <td align=\"left\" width=\"50%\"><a href=\"mccs_search.asp\"><strong>New Search</strong></a></td>,\n",
       " <td align=\"right\" width=\"50%\"><a href=\"#top\"><strong>Top of Page</strong></a>\n",
       " </td>]"
      ]
     },
     "execution_count": 8,
     "metadata": {},
     "output_type": "execute_result"
    }
   ],
   "source": [
    "doc_tow.find_all('td', attrs = {'width':'50%'})"
   ]
  },
  {
   "cell_type": "code",
   "execution_count": 9,
   "metadata": {
    "scrolled": true
   },
   "outputs": [
    {
     "data": {
      "text/plain": [
       "'B.D. Smith Towing'"
      ]
     },
     "execution_count": 9,
     "metadata": {},
     "output_type": "execute_result"
    }
   ],
   "source": [
    "business_name = doc_tow.find_all('td', attrs = {'width':'50%'})[0].strong.next.next.title()\n",
    "business_name"
   ]
  },
  {
   "cell_type": "code",
   "execution_count": 10,
   "metadata": {},
   "outputs": [
    {
     "name": "stdout",
     "output_type": "stream",
     "text": [
      "B.D. Smith Towing\n"
     ]
    }
   ],
   "source": [
    "for td in doc_tow.find_all('td', attrs = {'width':'50%'}):\n",
    "    if td.strong.next.strip() == 'Name:':\n",
    "        business_name = td.strong.next.next\n",
    "        break\n",
    "print(business_name.title())"
   ]
  },
  {
   "cell_type": "code",
   "execution_count": 11,
   "metadata": {},
   "outputs": [
    {
     "data": {
      "text/plain": [
       "'8173330706'"
      ]
     },
     "execution_count": 11,
     "metadata": {},
     "output_type": "execute_result"
    }
   ],
   "source": [
    "phone_no = doc_tow.find('table', attrs = {'id':'t1'}).find_all('table')[2].find_all('td')[-2].strong.next.next.strip()\n",
    "phone_no"
   ]
  },
  {
   "cell_type": "code",
   "execution_count": 12,
   "metadata": {},
   "outputs": [
    {
     "name": "stdout",
     "output_type": "stream",
     "text": [
      "8173330706\n"
     ]
    }
   ],
   "source": [
    "for tg in doc_tow.find('table', attrs = {'id':'t1'}).find_all('table')[2].find_all('td'):\n",
    "    if tg.strong:\n",
    "        if tg.strong.next.string == 'Phone:':\n",
    "            phone_no = tg.strong.next.next.strip()\n",
    "            break\n",
    "print(phone_no)"
   ]
  },
  {
   "cell_type": "code",
   "execution_count": 13,
   "metadata": {},
   "outputs": [
    {
     "data": {
      "text/plain": [
       "'Active'"
      ]
     },
     "execution_count": 13,
     "metadata": {},
     "output_type": "execute_result"
    }
   ],
   "source": [
    "license_status = doc_tow.find_all('td', attrs = {'bgcolor':'#FFF8DC'})[-2].font.font.string\n",
    "license_status"
   ]
  },
  {
   "cell_type": "code",
   "execution_count": 14,
   "metadata": {},
   "outputs": [
    {
     "name": "stdout",
     "output_type": "stream",
     "text": [
      "Active\n"
     ]
    }
   ],
   "source": [
    "for ti in doc_tow.find_all('td', attrs = {'bgcolor':'#FFF8DC'}):\n",
    "    if ti.strong:\n",
    "        if ti.strong.next == 'Status:':\n",
    "            license_status = ti.font.font.string\n",
    "            break\n",
    "print(license_status)"
   ]
  },
  {
   "cell_type": "code",
   "execution_count": 15,
   "metadata": {},
   "outputs": [
    {
     "data": {
      "text/plain": [
       "'13619 BRETT JACKSON RD., FORT WORTH,TX.76179'"
      ]
     },
     "execution_count": 15,
     "metadata": {},
     "output_type": "execute_result"
    }
   ],
   "source": [
    "address = doc_tow.find_all('table')[-3].find_all('strong')[-1].next.next.next.strip()\n",
    "state = doc_tow.find_all('table')[-3].find_all('strong')[-1].next.next.next.next.next.strip().replace(\"\\xa0\",\"\")\n",
    "physical_address = address + ', '+ state\n",
    "physical_address"
   ]
  },
  {
   "cell_type": "code",
   "execution_count": 16,
   "metadata": {},
   "outputs": [
    {
     "name": "stdout",
     "output_type": "stream",
     "text": [
      "13619 BRETT JACKSON RD., FORT WORTH, TX. 76179\n"
     ]
    }
   ],
   "source": [
    "for to in doc_tow.find_all('table')[-3].find_all('strong'):\n",
    "    if to.next == 'Physical:':\n",
    "        physical_addresses = to.next.next.next.strip() + ', ' + to.next.next.next.next.next.strip()\n",
    "        break\n",
    "print(physical_addresses)"
   ]
  },
  {
   "cell_type": "markdown",
   "metadata": {},
   "source": [
    "## Getting information on many tow truck companies\n",
    "\n",
    "### Reading in our source\n",
    "\n",
    "Using pandas, read in `trucks-subset.csv`."
   ]
  },
  {
   "cell_type": "code",
   "execution_count": 17,
   "metadata": {
    "collapsed": true
   },
   "outputs": [],
   "source": [
    "import pandas as pd"
   ]
  },
  {
   "cell_type": "code",
   "execution_count": 18,
   "metadata": {},
   "outputs": [
    {
     "data": {
      "text/html": [
       "<div>\n",
       "<style>\n",
       "    .dataframe thead tr:only-child th {\n",
       "        text-align: right;\n",
       "    }\n",
       "\n",
       "    .dataframe thead th {\n",
       "        text-align: left;\n",
       "    }\n",
       "\n",
       "    .dataframe tbody tr th {\n",
       "        vertical-align: top;\n",
       "    }\n",
       "</style>\n",
       "<table border=\"1\" class=\"dataframe\">\n",
       "  <thead>\n",
       "    <tr style=\"text-align: right;\">\n",
       "      <th></th>\n",
       "      <th>TDLR Number</th>\n",
       "    </tr>\n",
       "  </thead>\n",
       "  <tbody>\n",
       "    <tr>\n",
       "      <th>0</th>\n",
       "      <td>006507931C</td>\n",
       "    </tr>\n",
       "    <tr>\n",
       "      <th>1</th>\n",
       "      <td>006179570C</td>\n",
       "    </tr>\n",
       "    <tr>\n",
       "      <th>2</th>\n",
       "      <td>006502097C</td>\n",
       "    </tr>\n",
       "  </tbody>\n",
       "</table>\n",
       "</div>"
      ],
      "text/plain": [
       "  TDLR Number\n",
       "0  006507931C\n",
       "1  006179570C\n",
       "2  006502097C"
      ]
     },
     "execution_count": 18,
     "metadata": {},
     "output_type": "execute_result"
    }
   ],
   "source": [
    "trucks_subset = pd.read_csv('trucks-subset.csv', converters = {'TDLR Number':str})\n",
    "trucks_subset"
   ]
  },
  {
   "cell_type": "code",
   "execution_count": 19,
   "metadata": {
    "scrolled": false
   },
   "outputs": [
    {
     "data": {
      "text/plain": [
       "TDLR Number    object\n",
       "dtype: object"
      ]
     },
     "execution_count": 19,
     "metadata": {},
     "output_type": "execute_result"
    }
   ],
   "source": [
    "trucks_subset.dtypes"
   ]
  },
  {
   "cell_type": "markdown",
   "metadata": {},
   "source": [
    "## Scrape every single row, storing the information we scraped before into your dataframe.\n",
    "\n",
    "You probably want to open up the Jupyter Notebook that's about `.apply`."
   ]
  },
  {
   "cell_type": "code",
   "execution_count": 20,
   "metadata": {},
   "outputs": [
    {
     "data": {
      "text/html": [
       "<div>\n",
       "<style>\n",
       "    .dataframe thead tr:only-child th {\n",
       "        text-align: right;\n",
       "    }\n",
       "\n",
       "    .dataframe thead th {\n",
       "        text-align: left;\n",
       "    }\n",
       "\n",
       "    .dataframe tbody tr th {\n",
       "        vertical-align: top;\n",
       "    }\n",
       "</style>\n",
       "<table border=\"1\" class=\"dataframe\">\n",
       "  <thead>\n",
       "    <tr style=\"text-align: right;\">\n",
       "      <th></th>\n",
       "      <th>business_name</th>\n",
       "      <th>license_status</th>\n",
       "      <th>phone_number</th>\n",
       "      <th>physical_address</th>\n",
       "      <th>TDLR Number</th>\n",
       "    </tr>\n",
       "  </thead>\n",
       "  <tbody>\n",
       "    <tr>\n",
       "      <th>0</th>\n",
       "      <td>AUGUSTUS E SMITH</td>\n",
       "      <td>Active</td>\n",
       "      <td>9032276464</td>\n",
       "      <td>103 N MAIN ST, BONHAM, TX. 75418</td>\n",
       "      <td>006507931C</td>\n",
       "    </tr>\n",
       "    <tr>\n",
       "      <th>1</th>\n",
       "      <td>B.D. SMITH TOWING</td>\n",
       "      <td>Active</td>\n",
       "      <td>8173330706</td>\n",
       "      <td>13619 BRETT JACKSON RD., FORT WORTH, TX. 76179</td>\n",
       "      <td>006179570C</td>\n",
       "    </tr>\n",
       "    <tr>\n",
       "      <th>2</th>\n",
       "      <td>BARRY MICHAEL SMITH</td>\n",
       "      <td>Active</td>\n",
       "      <td>8066544404</td>\n",
       "      <td>4501 W CEMETERY RD, CANYON, TX. 79015</td>\n",
       "      <td>006502097C</td>\n",
       "    </tr>\n",
       "  </tbody>\n",
       "</table>\n",
       "</div>"
      ],
      "text/plain": [
       "         business_name license_status phone_number  \\\n",
       "0     AUGUSTUS E SMITH         Active   9032276464   \n",
       "1    B.D. SMITH TOWING         Active   8173330706   \n",
       "2  BARRY MICHAEL SMITH         Active   8066544404   \n",
       "\n",
       "                                 physical_address TDLR Number  \n",
       "0                103 N MAIN ST, BONHAM, TX. 75418  006507931C  \n",
       "1  13619 BRETT JACKSON RD., FORT WORTH, TX. 76179  006179570C  \n",
       "2           4501 W CEMETERY RD, CANYON, TX. 79015  006502097C  "
      ]
     },
     "execution_count": 20,
     "metadata": {},
     "output_type": "execute_result"
    }
   ],
   "source": [
    "def trucks_rows(row):\n",
    "    url_tracks = \"https://www.tdlr.texas.gov/tools_search/mccs_display.asp?mcrnumber=\" + row['TDLR Number']\n",
    "    data_tracks = {\n",
    "        'namedata':'',\n",
    "        'name_carrier_type':'COMPANY',\n",
    "        'searchtype':'mcr',\n",
    "        'mcrdata': row['TDLR Number'],\n",
    "        'citydata':'',\n",
    "        'city_status':'A',\n",
    "        'city_carrier_type':'tow',\n",
    "        'zipcodedata':'',\n",
    "        'zip_status':'ALL',\n",
    "        'zip_carrier_type':'all',\n",
    "        'proc':'',\n",
    "    }\n",
    "    headers_tracks = {\n",
    "        'Referer': 'https://www.tdlr.texas.gov/tools_search/',\n",
    "        'Cookie': 'ASPSESSIONIDSGHSRQDT=EIFGAGBADBMHBNPKHMCEOBHG'\n",
    "        \n",
    "    }\n",
    "    \n",
    "    response_tracks = requests.post(url_tracks, data=data_tracks, headers=headers_tracks)\n",
    "    doc_tracks = BeautifulSoup(response_tracks.text, \"html.parser\")\n",
    "    \n",
    "    for td in doc_tracks.find_all('td', attrs = {'width':'50%'}):\n",
    "        if td.strong.next.strip() == 'Name:':\n",
    "            name_biz = td.strong.next.next\n",
    "            break\n",
    "    for tg in doc_tracks.find('table', attrs = {'id':'t1'}).find_all('table')[2].find_all('td'):\n",
    "        if tg.strong:\n",
    "            if tg.strong.next.string == 'Phone:':\n",
    "                number_phone = tg.strong.next.next.strip()\n",
    "                break\n",
    "    for ti in doc_tracks.find_all('td', attrs = {'bgcolor':'#FFF8DC'}):\n",
    "        if ti.strong:\n",
    "            if ti.strong.next == 'Status:':\n",
    "                status_lic = ti.font.font.string\n",
    "                break\n",
    "    for to in doc_tracks.find_all('table')[-3].find_all('strong'):\n",
    "        if to.next == 'Physical:':\n",
    "            address_phy = to.next.next.next.strip() + ', ' + to.next.next.next.next.next.strip()\n",
    "            break\n",
    "    \n",
    "    return pd.Series({\n",
    "        'business_name' : name_biz,\n",
    "        'phone_number' : number_phone,\n",
    "         'license_status' : status_lic,\n",
    "         'physical_address' : address_phy\n",
    "    })\n",
    "\n",
    "\n",
    "new_trucks_subset = trucks_subset.apply(trucks_rows, axis=1).join(trucks_subset)\n",
    "new_trucks_subset"
   ]
  },
  {
   "cell_type": "markdown",
   "metadata": {},
   "source": [
    "### Save your dataframe"
   ]
  },
  {
   "cell_type": "code",
   "execution_count": 21,
   "metadata": {},
   "outputs": [
    {
     "data": {
      "text/plain": [
       "business_name       object\n",
       "license_status      object\n",
       "phone_number        object\n",
       "physical_address    object\n",
       "TDLR Number         object\n",
       "dtype: object"
      ]
     },
     "execution_count": 21,
     "metadata": {},
     "output_type": "execute_result"
    }
   ],
   "source": [
    "new_trucks_subset.dtypes"
   ]
  },
  {
   "cell_type": "code",
   "execution_count": 22,
   "metadata": {
    "collapsed": true
   },
   "outputs": [],
   "source": [
    "new_trucks_subset.to_csv('trucks-subset_expanded.csv', index=False)"
   ]
  },
  {
   "cell_type": "markdown",
   "metadata": {},
   "source": [
    "### Re-open your dataframe to confirm you didn't save any extra weird columns"
   ]
  },
  {
   "cell_type": "code",
   "execution_count": 23,
   "metadata": {},
   "outputs": [
    {
     "data": {
      "text/html": [
       "<div>\n",
       "<style>\n",
       "    .dataframe thead tr:only-child th {\n",
       "        text-align: right;\n",
       "    }\n",
       "\n",
       "    .dataframe thead th {\n",
       "        text-align: left;\n",
       "    }\n",
       "\n",
       "    .dataframe tbody tr th {\n",
       "        vertical-align: top;\n",
       "    }\n",
       "</style>\n",
       "<table border=\"1\" class=\"dataframe\">\n",
       "  <thead>\n",
       "    <tr style=\"text-align: right;\">\n",
       "      <th></th>\n",
       "      <th>business_name</th>\n",
       "      <th>license_status</th>\n",
       "      <th>phone_number</th>\n",
       "      <th>physical_address</th>\n",
       "      <th>TDLR Number</th>\n",
       "    </tr>\n",
       "  </thead>\n",
       "  <tbody>\n",
       "    <tr>\n",
       "      <th>0</th>\n",
       "      <td>AUGUSTUS E SMITH</td>\n",
       "      <td>Active</td>\n",
       "      <td>9032276464</td>\n",
       "      <td>103 N MAIN ST, BONHAM, TX. 75418</td>\n",
       "      <td>006507931C</td>\n",
       "    </tr>\n",
       "    <tr>\n",
       "      <th>1</th>\n",
       "      <td>B.D. SMITH TOWING</td>\n",
       "      <td>Active</td>\n",
       "      <td>8173330706</td>\n",
       "      <td>13619 BRETT JACKSON RD., FORT WORTH, TX. 76179</td>\n",
       "      <td>006179570C</td>\n",
       "    </tr>\n",
       "    <tr>\n",
       "      <th>2</th>\n",
       "      <td>BARRY MICHAEL SMITH</td>\n",
       "      <td>Active</td>\n",
       "      <td>8066544404</td>\n",
       "      <td>4501 W CEMETERY RD, CANYON, TX. 79015</td>\n",
       "      <td>006502097C</td>\n",
       "    </tr>\n",
       "  </tbody>\n",
       "</table>\n",
       "</div>"
      ],
      "text/plain": [
       "         business_name license_status  phone_number  \\\n",
       "0     AUGUSTUS E SMITH         Active    9032276464   \n",
       "1    B.D. SMITH TOWING         Active    8173330706   \n",
       "2  BARRY MICHAEL SMITH         Active    8066544404   \n",
       "\n",
       "                                 physical_address TDLR Number  \n",
       "0                103 N MAIN ST, BONHAM, TX. 75418  006507931C  \n",
       "1  13619 BRETT JACKSON RD., FORT WORTH, TX. 76179  006179570C  \n",
       "2           4501 W CEMETERY RD, CANYON, TX. 79015  006502097C  "
      ]
     },
     "execution_count": 23,
     "metadata": {},
     "output_type": "execute_result"
    }
   ],
   "source": [
    "pd.read_csv('trucks-subset_expanded.csv')"
   ]
  },
  {
   "cell_type": "markdown",
   "metadata": {},
   "source": [
    "## Repeat this process for the entire `tow-trucks.csv` file"
   ]
  },
  {
   "cell_type": "code",
   "execution_count": 24,
   "metadata": {},
   "outputs": [
    {
     "data": {
      "text/html": [
       "<div>\n",
       "<style>\n",
       "    .dataframe thead tr:only-child th {\n",
       "        text-align: right;\n",
       "    }\n",
       "\n",
       "    .dataframe thead th {\n",
       "        text-align: left;\n",
       "    }\n",
       "\n",
       "    .dataframe tbody tr th {\n",
       "        vertical-align: top;\n",
       "    }\n",
       "</style>\n",
       "<table border=\"1\" class=\"dataframe\">\n",
       "  <thead>\n",
       "    <tr style=\"text-align: right;\">\n",
       "      <th></th>\n",
       "      <th>TDLR Number</th>\n",
       "    </tr>\n",
       "  </thead>\n",
       "  <tbody>\n",
       "    <tr>\n",
       "      <th>0</th>\n",
       "      <td>006507931C</td>\n",
       "    </tr>\n",
       "    <tr>\n",
       "      <th>1</th>\n",
       "      <td>006179570C</td>\n",
       "    </tr>\n",
       "    <tr>\n",
       "      <th>2</th>\n",
       "      <td>006502097C</td>\n",
       "    </tr>\n",
       "    <tr>\n",
       "      <th>3</th>\n",
       "      <td>006494912C</td>\n",
       "    </tr>\n",
       "    <tr>\n",
       "      <th>4</th>\n",
       "      <td>0649468VSF</td>\n",
       "    </tr>\n",
       "  </tbody>\n",
       "</table>\n",
       "</div>"
      ],
      "text/plain": [
       "  TDLR Number\n",
       "0  006507931C\n",
       "1  006179570C\n",
       "2  006502097C\n",
       "3  006494912C\n",
       "4  0649468VSF"
      ]
     },
     "execution_count": 24,
     "metadata": {},
     "output_type": "execute_result"
    }
   ],
   "source": [
    "tow_trucks = pd.read_csv('tow-trucks.csv')\n",
    "tow_trucks.head()"
   ]
  },
  {
   "cell_type": "code",
   "execution_count": 25,
   "metadata": {},
   "outputs": [
    {
     "data": {
      "text/plain": [
       "TDLR Number    object\n",
       "dtype: object"
      ]
     },
     "execution_count": 25,
     "metadata": {},
     "output_type": "execute_result"
    }
   ],
   "source": [
    "tow_trucks.dtypes"
   ]
  },
  {
   "cell_type": "code",
   "execution_count": 26,
   "metadata": {},
   "outputs": [
    {
     "data": {
      "text/html": [
       "<div>\n",
       "<style>\n",
       "    .dataframe thead tr:only-child th {\n",
       "        text-align: right;\n",
       "    }\n",
       "\n",
       "    .dataframe thead th {\n",
       "        text-align: left;\n",
       "    }\n",
       "\n",
       "    .dataframe tbody tr th {\n",
       "        vertical-align: top;\n",
       "    }\n",
       "</style>\n",
       "<table border=\"1\" class=\"dataframe\">\n",
       "  <thead>\n",
       "    <tr style=\"text-align: right;\">\n",
       "      <th></th>\n",
       "      <th>business_name</th>\n",
       "      <th>license_status</th>\n",
       "      <th>phone_number</th>\n",
       "      <th>physical_address</th>\n",
       "      <th>TDLR Number</th>\n",
       "    </tr>\n",
       "  </thead>\n",
       "  <tbody>\n",
       "    <tr>\n",
       "      <th>0</th>\n",
       "      <td>AUGUSTUS E SMITH</td>\n",
       "      <td>Active</td>\n",
       "      <td>9032276464</td>\n",
       "      <td>103 N MAIN ST, BONHAM, TX. 75418</td>\n",
       "      <td>006507931C</td>\n",
       "    </tr>\n",
       "    <tr>\n",
       "      <th>1</th>\n",
       "      <td>B.D. SMITH TOWING</td>\n",
       "      <td>Active</td>\n",
       "      <td>8173330706</td>\n",
       "      <td>13619 BRETT JACKSON RD., FORT WORTH, TX. 76179</td>\n",
       "      <td>006179570C</td>\n",
       "    </tr>\n",
       "    <tr>\n",
       "      <th>2</th>\n",
       "      <td>BARRY MICHAEL SMITH</td>\n",
       "      <td>Active</td>\n",
       "      <td>8066544404</td>\n",
       "      <td>4501 W CEMETERY RD, CANYON, TX. 79015</td>\n",
       "      <td>006502097C</td>\n",
       "    </tr>\n",
       "    <tr>\n",
       "      <th>3</th>\n",
       "      <td>HEATH SMITH</td>\n",
       "      <td>Expired</td>\n",
       "      <td>940-552-0687</td>\n",
       "      <td>1529  WILBARGER ST, VERNON, TX. 76384</td>\n",
       "      <td>006494912C</td>\n",
       "    </tr>\n",
       "    <tr>\n",
       "      <th>4</th>\n",
       "      <td>HEATH SMITH</td>\n",
       "      <td>Expired</td>\n",
       "      <td>9405520687</td>\n",
       "      <td>1529  WILBARGER ST, VERNON, TX. 76384</td>\n",
       "      <td>0649468VSF</td>\n",
       "    </tr>\n",
       "    <tr>\n",
       "      <th>5</th>\n",
       "      <td>HYSMITH AUTOMOTIVE</td>\n",
       "      <td>Active</td>\n",
       "      <td>940-521-0294</td>\n",
       "      <td>1210 US 380 BYPASS, GRAHAM, TX. 76450</td>\n",
       "      <td>006448786C</td>\n",
       "    </tr>\n",
       "    <tr>\n",
       "      <th>6</th>\n",
       "      <td>HYSMITH AUTOMOTIVE &amp; TRUCK REPAIR INC</td>\n",
       "      <td>Expired</td>\n",
       "      <td>9405210294</td>\n",
       "      <td>927  LOVING HWY, GRAHAM, TX. 76450</td>\n",
       "      <td>0648444VSF</td>\n",
       "    </tr>\n",
       "    <tr>\n",
       "      <th>7</th>\n",
       "      <td>HYSMITH AUTOMOTIVE &amp; TRUCK REPAIR INC</td>\n",
       "      <td>Active</td>\n",
       "      <td>9405210294</td>\n",
       "      <td>1210 380 BYPASS, GRAHAM, TX. 76450</td>\n",
       "      <td>0651667VSF</td>\n",
       "    </tr>\n",
       "    <tr>\n",
       "      <th>8</th>\n",
       "      <td>JEFF &amp; WENDY SMITH</td>\n",
       "      <td>Expired</td>\n",
       "      <td>903 586 6234</td>\n",
       "      <td>10842 FM 2138 N, JACKSONVILLE, TX. 75766</td>\n",
       "      <td>006017767C</td>\n",
       "    </tr>\n",
       "    <tr>\n",
       "      <th>9</th>\n",
       "      <td>JEFF SMITH</td>\n",
       "      <td>Active</td>\n",
       "      <td>8324354670</td>\n",
       "      <td>4338  HARVEY RD, CROSBY, TX. 77532</td>\n",
       "      <td>006495492C</td>\n",
       "    </tr>\n",
       "    <tr>\n",
       "      <th>10</th>\n",
       "      <td>LUTHER SMITH</td>\n",
       "      <td>Active</td>\n",
       "      <td>281-838-9435</td>\n",
       "      <td>20001  FM 2100 RD, CROSBY, TX. 77532</td>\n",
       "      <td>006518521C</td>\n",
       "    </tr>\n",
       "    <tr>\n",
       "      <th>11</th>\n",
       "      <td>MAURICE SMITH</td>\n",
       "      <td>Active</td>\n",
       "      <td>7134544462</td>\n",
       "      <td>5505  SAVANNAH WOODS LN, ROSHARON, TX. 77583</td>\n",
       "      <td>006521662C</td>\n",
       "    </tr>\n",
       "    <tr>\n",
       "      <th>12</th>\n",
       "      <td>METRO LOCKSMITHS INC</td>\n",
       "      <td>Active</td>\n",
       "      <td>214-638-9911</td>\n",
       "      <td>200 S WALL ST, ITASCA, TX. 76055</td>\n",
       "      <td>006482451C</td>\n",
       "    </tr>\n",
       "    <tr>\n",
       "      <th>13</th>\n",
       "      <td>RICKY SMITH</td>\n",
       "      <td>Suspended</td>\n",
       "      <td>9364997917</td>\n",
       "      <td>115 CARTWRIGHT, CONROE, TX. 77301</td>\n",
       "      <td>0646264VSF</td>\n",
       "    </tr>\n",
       "    <tr>\n",
       "      <th>14</th>\n",
       "      <td>RICKY SMITH</td>\n",
       "      <td>Suspended</td>\n",
       "      <td>9364997917</td>\n",
       "      <td>11426  FOSTORIA RD, CLEVELAND, TX. 77328</td>\n",
       "      <td>0650690VSF</td>\n",
       "    </tr>\n",
       "    <tr>\n",
       "      <th>15</th>\n",
       "      <td>SAMMY L SMITH</td>\n",
       "      <td>Expired</td>\n",
       "      <td>3252159496</td>\n",
       "      <td>355 N 16TH ST, JUNCTION, TX. 76849</td>\n",
       "      <td>006505010C</td>\n",
       "    </tr>\n",
       "    <tr>\n",
       "      <th>16</th>\n",
       "      <td>SMITH BRO. WRECKER SERVICE</td>\n",
       "      <td>Active</td>\n",
       "      <td>9035866234</td>\n",
       "      <td>10842 FM 2138 N, JACKSONVILLE, TX. 75766</td>\n",
       "      <td>0000210VSF</td>\n",
       "    </tr>\n",
       "    <tr>\n",
       "      <th>17</th>\n",
       "      <td>SMITH BROS. WRECKER SERVICE</td>\n",
       "      <td>Active</td>\n",
       "      <td>9035866234</td>\n",
       "      <td>10842 FM 2138 N, JACKSONVILLE, TX. 75766</td>\n",
       "      <td>005029369C</td>\n",
       "    </tr>\n",
       "    <tr>\n",
       "      <th>18</th>\n",
       "      <td>SMITH TOWING &amp; RECOVERY, LLC</td>\n",
       "      <td>Active</td>\n",
       "      <td>9362693915</td>\n",
       "      <td>12741 HWY 84E, JOAQUIN, TX. 75954</td>\n",
       "      <td>006410509C</td>\n",
       "    </tr>\n",
       "    <tr>\n",
       "      <th>19</th>\n",
       "      <td>SMITH TOWING &amp; RECOVERY,LLC</td>\n",
       "      <td>Active</td>\n",
       "      <td>9362693915</td>\n",
       "      <td>12741 HWY 84 E, JOAQUIN, TX. 75954</td>\n",
       "      <td>0643482VSF</td>\n",
       "    </tr>\n",
       "  </tbody>\n",
       "</table>\n",
       "</div>"
      ],
      "text/plain": [
       "                            business_name license_status  phone_number  \\\n",
       "0                        AUGUSTUS E SMITH         Active    9032276464   \n",
       "1                       B.D. SMITH TOWING         Active    8173330706   \n",
       "2                     BARRY MICHAEL SMITH         Active    8066544404   \n",
       "3                             HEATH SMITH        Expired  940-552-0687   \n",
       "4                             HEATH SMITH        Expired    9405520687   \n",
       "5                      HYSMITH AUTOMOTIVE         Active  940-521-0294   \n",
       "6   HYSMITH AUTOMOTIVE & TRUCK REPAIR INC        Expired    9405210294   \n",
       "7   HYSMITH AUTOMOTIVE & TRUCK REPAIR INC         Active    9405210294   \n",
       "8                      JEFF & WENDY SMITH        Expired  903 586 6234   \n",
       "9                              JEFF SMITH         Active    8324354670   \n",
       "10                           LUTHER SMITH         Active  281-838-9435   \n",
       "11                          MAURICE SMITH         Active    7134544462   \n",
       "12                   METRO LOCKSMITHS INC         Active  214-638-9911   \n",
       "13                            RICKY SMITH      Suspended    9364997917   \n",
       "14                            RICKY SMITH      Suspended    9364997917   \n",
       "15                          SAMMY L SMITH        Expired    3252159496   \n",
       "16             SMITH BRO. WRECKER SERVICE         Active    9035866234   \n",
       "17            SMITH BROS. WRECKER SERVICE         Active    9035866234   \n",
       "18           SMITH TOWING & RECOVERY, LLC         Active    9362693915   \n",
       "19            SMITH TOWING & RECOVERY,LLC         Active    9362693915   \n",
       "\n",
       "                                  physical_address TDLR Number  \n",
       "0                 103 N MAIN ST, BONHAM, TX. 75418  006507931C  \n",
       "1   13619 BRETT JACKSON RD., FORT WORTH, TX. 76179  006179570C  \n",
       "2            4501 W CEMETERY RD, CANYON, TX. 79015  006502097C  \n",
       "3            1529  WILBARGER ST, VERNON, TX. 76384  006494912C  \n",
       "4            1529  WILBARGER ST, VERNON, TX. 76384  0649468VSF  \n",
       "5            1210 US 380 BYPASS, GRAHAM, TX. 76450  006448786C  \n",
       "6               927  LOVING HWY, GRAHAM, TX. 76450  0648444VSF  \n",
       "7               1210 380 BYPASS, GRAHAM, TX. 76450  0651667VSF  \n",
       "8         10842 FM 2138 N, JACKSONVILLE, TX. 75766  006017767C  \n",
       "9               4338  HARVEY RD, CROSBY, TX. 77532  006495492C  \n",
       "10            20001  FM 2100 RD, CROSBY, TX. 77532  006518521C  \n",
       "11    5505  SAVANNAH WOODS LN, ROSHARON, TX. 77583  006521662C  \n",
       "12                200 S WALL ST, ITASCA, TX. 76055  006482451C  \n",
       "13               115 CARTWRIGHT, CONROE, TX. 77301  0646264VSF  \n",
       "14        11426  FOSTORIA RD, CLEVELAND, TX. 77328  0650690VSF  \n",
       "15              355 N 16TH ST, JUNCTION, TX. 76849  006505010C  \n",
       "16        10842 FM 2138 N, JACKSONVILLE, TX. 75766  0000210VSF  \n",
       "17        10842 FM 2138 N, JACKSONVILLE, TX. 75766  005029369C  \n",
       "18               12741 HWY 84E, JOAQUIN, TX. 75954  006410509C  \n",
       "19              12741 HWY 84 E, JOAQUIN, TX. 75954  0643482VSF  "
      ]
     },
     "execution_count": 26,
     "metadata": {},
     "output_type": "execute_result"
    }
   ],
   "source": [
    "def tow_trucks_rows(row):\n",
    "    url_towtracks = \"https://www.tdlr.texas.gov/tools_search/mccs_display.asp?mcrnumber=\" + row['TDLR Number']\n",
    "    headers_towtracks = {\n",
    "        'Referer': 'https://www.tdlr.texas.gov/tools_search/',\n",
    "        'Cookie': 'ASPSESSIONIDSGHSRQDT=EIFGAGBADBMHBNPKHMCEOBHG'\n",
    "        \n",
    "    }\n",
    "    \n",
    "    response_towtracks = requests.post(url_towtracks, headers=headers_towtracks)\n",
    "    doc_towtracks = BeautifulSoup(response_towtracks.text, \"html.parser\")\n",
    "    \n",
    "    for td in doc_towtracks.find_all('td', attrs = {'width':'50%'}):\n",
    "        if td.strong.next.strip() == 'Name:':\n",
    "            name_business = td.strong.next.next\n",
    "            break\n",
    "    for tg in doc_towtracks.find('table', attrs = {'id':'t1'}).find_all('table')[2].find_all('td'):\n",
    "        if tg.strong:\n",
    "            if tg.strong.next.string == 'Phone:':\n",
    "                phone_num = tg.strong.next.next.strip()\n",
    "                break\n",
    "    for ti in doc_towtracks.find_all('td', attrs = {'bgcolor':'#FFF8DC'}):\n",
    "        if ti.strong:\n",
    "            if ti.strong.next == 'Status:':\n",
    "                lic_status = ti.font.string\n",
    "                break\n",
    "    for to in doc_towtracks.find_all('table')[-3].find_all('strong'):\n",
    "        if to.next == 'Physical:':\n",
    "            phy_address = to.next.next.next.strip() + ', ' + to.next.next.next.next.next.strip()\n",
    "            break\n",
    "    \n",
    "    return pd.Series({\n",
    "        'business_name' : name_business,\n",
    "        'phone_number' : phone_num,\n",
    "          'license_status' : lic_status,\n",
    "        'physical_address' : phy_address\n",
    "    })\n",
    "\n",
    "\n",
    "tow_trucks_extended = tow_trucks.apply(tow_trucks_rows, axis=1).join(tow_trucks)\n",
    "tow_trucks_extended"
   ]
  },
  {
   "cell_type": "code",
   "execution_count": 27,
   "metadata": {},
   "outputs": [
    {
     "data": {
      "text/plain": [
       "business_name       object\n",
       "license_status      object\n",
       "phone_number        object\n",
       "physical_address    object\n",
       "TDLR Number         object\n",
       "dtype: object"
      ]
     },
     "execution_count": 27,
     "metadata": {},
     "output_type": "execute_result"
    }
   ],
   "source": [
    "tow_trucks_extended.dtypes"
   ]
  },
  {
   "cell_type": "code",
   "execution_count": 28,
   "metadata": {
    "collapsed": true
   },
   "outputs": [],
   "source": [
    "tow_trucks_extended.to_csv('tow-trucks_extended.csv', index=False)"
   ]
  },
  {
   "cell_type": "code",
   "execution_count": 29,
   "metadata": {},
   "outputs": [
    {
     "data": {
      "text/html": [
       "<div>\n",
       "<style>\n",
       "    .dataframe thead tr:only-child th {\n",
       "        text-align: right;\n",
       "    }\n",
       "\n",
       "    .dataframe thead th {\n",
       "        text-align: left;\n",
       "    }\n",
       "\n",
       "    .dataframe tbody tr th {\n",
       "        vertical-align: top;\n",
       "    }\n",
       "</style>\n",
       "<table border=\"1\" class=\"dataframe\">\n",
       "  <thead>\n",
       "    <tr style=\"text-align: right;\">\n",
       "      <th></th>\n",
       "      <th>business_name</th>\n",
       "      <th>license_status</th>\n",
       "      <th>phone_number</th>\n",
       "      <th>physical_address</th>\n",
       "      <th>TDLR Number</th>\n",
       "    </tr>\n",
       "  </thead>\n",
       "  <tbody>\n",
       "    <tr>\n",
       "      <th>0</th>\n",
       "      <td>AUGUSTUS E SMITH</td>\n",
       "      <td>Active</td>\n",
       "      <td>9032276464</td>\n",
       "      <td>103 N MAIN ST, BONHAM, TX. 75418</td>\n",
       "      <td>006507931C</td>\n",
       "    </tr>\n",
       "    <tr>\n",
       "      <th>1</th>\n",
       "      <td>B.D. SMITH TOWING</td>\n",
       "      <td>Active</td>\n",
       "      <td>8173330706</td>\n",
       "      <td>13619 BRETT JACKSON RD., FORT WORTH, TX. 76179</td>\n",
       "      <td>006179570C</td>\n",
       "    </tr>\n",
       "    <tr>\n",
       "      <th>2</th>\n",
       "      <td>BARRY MICHAEL SMITH</td>\n",
       "      <td>Active</td>\n",
       "      <td>8066544404</td>\n",
       "      <td>4501 W CEMETERY RD, CANYON, TX. 79015</td>\n",
       "      <td>006502097C</td>\n",
       "    </tr>\n",
       "    <tr>\n",
       "      <th>3</th>\n",
       "      <td>HEATH SMITH</td>\n",
       "      <td>Expired</td>\n",
       "      <td>940-552-0687</td>\n",
       "      <td>1529  WILBARGER ST, VERNON, TX. 76384</td>\n",
       "      <td>006494912C</td>\n",
       "    </tr>\n",
       "    <tr>\n",
       "      <th>4</th>\n",
       "      <td>HEATH SMITH</td>\n",
       "      <td>Expired</td>\n",
       "      <td>9405520687</td>\n",
       "      <td>1529  WILBARGER ST, VERNON, TX. 76384</td>\n",
       "      <td>0649468VSF</td>\n",
       "    </tr>\n",
       "  </tbody>\n",
       "</table>\n",
       "</div>"
      ],
      "text/plain": [
       "         business_name license_status  phone_number  \\\n",
       "0     AUGUSTUS E SMITH         Active    9032276464   \n",
       "1    B.D. SMITH TOWING         Active    8173330706   \n",
       "2  BARRY MICHAEL SMITH         Active    8066544404   \n",
       "3          HEATH SMITH        Expired  940-552-0687   \n",
       "4          HEATH SMITH        Expired    9405520687   \n",
       "\n",
       "                                 physical_address TDLR Number  \n",
       "0                103 N MAIN ST, BONHAM, TX. 75418  006507931C  \n",
       "1  13619 BRETT JACKSON RD., FORT WORTH, TX. 76179  006179570C  \n",
       "2           4501 W CEMETERY RD, CANYON, TX. 79015  006502097C  \n",
       "3           1529  WILBARGER ST, VERNON, TX. 76384  006494912C  \n",
       "4           1529  WILBARGER ST, VERNON, TX. 76384  0649468VSF  "
      ]
     },
     "execution_count": 29,
     "metadata": {},
     "output_type": "execute_result"
    }
   ],
   "source": [
    "pd.read_csv('tow-trucks_extended.csv').head()"
   ]
  },
  {
   "cell_type": "code",
   "execution_count": 30,
   "metadata": {},
   "outputs": [
    {
     "data": {
      "text/plain": [
       "(20, 5)"
      ]
     },
     "execution_count": 30,
     "metadata": {},
     "output_type": "execute_result"
    }
   ],
   "source": [
    "pd.read_csv('tow-trucks_extended.csv').shape"
   ]
  },
  {
   "cell_type": "code",
   "execution_count": 31,
   "metadata": {},
   "outputs": [
    {
     "data": {
      "text/plain": [
       "business_name       object\n",
       "license_status      object\n",
       "phone_number        object\n",
       "physical_address    object\n",
       "TDLR Number         object\n",
       "dtype: object"
      ]
     },
     "execution_count": 31,
     "metadata": {},
     "output_type": "execute_result"
    }
   ],
   "source": [
    "pd.read_csv('tow-trucks_extended.csv').dtypes"
   ]
  }
 ],
 "metadata": {
  "kernelspec": {
   "display_name": "Python 3",
   "language": "python",
   "name": "python3"
  },
  "language_info": {
   "codemirror_mode": {
    "name": "ipython",
    "version": 3
   },
   "file_extension": ".py",
   "mimetype": "text/x-python",
   "name": "python",
   "nbconvert_exporter": "python",
   "pygments_lexer": "ipython3",
   "version": "3.6.1"
  }
 },
 "nbformat": 4,
 "nbformat_minor": 2
}
