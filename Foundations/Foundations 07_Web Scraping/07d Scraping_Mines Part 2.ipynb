{
 "cells": [
  {
   "cell_type": "markdown",
   "metadata": {},
   "source": [
    "# Mines, Part 2\n",
    "\n",
    "You can get information about a specific mine by using its Mine ID.\n",
    "\n",
    "**Try searching using the Mine ID `3503598`**."
   ]
  },
  {
   "cell_type": "markdown",
   "metadata": {},
   "source": [
    "## Preparation: Knowing your tags\n",
    "\n",
    "These questions are the same for every data set, and might not work exactly for yours."
   ]
  },
  {
   "cell_type": "markdown",
   "metadata": {},
   "source": [
    "### What is the tag and class name for the mine operator name?"
   ]
  },
  {
   "cell_type": "code",
   "execution_count": 1,
   "metadata": {
    "collapsed": true
   },
   "outputs": [],
   "source": [
    "#<td> <font style=\"FONT-SIZE:.80em; color:#000080\"><strong>Operator:</strong> </font></td>"
   ]
  },
  {
   "cell_type": "markdown",
   "metadata": {},
   "source": [
    "### What is the tag and class name for the current controller?"
   ]
  },
  {
   "cell_type": "code",
   "execution_count": 2,
   "metadata": {
    "collapsed": true
   },
   "outputs": [],
   "source": [
    "# <td width=\"40%\"> <font style=\"FONT-SIZE:.80em; color:#000080\"><b><!-- DNT -->S-2 Contractors Inc<!-- /DNT --></b></font></td>"
   ]
  },
  {
   "cell_type": "markdown",
   "metadata": {},
   "source": [
    "### What is the tag and class name for the operator history area?"
   ]
  },
  {
   "cell_type": "code",
   "execution_count": 3,
   "metadata": {
    "collapsed": true
   },
   "outputs": [],
   "source": [
    "# <tr> <td colspan=\"3\" valign=\"top\"><div class=\"drsoprhistory\">Operator History for Mine ID:  <b>3503598</b></div>  </td></tr>"
   ]
  },
  {
   "cell_type": "markdown",
   "metadata": {},
   "source": [
    "### What is the tag and class name for the mine's address?"
   ]
  },
  {
   "cell_type": "code",
   "execution_count": 4,
   "metadata": {
    "collapsed": true
   },
   "outputs": [],
   "source": [
    "# <td width=\"40%\"><font style=\"FONT-SIZE:.80em; color:#000080\">6860 Anderson Rd.<br> Aurora, OR&nbsp;&nbsp;97002</font></td>"
   ]
  },
  {
   "cell_type": "markdown",
   "metadata": {},
   "source": [
    "## Setup: Import what you'll need to scrape the page\n",
    "\n",
    "Use `requests`, not `urllib`."
   ]
  },
  {
   "cell_type": "code",
   "execution_count": 5,
   "metadata": {
    "collapsed": true
   },
   "outputs": [],
   "source": [
    "import requests\n",
    "from bs4 import BeautifulSoup"
   ]
  },
  {
   "cell_type": "markdown",
   "metadata": {},
   "source": [
    "## Scrape this page\n",
    "\n",
    "Scrape this page, displaying the\n",
    "\n",
    "- The operator\n",
    "- The current address\n",
    "- The current controller\n",
    "\n",
    "**You should know how to do `.post` requests by now.**"
   ]
  },
  {
   "cell_type": "code",
   "execution_count": 6,
   "metadata": {
    "collapsed": true
   },
   "outputs": [],
   "source": [
    "data = {\n",
    "'MineId':'3503598',\n",
    "'x':'0',\n",
    "'y':'0'    \n",
    "}\n",
    "\n",
    "url_specific_mine = \"https://arlweb.msha.gov/drs/ASP/BasicMineInfonew.asp\"\n",
    "response_specific_mine = requests.post(url_specific_mine, data = data)"
   ]
  },
  {
   "cell_type": "code",
   "execution_count": 7,
   "metadata": {
    "scrolled": true
   },
   "outputs": [
    {
     "data": {
      "text/plain": [
       " <!DOCTYPE html PUBLIC \"-//W3C//DTD XHTML 1.0 Strict//EN\" \"http://www.w3.org/TR/xhtml1/DTD/xhtml1-strict.dtd\">\n",
       "\n",
       "<html lang=\"en\" xmlns=\"http://www.w3.org/1999/xhtml\">\n",
       "<head>\n",
       "<meta content=\"text/html; charset=utf-8\" http-equiv=\"Content-type\"/>\n",
       "<meta content=\"IE=Edge\" http-equiv=\"X-UA-Compatible\"/>\n",
       "<meta content=\"text/html; charset=utf-8\" http-equiv=\"Content-Type\"/>\n",
       "<script src=\"/2010redesign/Scripts/federated-analytics.js\" type=\"text/javascript\"></script>\n",
       "<script src=\"/2010redesign/Scripts/AC_RunActiveContent.js\" type=\"text/javascript\"></script>\n",
       "<link href=\"/2010Redesign/includes/Print.css\" media=\"print\" rel=\"stylesheet\" type=\"text/css\"/>\n",
       "<link href=\"/2010Redesign/Includes/MSHAwebnew.css\" media=\"screen\" rel=\"stylesheet\" type=\"text/css\">\n",
       "<link href=\"/2010Redesign/includes/style-screen.css\" media=\"screen\" rel=\"stylesheet\" type=\"text/css\"/>\n",
       "</link></head>\n",
       "<body>\n",
       "<link href=\"https://webapps.dol.gov/FSPublic/Content/W_Helpful.css\" rel=\"stylesheet\" type=\"text/css\"/>\n",
       "<script src=\"https://ajax.googleapis.com/ajax/libs/jquery/1.7.1/jquery.min.js\" type=\"text/JavaScript\"></script>\n",
       "<script id=\"_fed_an_ua_tag\" src=\"/res/js/dap.min.js?agency=DOL&amp;subagency=MSHA\" type=\"text/javascript\"></script>\n",
       "<!--<script language=\"javascript\" id=\"_fed_an_ua_tag\" src=\"/res/js/federated-analytics.min.js?agency=DOL&subagency=MSHA\"></script>-->\n",
       "<script src=\"https://webapps.dol.gov/FSPublic/Scripts/W_Helpful.js\" type=\"text/JavaScript\"></script>\n",
       "<script type=\"text/JavaScript\">\n",
       "\t$(document).ready(function() {\n",
       "\t\tW_Helpful.init('#fbcontent');\n",
       "\t});(jQuery);\n",
       "</script>\n",
       "<script><!-- ************* GOOGLE ANALYTICS ****************** -->\n",
       "\t(function(i,s,o,g,r,a,m){i['GoogleAnalyticsObject']=r;i[r]=i[r]||function(){\n",
       "\t(i[r].q=i[r].q||[]).push(arguments)},i[r].l=1*new Date();a=s.createElement(o),\n",
       "\tm=s.getElementsByTagName(o)[0];a.async=1;a.src=g;m.parentNode.insertBefore(a,m)\n",
       "\t})(window,document,'script','//www.google-analytics.com/analytics.js','ga');\n",
       "\n",
       "\tga('create', 'UA-52441844-1', 'auto');\n",
       "\tga('send', 'pageview');\n",
       "\n",
       "\t$(document).ready( function() {\n",
       "\t\t$(\"a[href$='pdf']\").each(function() {\n",
       "\t\t\teventName=$(this).attr('href');\n",
       "\t\t\teventClick=\"ga('send','event','PDF','Download','\"+eventName+\"');\";\n",
       "\t\t\t$(this).attr(\"onClick\",eventClick);\n",
       "\t\t});\n",
       "\t});\n",
       "</script>\n",
       "<div style=\"display:none;\"><a href=\"#content\">Skip to content</a></div>\n",
       "<div id=\"header\">\n",
       "<div id=\"searchMSHA\">\n",
       "<a href=\"https://mshasearch.msha.gov/search?access=p&amp;entqr=0&amp;output=xml_no_dtd&amp;sort=date%3AD%3AL%3Ad1&amp;ie=UTF-8&amp;lr=&amp;client=MSHASearch&amp;ud=1&amp;site=AllDocuments&amp;oe=UTF-8&amp;proxystylesheet=MSHASearch&amp;ip=&amp;proxycustom=%3CADVANCED/%3E\">\n",
       "<div color=\"#FFFFFF\" style=\"margin: -3px 0 3px 0;\"><b>Additional Search Options</b></div>\n",
       "</a>\n",
       "<form action=\"https://mshasearch.msha.gov/search\" method=\"get\" target=\"_self\">\n",
       "<!--<form method=\"get\" target=\"_self\" action=\"/services/searchNotice.asp\"> -->\n",
       "<label class=\"scr-rdr\" for=\"mshaSearchField\">Find it at MSHA</label>\n",
       "<input id=\"mshaSearchField\" name=\"q\" onclick=\"this.value='';\" style=\"color:#990000;\" type=\"text\" value=\"Find It at MSHA\"/>\n",
       "<input class=\"searchBtn\" name=\"search\" style=\"color:#990000; font-weight: bold; font-family: Arial, sans-serif; height: 22px; padding: 0px; font-size:0.9em; width: 60px; padding-right: 2px;\" type=\"submit\" value=\"SEARCH\">\n",
       "<input name=\"client\" type=\"hidden\" value=\"MSHASearch\"/>\n",
       "<input name=\"output\" type=\"hidden\" value=\"xml_no_dtd\"/>\n",
       "<input name=\"proxystylesheet\" type=\"hidden\" value=\"MSHASearch\"/>\n",
       "<input name=\"filter\" type=\"hidden\" value=\"p\"/>\n",
       "<input name=\"getfields\" type=\"hidden\" value=\"*\"/>\n",
       "<input name=\"site\" type=\"hidden\" value=\"AllDocuments\"/>\n",
       "</input></form>\n",
       "</div>\n",
       "<div id=\"subscribe\">\n",
       "<script src=\"https://public.govdelivery.com/javascripts/cache/snippet.js\" type=\"text/javascript\"></script>\n",
       "<form accept-charset=\"UTF-8\" action=\"https://public.govdelivery.com/accounts/USDOL/subscriber/qualify?qsp=USDOL_2585\" method=\"post\">\n",
       "<div style=\"margin:0;padding:0;display:inline;color:#fff;font-size: 12px;\">\n",
       "<input name=\"utf8\" type=\"hidden\" value=\"Ã¢ÂÂ\">\n",
       "<input name=\"authenticity_token\" type=\"hidden\" value=\"4BAzX1/DPLa9DIarEHPs6w3ymvDs6SIgrYFizEOhBMs=\">\n",
       "</input></input></div>\n",
       "<div style=\"color:#ffffff;font-family:Verdana, Geneva, Arial, Helvetica, sans-serif;font-style:normal;font-size: 12px;border-radius:0px !important;\">\n",
       "<fieldset style=\"border:none; border-radius:0px !important; padding: 0px; margin: 0; font-size: 12px;;\">\n",
       "<b>Subscribe to Email Updates</b><br/>\n",
       "<input class=\"long\" id=\"email\" name=\"email\" style=\"height: 22px; border-width: 1px;padding:none;color:#990000; width: 180px; font-family: Verdana; font-style:normal;font-size:10pt; font-weight: 400; margin-right: 5px; display: inline-block; box-sizing: border-box; padding: 0 !important;\" type=\"text\">\n",
       "<div class=\"button_panel\" style=\"float:right;\">\n",
       "<input class=\"searchBtn\" name=\"commit\" style=\"color:#990000; font-weight: bold; font-style: uppercase;font-family: Arial, sans-serif; border: none; height: 22px; padding: 0px; font-size:0.9em; width: 60px; padding-right: 2px;\" type=\"submit\" value=\"SUBMIT\">\n",
       "</input></div>\n",
       "</input></fieldset>\n",
       "</div>\n",
       "</form>\n",
       "<script type=\"text/javascript\">\n",
       "\t  //<![CDATA[\n",
       "\t\tnew GD.view.AccountSubscribersNew({\n",
       "\t\t  facebookAppId: \"188927694463050\",\n",
       "\t\t  facebookLoginURL: \"/accounts/USDOL/facebook_subscriber/login\",\n",
       "\t\t  wirelessEnabled: true\n",
       "\t\t}).init();\n",
       "\t  //]]>\n",
       "\t</script>\n",
       "</div>\n",
       "<div id=\"dol_logo\">\n",
       "<a href=\"http://www.dol.gov/\">\n",
       "<img alt=\"Seal of the United States Department of Labor\" border=\"0\" src=\"/images/dol_sym.gif\"/></a>\n",
       "</div>\n",
       "<div id=\"headText\">\n",
       "<span id=\"dol1\">\n",
       "<a href=\"http://www.dol.gov\">\n",
       "\t\t\t\tUNITED STATES<br/>\n",
       "\t\t\t\tDEPARTMENT OF LABOR\n",
       "\t\t\t</a>\n",
       "</span>\n",
       "</div>\n",
       "<div style=\"clear:both;\"></div>\n",
       "<div id=\"headlinks\">\n",
       "<a href=\"/indexes/atozpage.asp\">A-Z Index</a> | \n",
       "\t\t<a href=\"/siteindex/siteindex.asp\">Site Map</a> | \n",
       "\t\t<a href=\"/faq/faqhome.htm\">FAQs</a> | \n",
       "\t\t<a href=\"/forms/forms.asp\">MSHA Forms</a> | \n",
       "\t\t<a href=\"/contactmsha/contactmsha.htm\">Contact Us</a> | \n",
       "\t\t\n",
       "<!-- \t\t<script language=\"JavaScript\">\n",
       "\t\t\tvar pagePath = location.href.split(location.host)[1];\n",
       "\t\t\tdocument.write(\"<a href=\\\"http://es.arlweb.msha.gov.systranlinks.net/\" + pagePath + \" \\\" target=\\\"new_window\\\">\");\n",
       "\t\t\tdocument.write(\"Espa&ntilde;ol</a>\");\n",
       "\t\t</script> -->\n",
       "<span id=\"google_translate_element\"></span>\n",
       "<style>\n",
       "\t\t\tspan#google_translate_element {\n",
       "\t\t\t\tfloat: right;\n",
       "\t\t\t\tmargin-top: -5px;\n",
       "\t\t\t}\n",
       "\t\t\ta.goog-te-menu-value > span {\n",
       "\t\t\t    color: #000000;\n",
       "\t\t\t}\n",
       "\t\t</style>\n",
       "<script type=\"text/javascript\">\n",
       "\t\t\tfunction googleTranslateElementInit() {\n",
       "\t\t\t  new google.translate.TranslateElement({\n",
       "\t\t\t  \tpageLanguage: 'en', \n",
       "\t\t\t  \tincludedLanguages: 'en,es', \n",
       "\t\t\t  \tlayout: google.translate.TranslateElement.InlineLayout.SIMPLE, \n",
       "\t\t\t  \tgaTrack: true, gaId: 'UA-52441844-1'\n",
       "\t\t\t  }, 'google_translate_element');\n",
       "\t\t\t}\n",
       "\t\t</script>\n",
       "<script src=\"//translate.google.com/translate_a/element.js?cb=googleTranslateElementInit\" type=\"text/javascript\"></script>\n",
       "</div>\n",
       "<div style=\"clear:both;\"></div>\n",
       "<div id=\"three\">\n",
       "<div id=\"hcontent\">\n",
       "<div id=\"agency\">\n",
       "<a href=\"http://www.msha.gov\" style=\"text-decoration:none;\">Mine Safety and Health Administration - MSHA</a>\n",
       "<!-- AddThis Button BEGIN -->\n",
       "<a class=\"addthis_button\" href=\"http://www.addthis.com/bookmark.php?v=300&amp;pubid=ra-52d534a46402ec50\" style=\"margin-left: 230px\">\n",
       "<img alt=\"Bookmark and Share\" height=\"16\" src=\"https://s7.addthis.com/static/btn/v2/lg-share-en.gif\" style=\"border:0\" width=\"125\"/>\n",
       "</a>\n",
       "<script type=\"text/javascript\">var addthis_config = {\"data_track_addressbar\":false};</script>\n",
       "<script src=\"//s7.addthis.com/js/300/addthis_widget.js#pubid=ra-52d534a46402ec50\" type=\"text/javascript\"></script>\n",
       "<!-- AddThis Button END -->\n",
       "<br/>    <a href=\"http://www.msha.gov\" style=\"text-decoration:none;\">  - Protecting Miners' Safety and Health Since 1978</a>\n",
       "</div>\n",
       "<div id=\"headImg\">\n",
       "<script language=\"JavaScript\"> \n",
       "\t\t\t\t\tif (window.print) {\n",
       "\t\t\t\t\t\tdocument.write('<form><input type=button name=print value=\"Print This Page\" onClick=\"window.print()\"></form>');\n",
       "\t\t\t\t\t}\n",
       "\t\t\t\t</script>\n",
       "<div class=\"utilitybarright\" style=\" width: 150px; margin-top: 5px;\">\n",
       "<div id=\"fbcontent\" style=\"float:right\"></div>\n",
       "</div>\n",
       "</div> <!-- End Agency -->\n",
       "</div>\n",
       "</div> <!-- End three -->\n",
       "</div><!-- End Header -->\n",
       "<div id=\"headSeparator\"></div>\n",
       "<!-- This ends the newheader.asp content-->\n",
       "<div id=\"container\">\n",
       "<!-- This begins the page content section-->\n",
       "<div id=\"content\">\n",
       "<table border=\"0\" width=\"100%\">\n",
       "<tr>\n",
       "<td width=\"30%\"><a href=\"/drs/drshome.htm\"><img alt=\"Mine Data Retrieval System\" border=\"0\" height=\"75\" src=\"/drs/images/drslogo.png\" width=\"300\"/></a></td>\n",
       "<th width=\"40%\"><font style=\"FONT-SIZE:1.20em;\">Report Selection Page</font></th>\n",
       "<td width=\"30%\"> </td></tr></table>\n",
       "<br/>\n",
       "<hr color=\"#800000\" size=\"1\"/>\n",
       "<form action=\"/drs/ASP/MineAction.asp\" method=\"post\">\n",
       "<!-- END HTML HEADER ------------------------------------- -->\n",
       "<!-- Output FORM -->\n",
       "<!--************  A series of forms, one for each mine  *************** -->\n",
       "<table bgcolor=\"#FFFFBF\" border=\"0\" width=\"100%\">\n",
       "<tr>\n",
       "<td colspan=\"3\"> <font style=\"FONT-SIZE:1.00em; color:#800000\"><b>Current Mine Information</b></font></td></tr>\n",
       "<tr>\n",
       "<td width=\"10%\"><font style=\"FONT-SIZE:.80em; color:#000080\"><strong>Mine ID:</strong></font></td>\n",
       "<td width=\"15%\"><font style=\"FONT-SIZE:.80em; color:#000080\"><b>\n",
       "<input maxlength=\"7\" name=\"MineId\" size=\"10\" type=\"hidden\" value=\"3503598\"/>3503598</b> </font></td>\n",
       "<th width=\"70%\"> </th></tr>\n",
       "<tr>\n",
       "<td>\n",
       "<font style=\"FONT-SIZE:.80em; color:#000080\"><strong>Operator:</strong> </font></td>\n",
       "<td><font style=\"FONT-SIZE:.80em; color:#000080\"><b><!-- DNT -->Newberg Rock &amp; Dirt<!-- /DNT --></b> </font></td>\n",
       "<td colspan=\"2\" rowspan=\"10\" valign=\"top\">\n",
       "<table align=\"center\" bgcolor=\"#ffffff\" width=\"100%\">\n",
       "<tr>\n",
       "<td colspan=\"3\" valign=\"top\"><div class=\"drsoprhistory\">Operator History for Mine ID:  <b>3503598</b></div>\n",
       "<table width=\"100%\">\n",
       "<tr>\n",
       "<td width=\"60%\"><font style=\"FONT-SIZE:.75em; color:#000080\"><u><b>Operator  Name</b></u></font></td>\n",
       "<td align=\"right\" width=\"20%\"><font style=\"FONT-SIZE:.75em; color:#000080\"><u><b>Begin Date</b></u></font></td>\n",
       "<td align=\"right\" width=\"20%\"><font style=\"FONT-SIZE:.75em; color:#000080\"><u><b>End Date</b></u></font></td> </tr>\n",
       "<tr>\n",
       "<td valign=\"top\"><font style=\"FONT-SIZE:.75em; color:#000080\"> Newberg Rock &amp; Dirt</font></td>\n",
       "<td align=\"right\" valign=\"top\"><font style=\"FONT-SIZE:.75em; color:#000080\">12/6/2012</font></td>\n",
       "<td align=\"right\" valign=\"top\"><font style=\"FONT-SIZE:.75em; color:#000080\"></font></td></tr>\n",
       "<tr>\n",
       "<td valign=\"top\"><font style=\"FONT-SIZE:.75em; color:#000080\"> Newberg Rock &amp; Dirt</font></td>\n",
       "<td align=\"right\" valign=\"top\"><font style=\"FONT-SIZE:.75em; color:#000080\">1/2/2012</font></td>\n",
       "<td align=\"right\" valign=\"top\"><font style=\"FONT-SIZE:.75em; color:#000080\">12/5/2012</font></td></tr>\n",
       "<tr>\n",
       "<td valign=\"top\"><font style=\"FONT-SIZE:.75em; color:#000080\">Newberg Rock &amp; Dirt</font></td>\n",
       "<td align=\"right\" valign=\"top\"><font style=\"FONT-SIZE:.75em; color:#000080\">6/24/2011</font></td>\n",
       "<td align=\"right\" valign=\"top\"><font style=\"FONT-SIZE:.75em; color:#000080\">1/1/2012</font></td></tr>\n",
       "<tr>\n",
       "<td valign=\"top\"><font style=\"FONT-SIZE:.75em; color:#000080\">Newberg Rock &amp; Dirt</font></td>\n",
       "<td align=\"right\" valign=\"top\"><font style=\"FONT-SIZE:.75em; color:#000080\">6/20/2004</font></td>\n",
       "<td align=\"right\" valign=\"top\"><font style=\"FONT-SIZE:.75em; color:#000080\">6/23/2011</font></td></tr>\n",
       "<tr><th colspan=\"3\"><br/><font style=\"FONT-SIZE:.75em; color:#000080\">How do I use this information? <b><em><a href=\"../OperatorInfoHelp.asp\" target=\"_blank\">Click Here</a></em></b></font></th></tr>\n",
       "</table>\n",
       "</td></tr></table></td></tr></table></form></div></div></body></html>\n",
       "\n",
       "\n",
       "<tr>\n",
       "<td width=\"20%\"> <font style=\"FONT-SIZE:.80em; color:#000080\"><b>Opr. Begin Date:</b></font></td>\n",
       "<td width=\"40%\"><font style=\"FONT-SIZE:.80em; color:#000080\"><b>12/6/2012</b></font></td></tr>\n",
       "<tr>\n",
       "<td width=\"20%\"> <font style=\"FONT-SIZE:.80em; color:#000080\"><strong>Mine Name:</strong></font></td>\n",
       "<td width=\"40%\"><font style=\"FONT-SIZE:.80em; color:#000080\"><strong><!-- DNT -->Newberg Rock &amp; Dirt<!-- /DNT --></strong></font></td>\n",
       "<tr>\n",
       "<td width=\"20%\"> <font style=\"FONT-SIZE:.80em; color:#000080\"><b>Current Controller:</b></font></td>\n",
       "<td width=\"40%\">\n",
       "<font style=\"FONT-SIZE:.80em; color:#000080\"><b><!-- DNT -->\n",
       "S-2 Contractors Inc<!-- /DNT --></b></font></td></tr>\n",
       "<tr>\n",
       "<td width=\"20%\"><font style=\"FONT-SIZE:.80em; color:#000080\"><b>Controller Start Date:</b></font></td>\n",
       "<td width=\"40%\">\n",
       "<font style=\"FONT-SIZE:.80em; color:#000080\"><b><!-- DNT -->12/6/2012<!-- /DNT --></b></font></td></tr>\n",
       "<tr>\n",
       "<td width=\"20%\"> <font style=\"FONT-SIZE:.80em; color:#000080\">Mine Status:</font></td>\n",
       "<td width=\"40%\"><font style=\"FONT-SIZE:.80em; color:#000080\">Active</font></td></tr>\n",
       "<tr>\n",
       "<td width=\"20%\"> <font style=\"FONT-SIZE:.80em; color:#000080\">Status Date:</font></td>\n",
       "<td width=\"40%\"><font style=\"FONT-SIZE:.80em; color:#000080\">4/14/2015</font></td></tr>\n",
       "<tr>\n",
       "<td width=\"20%\"> <font style=\"FONT-SIZE:.80em; color:#000080\">Mined Material: </font></td>\n",
       "<td width=\"40%\"><font style=\"FONT-SIZE:.80em; color:#000080\">Crushed, Broken Stone NEC </font></td>\n",
       "</tr>\n",
       "<tr>\n",
       "<td width=\"20%\"> <font style=\"FONT-SIZE:.80em; color:#000080\">Type of Mine: </font></td>\n",
       "<td width=\"40%\"><font style=\"FONT-SIZE:.80em; color:#000080\">Surface             </font></td>\n",
       "</tr>\n",
       "<tr>\n",
       "<td valign=\"top\" width=\"20%\"> <font style=\"FONT-SIZE:.80em; color:#000080\">Location: </font></td>\n",
       "<td width=\"40%\"><font style=\"FONT-SIZE:.80em; color:#000080\">Yamhill County,  OR</font></td></tr>\n",
       "<tr>\n",
       "<td valign=\"top\" width=\"20%\"> <font style=\"FONT-SIZE:.80em; color:#000080\">Address of Record: </font></td>\n",
       "<td width=\"40%\"><font style=\"FONT-SIZE:.80em; color:#000080\">\n",
       "6860 Anderson Rd.<br/>\n",
       "Aurora, OR  97002</font></td></tr>\n",
       "</tr>\n",
       "<hr color=\"#800000\" size=\"1\"/>\n",
       "<table align=\"center\" bgcolor=\"#FFFFFF\" border=\"0\" cellpadding=\"0\" width=\"100%\">\n",
       "<tr>\n",
       "<td>\n",
       "<font style=\"FONT-SIZE:.80em; COLOR:#FF0000\">For the reports below, other than Overview, if you do not provide a Beginning date, the date of <b>1/1/2014</b> will be used.</font><br/><br/></td></tr>\n",
       "<tr>\n",
       "<td>\n",
       "<font style=\"FONT-SIZE:.80em;\"><b>Beginning Date:</b>    <input maxlength=\"10\" name=\"BDate\" onclick=\"this.value='';\" size=\"10\" type=\"text\"/>     \n",
       " <b>Ending Date:</b> <input maxlength=\"10\" name=\"EDate\" onclick=\"this.value='';\" size=\"10\" type=\"text\"/></font></td></tr></table>\n",
       "<br/>\n",
       "<table align=\"center\" bgcolor=\"#e5e5e3\" cellpadding=\"3\" width=\"100%\">\n",
       "<tr>\n",
       "<th colspan=\"4\"><font style=\"FONT-SIZE:.80em; COLOR:#000\">Please select from one of the following available reports.</font></th></tr>\n",
       "<tr>\n",
       "<td bgcolor=\"#ffffff\" valign=\"top\" width=\"25%\">\n",
       "<input checked=\"\" name=\"Submit\" type=\"radio\" value=\"Overview\"/> <font style=\"FONT-SIZE:.80em; COLOR:#000\"><strong>Overview</strong></font>\n",
       "<br/><br/>\n",
       "<input name=\"Submit\" type=\"radio\" value=\"Inspections\"/> <font style=\"FONT-SIZE:.80em; COLOR:#000\"><strong>Inspections</strong></font>\n",
       "<br/><br/>\n",
       "<input name=\"Submit\" type=\"radio\" value=\"Accidents*\"/> <font style=\"FONT-SIZE:.80em; COLOR:#000\"><strong>Accidents*</strong></font></td></tr></table>\n",
       "<td bgcolor=\"#ffffff\" valign=\"top\" width=\"25%\">\n",
       "<table border=\"0\" cellpadding=\"5\" cellspacing=\"0\" width=\"100%\">\n",
       "<tr>\n",
       "<td><input name=\"Submit\" type=\"radio\" value=\"Violations*\"/>\n",
       "<font style=\"FONT-SIZE:.80em; COLOR:#000\"><b>Violations**</b></font> </td></tr>\n",
       "<tr>\n",
       "<td>\n",
       "<font style=\"FONT-SIZE:80%; COLOR:#000\"><strong>Sorted by -</strong></font>\n",
       "<blockquote class=\"drs\">\n",
       "<input checked=\"\" name=\"Sort\" type=\"radio\" value=\"1\"/> <font style=\"FONT-SIZE:75%; COLOR:#000\"><strong> Issue Date</strong></font><br/>\n",
       "<input name=\"Sort\" type=\"radio\" value=\"2\"/> <font style=\"FONT-SIZE:75%; COLOR:#000\"><strong>Final Order Date</strong></font><br/>\n",
       "<input name=\"Sort\" type=\"radio\" value=\"3\"/> <font style=\"FONT-SIZE:75%; COLOR:#000\"><strong>Standard</strong></font><br/>\n",
       "<input name=\"Sort\" type=\"radio\" value=\"4\"/> <font style=\"FONT-SIZE:75%; COLOR:#000\"><strong>Case Number</strong></font>\n",
       "</blockquote></td></tr></table></td>\n",
       "<td bgcolor=\"#ffffff\" valign=\"top\" width=\"25%\">\n",
       "<input name=\"Submit\" type=\"radio\" value=\"VPID\"/> <font style=\"FONT-SIZE:.80em; COLOR:#000\"><b>VPID****</b></font>\n",
       "<br/><br/>\n",
       "<input name=\"Submit\" type=\"radio\" value=\"PPOV\"/> <font style=\"FONT-SIZE:.80em; COLOR:#000\"><b>POV Monitoring Tool</b></font></td>\n",
       "<td bgcolor=\"#ffffff\" valign=\"top\" width=\"25%\">\n",
       "<input name=\"Submit\" type=\"radio\" value=\"Health Samples\"/> <font style=\"FONT-SIZE:.80em; COLOR:#000\"><b>Health Samples***</b></font>\n",
       "<br/><br/>\n",
       "<!--<input type=\"radio\" name=\"Submit\" value=\"Area Samples\"> <FONT STYLE=\"FONT-SIZE:.80em; COLOR:#000\"><b>Area Samples***</b></FONT>-->\n",
       "</td>\n",
       "<tr>\n",
       "<td colspan=\"3\"><font style=\"FONT-SIZE:.80em; color:#800000\">*        Data only available  from 1983 on for Accidents.<br/>**      Data only available  from 1995 on for Violations and  1995 for Quartz Results<br/>***    Data only available from October 1996 on for Metal/Nonmetal Health Samples.<br/>\n",
       "****  Data only available from 2006 on for VPID.</font></td>\n",
       "<td align=\"center\"><input alt=\"Submit Request\" height=\"23\" name=\"submit\" src=\"/drs/images/submitrequestred.jpg\" type=\"image\" width=\"100\"/></td></tr>\n",
       "\n",
       "<br/>\n",
       "<blockquote class=\"maroonbdr\"><b><em>An Important Note:</em></b> The information provided by the Mine Data Retrieval System (MDRS)  is based on data gathered from various MSHA systems.  As there may be a lag time in data being entered into those systems, there will also be a lag in the reflection of that data on the MDRS.</blockquote>\n",
       "<form action=\"/drs/ASP/MineAction70002.asp\" method=\"post\">\n",
       "<input maxlength=\"7\" name=\"MineId\" size=\"10\" type=\"hidden\" value=\"3503598\"/>\n",
       "<br/>\n",
       "<table cellpadding=\"5\" width=\"95%\">\n",
       "<tr>\n",
       "<th><font style=\"FONT-SIZE:.90em;\">Employment/Production Reports for This Mine</font></th></tr></table>\n",
       "<table cellpadding=\"5\" width=\"95%\">\n",
       "<tr>\n",
       "<th width=\"95%\"><font style=\"FONT-SIZE:.75em;\">Data only available from 1983 on for the Production Reports</font></th></tr></table>\n",
       "<table bgcolor=\"#c0c0c0\" cellpadding=\"3\" width=\"95%\">\n",
       "<tr>\n",
       "<th bgcolor=\"#000000\" rowspan=\"3\" width=\"40%\"><font style=\"FONT-SIZE:.90em; COLOR:#fff\">Mine Employment and Coal Production Totals<br/>for This Mine</font></th></tr>\n",
       "<tr>\n",
       "<td valign=\"top\" width=\"30%\">\n",
       "<font style=\"FONT-SIZE:.75em; COLOR:#000\">  <strong>Calendar Year from (yyyy):</strong> </font> <input maxlength=\"4\" name=\"BeginYear\" onclick=\"this.value='';\" size=\"6\" type=\"text\" value=\"2014\"/></td></tr></table></form>\n",
       "<td valign=\"top\" width=\"30%\">\n",
       "<font style=\"FONT-SIZE:.75em; COLOR:#000\">  <strong>Calendar Year to (yyyy):</strong>  </font> <input maxlength=\"4\" name=\"EndYear\" onclick=\"this.value='';\" size=\"6\" type=\"text\" value=\"2017\"/></td>\n",
       "<tr>\n",
       "<td colspan=\"2\">\n",
       "<table width=\"100%\">\n",
       "<tr>\n",
       "<td width=\"30%\">  <font style=\"FONT-SIZE:.75em; COLOR:#000\"><b>Quarterly Production Totals</b></font></td>\n",
       "<td width=\"10%\"><input checked=\"\" name=\"submit\" type=\"radio\" value=\"QtrlyProd\"/></td>\n",
       "<td rowspan=\"2\" width=\"30%\"><input alt=\"Submit\" border=\"0\" height=\"23\" src=\"/drs/images/submitrequestgrey.png\" type=\"image\" width=\"100\"/></td></tr>\n",
       "<tr>\n",
       "<td width=\"30%\">  \n",
       "<font style=\"FONT-SIZE:.75em; COLOR:#000\"><b>Annual Production Totals</b></font>\n",
       "<td width=\"15%\"><input name=\"submit\" type=\"radio\" value=\"Annualprod\"/></td>\n",
       "</td></tr></table></td></tr>\n",
       "\n",
       "<br/><br/>\n",
       "<!-- END SUBROUTINE SECTION -->\n",
       "\n",
       "<p> </p>\n",
       "<div>\n",
       "<a href=\"/drs/drshome.htm\" title=\"DRS Home Page\"><img align=\"middle\" alt=\"Return to DRS Home Page\" border=\"0\" height=\"18\" src=\"/headerfooter/drshomepage.jpg\" width=\"18\"/></a>  <a href=\"/drs/drshome.htm\" title=\"DRS Home Page\"><b><font color=\"Maroon\" style=\"FONT-SIZE:8pt; FONT-FAMILY: Verdana, Arial, Helvetica, Sans-serif\">Return to DRS Home Page</font></b></a> </div>\n",
       "\n",
       "\n",
       "<!-- This ends the page content-->\n",
       "\n",
       "\n",
       "<!--This Starts the Footer--> <div id=\"footer\">\n",
       "<div style=\"clear:both;\"></div>\n",
       "<div id=\"fone\"><a href=\"/faq/faqhome.htm\">FAQs</a> | \n",
       "\t\t\t\t<a href=\"/readroom/readroom.htm\">Freedom of Information Act</a> | \n",
       "\t\t\t\t<a href=\"/privacy.htm\">Privacy &amp; Security Statement</a> | \n",
       "\t\t\t\t<a href=\"/disclaim.htm\">Disclaimers</a> | \n",
       "\t\t\t\t\n",
       "\t\t\t\t<a href=\"/forms/helpdesk.asp\" target=\"_blank\" title=\"Forms Help Desk\">Online Filing Help Desk</a>  | \n",
       "                 <a href=\"/contactmsha/contactmsha.htm\">Contact Us</a></div>\n",
       "<div id=\"ftwo\">U.S. Department of Labor | Mine Safety and Health Administration (MSHA) | 201 12th Street South, Suite 401 | Arlington, VA 22202-5450<br>\n",
       "<a href=\"http://www.msha.gov\" style=\"text-decoration: underline;\">www.msha.gov</a> | <a href=\"http://www.dol.gov/dol/contact/contact-phonecallcenter.htm\">TTY</a> | Telephone:  (202) 693-9400</br></div>\n",
       "</div>\n",
       "<!--This Ends the Footer-->\n",
       "<!--Footer End -->\n"
      ]
     },
     "execution_count": 7,
     "metadata": {},
     "output_type": "execute_result"
    }
   ],
   "source": [
    "doc_specific_mine = BeautifulSoup(response_specific_mine.text, \"html.parser\")\n",
    "doc_specific_mine"
   ]
  },
  {
   "cell_type": "code",
   "execution_count": 8,
   "metadata": {},
   "outputs": [
    {
     "data": {
      "text/plain": [
       "[<font style=\"FONT-SIZE:.80em; color:#000080\"><strong>Mine ID:</strong></font>,\n",
       " <font style=\"FONT-SIZE:.80em; color:#000080\"><b>\n",
       " <input maxlength=\"7\" name=\"MineId\" size=\"10\" type=\"hidden\" value=\"3503598\"/>3503598</b> </font>,\n",
       " <font style=\"FONT-SIZE:.80em; color:#000080\"><strong>Operator:</strong> </font>,\n",
       " <font style=\"FONT-SIZE:.80em; color:#000080\"><b><!-- DNT -->Newberg Rock &amp; Dirt<!-- /DNT --></b> </font>,\n",
       " <font style=\"FONT-SIZE:.80em; color:#000080\"><b>Opr. Begin Date:</b></font>,\n",
       " <font style=\"FONT-SIZE:.80em; color:#000080\"><b>12/6/2012</b></font>,\n",
       " <font style=\"FONT-SIZE:.80em; color:#000080\"><strong>Mine Name:</strong></font>,\n",
       " <font style=\"FONT-SIZE:.80em; color:#000080\"><strong><!-- DNT -->Newberg Rock &amp; Dirt<!-- /DNT --></strong></font>,\n",
       " <font style=\"FONT-SIZE:.80em; color:#000080\"><b>Current Controller:</b></font>,\n",
       " <font style=\"FONT-SIZE:.80em; color:#000080\"><b><!-- DNT -->\n",
       " S-2 Contractors Inc<!-- /DNT --></b></font>,\n",
       " <font style=\"FONT-SIZE:.80em; color:#000080\"><b>Controller Start Date:</b></font>,\n",
       " <font style=\"FONT-SIZE:.80em; color:#000080\"><b><!-- DNT -->12/6/2012<!-- /DNT --></b></font>,\n",
       " <font style=\"FONT-SIZE:.80em; color:#000080\">Mine Status:</font>,\n",
       " <font style=\"FONT-SIZE:.80em; color:#000080\">Active</font>,\n",
       " <font style=\"FONT-SIZE:.80em; color:#000080\">Status Date:</font>,\n",
       " <font style=\"FONT-SIZE:.80em; color:#000080\">4/14/2015</font>,\n",
       " <font style=\"FONT-SIZE:.80em; color:#000080\">Mined Material: </font>,\n",
       " <font style=\"FONT-SIZE:.80em; color:#000080\">Crushed, Broken Stone NEC </font>,\n",
       " <font style=\"FONT-SIZE:.80em; color:#000080\">Type of Mine: </font>,\n",
       " <font style=\"FONT-SIZE:.80em; color:#000080\">Surface             </font>,\n",
       " <font style=\"FONT-SIZE:.80em; color:#000080\">Location: </font>,\n",
       " <font style=\"FONT-SIZE:.80em; color:#000080\">Yamhill County,  OR</font>,\n",
       " <font style=\"FONT-SIZE:.80em; color:#000080\">Address of Record: </font>,\n",
       " <font style=\"FONT-SIZE:.80em; color:#000080\">\n",
       " 6860 Anderson Rd.<br/>\n",
       " Aurora, OR  97002</font>]"
      ]
     },
     "execution_count": 8,
     "metadata": {},
     "output_type": "execute_result"
    }
   ],
   "source": [
    "doc_specific_mine.find_all('font', attrs = {'style':'FONT-SIZE:.80em; color:#000080'})"
   ]
  },
  {
   "cell_type": "code",
   "execution_count": 9,
   "metadata": {},
   "outputs": [
    {
     "data": {
      "text/plain": [
       "'Newberg Rock & Dirt'"
      ]
     },
     "execution_count": 9,
     "metadata": {},
     "output_type": "execute_result"
    }
   ],
   "source": [
    "operator = doc_specific_mine.find_all('font', attrs = {'style':'FONT-SIZE:.80em; color:#000080'})[3].b\n",
    "operator = operator.text\n",
    "operator"
   ]
  },
  {
   "cell_type": "code",
   "execution_count": 10,
   "metadata": {},
   "outputs": [
    {
     "data": {
      "text/plain": [
       "'6860 Anderson Rd., Aurora, OR, 97002'"
      ]
     },
     "execution_count": 10,
     "metadata": {},
     "output_type": "execute_result"
    }
   ],
   "source": [
    "address = doc_specific_mine.find_all('font', attrs = {'style':'FONT-SIZE:.80em; color:#000080'})[-1]\n",
    "address = address.text.strip()\n",
    "address = address.replace(\"\\r\\n\", \", \")\n",
    "address = address.replace(\"\\xa0\\xa0\",\", \")\n",
    "address"
   ]
  },
  {
   "cell_type": "code",
   "execution_count": 11,
   "metadata": {},
   "outputs": [
    {
     "data": {
      "text/plain": [
       "'S-2 Contractors Inc'"
      ]
     },
     "execution_count": 11,
     "metadata": {},
     "output_type": "execute_result"
    }
   ],
   "source": [
    "controller = doc_specific_mine.find_all('font', attrs = {'style':'FONT-SIZE:.80em; color:#000080'})[9]\n",
    "controller = controller.text.strip()\n",
    "controller"
   ]
  },
  {
   "cell_type": "markdown",
   "metadata": {},
   "source": [
    "## Getting information on many mines\n",
    "\n",
    "### Reading in our source\n",
    "\n",
    "Using pandas, read in `mines-subset.csv`."
   ]
  },
  {
   "cell_type": "code",
   "execution_count": 12,
   "metadata": {
    "scrolled": true
   },
   "outputs": [
    {
     "data": {
      "text/plain": [
       "(4, 1)"
      ]
     },
     "execution_count": 12,
     "metadata": {},
     "output_type": "execute_result"
    }
   ],
   "source": [
    "import pandas as pd\n",
    "mines_subset = pd.read_csv('mines-subset.csv')\n",
    "mines_subset.shape"
   ]
  },
  {
   "cell_type": "code",
   "execution_count": 13,
   "metadata": {},
   "outputs": [
    {
     "data": {
      "text/plain": [
       "id    int64\n",
       "dtype: object"
      ]
     },
     "execution_count": 13,
     "metadata": {},
     "output_type": "execute_result"
    }
   ],
   "source": [
    "mines_subset.dtypes"
   ]
  },
  {
   "cell_type": "code",
   "execution_count": 14,
   "metadata": {},
   "outputs": [
    {
     "data": {
      "text/html": [
       "<div>\n",
       "<style>\n",
       "    .dataframe thead tr:only-child th {\n",
       "        text-align: right;\n",
       "    }\n",
       "\n",
       "    .dataframe thead th {\n",
       "        text-align: left;\n",
       "    }\n",
       "\n",
       "    .dataframe tbody tr th {\n",
       "        vertical-align: top;\n",
       "    }\n",
       "</style>\n",
       "<table border=\"1\" class=\"dataframe\">\n",
       "  <thead>\n",
       "    <tr style=\"text-align: right;\">\n",
       "      <th></th>\n",
       "      <th>id</th>\n",
       "    </tr>\n",
       "  </thead>\n",
       "  <tbody>\n",
       "    <tr>\n",
       "      <th>0</th>\n",
       "      <td>2501216</td>\n",
       "    </tr>\n",
       "    <tr>\n",
       "      <th>1</th>\n",
       "      <td>3200965</td>\n",
       "    </tr>\n",
       "    <tr>\n",
       "      <th>2</th>\n",
       "      <td>2901371</td>\n",
       "    </tr>\n",
       "    <tr>\n",
       "      <th>3</th>\n",
       "      <td>2901544</td>\n",
       "    </tr>\n",
       "  </tbody>\n",
       "</table>\n",
       "</div>"
      ],
      "text/plain": [
       "        id\n",
       "0  2501216\n",
       "1  3200965\n",
       "2  2901371\n",
       "3  2901544"
      ]
     },
     "execution_count": 14,
     "metadata": {},
     "output_type": "execute_result"
    }
   ],
   "source": [
    "mines_subset"
   ]
  },
  {
   "cell_type": "markdown",
   "metadata": {},
   "source": [
    "## Scrape every single row, storing the current controller and mine operator in new columns.\n",
    "\n",
    "You probably want to open up the Jupyter Notebook that's about `.apply`."
   ]
  },
  {
   "cell_type": "code",
   "execution_count": 15,
   "metadata": {},
   "outputs": [
    {
     "data": {
      "text/html": [
       "<div>\n",
       "<style>\n",
       "    .dataframe thead tr:only-child th {\n",
       "        text-align: right;\n",
       "    }\n",
       "\n",
       "    .dataframe thead th {\n",
       "        text-align: left;\n",
       "    }\n",
       "\n",
       "    .dataframe tbody tr th {\n",
       "        vertical-align: top;\n",
       "    }\n",
       "</style>\n",
       "<table border=\"1\" class=\"dataframe\">\n",
       "  <thead>\n",
       "    <tr style=\"text-align: right;\">\n",
       "      <th></th>\n",
       "      <th>id</th>\n",
       "      <th>operator_name</th>\n",
       "    </tr>\n",
       "  </thead>\n",
       "  <tbody>\n",
       "    <tr>\n",
       "      <th>0</th>\n",
       "      <td>2501216</td>\n",
       "      <td>Iske Dirt Sand &amp; Gravel</td>\n",
       "    </tr>\n",
       "    <tr>\n",
       "      <th>1</th>\n",
       "      <td>3200965</td>\n",
       "      <td>J M Lynn Dirtwork</td>\n",
       "    </tr>\n",
       "    <tr>\n",
       "      <th>2</th>\n",
       "      <td>2901371</td>\n",
       "      <td>Jake Diel Dirt &amp; Paving Inc</td>\n",
       "    </tr>\n",
       "    <tr>\n",
       "      <th>3</th>\n",
       "      <td>2901544</td>\n",
       "      <td>Jake Diel Dirt &amp; Paving Inc</td>\n",
       "    </tr>\n",
       "  </tbody>\n",
       "</table>\n",
       "</div>"
      ],
      "text/plain": [
       "        id                operator_name\n",
       "0  2501216      Iske Dirt Sand & Gravel\n",
       "1  3200965            J M Lynn Dirtwork\n",
       "2  2901371  Jake Diel Dirt & Paving Inc\n",
       "3  2901544  Jake Diel Dirt & Paving Inc"
      ]
     },
     "execution_count": 15,
     "metadata": {},
     "output_type": "execute_result"
    }
   ],
   "source": [
    "def operator_name(row):\n",
    "    data = {\n",
    "        'MineId': row['id'],\n",
    "        'x':'0',\n",
    "        'y':'0'    \n",
    "        }\n",
    "    url_specific_mine = \"https://arlweb.msha.gov/drs/ASP/BasicMineInfonew.asp\"\n",
    "    response_specific_mine = requests.post(url_specific_mine, data = data)\n",
    "    doc_specific_mine = BeautifulSoup(response_specific_mine.text, \"html.parser\")\n",
    "    operator = doc_specific_mine.find_all('font', attrs = {'style':'FONT-SIZE:.80em; color:#000080'})[3].b\n",
    "    operator = operator.text\n",
    "    return operator\n",
    "\n",
    "mines_subset.apply(operator_name, axis=1)\n",
    "\n",
    "mines_subset['operator_name'] = mines_subset.apply(operator_name, axis=1)\n",
    "mines_subset"
   ]
  },
  {
   "cell_type": "code",
   "execution_count": 16,
   "metadata": {
    "scrolled": true
   },
   "outputs": [
    {
     "data": {
      "text/html": [
       "<div>\n",
       "<style>\n",
       "    .dataframe thead tr:only-child th {\n",
       "        text-align: right;\n",
       "    }\n",
       "\n",
       "    .dataframe thead th {\n",
       "        text-align: left;\n",
       "    }\n",
       "\n",
       "    .dataframe tbody tr th {\n",
       "        vertical-align: top;\n",
       "    }\n",
       "</style>\n",
       "<table border=\"1\" class=\"dataframe\">\n",
       "  <thead>\n",
       "    <tr style=\"text-align: right;\">\n",
       "      <th></th>\n",
       "      <th>id</th>\n",
       "      <th>operator_name</th>\n",
       "      <th>mine_address</th>\n",
       "    </tr>\n",
       "  </thead>\n",
       "  <tbody>\n",
       "    <tr>\n",
       "      <th>0</th>\n",
       "      <td>2501216</td>\n",
       "      <td>Iske Dirt Sand &amp; Gravel</td>\n",
       "      <td>24617 W Center Rd, Waterloo, NE, 68069</td>\n",
       "    </tr>\n",
       "    <tr>\n",
       "      <th>1</th>\n",
       "      <td>3200965</td>\n",
       "      <td>J M Lynn Dirtwork</td>\n",
       "      <td>485 Helene St, Palermo, ND, 58769</td>\n",
       "    </tr>\n",
       "    <tr>\n",
       "      <th>2</th>\n",
       "      <td>2901371</td>\n",
       "      <td>Jake Diel Dirt &amp; Paving Inc</td>\n",
       "      <td>E Hwy 60, HEREFORD, TX, 79045</td>\n",
       "    </tr>\n",
       "    <tr>\n",
       "      <th>3</th>\n",
       "      <td>2901544</td>\n",
       "      <td>Jake Diel Dirt &amp; Paving Inc</td>\n",
       "      <td>E Hwy 60, HEREFORD, TX, 79045</td>\n",
       "    </tr>\n",
       "  </tbody>\n",
       "</table>\n",
       "</div>"
      ],
      "text/plain": [
       "        id                operator_name  \\\n",
       "0  2501216      Iske Dirt Sand & Gravel   \n",
       "1  3200965            J M Lynn Dirtwork   \n",
       "2  2901371  Jake Diel Dirt & Paving Inc   \n",
       "3  2901544  Jake Diel Dirt & Paving Inc   \n",
       "\n",
       "                             mine_address  \n",
       "0  24617 W Center Rd, Waterloo, NE, 68069  \n",
       "1       485 Helene St, Palermo, ND, 58769  \n",
       "2           E Hwy 60, HEREFORD, TX, 79045  \n",
       "3           E Hwy 60, HEREFORD, TX, 79045  "
      ]
     },
     "execution_count": 16,
     "metadata": {},
     "output_type": "execute_result"
    }
   ],
   "source": [
    "def mine_address(row):\n",
    "    data = {\n",
    "        'MineId': row['id'],\n",
    "        'x':'0',\n",
    "        'y':'0'    \n",
    "        }\n",
    "    url_specific_mine = \"https://arlweb.msha.gov/drs/ASP/BasicMineInfonew.asp\"\n",
    "    response_specific_mine = requests.post(url_specific_mine, data = data)\n",
    "    doc_specific_mine = BeautifulSoup(response_specific_mine.text, \"html.parser\")\n",
    "    address = doc_specific_mine.find_all('font', attrs = {'style':'FONT-SIZE:.80em; color:#000080'})[-1]\n",
    "    address = address.text.strip()\n",
    "    address = address.replace(\"\\r\\n\", \", \")\n",
    "    address = address.replace(\"\\xa0\\xa0\",\", \")\n",
    "    return address\n",
    "\n",
    "mines_subset.apply(mine_address, axis=1)\n",
    "\n",
    "mines_subset['mine_address'] = mines_subset.apply(mine_address, axis=1)\n",
    "mines_subset"
   ]
  },
  {
   "cell_type": "code",
   "execution_count": 17,
   "metadata": {},
   "outputs": [
    {
     "data": {
      "text/html": [
       "<div>\n",
       "<style>\n",
       "    .dataframe thead tr:only-child th {\n",
       "        text-align: right;\n",
       "    }\n",
       "\n",
       "    .dataframe thead th {\n",
       "        text-align: left;\n",
       "    }\n",
       "\n",
       "    .dataframe tbody tr th {\n",
       "        vertical-align: top;\n",
       "    }\n",
       "</style>\n",
       "<table border=\"1\" class=\"dataframe\">\n",
       "  <thead>\n",
       "    <tr style=\"text-align: right;\">\n",
       "      <th></th>\n",
       "      <th>id</th>\n",
       "      <th>operator_name</th>\n",
       "      <th>mine_address</th>\n",
       "      <th>main_controller</th>\n",
       "    </tr>\n",
       "  </thead>\n",
       "  <tbody>\n",
       "    <tr>\n",
       "      <th>0</th>\n",
       "      <td>2501216</td>\n",
       "      <td>Iske Dirt Sand &amp; Gravel</td>\n",
       "      <td>24617 W Center Rd, Waterloo, NE, 68069</td>\n",
       "      <td>David A  Iske</td>\n",
       "    </tr>\n",
       "    <tr>\n",
       "      <th>1</th>\n",
       "      <td>3200965</td>\n",
       "      <td>J M Lynn Dirtwork</td>\n",
       "      <td>485 Helene St, Palermo, ND, 58769</td>\n",
       "      <td>John  Lynn</td>\n",
       "    </tr>\n",
       "    <tr>\n",
       "      <th>2</th>\n",
       "      <td>2901371</td>\n",
       "      <td>Jake Diel Dirt &amp; Paving Inc</td>\n",
       "      <td>E Hwy 60, HEREFORD, TX, 79045</td>\n",
       "      <td>Lawson Warner</td>\n",
       "    </tr>\n",
       "    <tr>\n",
       "      <th>3</th>\n",
       "      <td>2901544</td>\n",
       "      <td>Jake Diel Dirt &amp; Paving Inc</td>\n",
       "      <td>E Hwy 60, HEREFORD, TX, 79045</td>\n",
       "      <td>Lawson Warner</td>\n",
       "    </tr>\n",
       "  </tbody>\n",
       "</table>\n",
       "</div>"
      ],
      "text/plain": [
       "        id                operator_name  \\\n",
       "0  2501216      Iske Dirt Sand & Gravel   \n",
       "1  3200965            J M Lynn Dirtwork   \n",
       "2  2901371  Jake Diel Dirt & Paving Inc   \n",
       "3  2901544  Jake Diel Dirt & Paving Inc   \n",
       "\n",
       "                             mine_address main_controller  \n",
       "0  24617 W Center Rd, Waterloo, NE, 68069   David A  Iske  \n",
       "1       485 Helene St, Palermo, ND, 58769      John  Lynn  \n",
       "2           E Hwy 60, HEREFORD, TX, 79045   Lawson Warner  \n",
       "3           E Hwy 60, HEREFORD, TX, 79045   Lawson Warner  "
      ]
     },
     "execution_count": 17,
     "metadata": {},
     "output_type": "execute_result"
    }
   ],
   "source": [
    "def main_controller(row):\n",
    "    data = {\n",
    "        'MineId': row['id'],\n",
    "        'x':'0',\n",
    "        'y':'0'    \n",
    "        }\n",
    "    url_specific_mine = \"https://arlweb.msha.gov/drs/ASP/BasicMineInfonew.asp\"\n",
    "    response_specific_mine = requests.post(url_specific_mine, data = data)\n",
    "    doc_specific_mine = BeautifulSoup(response_specific_mine.text, \"html.parser\")\n",
    "    controller = doc_specific_mine.find_all('font', attrs = {'style':'FONT-SIZE:.80em; color:#000080'})[9]\n",
    "    controller = controller.text.strip()\n",
    "    controller\n",
    "    return controller\n",
    "\n",
    "mines_subset['main_controller'] = mines_subset.apply(main_controller, axis=1)\n",
    "mines_subset"
   ]
  },
  {
   "cell_type": "markdown",
   "metadata": {},
   "source": [
    "### Save your dataframe"
   ]
  },
  {
   "cell_type": "code",
   "execution_count": 18,
   "metadata": {
    "collapsed": true
   },
   "outputs": [],
   "source": [
    "mines_subset.to_csv('mines-subset_expanded.csv', index = False)"
   ]
  },
  {
   "cell_type": "markdown",
   "metadata": {},
   "source": [
    "### Re-open your dataframe to confirm you didn't save any extra weird columns"
   ]
  },
  {
   "cell_type": "code",
   "execution_count": 20,
   "metadata": {},
   "outputs": [
    {
     "data": {
      "text/html": [
       "<div>\n",
       "<style>\n",
       "    .dataframe thead tr:only-child th {\n",
       "        text-align: right;\n",
       "    }\n",
       "\n",
       "    .dataframe thead th {\n",
       "        text-align: left;\n",
       "    }\n",
       "\n",
       "    .dataframe tbody tr th {\n",
       "        vertical-align: top;\n",
       "    }\n",
       "</style>\n",
       "<table border=\"1\" class=\"dataframe\">\n",
       "  <thead>\n",
       "    <tr style=\"text-align: right;\">\n",
       "      <th></th>\n",
       "      <th>id</th>\n",
       "      <th>operator_name</th>\n",
       "      <th>mine_address</th>\n",
       "      <th>main_controller</th>\n",
       "    </tr>\n",
       "  </thead>\n",
       "  <tbody>\n",
       "    <tr>\n",
       "      <th>0</th>\n",
       "      <td>2501216</td>\n",
       "      <td>Iske Dirt Sand &amp; Gravel</td>\n",
       "      <td>24617 W Center Rd, Waterloo, NE, 68069</td>\n",
       "      <td>David A  Iske</td>\n",
       "    </tr>\n",
       "    <tr>\n",
       "      <th>1</th>\n",
       "      <td>3200965</td>\n",
       "      <td>J M Lynn Dirtwork</td>\n",
       "      <td>485 Helene St, Palermo, ND, 58769</td>\n",
       "      <td>John  Lynn</td>\n",
       "    </tr>\n",
       "    <tr>\n",
       "      <th>2</th>\n",
       "      <td>2901371</td>\n",
       "      <td>Jake Diel Dirt &amp; Paving Inc</td>\n",
       "      <td>E Hwy 60, HEREFORD, TX, 79045</td>\n",
       "      <td>Lawson Warner</td>\n",
       "    </tr>\n",
       "    <tr>\n",
       "      <th>3</th>\n",
       "      <td>2901544</td>\n",
       "      <td>Jake Diel Dirt &amp; Paving Inc</td>\n",
       "      <td>E Hwy 60, HEREFORD, TX, 79045</td>\n",
       "      <td>Lawson Warner</td>\n",
       "    </tr>\n",
       "  </tbody>\n",
       "</table>\n",
       "</div>"
      ],
      "text/plain": [
       "        id                operator_name  \\\n",
       "0  2501216      Iske Dirt Sand & Gravel   \n",
       "1  3200965            J M Lynn Dirtwork   \n",
       "2  2901371  Jake Diel Dirt & Paving Inc   \n",
       "3  2901544  Jake Diel Dirt & Paving Inc   \n",
       "\n",
       "                             mine_address main_controller  \n",
       "0  24617 W Center Rd, Waterloo, NE, 68069   David A  Iske  \n",
       "1       485 Helene St, Palermo, ND, 58769      John  Lynn  \n",
       "2           E Hwy 60, HEREFORD, TX, 79045   Lawson Warner  \n",
       "3           E Hwy 60, HEREFORD, TX, 79045   Lawson Warner  "
      ]
     },
     "execution_count": 20,
     "metadata": {},
     "output_type": "execute_result"
    }
   ],
   "source": [
    "pd.read_csv('mines-subset_expanded.csv')"
   ]
  },
  {
   "cell_type": "markdown",
   "metadata": {},
   "source": [
    "## Repeat this process for the entire `mines.csv` file"
   ]
  },
  {
   "cell_type": "code",
   "execution_count": 21,
   "metadata": {
    "scrolled": true
   },
   "outputs": [
    {
     "data": {
      "text/html": [
       "<div>\n",
       "<style>\n",
       "    .dataframe thead tr:only-child th {\n",
       "        text-align: right;\n",
       "    }\n",
       "\n",
       "    .dataframe thead th {\n",
       "        text-align: left;\n",
       "    }\n",
       "\n",
       "    .dataframe tbody tr th {\n",
       "        vertical-align: top;\n",
       "    }\n",
       "</style>\n",
       "<table border=\"1\" class=\"dataframe\">\n",
       "  <thead>\n",
       "    <tr style=\"text-align: right;\">\n",
       "      <th></th>\n",
       "      <th>id</th>\n",
       "    </tr>\n",
       "  </thead>\n",
       "  <tbody>\n",
       "    <tr>\n",
       "      <th>0</th>\n",
       "      <td>3503598</td>\n",
       "    </tr>\n",
       "    <tr>\n",
       "      <th>1</th>\n",
       "      <td>0502030</td>\n",
       "    </tr>\n",
       "    <tr>\n",
       "      <th>2</th>\n",
       "      <td>4801789</td>\n",
       "    </tr>\n",
       "    <tr>\n",
       "      <th>3</th>\n",
       "      <td>4201449</td>\n",
       "    </tr>\n",
       "    <tr>\n",
       "      <th>4</th>\n",
       "      <td>4201450</td>\n",
       "    </tr>\n",
       "  </tbody>\n",
       "</table>\n",
       "</div>"
      ],
      "text/plain": [
       "        id\n",
       "0  3503598\n",
       "1  0502030\n",
       "2  4801789\n",
       "3  4201449\n",
       "4  4201450"
      ]
     },
     "execution_count": 21,
     "metadata": {},
     "output_type": "execute_result"
    }
   ],
   "source": [
    "mines_csv = pd.read_csv('mines.csv', converters = {'id':str})\n",
    "mines_csv.head()"
   ]
  },
  {
   "cell_type": "code",
   "execution_count": 22,
   "metadata": {
    "scrolled": true
   },
   "outputs": [
    {
     "data": {
      "text/html": [
       "<div>\n",
       "<style>\n",
       "    .dataframe thead tr:only-child th {\n",
       "        text-align: right;\n",
       "    }\n",
       "\n",
       "    .dataframe thead th {\n",
       "        text-align: left;\n",
       "    }\n",
       "\n",
       "    .dataframe tbody tr th {\n",
       "        vertical-align: top;\n",
       "    }\n",
       "</style>\n",
       "<table border=\"1\" class=\"dataframe\">\n",
       "  <thead>\n",
       "    <tr style=\"text-align: right;\">\n",
       "      <th></th>\n",
       "      <th>new_id</th>\n",
       "    </tr>\n",
       "  </thead>\n",
       "  <tbody>\n",
       "    <tr>\n",
       "      <th>0</th>\n",
       "      <td>3503598</td>\n",
       "    </tr>\n",
       "    <tr>\n",
       "      <th>1</th>\n",
       "      <td>0502030</td>\n",
       "    </tr>\n",
       "    <tr>\n",
       "      <th>2</th>\n",
       "      <td>4801789</td>\n",
       "    </tr>\n",
       "    <tr>\n",
       "      <th>3</th>\n",
       "      <td>4201449</td>\n",
       "    </tr>\n",
       "    <tr>\n",
       "      <th>4</th>\n",
       "      <td>4201450</td>\n",
       "    </tr>\n",
       "  </tbody>\n",
       "</table>\n",
       "</div>"
      ],
      "text/plain": [
       "    new_id\n",
       "0  3503598\n",
       "1  0502030\n",
       "2  4801789\n",
       "3  4201449\n",
       "4  4201450"
      ]
     },
     "execution_count": 22,
     "metadata": {},
     "output_type": "execute_result"
    }
   ],
   "source": [
    "mines_csv = mines_csv.rename(index=str, columns={'id':'new_id'})\n",
    "mines_csv.head()"
   ]
  },
  {
   "cell_type": "code",
   "execution_count": 23,
   "metadata": {},
   "outputs": [
    {
     "data": {
      "text/html": [
       "<div>\n",
       "<style>\n",
       "    .dataframe thead tr:only-child th {\n",
       "        text-align: right;\n",
       "    }\n",
       "\n",
       "    .dataframe thead th {\n",
       "        text-align: left;\n",
       "    }\n",
       "\n",
       "    .dataframe tbody tr th {\n",
       "        vertical-align: top;\n",
       "    }\n",
       "</style>\n",
       "<table border=\"1\" class=\"dataframe\">\n",
       "  <thead>\n",
       "    <tr style=\"text-align: right;\">\n",
       "      <th></th>\n",
       "      <th>new_id</th>\n",
       "      <th>operator_name</th>\n",
       "    </tr>\n",
       "  </thead>\n",
       "  <tbody>\n",
       "    <tr>\n",
       "      <th>0</th>\n",
       "      <td>3503598</td>\n",
       "      <td>Newberg Rock &amp; Dirt</td>\n",
       "    </tr>\n",
       "    <tr>\n",
       "      <th>1</th>\n",
       "      <td>0502030</td>\n",
       "      <td>Allied Dirt Moving Company</td>\n",
       "    </tr>\n",
       "    <tr>\n",
       "      <th>2</th>\n",
       "      <td>4801789</td>\n",
       "      <td>AM Dirtworks &amp; Aggregate Sales</td>\n",
       "    </tr>\n",
       "    <tr>\n",
       "      <th>3</th>\n",
       "      <td>4201449</td>\n",
       "      <td>Atlas-Dirty Devil Mining</td>\n",
       "    </tr>\n",
       "    <tr>\n",
       "      <th>4</th>\n",
       "      <td>4201450</td>\n",
       "      <td>Atlas-Dirty Devil Mining</td>\n",
       "    </tr>\n",
       "  </tbody>\n",
       "</table>\n",
       "</div>"
      ],
      "text/plain": [
       "    new_id                   operator_name\n",
       "0  3503598             Newberg Rock & Dirt\n",
       "1  0502030      Allied Dirt Moving Company\n",
       "2  4801789  AM Dirtworks & Aggregate Sales\n",
       "3  4201449        Atlas-Dirty Devil Mining\n",
       "4  4201450        Atlas-Dirty Devil Mining"
      ]
     },
     "execution_count": 23,
     "metadata": {},
     "output_type": "execute_result"
    }
   ],
   "source": [
    "def operators_name(row):\n",
    "    data = {\n",
    "        'MineId': row['new_id'],\n",
    "        'x':'0',\n",
    "        'y':'0'    \n",
    "        }\n",
    "    url_specific_mine = \"https://arlweb.msha.gov/drs/ASP/BasicMineInfonew.asp\"\n",
    "    response_specific_mine = requests.post(url_specific_mine, data = data)\n",
    "    doc_specific_mine = BeautifulSoup(response_specific_mine.text, \"html.parser\")\n",
    "    font_tds = doc_specific_mine.find_all('font', attrs = {'style':'FONT-SIZE:.80em; color:#000080'})\n",
    "    operators = font_tds[3].b\n",
    "    operators = operators.text\n",
    "    return operators\n",
    "\n",
    "mines_csv['operator_name'] = mines_csv.apply(operators_name, axis=1)\n",
    "mines_csv.head()"
   ]
  },
  {
   "cell_type": "code",
   "execution_count": 24,
   "metadata": {
    "scrolled": true
   },
   "outputs": [
    {
     "data": {
      "text/html": [
       "<div>\n",
       "<style>\n",
       "    .dataframe thead tr:only-child th {\n",
       "        text-align: right;\n",
       "    }\n",
       "\n",
       "    .dataframe thead th {\n",
       "        text-align: left;\n",
       "    }\n",
       "\n",
       "    .dataframe tbody tr th {\n",
       "        vertical-align: top;\n",
       "    }\n",
       "</style>\n",
       "<table border=\"1\" class=\"dataframe\">\n",
       "  <thead>\n",
       "    <tr style=\"text-align: right;\">\n",
       "      <th></th>\n",
       "      <th>new_id</th>\n",
       "      <th>operator_name</th>\n",
       "      <th>mine_address</th>\n",
       "    </tr>\n",
       "  </thead>\n",
       "  <tbody>\n",
       "    <tr>\n",
       "      <th>0</th>\n",
       "      <td>3503598</td>\n",
       "      <td>Newberg Rock &amp; Dirt</td>\n",
       "      <td>6860 Anderson Rd., Aurora, OR, 97002</td>\n",
       "    </tr>\n",
       "    <tr>\n",
       "      <th>1</th>\n",
       "      <td>0502030</td>\n",
       "      <td>Allied Dirt Moving Company</td>\n",
       "      <td>2360 West 2nd Ave, DENVER, CO, 80010</td>\n",
       "    </tr>\n",
       "    <tr>\n",
       "      <th>2</th>\n",
       "      <td>4801789</td>\n",
       "      <td>AM Dirtworks &amp; Aggregate Sales</td>\n",
       "      <td>120 Dally Ln, Buffalo, WY, 82834</td>\n",
       "    </tr>\n",
       "    <tr>\n",
       "      <th>3</th>\n",
       "      <td>4201449</td>\n",
       "      <td>Atlas-Dirty Devil Mining</td>\n",
       "      <td>GREEN RIVER, UT, 84525</td>\n",
       "    </tr>\n",
       "    <tr>\n",
       "      <th>4</th>\n",
       "      <td>4201450</td>\n",
       "      <td>Atlas-Dirty Devil Mining</td>\n",
       "      <td>GREEN RIVER, UT, 84525</td>\n",
       "    </tr>\n",
       "  </tbody>\n",
       "</table>\n",
       "</div>"
      ],
      "text/plain": [
       "    new_id                   operator_name  \\\n",
       "0  3503598             Newberg Rock & Dirt   \n",
       "1  0502030      Allied Dirt Moving Company   \n",
       "2  4801789  AM Dirtworks & Aggregate Sales   \n",
       "3  4201449        Atlas-Dirty Devil Mining   \n",
       "4  4201450        Atlas-Dirty Devil Mining   \n",
       "\n",
       "                           mine_address  \n",
       "0  6860 Anderson Rd., Aurora, OR, 97002  \n",
       "1  2360 West 2nd Ave, DENVER, CO, 80010  \n",
       "2      120 Dally Ln, Buffalo, WY, 82834  \n",
       "3                GREEN RIVER, UT, 84525  \n",
       "4                GREEN RIVER, UT, 84525  "
      ]
     },
     "execution_count": 24,
     "metadata": {},
     "output_type": "execute_result"
    }
   ],
   "source": [
    "def mine_addresses(row):\n",
    "    data = {\n",
    "        'MineId': row['new_id'],\n",
    "        'x':'0',\n",
    "        'y':'0'    \n",
    "        }\n",
    "    url_specific_mine = \"https://arlweb.msha.gov/drs/ASP/BasicMineInfonew.asp\"\n",
    "    response_specific_mine = requests.post(url_specific_mine, data = data)\n",
    "    doc_specific_mine = BeautifulSoup(response_specific_mine.text, \"html.parser\")\n",
    "    font_tds = doc_specific_mine.find_all('font', attrs = {'style':'FONT-SIZE:.80em; color:#000080'})\n",
    "    addresses = font_tds[23].text.strip()\n",
    "    addresses = addresses.replace(\"\\r\\n\", \", \")\n",
    "    addresses = addresses.replace(\"\\xa0\\xa0\",\", \")\n",
    "    return addresses\n",
    "\n",
    "mines_csv['mine_address'] = mines_csv.apply(mine_addresses, axis=1)\n",
    "mines_csv.head()"
   ]
  },
  {
   "cell_type": "code",
   "execution_count": 25,
   "metadata": {},
   "outputs": [
    {
     "data": {
      "text/html": [
       "<div>\n",
       "<style>\n",
       "    .dataframe thead tr:only-child th {\n",
       "        text-align: right;\n",
       "    }\n",
       "\n",
       "    .dataframe thead th {\n",
       "        text-align: left;\n",
       "    }\n",
       "\n",
       "    .dataframe tbody tr th {\n",
       "        vertical-align: top;\n",
       "    }\n",
       "</style>\n",
       "<table border=\"1\" class=\"dataframe\">\n",
       "  <thead>\n",
       "    <tr style=\"text-align: right;\">\n",
       "      <th></th>\n",
       "      <th>new_id</th>\n",
       "      <th>operator_name</th>\n",
       "      <th>mine_address</th>\n",
       "      <th>main_controller</th>\n",
       "    </tr>\n",
       "  </thead>\n",
       "  <tbody>\n",
       "    <tr>\n",
       "      <th>0</th>\n",
       "      <td>3503598</td>\n",
       "      <td>Newberg Rock &amp; Dirt</td>\n",
       "      <td>6860 Anderson Rd., Aurora, OR, 97002</td>\n",
       "      <td>S-2 Contractors Inc</td>\n",
       "    </tr>\n",
       "    <tr>\n",
       "      <th>1</th>\n",
       "      <td>0502030</td>\n",
       "      <td>Allied Dirt Moving Company</td>\n",
       "      <td>2360 West 2nd Ave, DENVER, CO, 80010</td>\n",
       "      <td>Allied Dirt Moving Company</td>\n",
       "    </tr>\n",
       "    <tr>\n",
       "      <th>2</th>\n",
       "      <td>4801789</td>\n",
       "      <td>AM Dirtworks &amp; Aggregate Sales</td>\n",
       "      <td>120 Dally Ln, Buffalo, WY, 82834</td>\n",
       "      <td>Matt  Mitchell</td>\n",
       "    </tr>\n",
       "    <tr>\n",
       "      <th>3</th>\n",
       "      <td>4201449</td>\n",
       "      <td>Atlas-Dirty Devil Mining</td>\n",
       "      <td>GREEN RIVER, UT, 84525</td>\n",
       "      <td>Atlas Resources Inc &amp; Dirty Devil Mining Co</td>\n",
       "    </tr>\n",
       "    <tr>\n",
       "      <th>4</th>\n",
       "      <td>4201450</td>\n",
       "      <td>Atlas-Dirty Devil Mining</td>\n",
       "      <td>GREEN RIVER, UT, 84525</td>\n",
       "      <td>Atlas Resources Inc &amp; Dirty Devil Mining Co</td>\n",
       "    </tr>\n",
       "  </tbody>\n",
       "</table>\n",
       "</div>"
      ],
      "text/plain": [
       "    new_id                   operator_name  \\\n",
       "0  3503598             Newberg Rock & Dirt   \n",
       "1  0502030      Allied Dirt Moving Company   \n",
       "2  4801789  AM Dirtworks & Aggregate Sales   \n",
       "3  4201449        Atlas-Dirty Devil Mining   \n",
       "4  4201450        Atlas-Dirty Devil Mining   \n",
       "\n",
       "                           mine_address  \\\n",
       "0  6860 Anderson Rd., Aurora, OR, 97002   \n",
       "1  2360 West 2nd Ave, DENVER, CO, 80010   \n",
       "2      120 Dally Ln, Buffalo, WY, 82834   \n",
       "3                GREEN RIVER, UT, 84525   \n",
       "4                GREEN RIVER, UT, 84525   \n",
       "\n",
       "                               main_controller  \n",
       "0                          S-2 Contractors Inc  \n",
       "1                   Allied Dirt Moving Company  \n",
       "2                               Matt  Mitchell  \n",
       "3  Atlas Resources Inc & Dirty Devil Mining Co  \n",
       "4  Atlas Resources Inc & Dirty Devil Mining Co  "
      ]
     },
     "execution_count": 25,
     "metadata": {},
     "output_type": "execute_result"
    }
   ],
   "source": [
    "def main_controllers(row):\n",
    "    data = {\n",
    "        'MineId': row['new_id'],\n",
    "        'x':'0',\n",
    "        'y':'0'    \n",
    "        }\n",
    "    url_specific_mine = \"https://arlweb.msha.gov/drs/ASP/BasicMineInfonew.asp\"\n",
    "    response_specific_mine = requests.post(url_specific_mine, data = data)\n",
    "    doc_specific_mine = BeautifulSoup(response_specific_mine.text, \"html.parser\")\n",
    "    font_tds = doc_specific_mine.find_all('font', attrs = {'style':'FONT-SIZE:.80em; color:#000080'})\n",
    "    controllers = font_tds[9].b\n",
    "    controllers = controllers.text.strip()\n",
    "    return controllers\n",
    "\n",
    "mines_csv['main_controller'] = mines_csv.apply(main_controllers, axis=1)\n",
    "mines_csv.head()"
   ]
  },
  {
   "cell_type": "code",
   "execution_count": 26,
   "metadata": {},
   "outputs": [
    {
     "data": {
      "text/html": [
       "<div>\n",
       "<style>\n",
       "    .dataframe thead tr:only-child th {\n",
       "        text-align: right;\n",
       "    }\n",
       "\n",
       "    .dataframe thead th {\n",
       "        text-align: left;\n",
       "    }\n",
       "\n",
       "    .dataframe tbody tr th {\n",
       "        vertical-align: top;\n",
       "    }\n",
       "</style>\n",
       "<table border=\"1\" class=\"dataframe\">\n",
       "  <thead>\n",
       "    <tr style=\"text-align: right;\">\n",
       "      <th></th>\n",
       "      <th>new_id</th>\n",
       "      <th>operator_name</th>\n",
       "      <th>mine_address</th>\n",
       "      <th>main_controller</th>\n",
       "    </tr>\n",
       "  </thead>\n",
       "  <tbody>\n",
       "    <tr>\n",
       "      <th>0</th>\n",
       "      <td>3503598</td>\n",
       "      <td>Newberg Rock &amp; Dirt</td>\n",
       "      <td>6860 Anderson Rd., Aurora, OR, 97002</td>\n",
       "      <td>S-2 Contractors Inc</td>\n",
       "    </tr>\n",
       "    <tr>\n",
       "      <th>1</th>\n",
       "      <td>0502030</td>\n",
       "      <td>Allied Dirt Moving Company</td>\n",
       "      <td>2360 West 2nd Ave, DENVER, CO, 80010</td>\n",
       "      <td>Allied Dirt Moving Company</td>\n",
       "    </tr>\n",
       "    <tr>\n",
       "      <th>2</th>\n",
       "      <td>4801789</td>\n",
       "      <td>AM Dirtworks &amp; Aggregate Sales</td>\n",
       "      <td>120 Dally Ln, Buffalo, WY, 82834</td>\n",
       "      <td>Matt  Mitchell</td>\n",
       "    </tr>\n",
       "    <tr>\n",
       "      <th>3</th>\n",
       "      <td>4201449</td>\n",
       "      <td>Atlas-Dirty Devil Mining</td>\n",
       "      <td>GREEN RIVER, UT, 84525</td>\n",
       "      <td>Atlas Resources Inc &amp; Dirty Devil Mining Co</td>\n",
       "    </tr>\n",
       "    <tr>\n",
       "      <th>4</th>\n",
       "      <td>4201450</td>\n",
       "      <td>Atlas-Dirty Devil Mining</td>\n",
       "      <td>GREEN RIVER, UT, 84525</td>\n",
       "      <td>Atlas Resources Inc &amp; Dirty Devil Mining Co</td>\n",
       "    </tr>\n",
       "  </tbody>\n",
       "</table>\n",
       "</div>"
      ],
      "text/plain": [
       "    new_id                   operator_name  \\\n",
       "0  3503598             Newberg Rock & Dirt   \n",
       "1  0502030      Allied Dirt Moving Company   \n",
       "2  4801789  AM Dirtworks & Aggregate Sales   \n",
       "3  4201449        Atlas-Dirty Devil Mining   \n",
       "4  4201450        Atlas-Dirty Devil Mining   \n",
       "\n",
       "                           mine_address  \\\n",
       "0  6860 Anderson Rd., Aurora, OR, 97002   \n",
       "1  2360 West 2nd Ave, DENVER, CO, 80010   \n",
       "2      120 Dally Ln, Buffalo, WY, 82834   \n",
       "3                GREEN RIVER, UT, 84525   \n",
       "4                GREEN RIVER, UT, 84525   \n",
       "\n",
       "                               main_controller  \n",
       "0                          S-2 Contractors Inc  \n",
       "1                   Allied Dirt Moving Company  \n",
       "2                               Matt  Mitchell  \n",
       "3  Atlas Resources Inc & Dirty Devil Mining Co  \n",
       "4  Atlas Resources Inc & Dirty Devil Mining Co  "
      ]
     },
     "execution_count": 26,
     "metadata": {},
     "output_type": "execute_result"
    }
   ],
   "source": [
    "mines_csv.head()"
   ]
  },
  {
   "cell_type": "code",
   "execution_count": 27,
   "metadata": {},
   "outputs": [
    {
     "data": {
      "text/html": [
       "<div>\n",
       "<style>\n",
       "    .dataframe thead tr:only-child th {\n",
       "        text-align: right;\n",
       "    }\n",
       "\n",
       "    .dataframe thead th {\n",
       "        text-align: left;\n",
       "    }\n",
       "\n",
       "    .dataframe tbody tr th {\n",
       "        vertical-align: top;\n",
       "    }\n",
       "</style>\n",
       "<table border=\"1\" class=\"dataframe\">\n",
       "  <thead>\n",
       "    <tr style=\"text-align: right;\">\n",
       "      <th></th>\n",
       "      <th>id</th>\n",
       "      <th>operator_name</th>\n",
       "      <th>mine_address</th>\n",
       "      <th>main_controller</th>\n",
       "    </tr>\n",
       "  </thead>\n",
       "  <tbody>\n",
       "    <tr>\n",
       "      <th>0</th>\n",
       "      <td>3503598</td>\n",
       "      <td>Newberg Rock &amp; Dirt</td>\n",
       "      <td>6860 Anderson Rd., Aurora, OR, 97002</td>\n",
       "      <td>S-2 Contractors Inc</td>\n",
       "    </tr>\n",
       "    <tr>\n",
       "      <th>1</th>\n",
       "      <td>0502030</td>\n",
       "      <td>Allied Dirt Moving Company</td>\n",
       "      <td>2360 West 2nd Ave, DENVER, CO, 80010</td>\n",
       "      <td>Allied Dirt Moving Company</td>\n",
       "    </tr>\n",
       "    <tr>\n",
       "      <th>2</th>\n",
       "      <td>4801789</td>\n",
       "      <td>AM Dirtworks &amp; Aggregate Sales</td>\n",
       "      <td>120 Dally Ln, Buffalo, WY, 82834</td>\n",
       "      <td>Matt  Mitchell</td>\n",
       "    </tr>\n",
       "    <tr>\n",
       "      <th>3</th>\n",
       "      <td>4201449</td>\n",
       "      <td>Atlas-Dirty Devil Mining</td>\n",
       "      <td>GREEN RIVER, UT, 84525</td>\n",
       "      <td>Atlas Resources Inc &amp; Dirty Devil Mining Co</td>\n",
       "    </tr>\n",
       "    <tr>\n",
       "      <th>4</th>\n",
       "      <td>4201450</td>\n",
       "      <td>Atlas-Dirty Devil Mining</td>\n",
       "      <td>GREEN RIVER, UT, 84525</td>\n",
       "      <td>Atlas Resources Inc &amp; Dirty Devil Mining Co</td>\n",
       "    </tr>\n",
       "  </tbody>\n",
       "</table>\n",
       "</div>"
      ],
      "text/plain": [
       "        id                   operator_name  \\\n",
       "0  3503598             Newberg Rock & Dirt   \n",
       "1  0502030      Allied Dirt Moving Company   \n",
       "2  4801789  AM Dirtworks & Aggregate Sales   \n",
       "3  4201449        Atlas-Dirty Devil Mining   \n",
       "4  4201450        Atlas-Dirty Devil Mining   \n",
       "\n",
       "                           mine_address  \\\n",
       "0  6860 Anderson Rd., Aurora, OR, 97002   \n",
       "1  2360 West 2nd Ave, DENVER, CO, 80010   \n",
       "2      120 Dally Ln, Buffalo, WY, 82834   \n",
       "3                GREEN RIVER, UT, 84525   \n",
       "4                GREEN RIVER, UT, 84525   \n",
       "\n",
       "                               main_controller  \n",
       "0                          S-2 Contractors Inc  \n",
       "1                   Allied Dirt Moving Company  \n",
       "2                               Matt  Mitchell  \n",
       "3  Atlas Resources Inc & Dirty Devil Mining Co  \n",
       "4  Atlas Resources Inc & Dirty Devil Mining Co  "
      ]
     },
     "execution_count": 27,
     "metadata": {},
     "output_type": "execute_result"
    }
   ],
   "source": [
    "mines_csv = mines_csv.rename(index=str, columns={'new_id':'id'})\n",
    "mines_csv.head()"
   ]
  },
  {
   "cell_type": "code",
   "execution_count": 28,
   "metadata": {},
   "outputs": [
    {
     "data": {
      "text/plain": [
       "id                 object\n",
       "operator_name      object\n",
       "mine_address       object\n",
       "main_controller    object\n",
       "dtype: object"
      ]
     },
     "execution_count": 28,
     "metadata": {},
     "output_type": "execute_result"
    }
   ],
   "source": [
    "mines_csv.id = mines_csv.id.astype(str)\n",
    "mines_csv.dtypes"
   ]
  },
  {
   "cell_type": "code",
   "execution_count": 29,
   "metadata": {
    "collapsed": true
   },
   "outputs": [],
   "source": [
    "mines_csv.to_csv('mines_extended.csv', index=False)"
   ]
  },
  {
   "cell_type": "code",
   "execution_count": 30,
   "metadata": {},
   "outputs": [
    {
     "data": {
      "text/plain": [
       "(129, 4)"
      ]
     },
     "execution_count": 30,
     "metadata": {},
     "output_type": "execute_result"
    }
   ],
   "source": [
    "pd.read_csv('mines_extended.csv').shape"
   ]
  },
  {
   "cell_type": "code",
   "execution_count": 31,
   "metadata": {},
   "outputs": [
    {
     "data": {
      "text/html": [
       "<div>\n",
       "<style>\n",
       "    .dataframe thead tr:only-child th {\n",
       "        text-align: right;\n",
       "    }\n",
       "\n",
       "    .dataframe thead th {\n",
       "        text-align: left;\n",
       "    }\n",
       "\n",
       "    .dataframe tbody tr th {\n",
       "        vertical-align: top;\n",
       "    }\n",
       "</style>\n",
       "<table border=\"1\" class=\"dataframe\">\n",
       "  <thead>\n",
       "    <tr style=\"text-align: right;\">\n",
       "      <th></th>\n",
       "      <th>id</th>\n",
       "      <th>operator_name</th>\n",
       "      <th>mine_address</th>\n",
       "      <th>main_controller</th>\n",
       "    </tr>\n",
       "  </thead>\n",
       "  <tbody>\n",
       "    <tr>\n",
       "      <th>0</th>\n",
       "      <td>3503598</td>\n",
       "      <td>Newberg Rock &amp; Dirt</td>\n",
       "      <td>6860 Anderson Rd., Aurora, OR, 97002</td>\n",
       "      <td>S-2 Contractors Inc</td>\n",
       "    </tr>\n",
       "    <tr>\n",
       "      <th>1</th>\n",
       "      <td>0502030</td>\n",
       "      <td>Allied Dirt Moving Company</td>\n",
       "      <td>2360 West 2nd Ave, DENVER, CO, 80010</td>\n",
       "      <td>Allied Dirt Moving Company</td>\n",
       "    </tr>\n",
       "    <tr>\n",
       "      <th>2</th>\n",
       "      <td>4801789</td>\n",
       "      <td>AM Dirtworks &amp; Aggregate Sales</td>\n",
       "      <td>120 Dally Ln, Buffalo, WY, 82834</td>\n",
       "      <td>Matt  Mitchell</td>\n",
       "    </tr>\n",
       "    <tr>\n",
       "      <th>3</th>\n",
       "      <td>4201449</td>\n",
       "      <td>Atlas-Dirty Devil Mining</td>\n",
       "      <td>GREEN RIVER, UT, 84525</td>\n",
       "      <td>Atlas Resources Inc &amp; Dirty Devil Mining Co</td>\n",
       "    </tr>\n",
       "    <tr>\n",
       "      <th>4</th>\n",
       "      <td>4201450</td>\n",
       "      <td>Atlas-Dirty Devil Mining</td>\n",
       "      <td>GREEN RIVER, UT, 84525</td>\n",
       "      <td>Atlas Resources Inc &amp; Dirty Devil Mining Co</td>\n",
       "    </tr>\n",
       "  </tbody>\n",
       "</table>\n",
       "</div>"
      ],
      "text/plain": [
       "        id                   operator_name  \\\n",
       "0  3503598             Newberg Rock & Dirt   \n",
       "1  0502030      Allied Dirt Moving Company   \n",
       "2  4801789  AM Dirtworks & Aggregate Sales   \n",
       "3  4201449        Atlas-Dirty Devil Mining   \n",
       "4  4201450        Atlas-Dirty Devil Mining   \n",
       "\n",
       "                           mine_address  \\\n",
       "0  6860 Anderson Rd., Aurora, OR, 97002   \n",
       "1  2360 West 2nd Ave, DENVER, CO, 80010   \n",
       "2      120 Dally Ln, Buffalo, WY, 82834   \n",
       "3                GREEN RIVER, UT, 84525   \n",
       "4                GREEN RIVER, UT, 84525   \n",
       "\n",
       "                               main_controller  \n",
       "0                          S-2 Contractors Inc  \n",
       "1                   Allied Dirt Moving Company  \n",
       "2                               Matt  Mitchell  \n",
       "3  Atlas Resources Inc & Dirty Devil Mining Co  \n",
       "4  Atlas Resources Inc & Dirty Devil Mining Co  "
      ]
     },
     "execution_count": 31,
     "metadata": {},
     "output_type": "execute_result"
    }
   ],
   "source": [
    "pd.read_csv('mines_extended.csv', converters = {'id': str}).head()"
   ]
  }
 ],
 "metadata": {
  "kernelspec": {
   "display_name": "Python 3",
   "language": "python",
   "name": "python3"
  },
  "language_info": {
   "codemirror_mode": {
    "name": "ipython",
    "version": 3
   },
   "file_extension": ".py",
   "mimetype": "text/x-python",
   "name": "python",
   "nbconvert_exporter": "python",
   "pygments_lexer": "ipython3",
   "version": "3.6.1"
  }
 },
 "nbformat": 4,
 "nbformat_minor": 2
}
