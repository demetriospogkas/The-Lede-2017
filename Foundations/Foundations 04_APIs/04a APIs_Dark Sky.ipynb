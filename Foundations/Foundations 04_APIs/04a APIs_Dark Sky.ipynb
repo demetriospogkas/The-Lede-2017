{
 "cells": [
  {
   "cell_type": "markdown",
   "metadata": {},
   "source": [
    "# Dark Sky API (Weather)\n",
    "\n",
    "Answer the following questions using the [Dark Sky API](https://darksky.net/dev/). I've added three cells for each question but you're free to use more or less! Hold `Shift` and hit `Enter` to run a cell, and use the `+` on the top left to add a new cell to a notebook.\n",
    "\n",
    "If you spend some time reading the documentation your life will probably be a little bit easier!\n",
    "\n",
    "## 0) Import any libraries you might need\n",
    "\n",
    "- *Tip: We're going to be downloading things from the internet, so we probably need `requests`.*"
   ]
  },
  {
   "cell_type": "code",
   "execution_count": 1,
   "metadata": {
    "collapsed": true
   },
   "outputs": [],
   "source": [
    "import requests"
   ]
  },
  {
   "cell_type": "markdown",
   "metadata": {
    "collapsed": true
   },
   "source": [
    "## 1) Make a request from the Dark Sky API for where you were born (or lived, or want to visit!).\n",
    "\n",
    "- *Tip: The URL we used in class was for a place near San Francisco. What was the format of the endpoint that made this happen?*\n",
    "- *Tip: Save the URL as a separate variable, and be sure to not have `[` and `]` inside.*\n",
    "- *Tip: How is north vs. south and east vs. west latitude/longitude represented? Is it the normal North/South/East/West?*\n",
    "- *Tip: You know it's JSON, but Python doesn't! Make sure you aren't trying to deal with plain text.* \n",
    "- *Tip: Once you've imported the JSON into a variable, check the timezone's name to make sure it seems like it got the right part of the world!*"
   ]
  },
  {
   "cell_type": "code",
   "execution_count": 2,
   "metadata": {
    "collapsed": true
   },
   "outputs": [],
   "source": [
    "#Request for Omonoia Square, the center of Athens [37.9841465,23.7259006]\n",
    "url = \"https://api.darksky.net/forecast/{YOUR_API_KEY}/37.9841465,23.7259006\""
   ]
  },
  {
   "cell_type": "code",
   "execution_count": 3,
   "metadata": {
    "collapsed": true
   },
   "outputs": [],
   "source": [
    "response = requests.get(url)"
   ]
  },
  {
   "cell_type": "code",
   "execution_count": 4,
   "metadata": {
    "collapsed": true
   },
   "outputs": [],
   "source": [
    "data = response.json()"
   ]
  },
  {
   "cell_type": "code",
   "execution_count": 5,
   "metadata": {
    "collapsed": true
   },
   "outputs": [],
   "source": [
    "#print(data)\n",
    "#print(data.keys())"
   ]
  },
  {
   "cell_type": "markdown",
   "metadata": {},
   "source": [
    "## 2) What's the current wind speed? How much warmer does it feel than it actually is?\n",
    "\n",
    "- *Tip: You can do this by browsing through the dictionaries, but it might be easier to read the documentation*\n",
    "- *Tip: For the second half: it **is** one temperature, and it **feels** a different temperature. Calculate the difference.*"
   ]
  },
  {
   "cell_type": "code",
   "execution_count": 6,
   "metadata": {},
   "outputs": [
    {
     "name": "stdout",
     "output_type": "stream",
     "text": [
      "Today is Friday, 2017-06-02 and the current wind speed is 3.17 m/s\n"
     ]
    }
   ],
   "source": [
    "import datetime\n",
    "\n",
    "url_currently = \"https://api.darksky.net/forecast/{YOUR_API_KEY}/37.9841465,23.7259006?units=si&exclude=minutely,%20hourly,%20daily,%20alerts,%20flags\"\n",
    "response_currently = requests.get(url_currently)\n",
    "data_currently = response_currently.json()\n",
    "\n",
    "wind_currently = data_currently['currently']['windSpeed']\n",
    "\n",
    "day_currently = data_currently['currently']['time']\n",
    "day_currently = datetime.datetime.utcfromtimestamp(day_currently).strftime('%A, %Y-%m-%d')\n",
    "\n",
    "print(\"Today is\", day_currently, \"and the current wind speed is\", wind_currently, \"m/s\")"
   ]
  },
  {
   "cell_type": "code",
   "execution_count": 7,
   "metadata": {},
   "outputs": [
    {
     "name": "stdout",
     "output_type": "stream",
     "text": [
      "Today is Friday, 2017-06-02 and the current temperature appears to be 25.75 oC, but in reality the temperature is 25.75 oC.\n",
      "So, the temperature appears to be  exactly the same than it actually is.\n"
     ]
    }
   ],
   "source": [
    "current_temperatureAppears = data_currently['currently']['apparentTemperature']\n",
    "current_temperatureIs = data_currently['currently']['temperature']\n",
    "\n",
    "if current_temperatureAppears > current_temperatureIs:\n",
    "    temp_dif = 'warmer'\n",
    "    temp_dif_degrees = current_temperatureAppears - current_temperatureIs, \"oC\"\n",
    "elif current_temperatureAppears < current_temperatureIs:\n",
    "    temp_dif = 'colder'\n",
    "    temp_dif_degrees = abs(current_temperatureAppears - current_temperatureIs), \"oC\"\n",
    "else:\n",
    "    temp_dif_degrees = ''\n",
    "    temp_dif = 'exactly the same'\n",
    "    \n",
    "print(\"Today is\", day_currently,\"and the current temperature appears to be\", current_temperatureAppears,\n",
    "     \"oC, but in reality the temperature is\", current_temperatureIs, \"oC.\")\n",
    "print(\"So, the temperature appears to be\", temp_dif_degrees, temp_dif,\n",
    "     \"than it actually is.\")"
   ]
  },
  {
   "cell_type": "markdown",
   "metadata": {},
   "source": [
    "## 3) Today's forecast is the FIRST daily forecast. For the place you decided on above, how much of the moon is currently visible?\n",
    "\n",
    "- *Tip: This does **not** use the `currently` key.*\n",
    "- *Tip: It might be helpful to save the forecast into its own variable*"
   ]
  },
  {
   "cell_type": "code",
   "execution_count": 8,
   "metadata": {
    "collapsed": true
   },
   "outputs": [],
   "source": [
    "url_daily = \"https://api.darksky.net/forecast/{YOUR_API_KEY}/37.9841465,23.7259006?units=si&exclude=minutely,%20hourly,%20currently,%20alerts,%20flags\"\n",
    "response_daily = requests.get(url_daily)\n",
    "data_daily = response_daily.json()\n",
    "\n",
    "data_daily_dict = data_daily['daily']\n",
    "\n",
    "data_daily_dict_actual_data = data_daily['daily']['data']"
   ]
  },
  {
   "cell_type": "code",
   "execution_count": 9,
   "metadata": {},
   "outputs": [
    {
     "name": "stdout",
     "output_type": "stream",
     "text": [
      "Today is Thursday, 2017-06-01 and we can see 28 % of the moon.\n"
     ]
    }
   ],
   "source": [
    "current_moon = data_daily_dict_actual_data[0]['moonPhase']\n",
    "current_moon = current_moon * 100\n",
    "current_moon = int(current_moon)\n",
    "\n",
    "today_daily = data_daily_dict_actual_data[0]['time']\n",
    "today_daily = datetime.datetime.utcfromtimestamp(today_daily).strftime('%A, %Y-%m-%d')\n",
    "\n",
    "print(\"Today is\", today_daily, \"and we can see\", current_moon, \"% of the moon.\")"
   ]
  },
  {
   "cell_type": "markdown",
   "metadata": {},
   "source": [
    "## 4) What's the difference between the high and low temperatures for today?"
   ]
  },
  {
   "cell_type": "code",
   "execution_count": 10,
   "metadata": {
    "collapsed": true
   },
   "outputs": [],
   "source": [
    "today_max_temp = data_daily_dict_actual_data[0]['temperatureMax']\n",
    "today_max_temp = round(today_max_temp, 2)\n",
    "\n",
    "today_min_temp = data_daily_dict_actual_data[0]['temperatureMin']\n",
    "today_min_temp = round(today_min_temp, 2)"
   ]
  },
  {
   "cell_type": "code",
   "execution_count": 11,
   "metadata": {},
   "outputs": [
    {
     "name": "stdout",
     "output_type": "stream",
     "text": [
      "The highest temperatures today ( Thursday, 2017-06-01 ) is 30.76 oC, while the lowest temperature is 21.24 oC. So the difference between today's highest and lowest temperature is 9.52 oC.\n"
     ]
    }
   ],
   "source": [
    "dif_today_temps = today_max_temp - today_min_temp\n",
    "dif_today_temps = round(dif_today_temps, 2)\n",
    "\n",
    "print(\"The highest temperatures today (\", today_daily, \") is\", today_max_temp, \n",
    "      \"oC, while the lowest temperature is\", today_min_temp, \n",
    "      \"oC. So the difference between today\\'s highest and lowest temperature is\", \n",
    "      dif_today_temps, \"oC.\")"
   ]
  },
  {
   "cell_type": "markdown",
   "metadata": {},
   "source": [
    "## 5) Go through the daily forecasts, printing out the next week's worth of predictions.\n",
    "\n",
    "I'd like to know the **high temperature** for each day, and whether it's **hot, warm, or cold** (based on what temperatures you think are hot, warm or cold).\n",
    "\n",
    "- *Tip: Is it returning F or C? You can change them by adding `?units=us` or `?units=si` onto the end of the URL.*\n",
    "- *Tip: You'll need to use an `if` statement to say whether it is hot, warm or cold.*"
   ]
  },
  {
   "cell_type": "code",
   "execution_count": 12,
   "metadata": {},
   "outputs": [
    {
     "name": "stdout",
     "output_type": "stream",
     "text": [
      "On Friday, 2017-06-02 (week day # 1 ) the highest temperature will be 28.7 oC, and it's going to be hot.\n",
      "On Saturday, 2017-06-03 (week day # 2 ) the highest temperature will be 28.02 oC, and it's going to be hot.\n",
      "On Sunday, 2017-06-04 (week day # 3 ) the highest temperature will be 29.98 oC, and it's going to be super hot.\n",
      "On Monday, 2017-06-05 (week day # 4 ) the highest temperature will be 30.21 oC, and it's going to be super hot.\n",
      "On Tuesday, 2017-06-06 (week day # 5 ) the highest temperature will be 31.85 oC, and it's going to be super hot.\n",
      "On Wednesday, 2017-06-07 (week day # 6 ) the highest temperature will be 29.62 oC, and it's going to be super hot.\n",
      "On Thursday, 2017-06-08 (week day # 7 ) the highest temperature will be 29.71 oC, and it's going to be super hot.\n"
     ]
    }
   ],
   "source": [
    "temps_next_week_excl_today = []\n",
    "week_day = 0\n",
    "for temps in data_daily_dict_actual_data[1:]:\n",
    "    week_day = week_day + 1\n",
    "    temps_max = temps['temperatureMax']\n",
    "    day_of_week = temps['time']\n",
    "    day_of_week = datetime.datetime.utcfromtimestamp(day_of_week).strftime('%A, %Y-%m-%d')\n",
    "    if temps_max >= 29:\n",
    "        weather_condition = 'super hot.'\n",
    "    elif temps_max >= 28:\n",
    "        weather_condition = 'hot.'\n",
    "    else: weather_condition = 'almost too hot.'\n",
    "    temps_next_week_excl_today.append(temps_max)\n",
    "    print(\"On\", day_of_week, \"(week day #\", week_day, \") the highest temperature will be\", \n",
    "          temps_max, \"oC, and it's going to be\", weather_condition)"
   ]
  },
  {
   "cell_type": "markdown",
   "metadata": {},
   "source": [
    "# 6) What will be the hottest day in the next week? What is the high temperature on that day?\n",
    "\n",
    "It's okay if your result looks like `1453363200`. If you want to be extra-fancy, though, format it as a **real date** - the weird number is called a **UNIX timestamp**, which might help in googling.\n",
    "\n",
    "- *Tip: It's okay to skip this if it seems too difficult!*"
   ]
  },
  {
   "cell_type": "code",
   "execution_count": 13,
   "metadata": {
    "collapsed": true
   },
   "outputs": [],
   "source": [
    "temps_next_week_excl_today = temps_next_week_excl_today\n",
    "\n",
    "max_temp = None\n",
    "spot_temp = None\n",
    "for i, v in enumerate(temps_next_week_excl_today):\n",
    "    if max_temp is None or v > max_temp:\n",
    "         max_temp = v\n",
    "         spot_temp = i\n",
    "\n",
    "for days in data_daily_dict_actual_data:\n",
    "     if days['temperatureMax'] == max_temp:\n",
    "            hottest_day = days['time']\n",
    "            hottest_day = datetime.datetime.utcfromtimestamp(hottest_day).strftime('%A, %Y-%m-%d')"
   ]
  },
  {
   "cell_type": "code",
   "execution_count": 14,
   "metadata": {},
   "outputs": [
    {
     "name": "stdout",
     "output_type": "stream",
     "text": [
      "The hottest day of the week is going to be Tuesday, 2017-06-06 . The temperature on that day is going to be 31.85 oC.\n"
     ]
    }
   ],
   "source": [
    "print(\"The hottest day of the week is going to be\", hottest_day,\n",
    "      \". The temperature on that day is going to be\", max_temp, \"oC.\")"
   ]
  },
  {
   "cell_type": "markdown",
   "metadata": {},
   "source": [
    "## 7) What's the weather looking like for the next 24+ hours in Miami, Florida?\n",
    "\n",
    "I'd like to know the temperature for every hour, and if it's going to have cloud cover of more than 50% say \"{temperature} and cloudy\" instead of just the temperature. \n",
    "\n",
    "\n",
    "- *Tip: Be sure to remember how latitude and longitude are done with positive and negative numbers*\n",
    "- *Tip: How do you represent \"50%\" for cloud cover?*"
   ]
  },
  {
   "cell_type": "code",
   "execution_count": 15,
   "metadata": {
    "collapsed": true
   },
   "outputs": [],
   "source": [
    "url_hourly = \"https://api.darksky.net/forecast/{YOUR_API_KEY}/25.7822569,-80.3710894?units=us&exclude=minutely, currently, daily, alerts, flags\"\n",
    "response_hourly = requests.get(url_hourly)\n",
    "data_hourly = response_hourly.json()\n",
    "\n",
    "hourly_actual_data = data_hourly['hourly']['data']"
   ]
  },
  {
   "cell_type": "code",
   "execution_count": 16,
   "metadata": {},
   "outputs": [
    {
     "name": "stdout",
     "output_type": "stream",
     "text": [
      "The weather forecast for the next 24 hours:\n",
      "• On Friday, 2017-06-02, 16:00 the temperature will be: 78.45 oF, and it's not going to have more than 50% cloud cover.\n",
      "• On Friday, 2017-06-02, 17:00 the temperature will be: 83.14 oF, and it's going to have more than 50% cloud cover.\n",
      "• On Friday, 2017-06-02, 18:00 the temperature will be: 84.11 oF, and it's going to have more than 50% cloud cover.\n",
      "• On Friday, 2017-06-02, 19:00 the temperature will be: 84.39 oF, and it's going to have more than 50% cloud cover.\n",
      "• On Friday, 2017-06-02, 20:00 the temperature will be: 85.85 oF, and it's going to have more than 50% cloud cover.\n",
      "• On Friday, 2017-06-02, 21:00 the temperature will be: 85.46 oF, and it's going to have more than 50% cloud cover.\n",
      "• On Friday, 2017-06-02, 22:00 the temperature will be: 84.54 oF, and it's going to have more than 50% cloud cover.\n",
      "• On Friday, 2017-06-02, 23:00 the temperature will be: 82.81 oF, and it's going to have more than 50% cloud cover.\n",
      "• On Saturday, 2017-06-03, 00:00 the temperature will be: 81.04 oF, and it's going to have more than 50% cloud cover.\n",
      "• On Saturday, 2017-06-03, 01:00 the temperature will be: 79.97 oF, and it's going to have more than 50% cloud cover.\n",
      "• On Saturday, 2017-06-03, 02:00 the temperature will be: 79.4 oF, and it's going to have more than 50% cloud cover.\n",
      "• On Saturday, 2017-06-03, 03:00 the temperature will be: 78.91 oF, and it's going to have more than 50% cloud cover.\n",
      "• On Saturday, 2017-06-03, 04:00 the temperature will be: 78.26 oF, and it's going to have more than 50% cloud cover.\n",
      "• On Saturday, 2017-06-03, 05:00 the temperature will be: 77.5 oF, and it's going to have more than 50% cloud cover.\n",
      "• On Saturday, 2017-06-03, 06:00 the temperature will be: 76.61 oF, and it's going to have more than 50% cloud cover.\n",
      "• On Saturday, 2017-06-03, 07:00 the temperature will be: 75.81 oF, and it's going to have more than 50% cloud cover.\n",
      "• On Saturday, 2017-06-03, 08:00 the temperature will be: 75.26 oF, and it's going to have more than 50% cloud cover.\n",
      "• On Saturday, 2017-06-03, 09:00 the temperature will be: 76.09 oF, and it's going to have more than 50% cloud cover.\n",
      "• On Saturday, 2017-06-03, 10:00 the temperature will be: 77.24 oF, and it's going to have more than 50% cloud cover.\n",
      "• On Saturday, 2017-06-03, 11:00 the temperature will be: 78.46 oF, and it's going to have more than 50% cloud cover.\n",
      "• On Saturday, 2017-06-03, 12:00 the temperature will be: 79.74 oF, and it's going to have more than 50% cloud cover.\n",
      "• On Saturday, 2017-06-03, 13:00 the temperature will be: 80.91 oF, and it's going to have more than 50% cloud cover.\n",
      "• On Saturday, 2017-06-03, 14:00 the temperature will be: 82.45 oF, and it's going to have more than 50% cloud cover.\n",
      "• On Saturday, 2017-06-03, 15:00 the temperature will be: 83.46 oF, and it's going to have more than 50% cloud cover.\n"
     ]
    }
   ],
   "source": [
    "print(\"The weather forecast for the next 24 hours:\")\n",
    "for every_hour in hourly_actual_data[0:24]:\n",
    "    next_foei_hours = every_hour['time']\n",
    "    next_foei_hours = datetime.datetime.utcfromtimestamp(next_foei_hours).strftime('%A, %Y-%m-%d, %H:%M')\n",
    "    temp_foei_hours = every_hour['temperature']\n",
    "    if every_hour['cloudCover'] >= 0.5:\n",
    "        clouds_foei_hours = \"it's going to\"\n",
    "    else: clouds_foei_hours = \"it's not going to\"\n",
    "    print(\"\\u2022 On\", next_foei_hours, \"the temperature will be:\", temp_foei_hours, \"oF, and\",\n",
    "          clouds_foei_hours, \"have more than 50% cloud cover.\")"
   ]
  },
  {
   "cell_type": "markdown",
   "metadata": {},
   "source": [
    "# 8) For the next 24-ish hours in Miami, what percent of the time is the temperature above 85 degrees?\n",
    "\n",
    "If they give you 48 hours instead of 24, that's okay.\n",
    "\n",
    "- *Tip: You might want to read up on [looping patterns](http://jonathansoma.com/lede/foundations-2017/classes/data%20structures/looping-patterns/)*"
   ]
  },
  {
   "cell_type": "code",
   "execution_count": 17,
   "metadata": {
    "collapsed": true
   },
   "outputs": [],
   "source": [
    "url_hourly_fahr = \"https://api.darksky.net/forecast/{YOUR_API_KEY}/25.7822569,-80.3710894?units=us&exclude=minutely, currently, daily, alerts, flags\"\n",
    "response_hourly_fahr = requests.get(url_hourly_fahr)\n",
    "data_hourly_fahr = response_hourly_fahr.json()\n",
    "\n",
    "over_eifi_degrees = 0\n",
    "under_eifi_degrees = 0\n",
    "for every_hour in hourly_actual_data[0:24]:\n",
    "    temp_foei_hours = every_hour['temperature']\n",
    "    if temp_foei_hours >= 85:\n",
    "        over_eifi_degrees = over_eifi_degrees + 1\n",
    "    else: under_eifi_degrees = under_eifi_degrees + 1"
   ]
  },
  {
   "cell_type": "code",
   "execution_count": 18,
   "metadata": {
    "collapsed": true
   },
   "outputs": [],
   "source": [
    "pc_above = over_eifi_degrees / (over_eifi_degrees + under_eifi_degrees)\n",
    "pc_above = round(pc_above * 100, 2)\n",
    "\n",
    "pc_below = under_eifi_degrees / (over_eifi_degrees + under_eifi_degrees)\n",
    "pc_below = round(pc_below * 100, 2)"
   ]
  },
  {
   "cell_type": "code",
   "execution_count": 19,
   "metadata": {},
   "outputs": [
    {
     "name": "stdout",
     "output_type": "stream",
     "text": [
      "For the next 24 hours, 8.33 % of the times the temperature is going to be more than 85oF , while 91.67 % of the time is going to be below.\n"
     ]
    }
   ],
   "source": [
    "print(\"For the next 24 hours,\", pc_above, \"% of the times the temperature is going to be more than 85oF\",\n",
    "     \", while\", pc_below, \"% of the time is going to be below.\")"
   ]
  },
  {
   "cell_type": "markdown",
   "metadata": {},
   "source": [
    "## 9) What was the temperature in Central Park on Christmas Day, 2012? How about 2007? 2005? How far back does the API allow you to go?\n",
    "\n",
    "- *Tip: You'll need to use UNIX time, which is the number of seconds since January 1, 1970. Google can help you convert a normal date!*\n",
    "- *Tip: You'll want to use Forecast.io's \"time machine\" API, [documentation here](https://darksky.net/dev/docs/time-machine)*"
   ]
  },
  {
   "cell_type": "code",
   "execution_count": 20,
   "metadata": {
    "collapsed": true
   },
   "outputs": [],
   "source": [
    "url_chr12_fahr = \"https://api.darksky.net/forecast/{YOUR_API_KEY}/40.7828647,-73.9675491,1356480000?units=us&exclude=minutely,%20currently,%20hourly,%20alerts,%20flags\"\n",
    "response_chr12_fahr = requests.get(url_chr12_fahr)\n",
    "data_chr12_fahr = response_chr12_fahr.json()\n",
    "deeper_data_chr12_fahr = data_chr12_fahr['daily']\n",
    "christmas12_fahr = deeper_data_chr12_fahr['data']"
   ]
  },
  {
   "cell_type": "code",
   "execution_count": 21,
   "metadata": {},
   "outputs": [
    {
     "name": "stdout",
     "output_type": "stream",
     "text": [
      "The temperature on Christmas Day, 2012 was 40.72 oF.\n"
     ]
    }
   ],
   "source": [
    "christmas12_temp = christmas12_fahr[0]['temperatureMax']\n",
    "print(\"The temperature on Christmas Day, 2012 was\", christmas12_temp, \"oF.\")"
   ]
  },
  {
   "cell_type": "code",
   "execution_count": 23,
   "metadata": {},
   "outputs": [
    {
     "name": "stdout",
     "output_type": "stream",
     "text": [
      "On Christmas Day, 2007, the temperature was: 43.12 oF.\n",
      "On Christmas Day, 2005, the temperature was: 52.31 oF.\n"
     ]
    }
   ],
   "source": [
    "starting_year = 2012\n",
    "for i in range(0,10):\n",
    "    starting_year = starting_year - 1\n",
    "    if starting_year == 2007:\n",
    "        url_2007 = \"https://api.darksky.net/forecast/{YOUR_API_KEY}/40.7828647,-73.9675491,\" + str(starting_year) + \"-12-25T05:00:00?units=us&exclude=minutely,%20currently,%20hourly,%20alerts,%20flags\"\n",
    "        response_2007 = requests.get(url_2007)\n",
    "        data_2007 = response_2007.json()\n",
    "        deeper_data_2007 = data_2007['daily']\n",
    "        christmas_2007 = deeper_data_2007['data']\n",
    "        christmas_2007_date = christmas_2007[0]['time']\n",
    "        christmas_2007_temp = christmas_2007[0]['temperatureMax']\n",
    "        print(\"On Christmas Day, 2007, the temperature was:\", christmas_2007_temp, \"oF.\")\n",
    "    if starting_year == 2005:\n",
    "        url_2005 = \"https://api.darksky.net/forecast/{YOUR_API_KEY}/40.7828647,-73.9675491,\" + str(starting_year) + \"-12-25T05:00:00?units=us&exclude=minutely,%20currently,%20hourly,%20alerts,%20flags\"\n",
    "        response_2005 = requests.get(url_2005)\n",
    "        data_2005 = response_2005.json()\n",
    "        deeper_data_2005 = data_2005['daily']\n",
    "        christmas_2005 = deeper_data_2005['data']\n",
    "        christmas_2005_date = christmas_2005[0]['time']\n",
    "        christmas_2005_temp = christmas_2005[0]['temperatureMax']\n",
    "        print(\"On Christmas Day, 2005, the temperature was:\", christmas_2005_temp, \"oF.\")"
   ]
  },
  {
   "cell_type": "code",
   "execution_count": 24,
   "metadata": {
    "scrolled": true
   },
   "outputs": [
    {
     "name": "stdout",
     "output_type": "stream",
     "text": [
      "The API allows us to go as back as 1937\n"
     ]
    }
   ],
   "source": [
    "historical_results = []\n",
    "i = 0\n",
    "while i in range(0,100):\n",
    "    starting_year = starting_year - 1\n",
    "    url_oldest = \"https://api.darksky.net/forecast/{YOUR_API_KEY}/40.7828647,-73.9675491,\" + str(starting_year) + \"-12-25T05:00:00?units=us&exclude=minutely,%20currently,%20hourly,%20alerts,%20flags\"\n",
    "    response_oldest = requests.get(url_oldest)\n",
    "    data_oldest = response_oldest.json()\n",
    "    ## Kudos to Jonathan Soma for this!\n",
    "    if not 'daily' in data_oldest:\n",
    "        break    \n",
    "    deeper_data_oldest = data_oldest['daily']\n",
    "    christmas_oldest = deeper_data_oldest['data']\n",
    "    christmas_oldest_date = christmas_oldest[0]['time']\n",
    "    christmas_oldest_date = datetime.datetime.utcfromtimestamp(christmas_oldest_date).strftime('%Y')\n",
    "    historical_results.append(christmas_oldest_date)\n",
    "oldest_year = historical_results[-1]\n",
    "print(\"The API allows us to go as back as\", oldest_year)"
   ]
  }
 ],
 "metadata": {
  "kernelspec": {
   "display_name": "Python 3",
   "language": "python",
   "name": "python3"
  },
  "language_info": {
   "codemirror_mode": {
    "name": "ipython",
    "version": 3
   },
   "file_extension": ".py",
   "mimetype": "text/x-python",
   "name": "python",
   "nbconvert_exporter": "python",
   "pygments_lexer": "ipython3",
   "version": "3.6.1"
  }
 },
 "nbformat": 4,
 "nbformat_minor": 1
}
