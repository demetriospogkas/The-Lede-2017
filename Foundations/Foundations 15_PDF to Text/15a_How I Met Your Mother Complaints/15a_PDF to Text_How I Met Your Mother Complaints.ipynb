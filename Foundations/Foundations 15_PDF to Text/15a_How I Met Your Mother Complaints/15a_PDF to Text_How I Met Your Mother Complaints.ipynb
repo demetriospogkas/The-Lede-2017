{
 "cells": [
  {
   "cell_type": "markdown",
   "metadata": {},
   "source": [
    "# PDF to Text - 01 FCC Complaints about How I Met Your Mother series"
   ]
  },
  {
   "cell_type": "markdown",
   "metadata": {},
   "source": [
    "### YOUR ASSIGNMENT\n",
    "1.\tFind three PDF-based datasets,\n",
    "2.\tConvert them to a machine-readable format (txt, csv, etc), and\n",
    "3.\tDo a little something with them.\n",
    "\n",
    "What is \"a little something\"?   \n",
    "•\tIf you create a text file, clean it up if necessary and extract some information from it. For example, for the custodial_reports  you could have extracted the Report Date and the Agency Number. You can do this work in either Python or a text editor (depending on which is best).  \n",
    "•\tIf make a CSV file, clean it up however necessary and ask it a few questions. For example, with the marijuana dataset we could have graphed the change in marijuana arrests over time.  \n",
    "•\tIf you extracted right from Python, you should save it in some nice format (a txt file or a csv file)  \n",
    "The focus of this assignment is generating machine-readable data, so your analysis doesn't have to be very interesting at all.  \n",
    "\n",
    "SUBMITTING\n",
    "Create a folder for each dataset on your GitHub repository. This folder should include\n",
    "1.\tThe original data\n",
    "2.\tThe cleaned data\n",
    "3.\tAny files you used in the process (uzn files, notebooks, etc)\n",
    "4.\tA summary of what you did (see below)\n",
    "\n",
    "The summary should be a .txt or .md file explaining:  \n",
    "•\tThe MuckRock page you got it from  \n",
    "•\tA one-sentence summary of what the data is  \n",
    "•\tA short description of how you processed/cleaned it  "
   ]
  },
  {
   "cell_type": "code",
   "execution_count": 1,
   "metadata": {
    "collapsed": true
   },
   "outputs": [],
   "source": [
    "import pdfquery\n",
    "import re\n",
    "import pandas as pd\n",
    "import geopandas as gpd\n",
    "from shapely.geometry import Point\n",
    "from shapely.geometry import Polygon\n",
    "from geopy.geocoders import Nominatim\n",
    "%matplotlib inline"
   ]
  },
  {
   "cell_type": "markdown",
   "metadata": {},
   "source": [
    "### Load the PDF with PDFQuery"
   ]
  },
  {
   "cell_type": "code",
   "execution_count": 2,
   "metadata": {
    "collapsed": true
   },
   "outputs": [],
   "source": [
    "HIMYM_FCC = pdfquery.PDFQuery('Complaints_for_2015-586.pdf')\n",
    "HIMYM_FCC.load()"
   ]
  },
  {
   "cell_type": "markdown",
   "metadata": {},
   "source": [
    "#### How many pages it has"
   ]
  },
  {
   "cell_type": "code",
   "execution_count": 3,
   "metadata": {},
   "outputs": [
    {
     "data": {
      "text/plain": [
       "17"
      ]
     },
     "execution_count": 3,
     "metadata": {},
     "output_type": "execute_result"
    }
   ],
   "source": [
    "# Source: https://stackoverflow.com/questions/33375073/how-to-get-total-number-of-pages-in-pdfquery\n",
    "pages_count = HIMYM_FCC.doc.catalog['Pages'].resolve()['Count']\n",
    "pages_count"
   ]
  },
  {
   "cell_type": "markdown",
   "metadata": {},
   "source": [
    "#### Trying to extract Location and other details from the PDF with PDFQuery\n",
    "(Doesn't work as nicely)"
   ]
  },
  {
   "cell_type": "code",
   "execution_count": 4,
   "metadata": {
    "scrolled": true
   },
   "outputs": [
    {
     "data": {
      "text/plain": [
       "['City / State / Zip',\n",
       " 'KENNER LA 70065 City / State / Zip',\n",
       " 'HUNTSVILLE TX 77340 City / State / Zip',\n",
       " 'TRAPHILL NC 28685 City / State / Zip',\n",
       " 'MASON OH 45040 City / State / Zip',\n",
       " 'City / State / Zip',\n",
       " 'CHARLOTTESVILLE VA 22901 City / State / Zip',\n",
       " 'YORKTOWN VA 23692 City / State / Zip',\n",
       " 'CHESAPEAKE BEACH MD 20732 City / State / Zip',\n",
       " 'City / State / Zip',\n",
       " 'NORRISTOWN PA 19403 City / State / Zip',\n",
       " 'EXCELSIOR MN 55331 City / State / Zip',\n",
       " 'City / State / Zip',\n",
       " 'MELBOURNE FL 32934 City / State / Zip',\n",
       " 'City / State / Zip',\n",
       " 'HENDERSONVILLE TN 37075 City / State / Zip',\n",
       " 'HENDERSONVILLE TN 37075']"
      ]
     },
     "execution_count": 4,
     "metadata": {},
     "output_type": "execute_result"
    }
   ],
   "source": [
    "location = HIMYM_FCC.pq('LTTextLineHorizontal:contains(\"City / State / Zip : \")')\n",
    "location = location.text().split(' : ')\n",
    "location"
   ]
  },
  {
   "cell_type": "code",
   "execution_count": 5,
   "metadata": {},
   "outputs": [
    {
     "data": {
      "text/plain": [
       "[<LTTextLineHorizontal>, <LTTextLineHorizontal>, <LTTextLineHorizontal>, <LTTextLineHorizontal>, <LTTextLineHorizontal>, <LTTextLineHorizontal>, <LTTextLineHorizontal>, <LTTextLineHorizontal>, <LTTextLineHorizontal>, <LTTextLineHorizontal>, <LTTextLineHorizontal>, <LTTextLineHorizontal>, <LTTextLineHorizontal>, <LTTextLineHorizontal>, <LTTextLineHorizontal>, <LTTextLineHorizontal>]"
      ]
     },
     "execution_count": 5,
     "metadata": {},
     "output_type": "execute_result"
    }
   ],
   "source": [
    "HIMYM_FCC.pq('LTTextLineHorizontal:contains(\"Problem Submitted Time : \")')#[0].layout"
   ]
  },
  {
   "cell_type": "code",
   "execution_count": 6,
   "metadata": {},
   "outputs": [
    {
     "data": {
      "text/plain": [
       "'Problem Submitted Time : Problem Submitted Time : Problem Submitted Time : Problem Submitted Time : Problem Submitted Time : Problem Submitted Time : Problem Submitted Time : Problem Submitted Time : Problem Submitted Time : Problem Submitted Time : Problem Submitted Time : Problem Submitted Time : Problem Submitted Time : Problem Submitted Time : Problem Submitted Time : Problem Submitted Time :'"
      ]
     },
     "execution_count": 6,
     "metadata": {},
     "output_type": "execute_result"
    }
   ],
   "source": [
    "time = HIMYM_FCC.pq('LTTextLineHorizontal:contains(\"Problem Submitted Time : \")')\n",
    "time.text()# = time.text().split(' : ')"
   ]
  },
  {
   "cell_type": "markdown",
   "metadata": {},
   "source": [
    "#### PDFQuery doesn't really work for this PDF, so let's use Soma's Kull (https://jsoma.github.io/kull/#/)"
   ]
  },
  {
   "cell_type": "code",
   "execution_count": 7,
   "metadata": {},
   "outputs": [
    {
     "data": {
      "text/plain": [
       "{'time': 'Problem Submitted Time : 3/17/2014 1:56:57AM'}"
      ]
     },
     "execution_count": 7,
     "metadata": {},
     "output_type": "execute_result"
    }
   ],
   "source": [
    "HIMYM_FCC.extract([\n",
    "\t('with_formatter', 'text'),\n",
    "\t('time', 'LTPage[pageid=\\'1\\'] LTTextLineHorizontal:overlaps_bbox(\"401,636,449,647\")')\n",
    "])"
   ]
  },
  {
   "cell_type": "code",
   "execution_count": 8,
   "metadata": {},
   "outputs": [
    {
     "data": {
      "text/plain": [
       "{'Unnamed0': 'Problem Submitted Time : 3/17/2014 1:56:57AM',\n",
       " 'Unnamed1': 'Problem Submitted Time : 1/27/2014 8:23:58PM',\n",
       " 'Unnamed2': 'Problem Submitted Time : 4/2/2013 9:37:20PM',\n",
       " 'Unnamed3': 'Problem Submitted Time : 3/17/2013 5:23:14PM'}"
      ]
     },
     "execution_count": 8,
     "metadata": {},
     "output_type": "execute_result"
    }
   ],
   "source": [
    "HIMYM_FCC = pdfquery.PDFQuery('Complaints_for_2015-586.pdf')\n",
    "\n",
    "HIMYM_FCC.extract([\n",
    "\t('with_formatter', 'text'),\n",
    "\t('Unnamed0', 'LTPage[pageid=\\'1\\'] LTTextLineHorizontal:overlaps_bbox(\"367,637,544,662\")'),\n",
    "\t('Unnamed1', 'LTPage[pageid=\\'2\\'] LTTextLineHorizontal:overlaps_bbox(\"367,637,543,660\")'),\n",
    "\t('Unnamed2', 'LTPage[pageid=\\'3\\'] LTTextLineHorizontal:overlaps_bbox(\"366,635,545,662\")'),\n",
    "\t('Unnamed3', 'LTPage[pageid=\\'4\\'] LTTextLineHorizontal:overlaps_bbox(\"366,637,544,661\")')\n",
    "])"
   ]
  },
  {
   "cell_type": "code",
   "execution_count": 9,
   "metadata": {
    "scrolled": true
   },
   "outputs": [
    {
     "name": "stdout",
     "output_type": "stream",
     "text": [
      "1 {'Location': 'Consumer Personal Information Omitted City / State / Zip : KENNER LA 70065'}\n",
      "1 {'Time': 'Problem Submitted Time : 3/17/2014 1:56:57AM'}\n",
      "1 {'Cause': 'Web Level Three : Profane'}\n",
      "----\n",
      "2 {'Location': 'Consumer Personal Information Omitted City / State / Zip : HUNTSVILLE TX 77340'}\n",
      "2 {'Time': 'Problem Submitted Time : 1/27/2014 8:23:58PM'}\n",
      "2 {'Cause': 'Web Level Three : Indecent'}\n",
      "----\n",
      "3 {'Location': 'Consumer Personal Information Omitted City / State / Zip : TRAPHILL NC 28685'}\n",
      "3 {'Time': 'Problem Submitted Time : 4/2/2013 9:37:20PM'}\n",
      "3 {'Cause': 'Web Level Three : Content Criticism'}\n",
      "----\n",
      "4 {'Location': 'Consumer Personal Information Omitted City / State / Zip : MASON OH 45040'}\n",
      "4 {'Time': 'Problem Submitted Time : 3/17/2013 5:23:14PM'}\n",
      "4 {'Cause': 'Web Level Three : Children'}\n",
      "----\n",
      "5 {'Location': 'Consumer Personal Information Omitted SOUTH WEYMOUTH MA 02190'}\n",
      "5 {'Time': 'Problem Submitted Time : 3/4/2013 8:27:19PM'}\n",
      "5 {'Cause': 'Web Level Three : Content Criticism'}\n",
      "----\n",
      "6 {'Location': 'Consumer Personal Information Omitted City / State / Zip : CHARLOTTESVILLE VA 22901'}\n",
      "6 {'Time': 'Problem Submitted Time : 2/25/2013 8:28:03PM'}\n",
      "6 {'Cause': 'Web Level Three : Content Criticism'}\n",
      "----\n",
      "7 {'Location': 'Consumer Personal Information Omitted City / State / Zip : YORKTOWN VA 23692'}\n",
      "7 {'Time': 'Problem Submitted Time : 1/10/2013 10:45:33PM'}\n",
      "7 {'Cause': 'Web Level Three : Indecent'}\n",
      "----\n",
      "8 {'Location': 'Consumer Personal Information Omitted City / State / Zip : CHESAPEAKE BEACH MD 20732'}\n",
      "8 {'Time': 'Problem Submitted Time : 11/1/2012 10:48:11PM'}\n",
      "8 {'Cause': 'Web Level Three : Content Criticism'}\n",
      "----\n",
      "9 {'Location': 'Consumer Personal Information Omitted POWELL OH 43065'}\n",
      "9 {'Time': 'Problem Submitted Time : 9/10/2012 10:55:27PM'}\n",
      "9 {'Cause': 'Web Level Three : Content Criticism'}\n",
      "----\n",
      "10 {'Location': ''}\n",
      "10 {'Time': ''}\n",
      "10 {'Cause': ''}\n",
      "----\n",
      "11 {'Location': 'Consumer Personal Information Omitted City / State / Zip : NORRISTOWN PA 19403'}\n",
      "11 {'Time': 'Problem Submitted Time : 8/24/2012 10:01:00AM'}\n",
      "11 {'Cause': 'Web Level Three : Content Criticism'}\n",
      "----\n",
      "12 {'Location': 'Consumer Personal Information Omitted City / State / Zip : EXCELSIOR MN 55331'}\n",
      "12 {'Time': 'Problem Submitted Time : 8/13/2012 10:05:53AM'}\n",
      "12 {'Cause': 'Web Level Three : Content Criticism'}\n",
      "----\n",
      "13 {'Location': 'Consumer Personal Information Omitted POWELL OH 43065'}\n",
      "13 {'Time': 'Problem Submitted Time : 8/9/2012 9:05:01PM'}\n",
      "13 {'Cause': 'Web Level Three : Indecent'}\n",
      "----\n",
      "14 {'Location': 'Consumer Personal Information Omitted City / State / Zip : MELBOURNE FL 32934'}\n",
      "14 {'Time': 'Problem Submitted Time : 4/24/2012 8:04:37PM'}\n",
      "14 {'Cause': 'Web Level Three : Content Criticism'}\n",
      "----\n",
      "15 {'Location': 'Consumer Personal Information Omitted PHILADELPHIA PA 19141'}\n",
      "15 {'Time': 'Problem Submitted Time : 3/20/2012 11:26:53PM'}\n",
      "15 {'Cause': 'Web Level Three : Indecent'}\n",
      "----\n",
      "16 {'Location': 'Consumer Personal Information Omitted City / State / Zip : HENDERSONVILLE TN 37075'}\n",
      "16 {'Time': 'Problem Submitted Time : 2/13/2012 8:48:49PM'}\n",
      "16 {'Cause': 'Web Level Three : Content Criticism'}\n",
      "----\n"
     ]
    }
   ],
   "source": [
    "for i in range(1, pages_count):\n",
    "    \n",
    "    location = HIMYM_FCC.extract([\n",
    "        ('with_formatter', 'text'),\n",
    "        ('Location', \"LTPage[pageid=\\'\" + str(i) + \"\\'] LTTextLineHorizontal:overlaps_bbox('26,588,209,601')\")\n",
    "    ])\n",
    "\n",
    "    time = HIMYM_FCC.extract([\n",
    "    ('with_formatter', 'text'),\n",
    "    ('Time', \"LTPage[pageid=\\'\" + str(i) + \"\\'] LTTextLineHorizontal:overlaps_bbox('366,635,543,660')\")\n",
    "    ])\n",
    "    \n",
    "    reason = HIMYM_FCC.extract([\n",
    "    ('with_formatter', 'text'),\n",
    "    ('Cause', \"LTPage[pageid=\\'\" + str(i) + \"\\'] LTTextLineHorizontal:overlaps_bbox('377,668,529,698')\")\n",
    "    ])\n",
    "    \n",
    "    \n",
    "    print(i, location)\n",
    "    print(i, time)\n",
    "    print(i, reason)\n",
    "    print('----')"
   ]
  },
  {
   "cell_type": "markdown",
   "metadata": {},
   "source": [
    "#### Put location and reason for complaint in a list\n",
    "#### Turn it to DataFrame, build geometry and plot the origins of complaints on a US states map"
   ]
  },
  {
   "cell_type": "code",
   "execution_count": 10,
   "metadata": {
    "scrolled": true
   },
   "outputs": [
    {
     "data": {
      "text/plain": [
       "[{'complaint_no': 16,\n",
       "  'date': '3/17/2014',\n",
       "  'location': 'KENNER LA 70065',\n",
       "  'reason': 'Profane'},\n",
       " {'complaint_no': 15,\n",
       "  'date': '1/27/2014',\n",
       "  'location': 'HUNTSVILLE TX 77340',\n",
       "  'reason': 'Indecent'},\n",
       " {'complaint_no': 14,\n",
       "  'date': '4/2/2013',\n",
       "  'location': 'TRAPHILL NC 28685',\n",
       "  'reason': 'Content Criticism'},\n",
       " {'complaint_no': 13,\n",
       "  'date': '3/17/2013',\n",
       "  'location': 'MASON OH 45040',\n",
       "  'reason': 'Children'},\n",
       " {'complaint_no': 12,\n",
       "  'date': '3/4/2013',\n",
       "  'location': 'SOUTH WEYMOUTH MA 02190',\n",
       "  'reason': 'Content Criticism'},\n",
       " {'complaint_no': 11,\n",
       "  'date': '2/25/2013',\n",
       "  'location': 'CHARLOTTESVILLE VA 22901',\n",
       "  'reason': 'Content Criticism'},\n",
       " {'complaint_no': 10,\n",
       "  'date': '1/10/2013',\n",
       "  'location': 'YORKTOWN VA 23692',\n",
       "  'reason': 'Indecent'},\n",
       " {'complaint_no': 9,\n",
       "  'date': '11/1/2012',\n",
       "  'location': 'CHESAPEAKE BEACH MD 20732',\n",
       "  'reason': 'Content Criticism'},\n",
       " {'complaint_no': 8,\n",
       "  'date': '9/10/2012',\n",
       "  'location': 'POWELL OH 43065',\n",
       "  'reason': 'Content Criticism'},\n",
       " {'complaint_no': 7, 'location': ''},\n",
       " {'complaint_no': 6,\n",
       "  'date': '8/24/2012',\n",
       "  'location': 'NORRISTOWN PA 19403',\n",
       "  'reason': 'Content Criticism'},\n",
       " {'complaint_no': 5,\n",
       "  'date': '8/13/2012',\n",
       "  'location': 'EXCELSIOR MN 55331',\n",
       "  'reason': 'Content Criticism'},\n",
       " {'complaint_no': 4,\n",
       "  'date': '8/9/2012',\n",
       "  'location': 'POWELL OH 43065',\n",
       "  'reason': 'Indecent'},\n",
       " {'complaint_no': 3,\n",
       "  'date': '4/24/2012',\n",
       "  'location': 'MELBOURNE FL 32934',\n",
       "  'reason': 'Content Criticism'},\n",
       " {'complaint_no': 2,\n",
       "  'date': '3/20/2012',\n",
       "  'location': 'PHILADELPHIA PA 19141',\n",
       "  'reason': 'Indecent'},\n",
       " {'complaint_no': 1,\n",
       "  'date': '2/13/2012',\n",
       "  'location': 'HENDERSONVILLE TN 37075',\n",
       "  'reason': 'Content Criticism'}]"
      ]
     },
     "execution_count": 10,
     "metadata": {},
     "output_type": "execute_result"
    }
   ],
   "source": [
    "himym_fcc = []\n",
    "for i in range(1,pages_count):\n",
    "    dictionary = {}\n",
    "    location = HIMYM_FCC.extract([\n",
    "        ('with_formatter', 'text'),\n",
    "        ('Location', \"LTPage[pageid=\\'\" + str(i) + \"\\'] LTTextLineHorizontal:overlaps_bbox('26,588,209,601')\")\n",
    "    ])\n",
    "\n",
    "    time = HIMYM_FCC.extract([\n",
    "    ('with_formatter', 'text'),\n",
    "    ('Time', \"LTPage[pageid=\\'\" + str(i) + \"\\'] LTTextLineHorizontal:overlaps_bbox('366,635,543,660')\")\n",
    "    ])\n",
    "    \n",
    "    reason = HIMYM_FCC.extract([\n",
    "    ('with_formatter', 'text'),\n",
    "    ('Cause', \"LTPage[pageid=\\'\" + str(i) + \"\\'] LTTextLineHorizontal:overlaps_bbox('377,668,529,698')\")\n",
    "    ])\n",
    "    \n",
    "    dictionary['complaint_no'] = pages_count - i\n",
    "    search_loc = re.split(r' : |d ', location['Location'])[-1]\n",
    "    dictionary['location'] = search_loc\n",
    "    try:\n",
    "        dictionary['date'] = time['Time'].split(' : ')[1].split(' ')[0]\n",
    "        dictionary['reason'] = reason['Cause'].split(' : ')[1]\n",
    "    except:\n",
    "        pass\n",
    "    \n",
    "    himym_fcc.append(dictionary)\n",
    "\n",
    "himym_fcc"
   ]
  },
  {
   "cell_type": "code",
   "execution_count": 11,
   "metadata": {
    "scrolled": true
   },
   "outputs": [
    {
     "data": {
      "text/html": [
       "<div>\n",
       "<style>\n",
       "    .dataframe thead tr:only-child th {\n",
       "        text-align: right;\n",
       "    }\n",
       "\n",
       "    .dataframe thead th {\n",
       "        text-align: left;\n",
       "    }\n",
       "\n",
       "    .dataframe tbody tr th {\n",
       "        vertical-align: top;\n",
       "    }\n",
       "</style>\n",
       "<table border=\"1\" class=\"dataframe\">\n",
       "  <thead>\n",
       "    <tr style=\"text-align: right;\">\n",
       "      <th></th>\n",
       "      <th>complaint_no</th>\n",
       "      <th>date</th>\n",
       "      <th>location</th>\n",
       "      <th>reason</th>\n",
       "    </tr>\n",
       "  </thead>\n",
       "  <tbody>\n",
       "    <tr>\n",
       "      <th>0</th>\n",
       "      <td>16</td>\n",
       "      <td>3/17/2014</td>\n",
       "      <td>KENNER LA 70065</td>\n",
       "      <td>Profane</td>\n",
       "    </tr>\n",
       "    <tr>\n",
       "      <th>1</th>\n",
       "      <td>15</td>\n",
       "      <td>1/27/2014</td>\n",
       "      <td>HUNTSVILLE TX 77340</td>\n",
       "      <td>Indecent</td>\n",
       "    </tr>\n",
       "    <tr>\n",
       "      <th>2</th>\n",
       "      <td>14</td>\n",
       "      <td>4/2/2013</td>\n",
       "      <td>TRAPHILL NC 28685</td>\n",
       "      <td>Content Criticism</td>\n",
       "    </tr>\n",
       "    <tr>\n",
       "      <th>3</th>\n",
       "      <td>13</td>\n",
       "      <td>3/17/2013</td>\n",
       "      <td>MASON OH 45040</td>\n",
       "      <td>Children</td>\n",
       "    </tr>\n",
       "    <tr>\n",
       "      <th>4</th>\n",
       "      <td>12</td>\n",
       "      <td>3/4/2013</td>\n",
       "      <td>SOUTH WEYMOUTH MA 02190</td>\n",
       "      <td>Content Criticism</td>\n",
       "    </tr>\n",
       "    <tr>\n",
       "      <th>5</th>\n",
       "      <td>11</td>\n",
       "      <td>2/25/2013</td>\n",
       "      <td>CHARLOTTESVILLE VA 22901</td>\n",
       "      <td>Content Criticism</td>\n",
       "    </tr>\n",
       "    <tr>\n",
       "      <th>6</th>\n",
       "      <td>10</td>\n",
       "      <td>1/10/2013</td>\n",
       "      <td>YORKTOWN VA 23692</td>\n",
       "      <td>Indecent</td>\n",
       "    </tr>\n",
       "    <tr>\n",
       "      <th>7</th>\n",
       "      <td>9</td>\n",
       "      <td>11/1/2012</td>\n",
       "      <td>CHESAPEAKE BEACH MD 20732</td>\n",
       "      <td>Content Criticism</td>\n",
       "    </tr>\n",
       "    <tr>\n",
       "      <th>8</th>\n",
       "      <td>8</td>\n",
       "      <td>9/10/2012</td>\n",
       "      <td>POWELL OH 43065</td>\n",
       "      <td>Content Criticism</td>\n",
       "    </tr>\n",
       "    <tr>\n",
       "      <th>10</th>\n",
       "      <td>6</td>\n",
       "      <td>8/24/2012</td>\n",
       "      <td>NORRISTOWN PA 19403</td>\n",
       "      <td>Content Criticism</td>\n",
       "    </tr>\n",
       "    <tr>\n",
       "      <th>11</th>\n",
       "      <td>5</td>\n",
       "      <td>8/13/2012</td>\n",
       "      <td>EXCELSIOR MN 55331</td>\n",
       "      <td>Content Criticism</td>\n",
       "    </tr>\n",
       "    <tr>\n",
       "      <th>12</th>\n",
       "      <td>4</td>\n",
       "      <td>8/9/2012</td>\n",
       "      <td>POWELL OH 43065</td>\n",
       "      <td>Indecent</td>\n",
       "    </tr>\n",
       "    <tr>\n",
       "      <th>13</th>\n",
       "      <td>3</td>\n",
       "      <td>4/24/2012</td>\n",
       "      <td>MELBOURNE FL 32934</td>\n",
       "      <td>Content Criticism</td>\n",
       "    </tr>\n",
       "    <tr>\n",
       "      <th>14</th>\n",
       "      <td>2</td>\n",
       "      <td>3/20/2012</td>\n",
       "      <td>PHILADELPHIA PA 19141</td>\n",
       "      <td>Indecent</td>\n",
       "    </tr>\n",
       "    <tr>\n",
       "      <th>15</th>\n",
       "      <td>1</td>\n",
       "      <td>2/13/2012</td>\n",
       "      <td>HENDERSONVILLE TN 37075</td>\n",
       "      <td>Content Criticism</td>\n",
       "    </tr>\n",
       "  </tbody>\n",
       "</table>\n",
       "</div>"
      ],
      "text/plain": [
       "    complaint_no       date                   location             reason\n",
       "0             16  3/17/2014            KENNER LA 70065            Profane\n",
       "1             15  1/27/2014        HUNTSVILLE TX 77340           Indecent\n",
       "2             14   4/2/2013          TRAPHILL NC 28685  Content Criticism\n",
       "3             13  3/17/2013             MASON OH 45040           Children\n",
       "4             12   3/4/2013    SOUTH WEYMOUTH MA 02190  Content Criticism\n",
       "5             11  2/25/2013   CHARLOTTESVILLE VA 22901  Content Criticism\n",
       "6             10  1/10/2013          YORKTOWN VA 23692           Indecent\n",
       "7              9  11/1/2012  CHESAPEAKE BEACH MD 20732  Content Criticism\n",
       "8              8  9/10/2012            POWELL OH 43065  Content Criticism\n",
       "10             6  8/24/2012        NORRISTOWN PA 19403  Content Criticism\n",
       "11             5  8/13/2012         EXCELSIOR MN 55331  Content Criticism\n",
       "12             4   8/9/2012            POWELL OH 43065           Indecent\n",
       "13             3  4/24/2012         MELBOURNE FL 32934  Content Criticism\n",
       "14             2  3/20/2012      PHILADELPHIA PA 19141           Indecent\n",
       "15             1  2/13/2012    HENDERSONVILLE TN 37075  Content Criticism"
      ]
     },
     "execution_count": 11,
     "metadata": {},
     "output_type": "execute_result"
    }
   ],
   "source": [
    "complaints = pd.DataFrame(himym_fcc)\n",
    "complaints.dropna(inplace=True)\n",
    "complaints"
   ]
  },
  {
   "cell_type": "code",
   "execution_count": 12,
   "metadata": {
    "scrolled": true
   },
   "outputs": [
    {
     "data": {
      "text/html": [
       "<div>\n",
       "<style>\n",
       "    .dataframe thead tr:only-child th {\n",
       "        text-align: right;\n",
       "    }\n",
       "\n",
       "    .dataframe thead th {\n",
       "        text-align: left;\n",
       "    }\n",
       "\n",
       "    .dataframe tbody tr th {\n",
       "        vertical-align: top;\n",
       "    }\n",
       "</style>\n",
       "<table border=\"1\" class=\"dataframe\">\n",
       "  <thead>\n",
       "    <tr style=\"text-align: right;\">\n",
       "      <th></th>\n",
       "      <th>complaint_no</th>\n",
       "      <th>date</th>\n",
       "      <th>location</th>\n",
       "      <th>reason</th>\n",
       "    </tr>\n",
       "  </thead>\n",
       "  <tbody>\n",
       "    <tr>\n",
       "      <th>15</th>\n",
       "      <td>1</td>\n",
       "      <td>2012-02-13</td>\n",
       "      <td>HENDERSONVILLE TN 37075</td>\n",
       "      <td>Content Criticism</td>\n",
       "    </tr>\n",
       "    <tr>\n",
       "      <th>14</th>\n",
       "      <td>2</td>\n",
       "      <td>2012-03-20</td>\n",
       "      <td>PHILADELPHIA PA 19141</td>\n",
       "      <td>Indecent</td>\n",
       "    </tr>\n",
       "    <tr>\n",
       "      <th>13</th>\n",
       "      <td>3</td>\n",
       "      <td>2012-04-24</td>\n",
       "      <td>MELBOURNE FL 32934</td>\n",
       "      <td>Content Criticism</td>\n",
       "    </tr>\n",
       "    <tr>\n",
       "      <th>12</th>\n",
       "      <td>4</td>\n",
       "      <td>2012-08-09</td>\n",
       "      <td>POWELL OH 43065</td>\n",
       "      <td>Indecent</td>\n",
       "    </tr>\n",
       "    <tr>\n",
       "      <th>11</th>\n",
       "      <td>5</td>\n",
       "      <td>2012-08-13</td>\n",
       "      <td>EXCELSIOR MN 55331</td>\n",
       "      <td>Content Criticism</td>\n",
       "    </tr>\n",
       "    <tr>\n",
       "      <th>10</th>\n",
       "      <td>6</td>\n",
       "      <td>2012-08-24</td>\n",
       "      <td>NORRISTOWN PA 19403</td>\n",
       "      <td>Content Criticism</td>\n",
       "    </tr>\n",
       "    <tr>\n",
       "      <th>8</th>\n",
       "      <td>8</td>\n",
       "      <td>2012-09-10</td>\n",
       "      <td>POWELL OH 43065</td>\n",
       "      <td>Content Criticism</td>\n",
       "    </tr>\n",
       "    <tr>\n",
       "      <th>7</th>\n",
       "      <td>9</td>\n",
       "      <td>2012-11-01</td>\n",
       "      <td>CHESAPEAKE BEACH MD 20732</td>\n",
       "      <td>Content Criticism</td>\n",
       "    </tr>\n",
       "    <tr>\n",
       "      <th>6</th>\n",
       "      <td>10</td>\n",
       "      <td>2013-01-10</td>\n",
       "      <td>YORKTOWN VA 23692</td>\n",
       "      <td>Indecent</td>\n",
       "    </tr>\n",
       "    <tr>\n",
       "      <th>5</th>\n",
       "      <td>11</td>\n",
       "      <td>2013-02-25</td>\n",
       "      <td>CHARLOTTESVILLE VA 22901</td>\n",
       "      <td>Content Criticism</td>\n",
       "    </tr>\n",
       "    <tr>\n",
       "      <th>4</th>\n",
       "      <td>12</td>\n",
       "      <td>2013-03-04</td>\n",
       "      <td>SOUTH WEYMOUTH MA 02190</td>\n",
       "      <td>Content Criticism</td>\n",
       "    </tr>\n",
       "    <tr>\n",
       "      <th>3</th>\n",
       "      <td>13</td>\n",
       "      <td>2013-03-17</td>\n",
       "      <td>MASON OH 45040</td>\n",
       "      <td>Children</td>\n",
       "    </tr>\n",
       "    <tr>\n",
       "      <th>2</th>\n",
       "      <td>14</td>\n",
       "      <td>2013-04-02</td>\n",
       "      <td>TRAPHILL NC 28685</td>\n",
       "      <td>Content Criticism</td>\n",
       "    </tr>\n",
       "    <tr>\n",
       "      <th>1</th>\n",
       "      <td>15</td>\n",
       "      <td>2014-01-27</td>\n",
       "      <td>HUNTSVILLE TX 77340</td>\n",
       "      <td>Indecent</td>\n",
       "    </tr>\n",
       "    <tr>\n",
       "      <th>0</th>\n",
       "      <td>16</td>\n",
       "      <td>2014-03-17</td>\n",
       "      <td>KENNER LA 70065</td>\n",
       "      <td>Profane</td>\n",
       "    </tr>\n",
       "  </tbody>\n",
       "</table>\n",
       "</div>"
      ],
      "text/plain": [
       "    complaint_no       date                   location             reason\n",
       "15             1 2012-02-13    HENDERSONVILLE TN 37075  Content Criticism\n",
       "14             2 2012-03-20      PHILADELPHIA PA 19141           Indecent\n",
       "13             3 2012-04-24         MELBOURNE FL 32934  Content Criticism\n",
       "12             4 2012-08-09            POWELL OH 43065           Indecent\n",
       "11             5 2012-08-13         EXCELSIOR MN 55331  Content Criticism\n",
       "10             6 2012-08-24        NORRISTOWN PA 19403  Content Criticism\n",
       "8              8 2012-09-10            POWELL OH 43065  Content Criticism\n",
       "7              9 2012-11-01  CHESAPEAKE BEACH MD 20732  Content Criticism\n",
       "6             10 2013-01-10          YORKTOWN VA 23692           Indecent\n",
       "5             11 2013-02-25   CHARLOTTESVILLE VA 22901  Content Criticism\n",
       "4             12 2013-03-04    SOUTH WEYMOUTH MA 02190  Content Criticism\n",
       "3             13 2013-03-17             MASON OH 45040           Children\n",
       "2             14 2013-04-02          TRAPHILL NC 28685  Content Criticism\n",
       "1             15 2014-01-27        HUNTSVILLE TX 77340           Indecent\n",
       "0             16 2014-03-17            KENNER LA 70065            Profane"
      ]
     },
     "execution_count": 12,
     "metadata": {},
     "output_type": "execute_result"
    }
   ],
   "source": [
    "complaints['date'] = pd.to_datetime(complaints['date'], format='%m/%d/%Y')\n",
    "complaints.sort_values('date', inplace=True)\n",
    "complaints"
   ]
  },
  {
   "cell_type": "markdown",
   "metadata": {},
   "source": [
    "#### Use GeoPy.Geocoder to generate geometry"
   ]
  },
  {
   "cell_type": "code",
   "execution_count": 14,
   "metadata": {},
   "outputs": [
    {
     "data": {
      "text/html": [
       "<div>\n",
       "<style>\n",
       "    .dataframe thead tr:only-child th {\n",
       "        text-align: right;\n",
       "    }\n",
       "\n",
       "    .dataframe thead th {\n",
       "        text-align: left;\n",
       "    }\n",
       "\n",
       "    .dataframe tbody tr th {\n",
       "        vertical-align: top;\n",
       "    }\n",
       "</style>\n",
       "<table border=\"1\" class=\"dataframe\">\n",
       "  <thead>\n",
       "    <tr style=\"text-align: right;\">\n",
       "      <th></th>\n",
       "      <th>complaint_no</th>\n",
       "      <th>date</th>\n",
       "      <th>location</th>\n",
       "      <th>reason</th>\n",
       "      <th>long</th>\n",
       "      <th>lat</th>\n",
       "      <th>geometry</th>\n",
       "    </tr>\n",
       "  </thead>\n",
       "  <tbody>\n",
       "    <tr>\n",
       "      <th>15</th>\n",
       "      <td>1</td>\n",
       "      <td>2012-02-13</td>\n",
       "      <td>HENDERSONVILLE TN 37075</td>\n",
       "      <td>Content Criticism</td>\n",
       "      <td>-86.619996</td>\n",
       "      <td>36.304774</td>\n",
       "      <td>POINT (-86.6199957 36.3047735)</td>\n",
       "    </tr>\n",
       "    <tr>\n",
       "      <th>14</th>\n",
       "      <td>2</td>\n",
       "      <td>2012-03-20</td>\n",
       "      <td>PHILADELPHIA PA 19141</td>\n",
       "      <td>Indecent</td>\n",
       "      <td>-75.163590</td>\n",
       "      <td>39.952399</td>\n",
       "      <td>POINT (-75.16358990000001 39.9523993)</td>\n",
       "    </tr>\n",
       "    <tr>\n",
       "      <th>13</th>\n",
       "      <td>3</td>\n",
       "      <td>2012-04-24</td>\n",
       "      <td>MELBOURNE FL 32934</td>\n",
       "      <td>Content Criticism</td>\n",
       "      <td>-80.689143</td>\n",
       "      <td>28.148276</td>\n",
       "      <td>POINT (-80.6891430157431 28.1482757284746)</td>\n",
       "    </tr>\n",
       "    <tr>\n",
       "      <th>12</th>\n",
       "      <td>4</td>\n",
       "      <td>2012-08-09</td>\n",
       "      <td>POWELL OH 43065</td>\n",
       "      <td>Indecent</td>\n",
       "      <td>-83.085362</td>\n",
       "      <td>40.156685</td>\n",
       "      <td>POINT (-83.085362373552 40.1566846944088)</td>\n",
       "    </tr>\n",
       "    <tr>\n",
       "      <th>11</th>\n",
       "      <td>5</td>\n",
       "      <td>2012-08-13</td>\n",
       "      <td>EXCELSIOR MN 55331</td>\n",
       "      <td>Content Criticism</td>\n",
       "      <td>-93.566345</td>\n",
       "      <td>44.903296</td>\n",
       "      <td>POINT (-93.5663455 44.9032963)</td>\n",
       "    </tr>\n",
       "    <tr>\n",
       "      <th>10</th>\n",
       "      <td>6</td>\n",
       "      <td>2012-08-24</td>\n",
       "      <td>NORRISTOWN PA 19403</td>\n",
       "      <td>Content Criticism</td>\n",
       "      <td>-75.339905</td>\n",
       "      <td>40.121497</td>\n",
       "      <td>POINT (-75.3399048 40.121497)</td>\n",
       "    </tr>\n",
       "  </tbody>\n",
       "</table>\n",
       "</div>"
      ],
      "text/plain": [
       "    complaint_no       date                 location             reason  \\\n",
       "15             1 2012-02-13  HENDERSONVILLE TN 37075  Content Criticism   \n",
       "14             2 2012-03-20    PHILADELPHIA PA 19141           Indecent   \n",
       "13             3 2012-04-24       MELBOURNE FL 32934  Content Criticism   \n",
       "12             4 2012-08-09          POWELL OH 43065           Indecent   \n",
       "11             5 2012-08-13       EXCELSIOR MN 55331  Content Criticism   \n",
       "10             6 2012-08-24      NORRISTOWN PA 19403  Content Criticism   \n",
       "\n",
       "         long        lat                                    geometry  \n",
       "15 -86.619996  36.304774              POINT (-86.6199957 36.3047735)  \n",
       "14 -75.163590  39.952399       POINT (-75.16358990000001 39.9523993)  \n",
       "13 -80.689143  28.148276  POINT (-80.6891430157431 28.1482757284746)  \n",
       "12 -83.085362  40.156685   POINT (-83.085362373552 40.1566846944088)  \n",
       "11 -93.566345  44.903296              POINT (-93.5663455 44.9032963)  \n",
       "10 -75.339905  40.121497               POINT (-75.3399048 40.121497)  "
      ]
     },
     "execution_count": 14,
     "metadata": {},
     "output_type": "execute_result"
    }
   ],
   "source": [
    "geolocator = Nominatim()\n",
    "complaints['long'] = complaints.apply(lambda row: geolocator.geocode(row['location']).longitude, axis=1)\n",
    "complaints['lat'] = complaints.apply(lambda row: geolocator.geocode(row['location']).latitude, axis=1)\n",
    "complaints['geometry'] = complaints.apply(lambda row: Point(row.long, row.lat), axis=1)\n",
    "complaints.head(6)"
   ]
  },
  {
   "cell_type": "code",
   "execution_count": 15,
   "metadata": {
    "scrolled": true
   },
   "outputs": [
    {
     "data": {
      "text/html": [
       "<div>\n",
       "<style>\n",
       "    .dataframe thead tr:only-child th {\n",
       "        text-align: right;\n",
       "    }\n",
       "\n",
       "    .dataframe thead th {\n",
       "        text-align: left;\n",
       "    }\n",
       "\n",
       "    .dataframe tbody tr th {\n",
       "        vertical-align: top;\n",
       "    }\n",
       "</style>\n",
       "<table border=\"1\" class=\"dataframe\">\n",
       "  <thead>\n",
       "    <tr style=\"text-align: right;\">\n",
       "      <th></th>\n",
       "      <th>complaint_no</th>\n",
       "      <th>date</th>\n",
       "      <th>location</th>\n",
       "      <th>reason</th>\n",
       "      <th>long</th>\n",
       "      <th>lat</th>\n",
       "      <th>geometry</th>\n",
       "    </tr>\n",
       "  </thead>\n",
       "  <tbody>\n",
       "    <tr>\n",
       "      <th>15</th>\n",
       "      <td>1</td>\n",
       "      <td>2012-02-13</td>\n",
       "      <td>HENDERSONVILLE TN 37075</td>\n",
       "      <td>Content Criticism</td>\n",
       "      <td>-86.619996</td>\n",
       "      <td>36.304774</td>\n",
       "      <td>POINT (-86.6199957 36.3047735)</td>\n",
       "    </tr>\n",
       "    <tr>\n",
       "      <th>14</th>\n",
       "      <td>2</td>\n",
       "      <td>2012-03-20</td>\n",
       "      <td>PHILADELPHIA PA 19141</td>\n",
       "      <td>Indecent</td>\n",
       "      <td>-75.163590</td>\n",
       "      <td>39.952399</td>\n",
       "      <td>POINT (-75.16358990000001 39.9523993)</td>\n",
       "    </tr>\n",
       "    <tr>\n",
       "      <th>13</th>\n",
       "      <td>3</td>\n",
       "      <td>2012-04-24</td>\n",
       "      <td>MELBOURNE FL 32934</td>\n",
       "      <td>Content Criticism</td>\n",
       "      <td>-80.689143</td>\n",
       "      <td>28.148276</td>\n",
       "      <td>POINT (-80.6891430157431 28.1482757284746)</td>\n",
       "    </tr>\n",
       "    <tr>\n",
       "      <th>12</th>\n",
       "      <td>4</td>\n",
       "      <td>2012-08-09</td>\n",
       "      <td>POWELL OH 43065</td>\n",
       "      <td>Indecent</td>\n",
       "      <td>-83.085362</td>\n",
       "      <td>40.156685</td>\n",
       "      <td>POINT (-83.085362373552 40.1566846944088)</td>\n",
       "    </tr>\n",
       "    <tr>\n",
       "      <th>11</th>\n",
       "      <td>5</td>\n",
       "      <td>2012-08-13</td>\n",
       "      <td>EXCELSIOR MN 55331</td>\n",
       "      <td>Content Criticism</td>\n",
       "      <td>-93.566345</td>\n",
       "      <td>44.903296</td>\n",
       "      <td>POINT (-93.5663455 44.9032963)</td>\n",
       "    </tr>\n",
       "    <tr>\n",
       "      <th>10</th>\n",
       "      <td>6</td>\n",
       "      <td>2012-08-24</td>\n",
       "      <td>NORRISTOWN PA 19403</td>\n",
       "      <td>Content Criticism</td>\n",
       "      <td>-75.339905</td>\n",
       "      <td>40.121497</td>\n",
       "      <td>POINT (-75.3399048 40.121497)</td>\n",
       "    </tr>\n",
       "  </tbody>\n",
       "</table>\n",
       "</div>"
      ],
      "text/plain": [
       "    complaint_no       date                 location             reason  \\\n",
       "15             1 2012-02-13  HENDERSONVILLE TN 37075  Content Criticism   \n",
       "14             2 2012-03-20    PHILADELPHIA PA 19141           Indecent   \n",
       "13             3 2012-04-24       MELBOURNE FL 32934  Content Criticism   \n",
       "12             4 2012-08-09          POWELL OH 43065           Indecent   \n",
       "11             5 2012-08-13       EXCELSIOR MN 55331  Content Criticism   \n",
       "10             6 2012-08-24      NORRISTOWN PA 19403  Content Criticism   \n",
       "\n",
       "         long        lat                                    geometry  \n",
       "15 -86.619996  36.304774              POINT (-86.6199957 36.3047735)  \n",
       "14 -75.163590  39.952399       POINT (-75.16358990000001 39.9523993)  \n",
       "13 -80.689143  28.148276  POINT (-80.6891430157431 28.1482757284746)  \n",
       "12 -83.085362  40.156685   POINT (-83.085362373552 40.1566846944088)  \n",
       "11 -93.566345  44.903296              POINT (-93.5663455 44.9032963)  \n",
       "10 -75.339905  40.121497               POINT (-75.3399048 40.121497)  "
      ]
     },
     "execution_count": 15,
     "metadata": {},
     "output_type": "execute_result"
    }
   ],
   "source": [
    "complaints = gpd.GeoDataFrame(complaints)\n",
    "complaints.head(6)"
   ]
  },
  {
   "cell_type": "markdown",
   "metadata": {},
   "source": [
    "#### Import States, generate the map"
   ]
  },
  {
   "cell_type": "code",
   "execution_count": 16,
   "metadata": {},
   "outputs": [
    {
     "name": "stderr",
     "output_type": "stream",
     "text": [
      "WARNING:Fiona:PROJ data files not located, PROJ_LIB not set\n"
     ]
    },
    {
     "data": {
      "text/plain": [
       "{'init': 'epsg:4269'}"
      ]
     },
     "execution_count": 16,
     "metadata": {},
     "output_type": "execute_result"
    }
   ],
   "source": [
    "states = gpd.read_file('cb_2016_us_state_500k/cb_2016_us_state_500k.shp')\n",
    "states.crs"
   ]
  },
  {
   "cell_type": "code",
   "execution_count": 17,
   "metadata": {},
   "outputs": [
    {
     "data": {
      "text/plain": [
       "{'init': 'epsg:4269'}"
      ]
     },
     "execution_count": 17,
     "metadata": {},
     "output_type": "execute_result"
    }
   ],
   "source": [
    "complaints.crs = {'init': 'epsg:4269'}\n",
    "complaints.crs"
   ]
  },
  {
   "cell_type": "code",
   "execution_count": 18,
   "metadata": {
    "collapsed": true
   },
   "outputs": [],
   "source": [
    "continental_bounds = [\n",
    "            [\n",
    "              -128.671875,\n",
    "              22.268764039073968\n",
    "            ],\n",
    "            [\n",
    "              -61.87499999999999,\n",
    "              22.268764039073968\n",
    "            ],\n",
    "            [\n",
    "              -61.87499999999999,\n",
    "              50.28933925329178\n",
    "            ],\n",
    "            [\n",
    "              -128.671875,\n",
    "              50.28933925329178\n",
    "            ],\n",
    "            [\n",
    "              -128.671875,\n",
    "              22.268764039073968\n",
    "            ]\n",
    "        ]\n",
    "\n",
    "continental_box = Polygon(continental_bounds)\n",
    "continental_states = states[states.within(continental_box)]"
   ]
  },
  {
   "cell_type": "code",
   "execution_count": 19,
   "metadata": {},
   "outputs": [
    {
     "data": {
      "text/plain": [
       "<matplotlib.text.Text at 0x10e8c9cf8>"
      ]
     },
     "execution_count": 19,
     "metadata": {},
     "output_type": "execute_result"
    },
    {
     "data": {
      "image/png": "[encoded data removed]",
      "text/plain": [
       "<matplotlib.figure.Figure at 0x10af5a320>"
      ]
     },
     "metadata": {},
     "output_type": "display_data"
    }
   ],
   "source": [
    "ax = continental_states.plot(color='lightgrey', figsize=(20,20), edgecolor='white', linewidth=0.25)\n",
    "complaints.plot(ax=ax, column='reason', legend=True, markersize=8)\n",
    "ax.axis('off')\n",
    "ax.title.set_text('Only Eastern US complain about How I Met Your Mother series')\n",
    "ax.title.set_color('black')\n",
    "ax.title.set_fontsize(19)\n",
    "ax.text(x=-115, y=23, s='Source: https://www.muckrock.com/foi/united-states-of-america-10/fcc-complaints-related-to-the-cbs-sitcom-how-i-met-your-mother-18993/#file-49250')\n",
    "ax.text(x=-115, y=22, s='Feb 2012 to Mar 2014')"
   ]
  }
 ],
 "metadata": {
  "kernelspec": {
   "display_name": "Python 3",
   "language": "python",
   "name": "python3"
  },
  "language_info": {
   "codemirror_mode": {
    "name": "ipython",
    "version": 3
   },
   "file_extension": ".py",
   "mimetype": "text/x-python",
   "name": "python",
   "nbconvert_exporter": "python",
   "pygments_lexer": "ipython3",
   "version": "3.6.1"
  }
 },
 "nbformat": 4,
 "nbformat_minor": 2
}
