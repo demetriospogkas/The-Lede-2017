{
 "cells": [
  {
   "cell_type": "markdown",
   "metadata": {
    "collapsed": true
   },
   "source": [
    "# A dataset about cans of beer.\n",
    "\n",
    "Data from http://craftcans.com/"
   ]
  },
  {
   "cell_type": "markdown",
   "metadata": {},
   "source": [
    "## Do your importing and your setup"
   ]
  },
  {
   "cell_type": "code",
   "execution_count": 1,
   "metadata": {
    "collapsed": true
   },
   "outputs": [],
   "source": [
    "import pandas as pd"
   ]
  },
  {
   "cell_type": "code",
   "execution_count": 2,
   "metadata": {
    "collapsed": true
   },
   "outputs": [],
   "source": [
    "%matplotlib inline"
   ]
  },
  {
   "cell_type": "markdown",
   "metadata": {},
   "source": [
    "## Read in the file `craftcans.csv`, and look at the first first rows"
   ]
  },
  {
   "cell_type": "code",
   "execution_count": 3,
   "metadata": {},
   "outputs": [
    {
     "data": {
      "text/html": [
       "<div>\n",
       "<style>\n",
       "    .dataframe thead tr:only-child th {\n",
       "        text-align: right;\n",
       "    }\n",
       "\n",
       "    .dataframe thead th {\n",
       "        text-align: left;\n",
       "    }\n",
       "\n",
       "    .dataframe tbody tr th {\n",
       "        vertical-align: top;\n",
       "    }\n",
       "</style>\n",
       "<table border=\"1\" class=\"dataframe\">\n",
       "  <thead>\n",
       "    <tr style=\"text-align: right;\">\n",
       "      <th></th>\n",
       "      <th>Beer</th>\n",
       "      <th>Brewery</th>\n",
       "      <th>Location</th>\n",
       "      <th>Style</th>\n",
       "      <th>Size</th>\n",
       "      <th>ABV</th>\n",
       "      <th>IBUs</th>\n",
       "    </tr>\n",
       "  </thead>\n",
       "  <tbody>\n",
       "    <tr>\n",
       "      <th>0</th>\n",
       "      <td>Get Together</td>\n",
       "      <td>NorthGate Brewing</td>\n",
       "      <td>Minneapolis, MN</td>\n",
       "      <td>American IPA</td>\n",
       "      <td>16 oz.</td>\n",
       "      <td>4.50%</td>\n",
       "      <td>50.0</td>\n",
       "    </tr>\n",
       "    <tr>\n",
       "      <th>1</th>\n",
       "      <td>Maggie's Leap</td>\n",
       "      <td>NorthGate Brewing</td>\n",
       "      <td>Minneapolis, MN</td>\n",
       "      <td>Milk / Sweet Stout</td>\n",
       "      <td>16 oz.</td>\n",
       "      <td>4.90%</td>\n",
       "      <td>26.0</td>\n",
       "    </tr>\n",
       "    <tr>\n",
       "      <th>2</th>\n",
       "      <td>Wall's End</td>\n",
       "      <td>NorthGate Brewing</td>\n",
       "      <td>Minneapolis, MN</td>\n",
       "      <td>English Brown Ale</td>\n",
       "      <td>16 oz.</td>\n",
       "      <td>4.80%</td>\n",
       "      <td>19.0</td>\n",
       "    </tr>\n",
       "    <tr>\n",
       "      <th>3</th>\n",
       "      <td>Pumpion</td>\n",
       "      <td>NorthGate Brewing</td>\n",
       "      <td>Minneapolis, MN</td>\n",
       "      <td>Pumpkin Ale</td>\n",
       "      <td>16 oz.</td>\n",
       "      <td>6.00%</td>\n",
       "      <td>38.0</td>\n",
       "    </tr>\n",
       "    <tr>\n",
       "      <th>4</th>\n",
       "      <td>Stronghold</td>\n",
       "      <td>NorthGate Brewing</td>\n",
       "      <td>Minneapolis, MN</td>\n",
       "      <td>American Porter</td>\n",
       "      <td>16 oz.</td>\n",
       "      <td>6.00%</td>\n",
       "      <td>25.0</td>\n",
       "    </tr>\n",
       "  </tbody>\n",
       "</table>\n",
       "</div>"
      ],
      "text/plain": [
       "            Beer            Brewery         Location               Style  \\\n",
       "0   Get Together  NorthGate Brewing  Minneapolis, MN        American IPA   \n",
       "1  Maggie's Leap  NorthGate Brewing  Minneapolis, MN  Milk / Sweet Stout   \n",
       "2     Wall's End  NorthGate Brewing  Minneapolis, MN   English Brown Ale   \n",
       "3        Pumpion  NorthGate Brewing  Minneapolis, MN         Pumpkin Ale   \n",
       "4     Stronghold  NorthGate Brewing  Minneapolis, MN     American Porter   \n",
       "\n",
       "     Size    ABV  IBUs  \n",
       "0  16 oz.  4.50%  50.0  \n",
       "1  16 oz.  4.90%  26.0  \n",
       "2  16 oz.  4.80%  19.0  \n",
       "3  16 oz.  6.00%  38.0  \n",
       "4  16 oz.  6.00%  25.0  "
      ]
     },
     "execution_count": 3,
     "metadata": {},
     "output_type": "execute_result"
    }
   ],
   "source": [
    "df = pd.read_csv(\"craftcans.csv\")\n",
    "df.head()"
   ]
  },
  {
   "cell_type": "markdown",
   "metadata": {},
   "source": [
    "## How many rows do you have in the data? What are the column types?"
   ]
  },
  {
   "cell_type": "code",
   "execution_count": 4,
   "metadata": {},
   "outputs": [
    {
     "data": {
      "text/plain": [
       "(2416, 7)"
      ]
     },
     "execution_count": 4,
     "metadata": {},
     "output_type": "execute_result"
    }
   ],
   "source": [
    "df.shape"
   ]
  },
  {
   "cell_type": "code",
   "execution_count": 5,
   "metadata": {},
   "outputs": [
    {
     "data": {
      "text/plain": [
       "Beer         object\n",
       "Brewery      object\n",
       "Location     object\n",
       "Style        object\n",
       "Size         object\n",
       "ABV          object\n",
       "IBUs        float64\n",
       "dtype: object"
      ]
     },
     "execution_count": 5,
     "metadata": {},
     "output_type": "execute_result"
    }
   ],
   "source": [
    "df.dtypes"
   ]
  },
  {
   "cell_type": "markdown",
   "metadata": {},
   "source": [
    "# Checking out breweries\n",
    "\n",
    "Where does beer come from????"
   ]
  },
  {
   "cell_type": "markdown",
   "metadata": {},
   "source": [
    "## What are the top 10 producers of cans of beer?"
   ]
  },
  {
   "cell_type": "code",
   "execution_count": 6,
   "metadata": {},
   "outputs": [
    {
     "data": {
      "text/plain": [
       "Brewery Vivant                62\n",
       "Oskar Blues Brewery           46\n",
       "Sun King Brewing Company      38\n",
       "Cigar City Brewing Company    25\n",
       "Sixpoint Craft Ales           24\n",
       "Hopworks Urban Brewery        23\n",
       "Stevens Point Brewery         22\n",
       "21st Amendment Brewery        20\n",
       "Great Crescent Brewery        20\n",
       "SanTan Brewing Company        19\n",
       "Name: Brewery, dtype: int64"
      ]
     },
     "execution_count": 6,
     "metadata": {},
     "output_type": "execute_result"
    }
   ],
   "source": [
    "df['Brewery'].value_counts().head(10)"
   ]
  },
  {
   "cell_type": "markdown",
   "metadata": {},
   "source": [
    "## What is the most common size of beer?\n",
    "\n",
    "The answer won't be pretty - we'll learn to clean it up in a week or two."
   ]
  },
  {
   "cell_type": "code",
   "execution_count": 7,
   "metadata": {},
   "outputs": [
    {
     "data": {
      "text/plain": [
       "12 oz.               1507\n",
       "16 oz.                814\n",
       "24 oz.                 21\n",
       "16 oz. Alumi-Tek®      15\n",
       "19.2 oz.               14\n",
       "12 oz                  14\n",
       "16 oz                  12\n",
       "32 oz.                  5\n",
       "12 ounce                1\n",
       "12 OZ.                  1\n",
       "8.4 oz.                 1\n",
       "16.9 oz.                1\n",
       "12 oz. Slimline         1\n",
       "24 oz. \"Silo Can\"       1\n",
       "12 & 16 oz.             1\n",
       "19.2                    1\n",
       "Name: Size, dtype: int64"
      ]
     },
     "execution_count": 7,
     "metadata": {},
     "output_type": "execute_result"
    }
   ],
   "source": [
    "df['Size'].value_counts()"
   ]
  },
  {
   "cell_type": "markdown",
   "metadata": {},
   "source": [
    "## What is the most common ABV? (alcohol by volume)"
   ]
  },
  {
   "cell_type": "code",
   "execution_count": 8,
   "metadata": {},
   "outputs": [
    {
     "data": {
      "text/plain": [
       "5.00%    215\n",
       "Name: ABV, dtype: int64"
      ]
     },
     "execution_count": 8,
     "metadata": {},
     "output_type": "execute_result"
    }
   ],
   "source": [
    "df['ABV'].value_counts().head(1)"
   ]
  },
  {
   "cell_type": "markdown",
   "metadata": {},
   "source": [
    "## Oh, weird, ABV isn't a number. Convert it to a number for me, please.\n",
    "\n",
    "It's going to take three steps:\n",
    "\n",
    "1. List just the ABV of every row\n",
    "2. Remove the % symbol\n",
    "3. Convert it to a `float`\n",
    "4. Save it into a new column. Or the same column, if you're feeling wild.\n",
    "\n",
    "Although it *also* turns out that there's some bad data in there. We'll need to clean that up, too."
   ]
  },
  {
   "cell_type": "code",
   "execution_count": 9,
   "metadata": {},
   "outputs": [
    {
     "data": {
      "text/html": [
       "<div>\n",
       "<style>\n",
       "    .dataframe thead tr:only-child th {\n",
       "        text-align: right;\n",
       "    }\n",
       "\n",
       "    .dataframe thead th {\n",
       "        text-align: left;\n",
       "    }\n",
       "\n",
       "    .dataframe tbody tr th {\n",
       "        vertical-align: top;\n",
       "    }\n",
       "</style>\n",
       "<table border=\"1\" class=\"dataframe\">\n",
       "  <thead>\n",
       "    <tr style=\"text-align: right;\">\n",
       "      <th></th>\n",
       "      <th>Beer</th>\n",
       "      <th>Brewery</th>\n",
       "      <th>Location</th>\n",
       "      <th>Style</th>\n",
       "      <th>Size</th>\n",
       "      <th>ABV</th>\n",
       "      <th>IBUs</th>\n",
       "    </tr>\n",
       "  </thead>\n",
       "  <tbody>\n",
       "    <tr>\n",
       "      <th>0</th>\n",
       "      <td>Get Together</td>\n",
       "      <td>NorthGate Brewing</td>\n",
       "      <td>Minneapolis, MN</td>\n",
       "      <td>American IPA</td>\n",
       "      <td>16 oz.</td>\n",
       "      <td>4.5</td>\n",
       "      <td>50.0</td>\n",
       "    </tr>\n",
       "    <tr>\n",
       "      <th>1</th>\n",
       "      <td>Maggie's Leap</td>\n",
       "      <td>NorthGate Brewing</td>\n",
       "      <td>Minneapolis, MN</td>\n",
       "      <td>Milk / Sweet Stout</td>\n",
       "      <td>16 oz.</td>\n",
       "      <td>4.9</td>\n",
       "      <td>26.0</td>\n",
       "    </tr>\n",
       "    <tr>\n",
       "      <th>2</th>\n",
       "      <td>Wall's End</td>\n",
       "      <td>NorthGate Brewing</td>\n",
       "      <td>Minneapolis, MN</td>\n",
       "      <td>English Brown Ale</td>\n",
       "      <td>16 oz.</td>\n",
       "      <td>4.8</td>\n",
       "      <td>19.0</td>\n",
       "    </tr>\n",
       "    <tr>\n",
       "      <th>3</th>\n",
       "      <td>Pumpion</td>\n",
       "      <td>NorthGate Brewing</td>\n",
       "      <td>Minneapolis, MN</td>\n",
       "      <td>Pumpkin Ale</td>\n",
       "      <td>16 oz.</td>\n",
       "      <td>6.0</td>\n",
       "      <td>38.0</td>\n",
       "    </tr>\n",
       "    <tr>\n",
       "      <th>4</th>\n",
       "      <td>Stronghold</td>\n",
       "      <td>NorthGate Brewing</td>\n",
       "      <td>Minneapolis, MN</td>\n",
       "      <td>American Porter</td>\n",
       "      <td>16 oz.</td>\n",
       "      <td>6.0</td>\n",
       "      <td>25.0</td>\n",
       "    </tr>\n",
       "  </tbody>\n",
       "</table>\n",
       "</div>"
      ],
      "text/plain": [
       "            Beer            Brewery         Location               Style  \\\n",
       "0   Get Together  NorthGate Brewing  Minneapolis, MN        American IPA   \n",
       "1  Maggie's Leap  NorthGate Brewing  Minneapolis, MN  Milk / Sweet Stout   \n",
       "2     Wall's End  NorthGate Brewing  Minneapolis, MN   English Brown Ale   \n",
       "3        Pumpion  NorthGate Brewing  Minneapolis, MN         Pumpkin Ale   \n",
       "4     Stronghold  NorthGate Brewing  Minneapolis, MN     American Porter   \n",
       "\n",
       "     Size  ABV  IBUs  \n",
       "0  16 oz.  4.5  50.0  \n",
       "1  16 oz.  4.9  26.0  \n",
       "2  16 oz.  4.8  19.0  \n",
       "3  16 oz.  6.0  38.0  \n",
       "4  16 oz.  6.0  25.0  "
      ]
     },
     "execution_count": 9,
     "metadata": {},
     "output_type": "execute_result"
    }
   ],
   "source": [
    "df = pd.read_csv(\"craftcans.csv\", na_values=['???'])\n",
    "df['ABV'] = df['ABV'].str.replace(\"%\",\"\").astype(float)\n",
    "df.head()"
   ]
  },
  {
   "cell_type": "code",
   "execution_count": 10,
   "metadata": {},
   "outputs": [
    {
     "data": {
      "text/plain": [
       "Beer         object\n",
       "Brewery      object\n",
       "Location     object\n",
       "Style        object\n",
       "Size         object\n",
       "ABV         float64\n",
       "IBUs        float64\n",
       "dtype: object"
      ]
     },
     "execution_count": 10,
     "metadata": {},
     "output_type": "execute_result"
    }
   ],
   "source": [
    "df.dtypes"
   ]
  },
  {
   "cell_type": "markdown",
   "metadata": {},
   "source": [
    "# Looking at location\n",
    "\n",
    "Brooklyn used to produce 80% of the country's beer! Let's see if it's still true."
   ]
  },
  {
   "cell_type": "markdown",
   "metadata": {},
   "source": [
    "## What are the top 10 cities in the US for canned craft beer?"
   ]
  },
  {
   "cell_type": "code",
   "execution_count": 11,
   "metadata": {},
   "outputs": [
    {
     "data": {
      "text/plain": [
       "Grand Rapids, MI    66\n",
       "Chicago, IL         55\n",
       "Portland, OR        52\n",
       "Indianapolis, IN    43\n",
       "San Diego, CA       42\n",
       "Boulder, CO         41\n",
       "Denver, CO          40\n",
       "Brooklyn, NY        38\n",
       "Seattle, WA         35\n",
       "Longmont, CO        33\n",
       "Name: Location, dtype: int64"
      ]
     },
     "execution_count": 11,
     "metadata": {},
     "output_type": "execute_result"
    }
   ],
   "source": [
    "df['Location'].value_counts().head(10)"
   ]
  },
  {
   "cell_type": "markdown",
   "metadata": {},
   "source": [
    "## List all of the beer from Brooklyn, NY"
   ]
  },
  {
   "cell_type": "code",
   "execution_count": 12,
   "metadata": {},
   "outputs": [
    {
     "data": {
      "text/plain": [
       "1624                             3Beans\n",
       "115                              4Beans\n",
       "246                             Abigale\n",
       "1970                             Apollo\n",
       "2074       Autumnation (2011-12) (2011)\n",
       "1074                 Autumnation (2013)\n",
       "588                             Bengali\n",
       "1270                      Bengali Tiger\n",
       "2143               Bengali Tiger (2011)\n",
       "1366                        Bikini Beer\n",
       "2351            Brooklyn Lager (12 oz.)\n",
       "2350            Brooklyn Lager (16 oz.)\n",
       "1857                Brooklyn Summer Ale\n",
       "2219         Brooklyn Summer Ale (2011)\n",
       "1836                         Brownstone\n",
       "2062                             Diesel\n",
       "2027                East India Pale Ale\n",
       "1373                East India Pale Ale\n",
       "1057                      Global Warmer\n",
       "1971                          Harbinger\n",
       "969                              Hi-Res\n",
       "1365    Hipster Ale (Two Roads Brewing)\n",
       "1962    Hipster Ale (Westbrook Brewing)\n",
       "210                              Jammer\n",
       "1093               KelSo India Pale Ale\n",
       "987               KelSo Nut Brown Lager\n",
       "1305                      KelSo Pilsner\n",
       "439                        Molotov Lite\n",
       "404                       Nomader Weiss\n",
       "421                                 Rad\n",
       "1972                              Resin\n",
       "1269                      Righteous Ale\n",
       "2142               Righteous Ale (2011)\n",
       "713                       Sensi Harvest\n",
       "1268                       Sweet Action\n",
       "2141                Sweet Action (2011)\n",
       "1267                          The Crisp\n",
       "2140                   The Crisp (2011)\n",
       "Name: Beer, dtype: object"
      ]
     },
     "execution_count": 12,
     "metadata": {},
     "output_type": "execute_result"
    }
   ],
   "source": [
    "Brooklyn_beer = df[df['Location'] == 'Brooklyn, NY']\n",
    "Brooklyn_beer['Beer'].sort_values(ascending=True)"
   ]
  },
  {
   "cell_type": "markdown",
   "metadata": {},
   "source": [
    "## What brewery in Brooklyn puts out the most cans of beer?"
   ]
  },
  {
   "cell_type": "code",
   "execution_count": 13,
   "metadata": {},
   "outputs": [
    {
     "data": {
      "text/plain": [
       "Sixpoint Craft Ales    24\n",
       "Brooklyn Brewery        6\n",
       "Evil Twin Brewing       5\n",
       "KelSo Beer Company      3\n",
       "Name: Brewery, dtype: int64"
      ]
     },
     "execution_count": 13,
     "metadata": {},
     "output_type": "execute_result"
    }
   ],
   "source": [
    "df_Brooklyn = df[df['Location'] == 'Brooklyn, NY']\n",
    "df_Brooklyn['Brewery'].value_counts()"
   ]
  },
  {
   "cell_type": "markdown",
   "metadata": {},
   "source": [
    "## What are the five most popular styles of beer produced by Sixpoint?"
   ]
  },
  {
   "cell_type": "code",
   "execution_count": 14,
   "metadata": {},
   "outputs": [
    {
     "data": {
      "text/plain": [
       "American IPA                      6\n",
       "American Pale Ale (APA)           3\n",
       "American Double / Imperial IPA    3\n",
       "Baltic Porter                     2\n",
       "English India Pale Ale (IPA)      2\n",
       "Name: Style, dtype: int64"
      ]
     },
     "execution_count": 14,
     "metadata": {},
     "output_type": "execute_result"
    }
   ],
   "source": [
    "df_Brooklyn['Style'].value_counts().head(5)"
   ]
  },
  {
   "cell_type": "markdown",
   "metadata": {},
   "source": [
    "## List all of the breweries in New York state. Then count them."
   ]
  },
  {
   "cell_type": "code",
   "execution_count": 15,
   "metadata": {},
   "outputs": [
    {
     "data": {
      "text/plain": [
       "array(['Blue Point Brewing Company', 'Bomb Beer Company',\n",
       "       'Brooklyn Brewery', 'Butternuts Beer and Ale', 'Chatham Brewing',\n",
       "       'Dundee Brewing Company', 'Evil Twin Brewing', 'KelSo Beer Company',\n",
       "       'Matt Brewing Company', 'Montauk Brewing Company',\n",
       "       'Newburgh Brewing Company', 'Sixpoint Craft Ales',\n",
       "       'Southampton Publick House', 'The Bronx Brewery',\n",
       "       'The Manhattan Brewing Company', 'Upstate Brewing Company'], dtype=object)"
      ]
     },
     "execution_count": 15,
     "metadata": {},
     "output_type": "execute_result"
    }
   ],
   "source": [
    "df_NY = df[df['Location'].str.contains(\"NY\", na=False)]['Brewery'].sort_values(ascending = True).unique()\n",
    "df_NY"
   ]
  },
  {
   "cell_type": "code",
   "execution_count": 16,
   "metadata": {},
   "outputs": [
    {
     "data": {
      "text/plain": [
       "16"
      ]
     },
     "execution_count": 16,
     "metadata": {},
     "output_type": "execute_result"
    }
   ],
   "source": [
    "len(df_NY)"
   ]
  },
  {
   "cell_type": "markdown",
   "metadata": {},
   "source": [
    "# Measuring International Bitterness Units\n",
    "\n",
    "IBU stands for [International Bitterness Unit](http://www.thebrewenthusiast.com/ibus/), and while a lot of places like to brag about having the most bitter beer (it's an American thing!), IBUs don't necessary *mean anything*.\n",
    "\n",
    "Let's look at how different beers have different IBU measurements."
   ]
  },
  {
   "cell_type": "markdown",
   "metadata": {},
   "source": [
    "## What is the average IBU measurement across all beers?"
   ]
  },
  {
   "cell_type": "code",
   "execution_count": 17,
   "metadata": {},
   "outputs": [
    {
     "data": {
      "text/plain": [
       "42.713167259786474"
      ]
     },
     "execution_count": 17,
     "metadata": {},
     "output_type": "execute_result"
    }
   ],
   "source": [
    "df['IBUs'].mean()"
   ]
  },
  {
   "cell_type": "markdown",
   "metadata": {},
   "source": [
    "## Draw the distribution of IBU measurements, but with *thirty* bins instead of the default of 10"
   ]
  },
  {
   "cell_type": "code",
   "execution_count": 18,
   "metadata": {},
   "outputs": [
    {
     "data": {
      "text/plain": [
       "<matplotlib.axes._subplots.AxesSubplot at 0x1059ec630>"
      ]
     },
     "execution_count": 18,
     "metadata": {},
     "output_type": "execute_result"
    },
    {
     "data": {
      "image/png": "[encoded data removed]",
      "text/plain": [
       "<matplotlib.figure.Figure at 0x108117588>"
      ]
     },
     "metadata": {},
     "output_type": "display_data"
    }
   ],
   "source": [
    "df['IBUs'].plot(kind='hist', bins=30)"
   ]
  },
  {
   "cell_type": "markdown",
   "metadata": {},
   "source": [
    "## List all of the beers with IBUs above the 75th percentile"
   ]
  },
  {
   "cell_type": "code",
   "execution_count": 19,
   "metadata": {},
   "outputs": [
    {
     "data": {
      "text/plain": [
       "count    1405.000000\n",
       "mean       42.713167\n",
       "std        25.954066\n",
       "min         4.000000\n",
       "25%        21.000000\n",
       "50%        35.000000\n",
       "75%        64.000000\n",
       "max       138.000000\n",
       "Name: IBUs, dtype: float64"
      ]
     },
     "execution_count": 19,
     "metadata": {},
     "output_type": "execute_result"
    }
   ],
   "source": [
    "df['IBUs'].describe()"
   ]
  },
  {
   "cell_type": "code",
   "execution_count": 20,
   "metadata": {
    "scrolled": true
   },
   "outputs": [
    {
     "data": {
      "text/plain": [
       "735                                 077XX\n",
       "2394                              113 IPA\n",
       "1088                           12th Round\n",
       "568                     1916 Shore Shiver\n",
       "326                2014 IPA Cicada Series\n",
       "890                              2020 IPA\n",
       "1816            21st Amendment IPA (2006)\n",
       "524                        3:33 Black IPA\n",
       "1624                               3Beans\n",
       "272                       4000 Footer IPA\n",
       "1394                            5 Day IPA\n",
       "598                              8 Barrel\n",
       "59      98 Problems (Cuz A Hop Ain't One)\n",
       "493                 Abominable Winter Ale\n",
       "1726         Abominable Winter Ale (2012)\n",
       "2403                         Abrasive Ale\n",
       "1851                              Ace IPA\n",
       "737                           Almanac IPA\n",
       "1300                       Alphadelic IPA\n",
       "2084                Alphadelic IPA (2011)\n",
       "819                American India Red Ale\n",
       "2150                        Anti-Hero IPA\n",
       "582                             Arcus IPA\n",
       "528                                Aurora\n",
       "1074                   Autumnation (2013)\n",
       "2313                 Avery India Pale Ale\n",
       "927                                BLAKKR\n",
       "808                                BLAKKR\n",
       "269                          Back Bay IPA\n",
       "2267                        Back in Black\n",
       "                      ...                \n",
       "447                               Torpedo\n",
       "2139                              Torpedo\n",
       "62                           Train Hopper\n",
       "989                    Troopers Alley IPA\n",
       "648                            Tropicalia\n",
       "817                                 Truth\n",
       "501                           Tsunami IPA\n",
       "500                           Tsunami IPA\n",
       "1695         Twister Creek India Pale Ale\n",
       "274                Unchained #18 Hop Silo\n",
       "226                            Union Jack\n",
       "1337      Upslope Imperial India Pale Ale\n",
       "2181                       Upstate I.P.W.\n",
       "1163                  Valkyrie Double IPA\n",
       "652                            Vertex IPA\n",
       "2228                           Vortex IPA\n",
       "2218                                  WET\n",
       "663                     Wandering Pelican\n",
       "357                         Watershed IPA\n",
       "1644                 Watershed IPA (2013)\n",
       "2017                        Westbrook IPA\n",
       "1648                           Winterfest\n",
       "192                                Wobble\n",
       "967                  Wolf Among Weeds IPA\n",
       "1863          Wolf Among Weeds IPA (2012)\n",
       "1224          Wood Chipper India Pale Ale\n",
       "492                            Worthy IPA\n",
       "1149                    Worthy IPA (2013)\n",
       "288              Yellow Wolf Imperial IPA\n",
       "46                    Yeti Imperial Stout\n",
       "Name: Beer, Length: 346, dtype: object"
      ]
     },
     "execution_count": 20,
     "metadata": {},
     "output_type": "execute_result"
    }
   ],
   "source": [
    "beers_above_75_pcnt = df[df['IBUs'] > 64]\n",
    "beers_above_75_pcnt['Beer'].sort_values(ascending=True)"
   ]
  },
  {
   "cell_type": "code",
   "execution_count": 21,
   "metadata": {
    "scrolled": true
   },
   "outputs": [
    {
     "data": {
      "text/plain": [
       "35.0"
      ]
     },
     "execution_count": 21,
     "metadata": {},
     "output_type": "execute_result"
    }
   ],
   "source": [
    "# Alternative way: Using instructions from Python 03c\n",
    "# You know how to calculate the 50th percentile - it's the median of ALL of the values.\n",
    "# The 75th percentile should be the 50th percentile of only the top 50% of the values.\n",
    "\n",
    "# The top 50% of the values, are all the values above the median value\n",
    "# Calculating median value for all the values\n",
    "IBUS_median = df['IBUs'].median()\n",
    "IBUS_median"
   ]
  },
  {
   "cell_type": "code",
   "execution_count": 22,
   "metadata": {
    "collapsed": true
   },
   "outputs": [],
   "source": [
    "# Finding all the values above the median. These are the top 50% of the values\n",
    "IBUS_above_median = df[df['IBUs'] > IBUS_median]"
   ]
  },
  {
   "cell_type": "code",
   "execution_count": 23,
   "metadata": {
    "scrolled": true
   },
   "outputs": [
    {
     "data": {
      "text/plain": [
       "65.0"
      ]
     },
     "execution_count": 23,
     "metadata": {},
     "output_type": "execute_result"
    }
   ],
   "source": [
    "# Calculating the median for the values above the median. This is the 75th percentile.\n",
    "pcnt_75 = IBUS_above_median['IBUs'].median()\n",
    "pcnt_75"
   ]
  },
  {
   "cell_type": "code",
   "execution_count": 24,
   "metadata": {
    "scrolled": true
   },
   "outputs": [
    {
     "data": {
      "text/plain": [
       "735                                 077XX\n",
       "2394                              113 IPA\n",
       "1088                           12th Round\n",
       "568                     1916 Shore Shiver\n",
       "326                2014 IPA Cicada Series\n",
       "890                              2020 IPA\n",
       "1816            21st Amendment IPA (2006)\n",
       "524                        3:33 Black IPA\n",
       "1624                               3Beans\n",
       "272                       4000 Footer IPA\n",
       "1394                            5 Day IPA\n",
       "598                              8 Barrel\n",
       "59      98 Problems (Cuz A Hop Ain't One)\n",
       "493                 Abominable Winter Ale\n",
       "1726         Abominable Winter Ale (2012)\n",
       "2403                         Abrasive Ale\n",
       "1851                              Ace IPA\n",
       "737                           Almanac IPA\n",
       "1300                       Alphadelic IPA\n",
       "2084                Alphadelic IPA (2011)\n",
       "819                American India Red Ale\n",
       "2150                        Anti-Hero IPA\n",
       "582                             Arcus IPA\n",
       "528                                Aurora\n",
       "1074                   Autumnation (2013)\n",
       "2313                 Avery India Pale Ale\n",
       "927                                BLAKKR\n",
       "808                                BLAKKR\n",
       "269                          Back Bay IPA\n",
       "2267                        Back in Black\n",
       "                      ...                \n",
       "447                               Torpedo\n",
       "2139                              Torpedo\n",
       "62                           Train Hopper\n",
       "989                    Troopers Alley IPA\n",
       "648                            Tropicalia\n",
       "817                                 Truth\n",
       "501                           Tsunami IPA\n",
       "500                           Tsunami IPA\n",
       "1695         Twister Creek India Pale Ale\n",
       "274                Unchained #18 Hop Silo\n",
       "226                            Union Jack\n",
       "1337      Upslope Imperial India Pale Ale\n",
       "2181                       Upstate I.P.W.\n",
       "1163                  Valkyrie Double IPA\n",
       "652                            Vertex IPA\n",
       "2228                           Vortex IPA\n",
       "2218                                  WET\n",
       "663                     Wandering Pelican\n",
       "357                         Watershed IPA\n",
       "1644                 Watershed IPA (2013)\n",
       "2017                        Westbrook IPA\n",
       "1648                           Winterfest\n",
       "192                                Wobble\n",
       "967                  Wolf Among Weeds IPA\n",
       "1863          Wolf Among Weeds IPA (2012)\n",
       "1224          Wood Chipper India Pale Ale\n",
       "492                            Worthy IPA\n",
       "1149                    Worthy IPA (2013)\n",
       "288              Yellow Wolf Imperial IPA\n",
       "46                    Yeti Imperial Stout\n",
       "Name: Beer, Length: 346, dtype: object"
      ]
     },
     "execution_count": 24,
     "metadata": {},
     "output_type": "execute_result"
    }
   ],
   "source": [
    "# The list of all beers above the 75th percentile:\n",
    "beers_above_75 = df[df['IBUs'] >= pcnt_75]\n",
    "beers_above_75['Beer'].sort_values(ascending=True)"
   ]
  },
  {
   "cell_type": "markdown",
   "metadata": {},
   "source": [
    "## List all of the beers with IBUs below the 25th percentile"
   ]
  },
  {
   "cell_type": "code",
   "execution_count": 25,
   "metadata": {},
   "outputs": [
    {
     "data": {
      "text/plain": [
       "count    1405.000000\n",
       "mean       42.713167\n",
       "std        25.954066\n",
       "min         4.000000\n",
       "25%        21.000000\n",
       "50%        35.000000\n",
       "75%        64.000000\n",
       "max       138.000000\n",
       "Name: IBUs, dtype: float64"
      ]
     },
     "execution_count": 25,
     "metadata": {},
     "output_type": "execute_result"
    }
   ],
   "source": [
    "df['IBUs'].describe()"
   ]
  },
  {
   "cell_type": "code",
   "execution_count": 26,
   "metadata": {
    "scrolled": true
   },
   "outputs": [
    {
     "data": {
      "text/plain": [
       "2193                                             #9\n",
       "854                                              #9\n",
       "318                           18th Anniversary Gose\n",
       "1815    21st Amendment Watermelon Wheat Beer (2006)\n",
       "485                             312 Urban Wheat Ale\n",
       "839                             312 Urban Wheat Ale\n",
       "2011                     312 Urban Wheat Ale (2012)\n",
       "1299                             541 American Lager\n",
       "933                                             805\n",
       "925                                A Slice of Hefen\n",
       "2072                                    Abita Amber\n",
       "1139                                    Agave Wheat\n",
       "755                                   Alaskan Amber\n",
       "658                                       Ale Cider\n",
       "454                                  American Amber\n",
       "453                                  American Lager\n",
       "455                                  American Light\n",
       "1970                                         Apollo\n",
       "1756                                 Apricot Blonde\n",
       "574                                      Aprè Shred\n",
       "2060                                Atwater's Lager\n",
       "2333                                  Avalanche Ale\n",
       "1021                            Banner American Rye\n",
       "1577                             Barn Burner Saison\n",
       "1141                     Barney Flats Oatmeal Stout\n",
       "1430                     Barney Flats Oatmeal Stout\n",
       "2020              Barney Flats Oatmeal Stout (2012)\n",
       "165                                Bat Outta Helles\n",
       "748                                    Beach Blonde\n",
       "1272                                  Beaver Logger\n",
       "                           ...                     \n",
       "1979                        Wachusett Blueberry Ale\n",
       "1452                           Wagon Box Wheat Beer\n",
       "2                                        Wall's End\n",
       "2145                                  Washita Wheat\n",
       "254                                  Watermelon Ale\n",
       "268                                  Watermelon Ale\n",
       "1240                            Weiss Trash Culture\n",
       "2111                                   Weisse Versa\n",
       "314                             Weisse Versa (2012)\n",
       "139                                   Weissenheimer\n",
       "618                                       Weize Guy\n",
       "1340                                 Westbrook Gose\n",
       "31                                        Westfalia\n",
       "567                             What the Butler Saw\n",
       "1744                               Wheat the People\n",
       "910                        When Helles Freezes Over\n",
       "2312                                   White Rascal\n",
       "2016                                     White Thai\n",
       "792                                    Whitecap Wit\n",
       "2172                                        Whitsun\n",
       "960                                 Wick For Brains\n",
       "1771                                 Widespread Wit\n",
       "1414                                     Wild Night\n",
       "2165                          Wild Onion Summer Wit\n",
       "1453                        Wild Plum Farmhouse Ale\n",
       "1334         Wild Wolf Wee Heavy Scottish Style Ale\n",
       "2064                                Winter Solstice\n",
       "1190                        Wolverine Premium Lager\n",
       "1499                              Woolybugger Wheat\n",
       "169                              Yo Soy Un Berliner\n",
       "Name: Beer, Length: 338, dtype: object"
      ]
     },
     "execution_count": 26,
     "metadata": {},
     "output_type": "execute_result"
    }
   ],
   "source": [
    "beers_below_25_pcnt = df[df['IBUs'] < 21]\n",
    "beers_below_25_pcnt['Beer'].sort_values(ascending = True)"
   ]
  },
  {
   "cell_type": "code",
   "execution_count": 27,
   "metadata": {
    "collapsed": true
   },
   "outputs": [],
   "source": [
    "# Similarly with the alternative way for above the 75th percentile,\n",
    "#the 25th percentile should be the 50th percentile of only the bottom 50% of the values.\n",
    "\n",
    "# The bootom 50% of the values, are all the values below the median value\n",
    "IBUS_below_median = df[df['IBUs'] < IBUS_median]"
   ]
  },
  {
   "cell_type": "code",
   "execution_count": 28,
   "metadata": {
    "scrolled": true
   },
   "outputs": [
    {
     "data": {
      "text/plain": [
       "20.0"
      ]
     },
     "execution_count": 28,
     "metadata": {},
     "output_type": "execute_result"
    }
   ],
   "source": [
    "# Calculating the median for the values below the median. This is the 25th percentile.\n",
    "pcnt_25 = IBUS_below_median['IBUs'].median()\n",
    "pcnt_25"
   ]
  },
  {
   "cell_type": "code",
   "execution_count": 29,
   "metadata": {},
   "outputs": [
    {
     "data": {
      "text/plain": [
       "2193                                             #9\n",
       "854                                              #9\n",
       "318                           18th Anniversary Gose\n",
       "1815    21st Amendment Watermelon Wheat Beer (2006)\n",
       "485                             312 Urban Wheat Ale\n",
       "839                             312 Urban Wheat Ale\n",
       "2011                     312 Urban Wheat Ale (2012)\n",
       "1299                             541 American Lager\n",
       "933                                             805\n",
       "925                                A Slice of Hefen\n",
       "2072                                    Abita Amber\n",
       "1139                                    Agave Wheat\n",
       "755                                   Alaskan Amber\n",
       "658                                       Ale Cider\n",
       "454                                  American Amber\n",
       "453                                  American Lager\n",
       "455                                  American Light\n",
       "1970                                         Apollo\n",
       "1756                                 Apricot Blonde\n",
       "574                                      Aprè Shred\n",
       "2060                                Atwater's Lager\n",
       "2333                                  Avalanche Ale\n",
       "1021                            Banner American Rye\n",
       "1577                             Barn Burner Saison\n",
       "1141                     Barney Flats Oatmeal Stout\n",
       "1430                     Barney Flats Oatmeal Stout\n",
       "2020              Barney Flats Oatmeal Stout (2012)\n",
       "165                                Bat Outta Helles\n",
       "748                                    Beach Blonde\n",
       "1272                                  Beaver Logger\n",
       "                           ...                     \n",
       "1979                        Wachusett Blueberry Ale\n",
       "1452                           Wagon Box Wheat Beer\n",
       "2                                        Wall's End\n",
       "2145                                  Washita Wheat\n",
       "254                                  Watermelon Ale\n",
       "268                                  Watermelon Ale\n",
       "1240                            Weiss Trash Culture\n",
       "2111                                   Weisse Versa\n",
       "314                             Weisse Versa (2012)\n",
       "139                                   Weissenheimer\n",
       "618                                       Weize Guy\n",
       "1340                                 Westbrook Gose\n",
       "31                                        Westfalia\n",
       "567                             What the Butler Saw\n",
       "1744                               Wheat the People\n",
       "910                        When Helles Freezes Over\n",
       "2312                                   White Rascal\n",
       "2016                                     White Thai\n",
       "792                                    Whitecap Wit\n",
       "2172                                        Whitsun\n",
       "960                                 Wick For Brains\n",
       "1771                                 Widespread Wit\n",
       "1414                                     Wild Night\n",
       "2165                          Wild Onion Summer Wit\n",
       "1453                        Wild Plum Farmhouse Ale\n",
       "1334         Wild Wolf Wee Heavy Scottish Style Ale\n",
       "2064                                Winter Solstice\n",
       "1190                        Wolverine Premium Lager\n",
       "1499                              Woolybugger Wheat\n",
       "169                              Yo Soy Un Berliner\n",
       "Name: Beer, Length: 338, dtype: object"
      ]
     },
     "execution_count": 29,
     "metadata": {},
     "output_type": "execute_result"
    }
   ],
   "source": [
    "# The list of all beers below the 25th percentile:\n",
    "beer_below_25 = df[df['IBUs'] <= pcnt_25]\n",
    "beer_below_25['Beer'].sort_values(ascending=True)"
   ]
  },
  {
   "cell_type": "markdown",
   "metadata": {},
   "source": [
    "## List the median IBUs of each type of beer. Graph it.\n",
    "\n",
    "Put the highest at the top, and the nan ones at the bottom. I want a nice graph, too - don't let them all be squished together, either!"
   ]
  },
  {
   "cell_type": "code",
   "execution_count": 30,
   "metadata": {
    "scrolled": true
   },
   "outputs": [
    {
     "data": {
      "text/plain": [
       "Style\n",
       "American Barleywine                    96.0\n",
       "Russian Imperial Stout                 94.0\n",
       "American Double / Imperial IPA         91.0\n",
       "American Double / Imperial Pilsner     85.0\n",
       "American Black Ale                     73.0\n",
       "Belgian Strong Dark Ale                72.0\n",
       "American Strong Ale                    70.0\n",
       "American IPA                           69.0\n",
       "English Stout                          66.0\n",
       "American India Pale Lager              65.0\n",
       "Belgian IPA                            61.0\n",
       "English Barleywine                     60.0\n",
       "Rye Beer                               57.0\n",
       "Baltic Porter                          52.0\n",
       "English Strong Ale                     52.0\n",
       "American Double / Imperial Stout       51.0\n",
       "English India Pale Ale (IPA)           47.0\n",
       "American White IPA                     45.0\n",
       "American Pale Ale (APA)                44.0\n",
       "Extra Special / Strong Bitter (ESB)    41.0\n",
       "California Common / Steam Beer         41.0\n",
       "Old Ale                                40.0\n",
       "American Stout                         40.0\n",
       "Altbier                                36.5\n",
       "Foreign / Export Stout                 36.0\n",
       "Smoked Beer                            35.0\n",
       "Belgian Dark Ale                       35.0\n",
       "German Pilsener                        35.0\n",
       "Irish Dry Stout                        34.0\n",
       "Czech Pilsener                         33.0\n",
       "                                       ... \n",
       "Munich Dunkel Lager                    21.0\n",
       "English Brown Ale                      20.5\n",
       "American Blonde Ale                    20.0\n",
       "American Pale Wheat Ale                20.0\n",
       "Roggenbier                             20.0\n",
       "Pumpkin Ale                            20.0\n",
       "Keller Bier / Zwickel Bier             20.0\n",
       "Cream Ale                              20.0\n",
       "American Pale Lager                    18.5\n",
       "Munich Helles Lager                    18.0\n",
       "English Pale Mild Ale                  16.0\n",
       "Dunkelweizen                           16.0\n",
       "Other                                  16.0\n",
       "Witbier                                15.5\n",
       "Fruit / Vegetable Beer                 15.5\n",
       "Herbed / Spiced Beer                   15.0\n",
       "Hefeweizen                             15.0\n",
       "Light Lager                            12.0\n",
       "Gose                                   10.0\n",
       "American Adjunct Lager                  9.0\n",
       "Berliner Weissbier                      8.0\n",
       "American Malt Liquor                    NaN\n",
       "Braggot                                 NaN\n",
       "Cider                                   NaN\n",
       "Flanders Red Ale                        NaN\n",
       "Kristalweizen                           NaN\n",
       "Low Alcohol Beer                        NaN\n",
       "Mead                                    NaN\n",
       "Rauchbier                               NaN\n",
       "Shandy                                  NaN\n",
       "Name: IBUs, Length: 99, dtype: float64"
      ]
     },
     "execution_count": 30,
     "metadata": {},
     "output_type": "execute_result"
    }
   ],
   "source": [
    "median_IBUS = df.groupby('Style')['IBUs'].median().sort_values(ascending = False, na_position='last')\n",
    "median_IBUS"
   ]
  },
  {
   "cell_type": "code",
   "execution_count": 31,
   "metadata": {
    "scrolled": true
   },
   "outputs": [
    {
     "data": {
      "text/plain": [
       "<matplotlib.axes._subplots.AxesSubplot at 0x1086aef60>"
      ]
     },
     "execution_count": 31,
     "metadata": {},
     "output_type": "execute_result"
    },
    {
     "data": {
      "image/png": "[encoded data removed]",
      "text/plain": [
       "<matplotlib.figure.Figure at 0x108696e10>"
      ]
     },
     "metadata": {},
     "output_type": "display_data"
    }
   ],
   "source": [
    "median_IBUS.dropna().sort_values(ascending=True).plot(kind='barh', figsize=(25,30))"
   ]
  },
  {
   "cell_type": "markdown",
   "metadata": {},
   "source": [
    "## Hmmmm, it looks like they are generally different styles. What are the most common 5 styles of high-IBU beer vs. low-IBU beer?\n",
    "\n",
    "You'll want to think about it in three pieces - finding the high IBU beers, then finding out what the most common styles are, then getting the top 5."
   ]
  },
  {
   "cell_type": "code",
   "execution_count": 32,
   "metadata": {},
   "outputs": [
    {
     "data": {
      "text/plain": [
       "Style\n",
       "American Barleywine                   96.0\n",
       "Russian Imperial Stout                94.0\n",
       "American Double / Imperial IPA        91.0\n",
       "American Double / Imperial Pilsner    85.0\n",
       "American Black Ale                    73.0\n",
       "Name: IBUs, dtype: float64"
      ]
     },
     "execution_count": 32,
     "metadata": {},
     "output_type": "execute_result"
    }
   ],
   "source": [
    "high_IBUs = median_IBUS = df.groupby('Style')['IBUs'].median().sort_values(ascending = False, na_position='last').head(5)\n",
    "high_IBUs"
   ]
  },
  {
   "cell_type": "code",
   "execution_count": 33,
   "metadata": {},
   "outputs": [
    {
     "data": {
      "text/plain": [
       "Style\n",
       "Hefeweizen                15.0\n",
       "Light Lager               12.0\n",
       "Gose                      10.0\n",
       "American Adjunct Lager     9.0\n",
       "Berliner Weissbier         8.0\n",
       "Name: IBUs, dtype: float64"
      ]
     },
     "execution_count": 33,
     "metadata": {},
     "output_type": "execute_result"
    }
   ],
   "source": [
    "low_IBUs = median_IBUS = df.groupby('Style')['IBUs'].median().sort_values(ascending = False, na_position='last')\n",
    "low_IBUs.dropna().tail(5)"
   ]
  },
  {
   "cell_type": "markdown",
   "metadata": {},
   "source": [
    "## Get the average IBU of \"Witbier\", \"Hefeweizen\" and \"American Pale Wheat Ale\" styles (also draw a histogram)\n",
    "\n",
    "I want ONE measurement and ONE graph, not three separate ones. And 20 to 30 bins in the histogram, please."
   ]
  },
  {
   "cell_type": "code",
   "execution_count": 34,
   "metadata": {},
   "outputs": [
    {
     "data": {
      "text/plain": [
       "18.982142857142858"
      ]
     },
     "execution_count": 34,
     "metadata": {},
     "output_type": "execute_result"
    }
   ],
   "source": [
    "beers = ['Witbier', 'Hefeweizen', 'American Pale Wheat Ale']\n",
    "beers_IBUs = df[df['Style'].isin(beers)]['IBUs']\n",
    "beers_IBUs.mean()"
   ]
  },
  {
   "cell_type": "code",
   "execution_count": 35,
   "metadata": {},
   "outputs": [
    {
     "data": {
      "text/plain": [
       "<matplotlib.axes._subplots.AxesSubplot at 0x108d15e48>"
      ]
     },
     "execution_count": 35,
     "metadata": {},
     "output_type": "execute_result"
    },
    {
     "data": {
      "image/png": "[encoded data removed]",
      "text/plain": [
       "<matplotlib.figure.Figure at 0x108cc8d68>"
      ]
     },
     "metadata": {},
     "output_type": "display_data"
    }
   ],
   "source": [
    "beers_IBUs_hist = beers_IBUs.plot(kind='hist', bins = 30)\n",
    "beers_IBUs_hist"
   ]
  },
  {
   "cell_type": "markdown",
   "metadata": {},
   "source": [
    "## Get the average IBU of any style with \"IPA\" in it (also draw a histogram)"
   ]
  },
  {
   "cell_type": "code",
   "execution_count": 36,
   "metadata": {},
   "outputs": [
    {
     "data": {
      "text/plain": [
       "71.948979591836732"
      ]
     },
     "execution_count": 36,
     "metadata": {},
     "output_type": "execute_result"
    }
   ],
   "source": [
    "IPA_beers = df[df['Style'].str.contains('IPA', na=False)]\n",
    "IPA_beers_avg = IPA_beers['IBUs'].mean()\n",
    "IPA_beers_avg"
   ]
  },
  {
   "cell_type": "code",
   "execution_count": 37,
   "metadata": {},
   "outputs": [
    {
     "data": {
      "text/plain": [
       "<matplotlib.axes._subplots.AxesSubplot at 0x10af677b8>"
      ]
     },
     "execution_count": 37,
     "metadata": {},
     "output_type": "execute_result"
    },
    {
     "data": {
      "image/png": "[encoded data removed]",
      "text/plain": [
       "<matplotlib.figure.Figure at 0x108789320>"
      ]
     },
     "metadata": {},
     "output_type": "display_data"
    }
   ],
   "source": [
    "df[df['Style'].str.contains('IPA', na=False)]['IBUs'].plot(kind='hist', bins = 30)"
   ]
  },
  {
   "cell_type": "markdown",
   "metadata": {},
   "source": [
    "## Plot those two histograms on top of one another"
   ]
  },
  {
   "cell_type": "code",
   "execution_count": 38,
   "metadata": {},
   "outputs": [
    {
     "data": {
      "text/plain": [
       "<matplotlib.axes._subplots.AxesSubplot at 0x10b05bd68>"
      ]
     },
     "execution_count": 38,
     "metadata": {},
     "output_type": "execute_result"
    },
    {
     "data": {
      "image/png": "[encoded data removed]",
      "text/plain": [
       "<matplotlib.figure.Figure at 0x10b0065f8>"
      ]
     },
     "metadata": {},
     "output_type": "display_data"
    }
   ],
   "source": [
    "ax = df[df['Style'].isin(beers)]['IBUs'].plot(kind='hist', color='#769BCC', bins = 15)\n",
    "df[df['Style'].str.contains('IPA', na=False)]['IBUs'].plot(kind='hist', bins = 15, color='#112F65', ax = ax, alpha=0.3)"
   ]
  },
  {
   "cell_type": "markdown",
   "metadata": {},
   "source": [
    "## Compare the ABV of wheat beers vs. IPAs "
   ]
  },
  {
   "cell_type": "code",
   "execution_count": 39,
   "metadata": {},
   "outputs": [
    {
     "data": {
      "text/plain": [
       "4.8754901960784318"
      ]
     },
     "execution_count": 39,
     "metadata": {},
     "output_type": "execute_result"
    }
   ],
   "source": [
    "wheat_beers = df[df['Style'].str.contains(\"Wheat\", na=False)]\n",
    "wheat_beers['ABV'].mean()"
   ]
  },
  {
   "cell_type": "code",
   "execution_count": 40,
   "metadata": {},
   "outputs": [
    {
     "data": {
      "text/plain": [
       "6.8792857142857136"
      ]
     },
     "execution_count": 40,
     "metadata": {},
     "output_type": "execute_result"
    }
   ],
   "source": [
    "ipa_beers = df[df['Style'].str.contains(\"IPA\", na=False)]\n",
    "ipa_beers['ABV'].mean()\n",
    "#ipa_beers.dtypes"
   ]
  }
 ],
 "metadata": {
  "kernelspec": {
   "display_name": "Python 3",
   "language": "python",
   "name": "python3"
  },
  "language_info": {
   "codemirror_mode": {
    "name": "ipython",
    "version": 3
   },
   "file_extension": ".py",
   "mimetype": "text/x-python",
   "name": "python",
   "nbconvert_exporter": "python",
   "pygments_lexer": "ipython3",
   "version": "3.6.1"
  }
 },
 "nbformat": 4,
 "nbformat_minor": 2
}
