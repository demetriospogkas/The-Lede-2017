{
 "cells": [
  {
   "cell_type": "markdown",
   "metadata": {},
   "source": [
    "# Exercise: NEISS, Question Set R\n",
    "\n",
    "#### Summary\n",
    "\n",
    "The [National Electronic Injury Surveillance System](https://www.cpsc.gov/Safety-Education/Safety-Guides/General-Information/National-Electronic-Injury-Surveillance-System-NEISS) is a data product produced by the US Consumer Product Safety Commission. It tracks emergency room injuries related to consumer products (e.g., \"a door fell on me!\").\n",
    "\n",
    "#### Files\n",
    "\n",
    "- **nss15.tsv**: injury data (one injury per row)\n",
    "- **2017NEISSCodingManualCPSConlyNontrauma.pdf**: column definitions and explanations\n",
    "- **2015 Neiss data highlights.pdf**: a partial summary of the data\n",
    "- **2017ComparabilityTable.pdf**: product code definitions\n",
    "- **categories-cleaned.txt**: product code definitions in CSV format (great for joining!)\n",
    "\n",
    "#### Source\n",
    "\n",
    "https://www.cpsc.gov/Safety-Education/Safety-Guides/General-Information/National-Electronic-Injury-Surveillance-System-NEISS\n",
    "\n",
    "#### Skills\n",
    "\n",
    "- Using codebooks\n",
    "- Reading tab-separated files\n",
    "- Ignoring bad lines\n",
    "- Replacing LOTS of values\n",
    "- Merging dataframes\n",
    "- Using numpy/`np.nan`\n",
    "- Padding strings\n",
    "- String search using regular expressions"
   ]
  },
  {
   "cell_type": "markdown",
   "metadata": {},
   "source": [
    "# Read in `nss15.tsv`\n",
    "\n",
    "Some of the lines just **aren't formatted correctly**. Maybe we can avoid those?"
   ]
  },
  {
   "cell_type": "code",
   "execution_count": 1,
   "metadata": {
    "collapsed": true
   },
   "outputs": [],
   "source": [
    "import pandas as pd"
   ]
  },
  {
   "cell_type": "code",
   "execution_count": 2,
   "metadata": {
    "scrolled": true
   },
   "outputs": [
    {
     "name": "stderr",
     "output_type": "stream",
     "text": [
      "b'Skipping line 10822: expected 19 fields, saw 20\\n'\n",
      "b'Skipping line 48623: expected 19 fields, saw 20\\nSkipping line 62534: expected 19 fields, saw 20\\n'\n",
      "b'Skipping line 103739: expected 19 fields, saw 20\\n'\n",
      "b'Skipping line 135495: expected 19 fields, saw 20\\nSkipping line 151678: expected 19 fields, saw 20\\n'\n",
      "b'Skipping line 237135: expected 19 fields, saw 20\\nSkipping line 240597: expected 19 fields, saw 20\\n'\n",
      "b'Skipping line 274270: expected 19 fields, saw 20\\nSkipping line 277461: expected 19 fields, saw 20\\n'\n"
     ]
    }
   ],
   "source": [
    "dfnss15 = pd.read_csv('nss15.tsv', sep='\\t', error_bad_lines=False, converters={'prod1': str, 'prod2':str})"
   ]
  },
  {
   "cell_type": "code",
   "execution_count": 3,
   "metadata": {},
   "outputs": [
    {
     "data": {
      "text/html": [
       "<div>\n",
       "<style>\n",
       "    .dataframe thead tr:only-child th {\n",
       "        text-align: right;\n",
       "    }\n",
       "\n",
       "    .dataframe thead th {\n",
       "        text-align: left;\n",
       "    }\n",
       "\n",
       "    .dataframe tbody tr th {\n",
       "        vertical-align: top;\n",
       "    }\n",
       "</style>\n",
       "<table border=\"1\" class=\"dataframe\">\n",
       "  <thead>\n",
       "    <tr style=\"text-align: right;\">\n",
       "      <th></th>\n",
       "      <th>CPSC Case #</th>\n",
       "      <th>trmt_date</th>\n",
       "      <th>psu</th>\n",
       "      <th>weight</th>\n",
       "      <th>stratum</th>\n",
       "      <th>age</th>\n",
       "      <th>sex</th>\n",
       "      <th>race</th>\n",
       "      <th>race_other</th>\n",
       "      <th>diag</th>\n",
       "      <th>diag_other</th>\n",
       "      <th>body_part</th>\n",
       "      <th>disposition</th>\n",
       "      <th>location</th>\n",
       "      <th>fmv</th>\n",
       "      <th>prod1</th>\n",
       "      <th>prod2</th>\n",
       "      <th>narr1</th>\n",
       "      <th>narr2</th>\n",
       "    </tr>\n",
       "  </thead>\n",
       "  <tbody>\n",
       "    <tr>\n",
       "      <th>0</th>\n",
       "      <td>150733174</td>\n",
       "      <td>07/11/2015</td>\n",
       "      <td>38</td>\n",
       "      <td>15.7762</td>\n",
       "      <td>V</td>\n",
       "      <td>5</td>\n",
       "      <td>1</td>\n",
       "      <td>0</td>\n",
       "      <td>NaN</td>\n",
       "      <td>57</td>\n",
       "      <td>NaN</td>\n",
       "      <td>33</td>\n",
       "      <td>1</td>\n",
       "      <td>9</td>\n",
       "      <td>0</td>\n",
       "      <td>1267</td>\n",
       "      <td></td>\n",
       "      <td>5 YR OLD MALE PLAYING SOCCER BLOCKING BALL AND...</td>\n",
       "      <td>X IT</td>\n",
       "    </tr>\n",
       "    <tr>\n",
       "      <th>1</th>\n",
       "      <td>150734723</td>\n",
       "      <td>07/06/2015</td>\n",
       "      <td>43</td>\n",
       "      <td>83.2157</td>\n",
       "      <td>S</td>\n",
       "      <td>36</td>\n",
       "      <td>1</td>\n",
       "      <td>1</td>\n",
       "      <td>NaN</td>\n",
       "      <td>57</td>\n",
       "      <td>NaN</td>\n",
       "      <td>34</td>\n",
       "      <td>1</td>\n",
       "      <td>1</td>\n",
       "      <td>0</td>\n",
       "      <td>1439</td>\n",
       "      <td>4057</td>\n",
       "      <td>L WRIST FX(?)/36YOWM 2 WKS AGO@G-FRIENDS HM,MO...</td>\n",
       "      <td>AN OBJECT&amp;TWISTED WRIST TRYING TO CONTOL MOWER...</td>\n",
       "    </tr>\n",
       "    <tr>\n",
       "      <th>2</th>\n",
       "      <td>150817487</td>\n",
       "      <td>08/02/2015</td>\n",
       "      <td>51</td>\n",
       "      <td>74.8813</td>\n",
       "      <td>L</td>\n",
       "      <td>20</td>\n",
       "      <td>2</td>\n",
       "      <td>0</td>\n",
       "      <td>NaN</td>\n",
       "      <td>71</td>\n",
       "      <td>OTITIS EXTERNA</td>\n",
       "      <td>94</td>\n",
       "      <td>1</td>\n",
       "      <td>0</td>\n",
       "      <td>0</td>\n",
       "      <td>3274</td>\n",
       "      <td></td>\n",
       "      <td>20 YO F C/O EAR PAIN 1 DAY SAS WAS SWIMMING YE...</td>\n",
       "      <td>T TRIED TO USE ***S TO REMOVE WAX MADE IT WORS...</td>\n",
       "    </tr>\n",
       "    <tr>\n",
       "      <th>3</th>\n",
       "      <td>150717776</td>\n",
       "      <td>06/26/2015</td>\n",
       "      <td>41</td>\n",
       "      <td>15.7762</td>\n",
       "      <td>V</td>\n",
       "      <td>61</td>\n",
       "      <td>1</td>\n",
       "      <td>0</td>\n",
       "      <td>NaN</td>\n",
       "      <td>71</td>\n",
       "      <td>PAIN</td>\n",
       "      <td>35</td>\n",
       "      <td>1</td>\n",
       "      <td>0</td>\n",
       "      <td>0</td>\n",
       "      <td>611</td>\n",
       "      <td></td>\n",
       "      <td>61YOM W/KNEE PAIN S/P FALLING IN SHOWER 2 DAYS...</td>\n",
       "      <td>NaN</td>\n",
       "    </tr>\n",
       "    <tr>\n",
       "      <th>4</th>\n",
       "      <td>150721694</td>\n",
       "      <td>07/04/2015</td>\n",
       "      <td>42</td>\n",
       "      <td>74.8813</td>\n",
       "      <td>L</td>\n",
       "      <td>88</td>\n",
       "      <td>2</td>\n",
       "      <td>3</td>\n",
       "      <td>HISPANIC</td>\n",
       "      <td>62</td>\n",
       "      <td>NaN</td>\n",
       "      <td>75</td>\n",
       "      <td>1</td>\n",
       "      <td>0</td>\n",
       "      <td>0</td>\n",
       "      <td>1893</td>\n",
       "      <td>1807</td>\n",
       "      <td>88YOF PAIN TO HEAD WHEN FALL TO FLOOR WHEN WAL...</td>\n",
       "      <td>DOOR AND FELL.DENIES LOC. DX HEAD INJURY</td>\n",
       "    </tr>\n",
       "    <tr>\n",
       "      <th>5</th>\n",
       "      <td>150721815</td>\n",
       "      <td>07/02/2015</td>\n",
       "      <td>32</td>\n",
       "      <td>5.6748</td>\n",
       "      <td>C</td>\n",
       "      <td>216</td>\n",
       "      <td>2</td>\n",
       "      <td>1</td>\n",
       "      <td>NaN</td>\n",
       "      <td>71</td>\n",
       "      <td>DOG SCRATCH/BITE</td>\n",
       "      <td>76</td>\n",
       "      <td>1</td>\n",
       "      <td>1</td>\n",
       "      <td>0</td>\n",
       "      <td>1715</td>\n",
       "      <td></td>\n",
       "      <td>16 MOF AT HOME PULLED FAMILY DOG-HUSKIES COLLA...</td>\n",
       "      <td>ND SCRAPING TEETH ON PTS FACE, NOT A TRUE BITE...</td>\n",
       "    </tr>\n",
       "  </tbody>\n",
       "</table>\n",
       "</div>"
      ],
      "text/plain": [
       "   CPSC Case #   trmt_date  psu   weight stratum  age  sex  race race_other  \\\n",
       "0    150733174  07/11/2015   38  15.7762       V    5    1     0        NaN   \n",
       "1    150734723  07/06/2015   43  83.2157       S   36    1     1        NaN   \n",
       "2    150817487  08/02/2015   51  74.8813       L   20    2     0        NaN   \n",
       "3    150717776  06/26/2015   41  15.7762       V   61    1     0        NaN   \n",
       "4    150721694  07/04/2015   42  74.8813       L   88    2     3   HISPANIC   \n",
       "5    150721815  07/02/2015   32   5.6748       C  216    2     1        NaN   \n",
       "\n",
       "   diag        diag_other  body_part  disposition  location  fmv prod1 prod2  \\\n",
       "0    57               NaN         33            1         9    0  1267         \n",
       "1    57               NaN         34            1         1    0  1439  4057   \n",
       "2    71    OTITIS EXTERNA         94            1         0    0  3274         \n",
       "3    71              PAIN         35            1         0    0   611         \n",
       "4    62               NaN         75            1         0    0  1893  1807   \n",
       "5    71  DOG SCRATCH/BITE         76            1         1    0  1715         \n",
       "\n",
       "                                               narr1  \\\n",
       "0  5 YR OLD MALE PLAYING SOCCER BLOCKING BALL AND...   \n",
       "1  L WRIST FX(?)/36YOWM 2 WKS AGO@G-FRIENDS HM,MO...   \n",
       "2  20 YO F C/O EAR PAIN 1 DAY SAS WAS SWIMMING YE...   \n",
       "3  61YOM W/KNEE PAIN S/P FALLING IN SHOWER 2 DAYS...   \n",
       "4  88YOF PAIN TO HEAD WHEN FALL TO FLOOR WHEN WAL...   \n",
       "5  16 MOF AT HOME PULLED FAMILY DOG-HUSKIES COLLA...   \n",
       "\n",
       "                                               narr2  \n",
       "0                                               X IT  \n",
       "1  AN OBJECT&TWISTED WRIST TRYING TO CONTOL MOWER...  \n",
       "2  T TRIED TO USE ***S TO REMOVE WAX MADE IT WORS...  \n",
       "3                                                NaN  \n",
       "4           DOOR AND FELL.DENIES LOC. DX HEAD INJURY  \n",
       "5  ND SCRAPING TEETH ON PTS FACE, NOT A TRUE BITE...  "
      ]
     },
     "execution_count": 3,
     "metadata": {},
     "output_type": "execute_result"
    }
   ],
   "source": [
    "dfnss15.head(6)"
   ]
  },
  {
   "cell_type": "markdown",
   "metadata": {},
   "source": [
    "### Check that your dataframe has 357727 rows and 19 columns."
   ]
  },
  {
   "cell_type": "code",
   "execution_count": 4,
   "metadata": {},
   "outputs": [
    {
     "data": {
      "text/plain": [
       "(357727, 19)"
      ]
     },
     "execution_count": 4,
     "metadata": {},
     "output_type": "execute_result"
    }
   ],
   "source": [
    "dfnss15.shape"
   ]
  },
  {
   "cell_type": "markdown",
   "metadata": {},
   "source": [
    "### List the columns and their data types"
   ]
  },
  {
   "cell_type": "code",
   "execution_count": 5,
   "metadata": {},
   "outputs": [
    {
     "data": {
      "text/plain": [
       "CPSC Case #      int64\n",
       "trmt_date       object\n",
       "psu              int64\n",
       "weight         float64\n",
       "stratum         object\n",
       "age              int64\n",
       "sex              int64\n",
       "race             int64\n",
       "race_other      object\n",
       "diag             int64\n",
       "diag_other      object\n",
       "body_part        int64\n",
       "disposition      int64\n",
       "location         int64\n",
       "fmv              int64\n",
       "prod1           object\n",
       "prod2           object\n",
       "narr1           object\n",
       "narr2           object\n",
       "dtype: object"
      ]
     },
     "execution_count": 5,
     "metadata": {},
     "output_type": "execute_result"
    }
   ],
   "source": [
    "dfnss15.dtypes"
   ]
  },
  {
   "cell_type": "markdown",
   "metadata": {},
   "source": [
    "### What does each column mean?"
   ]
  },
  {
   "cell_type": "code",
   "execution_count": 6,
   "metadata": {
    "collapsed": true
   },
   "outputs": [],
   "source": [
    "# Body Part Affected\n",
    "\n",
    "# Use the codes in the table which follows for the body part affected\n",
    "# in the product related incident. Also see Appendix C. The body part diagram\n",
    "# in Appendix D will help you visualize more clearly the boundaries of such parts\n",
    "# as lower trunk, upper arm, etc.\n",
    "# In general, if an injury affects more than one body part, code the body part that\n",
    "# seems to be most seriously hurt. Then, mention other body parts in the Comments.\n",
    "# Special rules for back injuries, burn injuries, extremity injuries, eye injuries,\n",
    "# head injuries and injuries which affect the entire body are discussed in the\n",
    "# section which follows the body part table."
   ]
  },
  {
   "cell_type": "markdown",
   "metadata": {},
   "source": [
    "# Cleaning up a column\n",
    "\n",
    "Take a look at the **body part** column. How many rows of each body part are there?"
   ]
  },
  {
   "cell_type": "code",
   "execution_count": 7,
   "metadata": {},
   "outputs": [
    {
     "data": {
      "text/plain": [
       "75    58677\n",
       "76    30992\n",
       "79    30579\n",
       "92    30463\n",
       "37    20077\n",
       "31    19518\n",
       "35    18957\n",
       "82    17077\n",
       "83    15890\n",
       "30    14822\n",
       "33    13655\n",
       "36    12771\n",
       "34    11565\n",
       "32     8888\n",
       "85     8615\n",
       "88     7336\n",
       "93     7299\n",
       "89     6145\n",
       "77     4661\n",
       "94     4404\n",
       "81     4174\n",
       "80     4016\n",
       "0      3344\n",
       "87     2079\n",
       "38     1699\n",
       "84       24\n",
       "Name: body_part, dtype: int64"
      ]
     },
     "execution_count": 7,
     "metadata": {},
     "output_type": "execute_result"
    }
   ],
   "source": [
    "dfnss15.body_part.value_counts(dropna=False)"
   ]
  },
  {
   "cell_type": "markdown",
   "metadata": {},
   "source": [
    "## Replace the numbers with the appropriate words they stand for.\n",
    "\n",
    "Those numbers are terrible - codes are fine for storage but not really for reading. **Replace the numbers with the  words they stand for.**\n",
    "\n",
    "Refer to pages 11-12 of the column definitions file, or... hey, I typed it in below!\n",
    "\n",
    "- Tip: If I've already talked about how to replace values, maybe there's a really easy way to replace a lot at once? Maybe I'll tell you if you ask me?"
   ]
  },
  {
   "cell_type": "code",
   "execution_count": 8,
   "metadata": {
    "collapsed": true
   },
   "outputs": [],
   "source": [
    "dfnss15.body_part.replace(\n",
    "{0:  'internal',\n",
    "30: 'shoulder',\n",
    "31: 'upper trunk',\n",
    "32: 'elbow',\n",
    "33: 'lower arm',\n",
    "34: 'wrist',\n",
    "35: 'knee',\n",
    "36: 'lower leg',\n",
    "37: 'ankle',\n",
    "38: 'pubic region',\n",
    "75: 'head',\n",
    "76: 'face',\n",
    "77: 'eyeball',\n",
    "79: 'lower trunk',\n",
    "80: 'upper arm',\n",
    "81: 'upper leg',\n",
    "82: 'hand',\n",
    "83: 'foot',\n",
    "84: '25-50% of body',\n",
    "85: 'all parts of body',\n",
    "87: 'not recorded',\n",
    "88: 'mouth',\n",
    "89: 'neck',\n",
    "92: 'finger',\n",
    "93: 'toe',\n",
    "94: 'ear'}, inplace=True)"
   ]
  },
  {
   "cell_type": "markdown",
   "metadata": {},
   "source": [
    "## Confirm you have 58677 head, 30992 face, and 30579 lower trunk.\n",
    "\n",
    "Isn't this much nicer?"
   ]
  },
  {
   "cell_type": "code",
   "execution_count": 9,
   "metadata": {},
   "outputs": [
    {
     "data": {
      "text/plain": [
       "head                 58677\n",
       "face                 30992\n",
       "lower trunk          30579\n",
       "finger               30463\n",
       "ankle                20077\n",
       "upper trunk          19518\n",
       "knee                 18957\n",
       "hand                 17077\n",
       "foot                 15890\n",
       "shoulder             14822\n",
       "lower arm            13655\n",
       "lower leg            12771\n",
       "wrist                11565\n",
       "elbow                 8888\n",
       "all parts of body     8615\n",
       "mouth                 7336\n",
       "toe                   7299\n",
       "neck                  6145\n",
       "eyeball               4661\n",
       "ear                   4404\n",
       "upper leg             4174\n",
       "upper arm             4016\n",
       "internal              3344\n",
       "not recorded          2079\n",
       "pubic region          1699\n",
       "25-50% of body          24\n",
       "Name: body_part, dtype: int64"
      ]
     },
     "execution_count": 9,
     "metadata": {},
     "output_type": "execute_result"
    }
   ],
   "source": [
    "dfnss15.body_part.value_counts(dropna=False)"
   ]
  },
  {
   "cell_type": "markdown",
   "metadata": {},
   "source": [
    "## Graph the number of each body part, but don’t included the “Not Recorded” records"
   ]
  },
  {
   "cell_type": "code",
   "execution_count": 10,
   "metadata": {},
   "outputs": [
    {
     "data": {
      "text/plain": [
       "<matplotlib.axes._subplots.AxesSubplot at 0x1089ca898>"
      ]
     },
     "execution_count": 10,
     "metadata": {},
     "output_type": "execute_result"
    },
    {
     "data": {
      "image/png": "[encoded data removed]",
      "text/plain": [
       "<matplotlib.figure.Figure at 0x111fbdd68>"
      ]
     },
     "metadata": {},
     "output_type": "display_data"
    }
   ],
   "source": [
    "%matplotlib inline\n",
    "dfnss15[dfnss15.body_part != 'not recorded']['body_part'].value_counts(ascending=True).plot(kind='barh')"
   ]
  },
  {
   "cell_type": "markdown",
   "metadata": {},
   "source": [
    "## \"Not Recorded\" seems silly - change it to be `NaN` instead\n",
    "\n",
    "Don't use `na_values` for this."
   ]
  },
  {
   "cell_type": "code",
   "execution_count": 11,
   "metadata": {},
   "outputs": [
    {
     "data": {
      "text/plain": [
       "head                 58677\n",
       "face                 30992\n",
       "lower trunk          30579\n",
       "finger               30463\n",
       "ankle                20077\n",
       "upper trunk          19518\n",
       "knee                 18957\n",
       "hand                 17077\n",
       "foot                 15890\n",
       "shoulder             14822\n",
       "lower arm            13655\n",
       "lower leg            12771\n",
       "wrist                11565\n",
       "elbow                 8888\n",
       "all parts of body     8615\n",
       "mouth                 7336\n",
       "toe                   7299\n",
       "neck                  6145\n",
       "eyeball               4661\n",
       "ear                   4404\n",
       "upper leg             4174\n",
       "upper arm             4016\n",
       "internal              3344\n",
       "NaN                   2079\n",
       "pubic region          1699\n",
       "25-50% of body          24\n",
       "Name: body_part, dtype: int64"
      ]
     },
     "execution_count": 11,
     "metadata": {},
     "output_type": "execute_result"
    }
   ],
   "source": [
    "import numpy as np\n",
    "dfnss15.body_part.replace('not recorded', np.nan, inplace=True)\n",
    "dfnss15.body_part.value_counts(dropna=False)"
   ]
  },
  {
   "cell_type": "markdown",
   "metadata": {},
   "source": [
    "## Graph the count of each body part, but don’t included the “Not Recorded” records\n",
    "\n",
    "Yes, again! The code you use should be different this time."
   ]
  },
  {
   "cell_type": "code",
   "execution_count": 12,
   "metadata": {},
   "outputs": [
    {
     "data": {
      "text/plain": [
       "<matplotlib.axes._subplots.AxesSubplot at 0x108b316d8>"
      ]
     },
     "execution_count": 12,
     "metadata": {},
     "output_type": "execute_result"
    },
    {
     "data": {
      "image/png": "[encoded data removed]",
      "text/plain": [
       "<matplotlib.figure.Figure at 0x108b5f940>"
      ]
     },
     "metadata": {},
     "output_type": "display_data"
    }
   ],
   "source": [
    "dfnss15.body_part.value_counts(ascending=True).plot(kind='barh')"
   ]
  },
  {
   "cell_type": "markdown",
   "metadata": {},
   "source": [
    "## For each body part, get the average age of the person who injured that part\n",
    "\n",
    "Sort from youngest to oldest"
   ]
  },
  {
   "cell_type": "code",
   "execution_count": 13,
   "metadata": {},
   "outputs": [
    {
     "data": {
      "text/html": [
       "<div>\n",
       "<style>\n",
       "    .dataframe thead tr:only-child th {\n",
       "        text-align: right;\n",
       "    }\n",
       "\n",
       "    .dataframe thead th {\n",
       "        text-align: left;\n",
       "    }\n",
       "\n",
       "    .dataframe tbody tr th {\n",
       "        vertical-align: top;\n",
       "    }\n",
       "</style>\n",
       "<table border=\"1\" class=\"dataframe\">\n",
       "  <thead>\n",
       "    <tr style=\"text-align: right;\">\n",
       "      <th></th>\n",
       "      <th>mean</th>\n",
       "    </tr>\n",
       "    <tr>\n",
       "      <th>body_part</th>\n",
       "      <th></th>\n",
       "    </tr>\n",
       "  </thead>\n",
       "  <tbody>\n",
       "    <tr>\n",
       "      <th>all parts of body</th>\n",
       "      <td>63.406268</td>\n",
       "    </tr>\n",
       "    <tr>\n",
       "      <th>internal</th>\n",
       "      <td>62.912978</td>\n",
       "    </tr>\n",
       "    <tr>\n",
       "      <th>head</th>\n",
       "      <td>59.512637</td>\n",
       "    </tr>\n",
       "    <tr>\n",
       "      <th>mouth</th>\n",
       "      <td>51.241957</td>\n",
       "    </tr>\n",
       "    <tr>\n",
       "      <th>lower trunk</th>\n",
       "      <td>49.667844</td>\n",
       "    </tr>\n",
       "    <tr>\n",
       "      <th>face</th>\n",
       "      <td>47.749193</td>\n",
       "    </tr>\n",
       "    <tr>\n",
       "      <th>upper arm</th>\n",
       "      <td>46.655129</td>\n",
       "    </tr>\n",
       "    <tr>\n",
       "      <th>upper trunk</th>\n",
       "      <td>46.587663</td>\n",
       "    </tr>\n",
       "    <tr>\n",
       "      <th>upper leg</th>\n",
       "      <td>45.934835</td>\n",
       "    </tr>\n",
       "    <tr>\n",
       "      <th>25-50% of body</th>\n",
       "      <td>44.333333</td>\n",
       "    </tr>\n",
       "    <tr>\n",
       "      <th>lower leg</th>\n",
       "      <td>44.255814</td>\n",
       "    </tr>\n",
       "    <tr>\n",
       "      <th>shoulder</th>\n",
       "      <td>39.266901</td>\n",
       "    </tr>\n",
       "    <tr>\n",
       "      <th>neck</th>\n",
       "      <td>38.354109</td>\n",
       "    </tr>\n",
       "    <tr>\n",
       "      <th>eyeball</th>\n",
       "      <td>36.669599</td>\n",
       "    </tr>\n",
       "    <tr>\n",
       "      <th>elbow</th>\n",
       "      <td>36.592934</td>\n",
       "    </tr>\n",
       "    <tr>\n",
       "      <th>finger</th>\n",
       "      <td>35.978170</td>\n",
       "    </tr>\n",
       "    <tr>\n",
       "      <th>hand</th>\n",
       "      <td>35.811208</td>\n",
       "    </tr>\n",
       "    <tr>\n",
       "      <th>toe</th>\n",
       "      <td>34.988766</td>\n",
       "    </tr>\n",
       "    <tr>\n",
       "      <th>knee</th>\n",
       "      <td>34.106451</td>\n",
       "    </tr>\n",
       "    <tr>\n",
       "      <th>foot</th>\n",
       "      <td>32.578666</td>\n",
       "    </tr>\n",
       "    <tr>\n",
       "      <th>lower arm</th>\n",
       "      <td>32.357598</td>\n",
       "    </tr>\n",
       "    <tr>\n",
       "      <th>wrist</th>\n",
       "      <td>30.697968</td>\n",
       "    </tr>\n",
       "    <tr>\n",
       "      <th>ankle</th>\n",
       "      <td>28.477512</td>\n",
       "    </tr>\n",
       "    <tr>\n",
       "      <th>ear</th>\n",
       "      <td>24.248183</td>\n",
       "    </tr>\n",
       "    <tr>\n",
       "      <th>pubic region</th>\n",
       "      <td>19.985874</td>\n",
       "    </tr>\n",
       "  </tbody>\n",
       "</table>\n",
       "</div>"
      ],
      "text/plain": [
       "                        mean\n",
       "body_part                   \n",
       "all parts of body  63.406268\n",
       "internal           62.912978\n",
       "head               59.512637\n",
       "mouth              51.241957\n",
       "lower trunk        49.667844\n",
       "face               47.749193\n",
       "upper arm          46.655129\n",
       "upper trunk        46.587663\n",
       "upper leg          45.934835\n",
       "25-50% of body     44.333333\n",
       "lower leg          44.255814\n",
       "shoulder           39.266901\n",
       "neck               38.354109\n",
       "eyeball            36.669599\n",
       "elbow              36.592934\n",
       "finger             35.978170\n",
       "hand               35.811208\n",
       "toe                34.988766\n",
       "knee               34.106451\n",
       "foot               32.578666\n",
       "lower arm          32.357598\n",
       "wrist              30.697968\n",
       "ankle              28.477512\n",
       "ear                24.248183\n",
       "pubic region       19.985874"
      ]
     },
     "execution_count": 13,
     "metadata": {},
     "output_type": "execute_result"
    }
   ],
   "source": [
    "dfnss15.groupby('body_part')['age'].agg(['mean'], skipna=False).sort_values(by='mean', ascending=False)"
   ]
  },
  {
   "cell_type": "markdown",
   "metadata": {},
   "source": [
    "## Wait, \"not recorded\" seems really really really really old!\n",
    "\n",
    "How can the average age be like 80???? Read page 6 of the documentation. Fix the issue however you think is best, but explain what you're doing. **It would be nice to talk about this in class if you'd write it on the board!**\n",
    "\n",
    "### Tech tip you might find useful\n",
    "\n",
    "If you want to replace a column based on a condition, pandas will probably yell at you. You get to learn this new thing called `loc` now! \n",
    "\n",
    "```\n",
    "df.loc[df.country == 'Angola', \"continent\"] = \"Africa\"\n",
    "```\n",
    "\n",
    "This updates the `continent` column to be `Africa` for every row where `country == 'Angola'`. You CANNOT do the following, which is probably what you've wanted to do:\n",
    "\n",
    "```\n",
    "df[df.country == 'Angola']['continent'] = 'Africa'\n",
    "```\n",
    "\n",
    "And now you know."
   ]
  },
  {
   "cell_type": "code",
   "execution_count": 14,
   "metadata": {},
   "outputs": [
    {
     "data": {
      "text/html": [
       "<div>\n",
       "<style>\n",
       "    .dataframe thead tr:only-child th {\n",
       "        text-align: right;\n",
       "    }\n",
       "\n",
       "    .dataframe thead th {\n",
       "        text-align: left;\n",
       "    }\n",
       "\n",
       "    .dataframe tbody tr th {\n",
       "        vertical-align: top;\n",
       "    }\n",
       "</style>\n",
       "<table border=\"1\" class=\"dataframe\">\n",
       "  <thead>\n",
       "    <tr style=\"text-align: right;\">\n",
       "      <th></th>\n",
       "      <th>mean</th>\n",
       "    </tr>\n",
       "    <tr>\n",
       "      <th>body_part</th>\n",
       "      <th></th>\n",
       "    </tr>\n",
       "  </thead>\n",
       "  <tbody>\n",
       "    <tr>\n",
       "      <th>not recorded</th>\n",
       "      <td>79.576239</td>\n",
       "    </tr>\n",
       "    <tr>\n",
       "      <th>all parts of body</th>\n",
       "      <td>63.406268</td>\n",
       "    </tr>\n",
       "    <tr>\n",
       "      <th>internal</th>\n",
       "      <td>62.912978</td>\n",
       "    </tr>\n",
       "    <tr>\n",
       "      <th>head</th>\n",
       "      <td>59.512637</td>\n",
       "    </tr>\n",
       "    <tr>\n",
       "      <th>mouth</th>\n",
       "      <td>51.241957</td>\n",
       "    </tr>\n",
       "  </tbody>\n",
       "</table>\n",
       "</div>"
      ],
      "text/plain": [
       "                        mean\n",
       "body_part                   \n",
       "not recorded       79.576239\n",
       "all parts of body  63.406268\n",
       "internal           62.912978\n",
       "head               59.512637\n",
       "mouth              51.241957"
      ]
     },
     "execution_count": 14,
     "metadata": {},
     "output_type": "execute_result"
    }
   ],
   "source": [
    "dfnss15.body_part.replace(np.nan, 'not recorded', inplace=True)\n",
    "dfnss15.groupby('body_part')['age'].agg(['mean']).sort_values(by='mean', ascending=False).head(5)"
   ]
  },
  {
   "cell_type": "code",
   "execution_count": 15,
   "metadata": {},
   "outputs": [
    {
     "data": {
      "text/plain": [
       "223     3\n",
       "222     3\n",
       "221     5\n",
       "220     3\n",
       "219     4\n",
       "218     3\n",
       "217     2\n",
       "216     6\n",
       "215     9\n",
       "214     5\n",
       "213     9\n",
       "212     7\n",
       "211    14\n",
       "210    11\n",
       "209    14\n",
       "208    17\n",
       "207    31\n",
       "206    27\n",
       "205    29\n",
       "204    38\n",
       "203    25\n",
       "202    33\n",
       "201    55\n",
       "100     2\n",
       "99      2\n",
       "Name: age, dtype: int64"
      ]
     },
     "execution_count": 15,
     "metadata": {},
     "output_type": "execute_result"
    }
   ],
   "source": [
    "dfnss15[dfnss15['body_part'] == 'not recorded']['age'].value_counts().sort_index(ascending=False).head(25)"
   ]
  },
  {
   "cell_type": "code",
   "execution_count": 16,
   "metadata": {
    "collapsed": true
   },
   "outputs": [],
   "source": [
    "# We will first turn the 0's (not recorded) to Nan\n",
    "# We will will start with turning the age dtype to string so we can replace using regex\n",
    "dfnss15.age = dfnss15.age.astype(str) "
   ]
  },
  {
   "cell_type": "code",
   "execution_count": 17,
   "metadata": {},
   "outputs": [
    {
     "name": "stderr",
     "output_type": "stream",
     "text": [
      "/usr/local/lib/python3.6/site-packages/ipykernel_launcher.py:1: FutureWarning: currently extract(expand=None) means expand=False (return Index/Series/DataFrame) but in a future version of pandas this will be changed to expand=True (return DataFrame)\n",
      "  \"\"\"Entry point for launching an IPython kernel.\n"
     ]
    },
    {
     "data": {
      "text/plain": [
       "0    37\n",
       "Name: age, dtype: int64"
      ]
     },
     "execution_count": 17,
     "metadata": {},
     "output_type": "execute_result"
    }
   ],
   "source": [
    "dfnss15.age.str.extract('(^0)').value_counts()"
   ]
  },
  {
   "cell_type": "code",
   "execution_count": 18,
   "metadata": {
    "collapsed": true
   },
   "outputs": [],
   "source": [
    "dfnss15.age.replace('(^0)', np.nan, regex=True, inplace=True)"
   ]
  },
  {
   "cell_type": "code",
   "execution_count": 19,
   "metadata": {},
   "outputs": [
    {
     "name": "stderr",
     "output_type": "stream",
     "text": [
      "/usr/local/lib/python3.6/site-packages/ipykernel_launcher.py:1: FutureWarning: currently extract(expand=None) means expand=False (return Index/Series/DataFrame) but in a future version of pandas this will be changed to expand=True (return DataFrame)\n",
      "  \"\"\"Entry point for launching an IPython kernel.\n"
     ]
    },
    {
     "data": {
      "text/plain": [
       "Series([], Name: age, dtype: int64)"
      ]
     },
     "execution_count": 19,
     "metadata": {},
     "output_type": "execute_result"
    }
   ],
   "source": [
    "dfnss15.age.str.extract('(^0)').value_counts()"
   ]
  },
  {
   "cell_type": "code",
   "execution_count": 20,
   "metadata": {
    "collapsed": true
   },
   "outputs": [],
   "source": [
    "# We will then sort this 2.. years old out. According to the documentation 2.. indicate a\n",
    "# a patient of under two years old. 2 mean under two yo, while the other two digits\n",
    "# count the number of completed months the patient infant.\n",
    "# We will code this into years, following the same logic of completed months to completed years:\n",
    "# up to 11 months (201-211) as 0 years\n",
    "# from 12 months (one completed year) to 23 months (212-223) as 1 year\n",
    "# there is no 224, ie. 24 months (two completed years)"
   ]
  },
  {
   "cell_type": "code",
   "execution_count": 21,
   "metadata": {},
   "outputs": [
    {
     "name": "stderr",
     "output_type": "stream",
     "text": [
      "/usr/local/lib/python3.6/site-packages/ipykernel_launcher.py:1: FutureWarning: currently extract(expand=None) means expand=False (return Index/Series/DataFrame) but in a future version of pandas this will be changed to expand=True (return DataFrame)\n",
      "  \"\"\"Entry point for launching an IPython kernel.\n"
     ]
    },
    {
     "data": {
      "text/plain": [
       "211    885\n",
       "210    876\n",
       "209    856\n",
       "208    849\n",
       "207    759\n",
       "206    669\n",
       "201    569\n",
       "205    552\n",
       "202    433\n",
       "204    427\n",
       "203    414\n",
       "Name: age, dtype: int64"
      ]
     },
     "execution_count": 21,
     "metadata": {},
     "output_type": "execute_result"
    }
   ],
   "source": [
    "dfnss15.age.str.extract('(20[1-9]|21[0-1])').value_counts()"
   ]
  },
  {
   "cell_type": "code",
   "execution_count": 22,
   "metadata": {},
   "outputs": [
    {
     "name": "stderr",
     "output_type": "stream",
     "text": [
      "/usr/local/lib/python3.6/site-packages/ipykernel_launcher.py:1: FutureWarning: currently extract(expand=None) means expand=False (return Index/Series/DataFrame) but in a future version of pandas this will be changed to expand=True (return DataFrame)\n",
      "  \"\"\"Entry point for launching an IPython kernel.\n"
     ]
    },
    {
     "data": {
      "text/plain": [
       "218    1191\n",
       "212    1188\n",
       "220    1135\n",
       "217    1133\n",
       "221    1132\n",
       "222    1099\n",
       "219    1097\n",
       "216    1094\n",
       "215    1093\n",
       "214    1074\n",
       "223    1041\n",
       "213     989\n",
       "Name: age, dtype: int64"
      ]
     },
     "execution_count": 22,
     "metadata": {},
     "output_type": "execute_result"
    }
   ],
   "source": [
    "dfnss15.age.str.extract('(21[2-9]|22[0-3])').value_counts()"
   ]
  },
  {
   "cell_type": "code",
   "execution_count": 23,
   "metadata": {},
   "outputs": [
    {
     "data": {
      "text/plain": [
       "1     13266\n",
       "2     11735\n",
       "3     10117\n",
       "14     9209\n",
       "13     8878\n",
       "15     8779\n",
       "12     8753\n",
       "4      8262\n",
       "11     8044\n",
       "16     7823\n",
       "10     7650\n",
       "5      7633\n",
       "9      7293\n",
       "0      7289\n",
       "6      7282\n",
       "Name: age, dtype: int64"
      ]
     },
     "execution_count": 23,
     "metadata": {},
     "output_type": "execute_result"
    }
   ],
   "source": [
    "dfnss15.age.replace({'20[1-9]|21[0-1]':'0', '21[2-9]|22[0-3]':'1'}, regex=True, inplace=True)\n",
    "dfnss15.age.value_counts().head(15)"
   ]
  },
  {
   "cell_type": "code",
   "execution_count": 24,
   "metadata": {
    "collapsed": true
   },
   "outputs": [],
   "source": [
    "dfnss15.age = dfnss15.age.astype(float)"
   ]
  },
  {
   "cell_type": "code",
   "execution_count": 25,
   "metadata": {},
   "outputs": [
    {
     "data": {
      "text/html": [
       "<div>\n",
       "<style>\n",
       "    .dataframe thead tr:only-child th {\n",
       "        text-align: right;\n",
       "    }\n",
       "\n",
       "    .dataframe thead th {\n",
       "        text-align: left;\n",
       "    }\n",
       "\n",
       "    .dataframe tbody tr th {\n",
       "        vertical-align: top;\n",
       "    }\n",
       "</style>\n",
       "<table border=\"1\" class=\"dataframe\">\n",
       "  <thead>\n",
       "    <tr style=\"text-align: right;\">\n",
       "      <th></th>\n",
       "      <th>mean</th>\n",
       "    </tr>\n",
       "    <tr>\n",
       "      <th>body_part</th>\n",
       "      <th></th>\n",
       "    </tr>\n",
       "  </thead>\n",
       "  <tbody>\n",
       "    <tr>\n",
       "      <th>lower trunk</th>\n",
       "      <td>48.754415</td>\n",
       "    </tr>\n",
       "    <tr>\n",
       "      <th>not recorded</th>\n",
       "      <td>44.530318</td>\n",
       "    </tr>\n",
       "    <tr>\n",
       "      <th>upper trunk</th>\n",
       "      <td>44.357128</td>\n",
       "    </tr>\n",
       "    <tr>\n",
       "      <th>25-50% of body</th>\n",
       "      <td>44.333333</td>\n",
       "    </tr>\n",
       "    <tr>\n",
       "      <th>upper arm</th>\n",
       "      <td>40.617032</td>\n",
       "    </tr>\n",
       "    <tr>\n",
       "      <th>upper leg</th>\n",
       "      <td>37.774796</td>\n",
       "    </tr>\n",
       "    <tr>\n",
       "      <th>shoulder</th>\n",
       "      <td>36.905539</td>\n",
       "    </tr>\n",
       "    <tr>\n",
       "      <th>neck</th>\n",
       "      <td>36.471277</td>\n",
       "    </tr>\n",
       "    <tr>\n",
       "      <th>knee</th>\n",
       "      <td>33.470486</td>\n",
       "    </tr>\n",
       "    <tr>\n",
       "      <th>lower leg</th>\n",
       "      <td>33.298927</td>\n",
       "    </tr>\n",
       "    <tr>\n",
       "      <th>head</th>\n",
       "      <td>31.166522</td>\n",
       "    </tr>\n",
       "    <tr>\n",
       "      <th>hand</th>\n",
       "      <td>29.834212</td>\n",
       "    </tr>\n",
       "    <tr>\n",
       "      <th>toe</th>\n",
       "      <td>29.781477</td>\n",
       "    </tr>\n",
       "    <tr>\n",
       "      <th>wrist</th>\n",
       "      <td>29.298141</td>\n",
       "    </tr>\n",
       "    <tr>\n",
       "      <th>foot</th>\n",
       "      <td>28.892196</td>\n",
       "    </tr>\n",
       "    <tr>\n",
       "      <th>finger</th>\n",
       "      <td>28.786094</td>\n",
       "    </tr>\n",
       "    <tr>\n",
       "      <th>eyeball</th>\n",
       "      <td>28.127226</td>\n",
       "    </tr>\n",
       "    <tr>\n",
       "      <th>ankle</th>\n",
       "      <td>27.606396</td>\n",
       "    </tr>\n",
       "    <tr>\n",
       "      <th>all parts of body</th>\n",
       "      <td>26.509002</td>\n",
       "    </tr>\n",
       "    <tr>\n",
       "      <th>lower arm</th>\n",
       "      <td>25.139896</td>\n",
       "    </tr>\n",
       "    <tr>\n",
       "      <th>elbow</th>\n",
       "      <td>24.089446</td>\n",
       "    </tr>\n",
       "    <tr>\n",
       "      <th>face</th>\n",
       "      <td>22.524283</td>\n",
       "    </tr>\n",
       "    <tr>\n",
       "      <th>pubic region</th>\n",
       "      <td>17.443202</td>\n",
       "    </tr>\n",
       "    <tr>\n",
       "      <th>ear</th>\n",
       "      <td>16.363079</td>\n",
       "    </tr>\n",
       "    <tr>\n",
       "      <th>mouth</th>\n",
       "      <td>12.149537</td>\n",
       "    </tr>\n",
       "    <tr>\n",
       "      <th>internal</th>\n",
       "      <td>6.898026</td>\n",
       "    </tr>\n",
       "  </tbody>\n",
       "</table>\n",
       "</div>"
      ],
      "text/plain": [
       "                        mean\n",
       "body_part                   \n",
       "lower trunk        48.754415\n",
       "not recorded       44.530318\n",
       "upper trunk        44.357128\n",
       "25-50% of body     44.333333\n",
       "upper arm          40.617032\n",
       "upper leg          37.774796\n",
       "shoulder           36.905539\n",
       "neck               36.471277\n",
       "knee               33.470486\n",
       "lower leg          33.298927\n",
       "head               31.166522\n",
       "hand               29.834212\n",
       "toe                29.781477\n",
       "wrist              29.298141\n",
       "foot               28.892196\n",
       "finger             28.786094\n",
       "eyeball            28.127226\n",
       "ankle              27.606396\n",
       "all parts of body  26.509002\n",
       "lower arm          25.139896\n",
       "elbow              24.089446\n",
       "face               22.524283\n",
       "pubic region       17.443202\n",
       "ear                16.363079\n",
       "mouth              12.149537\n",
       "internal            6.898026"
      ]
     },
     "execution_count": 25,
     "metadata": {},
     "output_type": "execute_result"
    }
   ],
   "source": [
    "dfnss15.groupby('body_part')['age'].agg(['mean'], skipna=False).sort_values(by='mean', ascending=False)"
   ]
  },
  {
   "cell_type": "markdown",
   "metadata": {
    "collapsed": true
   },
   "source": [
    "# Finding injuries"
   ]
  },
  {
   "cell_type": "markdown",
   "metadata": {},
   "source": [
    "## How many people were injured by \"Musical instruments, electric or battery operated?\"\n",
    "\n",
    "Try to do what you think would work, then see... it doesn't work. There are all kinds of reasons why it wouldn't work. Keep reading once it doesn't work for you.\n",
    "\n",
    "- Tip: `prod1` and `prod2` are the product fields\n",
    "- Tip: You can use the codebook or `cleaned-categories.txt`"
   ]
  },
  {
   "cell_type": "code",
   "execution_count": 26,
   "metadata": {},
   "outputs": [
    {
     "data": {
      "text/html": [
       "<div>\n",
       "<style>\n",
       "    .dataframe thead tr:only-child th {\n",
       "        text-align: right;\n",
       "    }\n",
       "\n",
       "    .dataframe thead th {\n",
       "        text-align: left;\n",
       "    }\n",
       "\n",
       "    .dataframe tbody tr th {\n",
       "        vertical-align: top;\n",
       "    }\n",
       "</style>\n",
       "<table border=\"1\" class=\"dataframe\">\n",
       "  <thead>\n",
       "    <tr style=\"text-align: right;\">\n",
       "      <th></th>\n",
       "      <th>0102</th>\n",
       "      <th>Wringer washing machines</th>\n",
       "    </tr>\n",
       "  </thead>\n",
       "  <tbody>\n",
       "    <tr>\n",
       "      <th>0</th>\n",
       "      <td>106</td>\n",
       "      <td>Electric clothes dryers without washers</td>\n",
       "    </tr>\n",
       "    <tr>\n",
       "      <th>1</th>\n",
       "      <td>107</td>\n",
       "      <td>Gas clothes dryers without washers</td>\n",
       "    </tr>\n",
       "    <tr>\n",
       "      <th>2</th>\n",
       "      <td>110</td>\n",
       "      <td>Electric heating pads</td>\n",
       "    </tr>\n",
       "    <tr>\n",
       "      <th>3</th>\n",
       "      <td>112</td>\n",
       "      <td>Sewing machines or accessories</td>\n",
       "    </tr>\n",
       "    <tr>\n",
       "      <th>4</th>\n",
       "      <td>113</td>\n",
       "      <td>Floor buffers or waxers</td>\n",
       "    </tr>\n",
       "    <tr>\n",
       "      <th>5</th>\n",
       "      <td>114</td>\n",
       "      <td>Rug shampooers</td>\n",
       "    </tr>\n",
       "  </tbody>\n",
       "</table>\n",
       "</div>"
      ],
      "text/plain": [
       "   0102                 Wringer washing machines\n",
       "0   106  Electric clothes dryers without washers\n",
       "1   107       Gas clothes dryers without washers\n",
       "2   110                    Electric heating pads\n",
       "3   112           Sewing machines or accessories\n",
       "4   113                  Floor buffers or waxers\n",
       "5   114                           Rug shampooers"
      ]
     },
     "execution_count": 26,
     "metadata": {},
     "output_type": "execute_result"
    }
   ],
   "source": [
    "pd.read_csv('categories-cleaned.txt').head(6)"
   ]
  },
  {
   "cell_type": "markdown",
   "metadata": {},
   "source": [
    "### Did something go wrong when you read in your data?\n",
    "\n",
    "Maybe it's one of those problems like we had with `008382` in the homework, where when we read in the file it got rid of the leading zeroes? Try to read the file in again and fix that.\n",
    "\n",
    "Try to get all of the \"Musical instruments, electric or battery operated\" injurie again. It still won't work. Keep reading."
   ]
  },
  {
   "cell_type": "code",
   "execution_count": 27,
   "metadata": {},
   "outputs": [
    {
     "data": {
      "text/html": [
       "<div>\n",
       "<style>\n",
       "    .dataframe thead tr:only-child th {\n",
       "        text-align: right;\n",
       "    }\n",
       "\n",
       "    .dataframe thead th {\n",
       "        text-align: left;\n",
       "    }\n",
       "\n",
       "    .dataframe tbody tr th {\n",
       "        vertical-align: top;\n",
       "    }\n",
       "</style>\n",
       "<table border=\"1\" class=\"dataframe\">\n",
       "  <thead>\n",
       "    <tr style=\"text-align: right;\">\n",
       "      <th></th>\n",
       "      <th>product_code</th>\n",
       "      <th>product_desc</th>\n",
       "    </tr>\n",
       "  </thead>\n",
       "  <tbody>\n",
       "    <tr>\n",
       "      <th>0</th>\n",
       "      <td>0102</td>\n",
       "      <td>Wringer washing machines</td>\n",
       "    </tr>\n",
       "    <tr>\n",
       "      <th>1</th>\n",
       "      <td>0106</td>\n",
       "      <td>Electric clothes dryers without washers</td>\n",
       "    </tr>\n",
       "    <tr>\n",
       "      <th>2</th>\n",
       "      <td>0107</td>\n",
       "      <td>Gas clothes dryers without washers</td>\n",
       "    </tr>\n",
       "    <tr>\n",
       "      <th>3</th>\n",
       "      <td>0110</td>\n",
       "      <td>Electric heating pads</td>\n",
       "    </tr>\n",
       "    <tr>\n",
       "      <th>4</th>\n",
       "      <td>0112</td>\n",
       "      <td>Sewing machines or accessories</td>\n",
       "    </tr>\n",
       "    <tr>\n",
       "      <th>5</th>\n",
       "      <td>0113</td>\n",
       "      <td>Floor buffers or waxers</td>\n",
       "    </tr>\n",
       "    <tr>\n",
       "      <th>6</th>\n",
       "      <td>0114</td>\n",
       "      <td>Rug shampooers</td>\n",
       "    </tr>\n",
       "    <tr>\n",
       "      <th>7</th>\n",
       "      <td>0115</td>\n",
       "      <td>Vacuum cleaners</td>\n",
       "    </tr>\n",
       "  </tbody>\n",
       "</table>\n",
       "</div>"
      ],
      "text/plain": [
       "  product_code                             product_desc\n",
       "0         0102                 Wringer washing machines\n",
       "1         0106  Electric clothes dryers without washers\n",
       "2         0107       Gas clothes dryers without washers\n",
       "3         0110                    Electric heating pads\n",
       "4         0112           Sewing machines or accessories\n",
       "5         0113                  Floor buffers or waxers\n",
       "6         0114                           Rug shampooers\n",
       "7         0115                          Vacuum cleaners"
      ]
     },
     "execution_count": 27,
     "metadata": {},
     "output_type": "execute_result"
    }
   ],
   "source": [
    "product_categories = pd.read_csv('categories-cleaned.txt', names=['product_code', 'product_desc'], converters = {'product_code': str})\n",
    "product_categories.head(8)"
   ]
  },
  {
   "cell_type": "markdown",
   "metadata": {},
   "source": [
    "### Looks the data export is bad!\n",
    "\n",
    "They turned `0565` into `565` when they exported it or something (so irresponsible!), and it's up to us to fix it. Pad the `prod1` and `prod2` columns to be the proper length. If you didn't actually do the task above it's going to be more difficult."
   ]
  },
  {
   "cell_type": "code",
   "execution_count": 28,
   "metadata": {},
   "outputs": [
    {
     "data": {
      "text/plain": [
       "0    1267\n",
       "1    1439\n",
       "2    3274\n",
       "3    0611\n",
       "4    1893\n",
       "5    1715\n",
       "6    1138\n",
       "7    5040\n",
       "8    1807\n",
       "9    4057\n",
       "Name: prod1, dtype: object"
      ]
     },
     "execution_count": 28,
     "metadata": {},
     "output_type": "execute_result"
    }
   ],
   "source": [
    "dfnss15.prod1 = dfnss15.prod1.astype(str).str.pad(4, fillchar='0')\n",
    "dfnss15.prod1.head(10)"
   ]
  },
  {
   "cell_type": "code",
   "execution_count": 29,
   "metadata": {},
   "outputs": [
    {
     "data": {
      "text/html": [
       "<div>\n",
       "<style>\n",
       "    .dataframe thead tr:only-child th {\n",
       "        text-align: right;\n",
       "    }\n",
       "\n",
       "    .dataframe thead th {\n",
       "        text-align: left;\n",
       "    }\n",
       "\n",
       "    .dataframe tbody tr th {\n",
       "        vertical-align: top;\n",
       "    }\n",
       "</style>\n",
       "<table border=\"1\" class=\"dataframe\">\n",
       "  <thead>\n",
       "    <tr style=\"text-align: right;\">\n",
       "      <th></th>\n",
       "      <th>CPSC Case #</th>\n",
       "      <th>trmt_date</th>\n",
       "      <th>psu</th>\n",
       "      <th>weight</th>\n",
       "      <th>stratum</th>\n",
       "      <th>age</th>\n",
       "      <th>sex</th>\n",
       "      <th>race</th>\n",
       "      <th>race_other</th>\n",
       "      <th>diag</th>\n",
       "      <th>...</th>\n",
       "      <th>body_part</th>\n",
       "      <th>disposition</th>\n",
       "      <th>location</th>\n",
       "      <th>fmv</th>\n",
       "      <th>prod1</th>\n",
       "      <th>prod2</th>\n",
       "      <th>narr1</th>\n",
       "      <th>narr2</th>\n",
       "      <th>prod1_code</th>\n",
       "      <th>prod1_desc</th>\n",
       "    </tr>\n",
       "  </thead>\n",
       "  <tbody>\n",
       "    <tr>\n",
       "      <th>0</th>\n",
       "      <td>150733174</td>\n",
       "      <td>07/11/2015</td>\n",
       "      <td>38</td>\n",
       "      <td>15.7762</td>\n",
       "      <td>V</td>\n",
       "      <td>5.0</td>\n",
       "      <td>1</td>\n",
       "      <td>0</td>\n",
       "      <td>NaN</td>\n",
       "      <td>57</td>\n",
       "      <td>...</td>\n",
       "      <td>lower arm</td>\n",
       "      <td>1</td>\n",
       "      <td>9</td>\n",
       "      <td>0</td>\n",
       "      <td>1267</td>\n",
       "      <td></td>\n",
       "      <td>5 YR OLD MALE PLAYING SOCCER BLOCKING BALL AND...</td>\n",
       "      <td>X IT</td>\n",
       "      <td>1267</td>\n",
       "      <td>Soccer (activity, apparel or equipment)</td>\n",
       "    </tr>\n",
       "    <tr>\n",
       "      <th>1</th>\n",
       "      <td>150821622</td>\n",
       "      <td>07/20/2015</td>\n",
       "      <td>43</td>\n",
       "      <td>83.2157</td>\n",
       "      <td>S</td>\n",
       "      <td>20.0</td>\n",
       "      <td>2</td>\n",
       "      <td>1</td>\n",
       "      <td>NaN</td>\n",
       "      <td>57</td>\n",
       "      <td>...</td>\n",
       "      <td>lower leg</td>\n",
       "      <td>1</td>\n",
       "      <td>9</td>\n",
       "      <td>0</td>\n",
       "      <td>1267</td>\n",
       "      <td></td>\n",
       "      <td>L DISTAL FIB FX/20YOWF WHILE PLAYING SOCCER AT...</td>\n",
       "      <td>LE CAUSING INJURY TO DISTAL FIB.</td>\n",
       "      <td>1267</td>\n",
       "      <td>Soccer (activity, apparel or equipment)</td>\n",
       "    </tr>\n",
       "    <tr>\n",
       "      <th>2</th>\n",
       "      <td>150948626</td>\n",
       "      <td>09/08/2015</td>\n",
       "      <td>37</td>\n",
       "      <td>5.6748</td>\n",
       "      <td>C</td>\n",
       "      <td>10.0</td>\n",
       "      <td>2</td>\n",
       "      <td>0</td>\n",
       "      <td>NaN</td>\n",
       "      <td>57</td>\n",
       "      <td>...</td>\n",
       "      <td>lower arm</td>\n",
       "      <td>1</td>\n",
       "      <td>0</td>\n",
       "      <td>0</td>\n",
       "      <td>1267</td>\n",
       "      <td></td>\n",
       "      <td>10 YO F TRIPPED FORWARD WHEN PLAYING SOCCER FX...</td>\n",
       "      <td>NaN</td>\n",
       "      <td>1267</td>\n",
       "      <td>Soccer (activity, apparel or equipment)</td>\n",
       "    </tr>\n",
       "    <tr>\n",
       "      <th>3</th>\n",
       "      <td>151029422</td>\n",
       "      <td>10/06/2015</td>\n",
       "      <td>24</td>\n",
       "      <td>97.9239</td>\n",
       "      <td>M</td>\n",
       "      <td>37.0</td>\n",
       "      <td>1</td>\n",
       "      <td>1</td>\n",
       "      <td>NaN</td>\n",
       "      <td>64</td>\n",
       "      <td>...</td>\n",
       "      <td>knee</td>\n",
       "      <td>1</td>\n",
       "      <td>0</td>\n",
       "      <td>0</td>\n",
       "      <td>1267</td>\n",
       "      <td></td>\n",
       "      <td>J/ 37 YOM. LT KNEE PAIN AFTER HE KICKED THE BA...</td>\n",
       "      <td>DXL KNEE SPRAIN</td>\n",
       "      <td>1267</td>\n",
       "      <td>Soccer (activity, apparel or equipment)</td>\n",
       "    </tr>\n",
       "    <tr>\n",
       "      <th>4</th>\n",
       "      <td>151029234</td>\n",
       "      <td>10/10/2015</td>\n",
       "      <td>21</td>\n",
       "      <td>16.5650</td>\n",
       "      <td>V</td>\n",
       "      <td>13.0</td>\n",
       "      <td>2</td>\n",
       "      <td>0</td>\n",
       "      <td>NaN</td>\n",
       "      <td>62</td>\n",
       "      <td>...</td>\n",
       "      <td>head</td>\n",
       "      <td>1</td>\n",
       "      <td>9</td>\n",
       "      <td>0</td>\n",
       "      <td>1267</td>\n",
       "      <td></td>\n",
       "      <td>13YF H/A&amp;VOMITINGX4 S/P GOT STRUCK TO HEAD C T...</td>\n",
       "      <td>&gt;&gt;CHI</td>\n",
       "      <td>1267</td>\n",
       "      <td>Soccer (activity, apparel or equipment)</td>\n",
       "    </tr>\n",
       "    <tr>\n",
       "      <th>5</th>\n",
       "      <td>151038066</td>\n",
       "      <td>10/16/2015</td>\n",
       "      <td>21</td>\n",
       "      <td>16.5650</td>\n",
       "      <td>V</td>\n",
       "      <td>13.0</td>\n",
       "      <td>2</td>\n",
       "      <td>0</td>\n",
       "      <td>NaN</td>\n",
       "      <td>64</td>\n",
       "      <td>...</td>\n",
       "      <td>wrist</td>\n",
       "      <td>1</td>\n",
       "      <td>9</td>\n",
       "      <td>0</td>\n",
       "      <td>1267</td>\n",
       "      <td></td>\n",
       "      <td>13YF WRIST PAIN S/P FOOSH WHILE PLAYING SOCCER...</td>\n",
       "      <td>&gt;&gt;SPRAIN</td>\n",
       "      <td>1267</td>\n",
       "      <td>Soccer (activity, apparel or equipment)</td>\n",
       "    </tr>\n",
       "    <tr>\n",
       "      <th>6</th>\n",
       "      <td>150959538</td>\n",
       "      <td>09/18/2015</td>\n",
       "      <td>32</td>\n",
       "      <td>5.6748</td>\n",
       "      <td>C</td>\n",
       "      <td>15.0</td>\n",
       "      <td>1</td>\n",
       "      <td>1</td>\n",
       "      <td>NaN</td>\n",
       "      <td>64</td>\n",
       "      <td>...</td>\n",
       "      <td>foot</td>\n",
       "      <td>1</td>\n",
       "      <td>9</td>\n",
       "      <td>0</td>\n",
       "      <td>1267</td>\n",
       "      <td></td>\n",
       "      <td>15 YOM PLAYING SOCCER BEGAN HAVING HEEL PAIN D...</td>\n",
       "      <td>NaN</td>\n",
       "      <td>1267</td>\n",
       "      <td>Soccer (activity, apparel or equipment)</td>\n",
       "    </tr>\n",
       "    <tr>\n",
       "      <th>7</th>\n",
       "      <td>150442809</td>\n",
       "      <td>04/15/2015</td>\n",
       "      <td>25</td>\n",
       "      <td>15.0591</td>\n",
       "      <td>V</td>\n",
       "      <td>15.0</td>\n",
       "      <td>2</td>\n",
       "      <td>1</td>\n",
       "      <td>NaN</td>\n",
       "      <td>64</td>\n",
       "      <td>...</td>\n",
       "      <td>foot</td>\n",
       "      <td>1</td>\n",
       "      <td>8</td>\n",
       "      <td>0</td>\n",
       "      <td>1267</td>\n",
       "      <td></td>\n",
       "      <td>A 15YOF INJURED FOOT WHILE PLAYING SOCCER AT S...</td>\n",
       "      <td>NaN</td>\n",
       "      <td>1267</td>\n",
       "      <td>Soccer (activity, apparel or equipment)</td>\n",
       "    </tr>\n",
       "    <tr>\n",
       "      <th>8</th>\n",
       "      <td>151042493</td>\n",
       "      <td>10/15/2015</td>\n",
       "      <td>8</td>\n",
       "      <td>5.6748</td>\n",
       "      <td>C</td>\n",
       "      <td>17.0</td>\n",
       "      <td>2</td>\n",
       "      <td>1</td>\n",
       "      <td>NaN</td>\n",
       "      <td>57</td>\n",
       "      <td>...</td>\n",
       "      <td>face</td>\n",
       "      <td>1</td>\n",
       "      <td>9</td>\n",
       "      <td>0</td>\n",
       "      <td>1267</td>\n",
       "      <td></td>\n",
       "      <td>17YOF COLLIDED HEADS PLAYING SOCCER GAME; ORBI...</td>\n",
       "      <td>COMPLEX RFX.</td>\n",
       "      <td>1267</td>\n",
       "      <td>Soccer (activity, apparel or equipment)</td>\n",
       "    </tr>\n",
       "    <tr>\n",
       "      <th>9</th>\n",
       "      <td>151026219</td>\n",
       "      <td>09/02/2015</td>\n",
       "      <td>14</td>\n",
       "      <td>49.2646</td>\n",
       "      <td>M</td>\n",
       "      <td>15.0</td>\n",
       "      <td>1</td>\n",
       "      <td>0</td>\n",
       "      <td>NaN</td>\n",
       "      <td>52</td>\n",
       "      <td>...</td>\n",
       "      <td>head</td>\n",
       "      <td>1</td>\n",
       "      <td>8</td>\n",
       "      <td>0</td>\n",
       "      <td>1267</td>\n",
       "      <td></td>\n",
       "      <td>15YOM CONCUSSION - KNEED PLAYING SOCCER</td>\n",
       "      <td>NaN</td>\n",
       "      <td>1267</td>\n",
       "      <td>Soccer (activity, apparel or equipment)</td>\n",
       "    </tr>\n",
       "  </tbody>\n",
       "</table>\n",
       "<p>10 rows × 21 columns</p>\n",
       "</div>"
      ],
      "text/plain": [
       "   CPSC Case #   trmt_date  psu   weight stratum   age  sex  race race_other  \\\n",
       "0    150733174  07/11/2015   38  15.7762       V   5.0    1     0        NaN   \n",
       "1    150821622  07/20/2015   43  83.2157       S  20.0    2     1        NaN   \n",
       "2    150948626  09/08/2015   37   5.6748       C  10.0    2     0        NaN   \n",
       "3    151029422  10/06/2015   24  97.9239       M  37.0    1     1        NaN   \n",
       "4    151029234  10/10/2015   21  16.5650       V  13.0    2     0        NaN   \n",
       "5    151038066  10/16/2015   21  16.5650       V  13.0    2     0        NaN   \n",
       "6    150959538  09/18/2015   32   5.6748       C  15.0    1     1        NaN   \n",
       "7    150442809  04/15/2015   25  15.0591       V  15.0    2     1        NaN   \n",
       "8    151042493  10/15/2015    8   5.6748       C  17.0    2     1        NaN   \n",
       "9    151026219  09/02/2015   14  49.2646       M  15.0    1     0        NaN   \n",
       "\n",
       "   diag                   ...                     body_part disposition  \\\n",
       "0    57                   ...                     lower arm           1   \n",
       "1    57                   ...                     lower leg           1   \n",
       "2    57                   ...                     lower arm           1   \n",
       "3    64                   ...                          knee           1   \n",
       "4    62                   ...                          head           1   \n",
       "5    64                   ...                         wrist           1   \n",
       "6    64                   ...                          foot           1   \n",
       "7    64                   ...                          foot           1   \n",
       "8    57                   ...                          face           1   \n",
       "9    52                   ...                          head           1   \n",
       "\n",
       "   location  fmv  prod1 prod2  \\\n",
       "0         9    0   1267         \n",
       "1         9    0   1267         \n",
       "2         0    0   1267         \n",
       "3         0    0   1267         \n",
       "4         9    0   1267         \n",
       "5         9    0   1267         \n",
       "6         9    0   1267         \n",
       "7         8    0   1267         \n",
       "8         9    0   1267         \n",
       "9         8    0   1267         \n",
       "\n",
       "                                               narr1  \\\n",
       "0  5 YR OLD MALE PLAYING SOCCER BLOCKING BALL AND...   \n",
       "1  L DISTAL FIB FX/20YOWF WHILE PLAYING SOCCER AT...   \n",
       "2  10 YO F TRIPPED FORWARD WHEN PLAYING SOCCER FX...   \n",
       "3  J/ 37 YOM. LT KNEE PAIN AFTER HE KICKED THE BA...   \n",
       "4  13YF H/A&VOMITINGX4 S/P GOT STRUCK TO HEAD C T...   \n",
       "5  13YF WRIST PAIN S/P FOOSH WHILE PLAYING SOCCER...   \n",
       "6  15 YOM PLAYING SOCCER BEGAN HAVING HEEL PAIN D...   \n",
       "7  A 15YOF INJURED FOOT WHILE PLAYING SOCCER AT S...   \n",
       "8  17YOF COLLIDED HEADS PLAYING SOCCER GAME; ORBI...   \n",
       "9            15YOM CONCUSSION - KNEED PLAYING SOCCER   \n",
       "\n",
       "                              narr2 prod1_code  \\\n",
       "0                              X IT       1267   \n",
       "1  LE CAUSING INJURY TO DISTAL FIB.       1267   \n",
       "2                               NaN       1267   \n",
       "3                   DXL KNEE SPRAIN       1267   \n",
       "4                             >>CHI       1267   \n",
       "5                          >>SPRAIN       1267   \n",
       "6                               NaN       1267   \n",
       "7                               NaN       1267   \n",
       "8                      COMPLEX RFX.       1267   \n",
       "9                               NaN       1267   \n",
       "\n",
       "                                prod1_desc  \n",
       "0  Soccer (activity, apparel or equipment)  \n",
       "1  Soccer (activity, apparel or equipment)  \n",
       "2  Soccer (activity, apparel or equipment)  \n",
       "3  Soccer (activity, apparel or equipment)  \n",
       "4  Soccer (activity, apparel or equipment)  \n",
       "5  Soccer (activity, apparel or equipment)  \n",
       "6  Soccer (activity, apparel or equipment)  \n",
       "7  Soccer (activity, apparel or equipment)  \n",
       "8  Soccer (activity, apparel or equipment)  \n",
       "9  Soccer (activity, apparel or equipment)  \n",
       "\n",
       "[10 rows x 21 columns]"
      ]
     },
     "execution_count": 29,
     "metadata": {},
     "output_type": "execute_result"
    }
   ],
   "source": [
    "dfnss_products = dfnss15.merge(product_categories, left_on='prod1', right_on='product_code')\n",
    "dfnss_products.rename(columns = {'product_code':'prod1_code', 'product_desc':'prod1_desc'}, inplace=True)\n",
    "dfnss_products.head(10)"
   ]
  },
  {
   "cell_type": "markdown",
   "metadata": {},
   "source": [
    "## How many people were injured by musical instruments, total?\n",
    "\n",
    "Include normal musical instruments, electric musical instruments and toy musical instruments.\n",
    "\n",
    "- Tip: You can use the codebook or `cleaned-categories.txt`\n",
    "- Tip: Answer this in one line **without** using `and` or `&`."
   ]
  },
  {
   "cell_type": "code",
   "execution_count": 66,
   "metadata": {},
   "outputs": [
    {
     "name": "stderr",
     "output_type": "stream",
     "text": [
      "/usr/local/lib/python3.6/site-packages/ipykernel_launcher.py:1: UserWarning: This pattern has match groups. To actually get the groups, use str.extract.\n",
      "  \"\"\"Entry point for launching an IPython kernel.\n"
     ]
    },
    {
     "data": {
      "text/plain": [
       "False    357495\n",
       "True        226\n",
       "Name: prod1_desc, dtype: int64"
      ]
     },
     "execution_count": 66,
     "metadata": {},
     "output_type": "execute_result"
    }
   ],
   "source": [
    "dfnss_products.prod1_desc.str.contains('(.*instruments.*)').value_counts()"
   ]
  },
  {
   "cell_type": "code",
   "execution_count": 64,
   "metadata": {},
   "outputs": [
    {
     "name": "stderr",
     "output_type": "stream",
     "text": [
      "/usr/local/lib/python3.6/site-packages/ipykernel_launcher.py:1: FutureWarning: currently extract(expand=None) means expand=False (return Index/Series/DataFrame) but in a future version of pandas this will be changed to expand=True (return DataFrame)\n",
      "  \"\"\"Entry point for launching an IPython kernel.\n"
     ]
    },
    {
     "data": {
      "text/plain": [
       "Nonelectric razors or shavers                                                            726\n",
       "Musical instruments, not electric or not battery operated or not specified               188\n",
       "Cords, electrical, other or not specified                                                177\n",
       "Floor lamps or table lamps, electric (excluding halogen lamps)                           163\n",
       "Christmas decorations (nonelectric)                                                      149\n",
       "Metal cookware (nonelectric; excluding pressure cookers and canners)                     115\n",
       "Nonelectric blankets                                                                      88\n",
       "Clocks, not electric or not battery operated or not specified                             58\n",
       "Scales, not electric or not battery operated or not specified (excluding baby scales)     45\n",
       "Portable electric heaters                                                                 43\n",
       "Nonmetal cookware (nonelectric)                                                           40\n",
       "Ashtrays, not electric or not battery operated or not specified                           24\n",
       "Musical instruments, electric or battery operated                                         14\n",
       "Other electric lighting equipment                                                         12\n",
       "Outdoor electric lighting equipment                                                       12\n",
       "Heating or cooling comfort packs (nonelectric)                                            10\n",
       "Scales, electric or battery operated (excluding baby scales)                               9\n",
       "Clocks, electric or battery operated                                                       9\n",
       "Ashtrays, electric or battery operated                                                     1\n",
       "Nonelectric can openers                                                                    1\n",
       "Name: prod1_desc, dtype: int64"
      ]
     },
     "execution_count": 64,
     "metadata": {},
     "output_type": "execute_result"
    }
   ],
   "source": [
    "dfnss_products.prod1_desc.str.extract('(.*electric.*)').value_counts()"
   ]
  },
  {
   "cell_type": "markdown",
   "metadata": {},
   "source": [
    "## Out of those three, which is the most popular reason for admission?"
   ]
  },
  {
   "cell_type": "code",
   "execution_count": 69,
   "metadata": {
    "scrolled": true
   },
   "outputs": [
    {
     "name": "stderr",
     "output_type": "stream",
     "text": [
      "/usr/local/lib/python3.6/site-packages/ipykernel_launcher.py:1: FutureWarning: currently extract(expand=None) means expand=False (return Index/Series/DataFrame) but in a future version of pandas this will be changed to expand=True (return DataFrame)\n",
      "  \"\"\"Entry point for launching an IPython kernel.\n"
     ]
    },
    {
     "data": {
      "text/plain": [
       "Musical instruments, not electric or not battery operated or not specified    188\n",
       "Toy musical instruments                                                        24\n",
       "Musical instruments, electric or battery operated                              14\n",
       "Name: prod1_desc, dtype: int64"
      ]
     },
     "execution_count": 69,
     "metadata": {},
     "output_type": "execute_result"
    }
   ],
   "source": [
    "dfnss_products.prod1_desc.str.extract('(.*instruments.*)').value_counts()"
   ]
  },
  {
   "cell_type": "markdown",
   "metadata": {},
   "source": [
    "## What parts of the body are injured by musical instruments most often?"
   ]
  },
  {
   "cell_type": "code",
   "execution_count": 68,
   "metadata": {},
   "outputs": [
    {
     "name": "stderr",
     "output_type": "stream",
     "text": [
      "/usr/local/lib/python3.6/site-packages/ipykernel_launcher.py:1: UserWarning: This pattern has match groups. To actually get the groups, use str.extract.\n",
      "  \"\"\"Entry point for launching an IPython kernel.\n"
     ]
    },
    {
     "data": {
      "text/plain": [
       "face                 32\n",
       "head                 30\n",
       "finger               23\n",
       "upper trunk          19\n",
       "mouth                18\n",
       "lower trunk          15\n",
       "shoulder             13\n",
       "wrist                12\n",
       "toe                  10\n",
       "foot                  8\n",
       "knee                  6\n",
       "all parts of body     6\n",
       "lower arm             6\n",
       "neck                  5\n",
       "eyeball               5\n",
       "elbow                 4\n",
       "hand                  4\n",
       "ear                   3\n",
       "lower leg             3\n",
       "ankle                 2\n",
       "upper arm             1\n",
       "internal              1\n",
       "Name: body_part, dtype: int64"
      ]
     },
     "execution_count": 68,
     "metadata": {},
     "output_type": "execute_result"
    }
   ],
   "source": [
    "dfnss_products[dfnss_products.prod1_desc.str.contains('(.*instruments.*)')]['body_part'].value_counts()"
   ]
  },
  {
   "cell_type": "markdown",
   "metadata": {},
   "source": [
    "# Adding categories"
   ]
  },
  {
   "cell_type": "markdown",
   "metadata": {},
   "source": [
    "## Read in `categories-cleaned.txt`"
   ]
  },
  {
   "cell_type": "code",
   "execution_count": 70,
   "metadata": {},
   "outputs": [
    {
     "data": {
      "text/html": [
       "<div>\n",
       "<style>\n",
       "    .dataframe thead tr:only-child th {\n",
       "        text-align: right;\n",
       "    }\n",
       "\n",
       "    .dataframe thead th {\n",
       "        text-align: left;\n",
       "    }\n",
       "\n",
       "    .dataframe tbody tr th {\n",
       "        vertical-align: top;\n",
       "    }\n",
       "</style>\n",
       "<table border=\"1\" class=\"dataframe\">\n",
       "  <thead>\n",
       "    <tr style=\"text-align: right;\">\n",
       "      <th></th>\n",
       "      <th>product_code</th>\n",
       "      <th>product_desc</th>\n",
       "    </tr>\n",
       "  </thead>\n",
       "  <tbody>\n",
       "    <tr>\n",
       "      <th>0</th>\n",
       "      <td>0102</td>\n",
       "      <td>Wringer washing machines</td>\n",
       "    </tr>\n",
       "    <tr>\n",
       "      <th>1</th>\n",
       "      <td>0106</td>\n",
       "      <td>Electric clothes dryers without washers</td>\n",
       "    </tr>\n",
       "    <tr>\n",
       "      <th>2</th>\n",
       "      <td>0107</td>\n",
       "      <td>Gas clothes dryers without washers</td>\n",
       "    </tr>\n",
       "    <tr>\n",
       "      <th>3</th>\n",
       "      <td>0110</td>\n",
       "      <td>Electric heating pads</td>\n",
       "    </tr>\n",
       "    <tr>\n",
       "      <th>4</th>\n",
       "      <td>0112</td>\n",
       "      <td>Sewing machines or accessories</td>\n",
       "    </tr>\n",
       "    <tr>\n",
       "      <th>5</th>\n",
       "      <td>0113</td>\n",
       "      <td>Floor buffers or waxers</td>\n",
       "    </tr>\n",
       "    <tr>\n",
       "      <th>6</th>\n",
       "      <td>0114</td>\n",
       "      <td>Rug shampooers</td>\n",
       "    </tr>\n",
       "    <tr>\n",
       "      <th>7</th>\n",
       "      <td>0115</td>\n",
       "      <td>Vacuum cleaners</td>\n",
       "    </tr>\n",
       "  </tbody>\n",
       "</table>\n",
       "</div>"
      ],
      "text/plain": [
       "  product_code                             product_desc\n",
       "0         0102                 Wringer washing machines\n",
       "1         0106  Electric clothes dryers without washers\n",
       "2         0107       Gas clothes dryers without washers\n",
       "3         0110                    Electric heating pads\n",
       "4         0112           Sewing machines or accessories\n",
       "5         0113                  Floor buffers or waxers\n",
       "6         0114                           Rug shampooers\n",
       "7         0115                          Vacuum cleaners"
      ]
     },
     "execution_count": 70,
     "metadata": {},
     "output_type": "execute_result"
    }
   ],
   "source": [
    "product_categories.head(8)"
   ]
  },
  {
   "cell_type": "markdown",
   "metadata": {},
   "source": [
    "## How many different categories are electric/electrical/electronic?"
   ]
  },
  {
   "cell_type": "code",
   "execution_count": 94,
   "metadata": {},
   "outputs": [
    {
     "name": "stderr",
     "output_type": "stream",
     "text": [
      "/usr/local/lib/python3.6/site-packages/ipykernel_launcher.py:1: FutureWarning: currently extract(expand=None) means expand=False (return Index/Series/DataFrame) but in a future version of pandas this will be changed to expand=True (return DataFrame)\n",
      "  \"\"\"Entry point for launching an IPython kernel.\n"
     ]
    },
    {
     "data": {
      "text/plain": [
       "Ashtrays, electric or battery operated                            1\n",
       "Clocks, electric or battery operated                              1\n",
       "Computers (equipment and electronic games)                        1\n",
       "Cords, electrical, other or not specified                         1\n",
       "Floor lamps or table lamps, electric (excluding halogen lamps)    1\n",
       "Heat tapes, electric                                              1\n",
       "Musical instruments, electric or battery operated                 1\n",
       "Other electric lighting equipment                                 1\n",
       "Outdoor electric lighting equipment                               1\n",
       "Portable electric heaters                                         1\n",
       "Pretend electronics, tools, housewares, and appliances            1\n",
       "Scales, electric or battery operated (excluding baby scales)      1\n",
       "Name: product_desc, dtype: int64"
      ]
     },
     "execution_count": 94,
     "metadata": {},
     "output_type": "execute_result"
    }
   ],
   "source": [
    "product_categories.product_desc.str.extract('(.*?[^ not] electr[io].*)').value_counts().sort_index()"
   ]
  },
  {
   "cell_type": "markdown",
   "metadata": {},
   "source": [
    "## Join this with your injuries dataframes to give every row a text product code"
   ]
  },
  {
   "cell_type": "code",
   "execution_count": 96,
   "metadata": {},
   "outputs": [
    {
     "data": {
      "text/html": [
       "<div>\n",
       "<style>\n",
       "    .dataframe thead tr:only-child th {\n",
       "        text-align: right;\n",
       "    }\n",
       "\n",
       "    .dataframe thead th {\n",
       "        text-align: left;\n",
       "    }\n",
       "\n",
       "    .dataframe tbody tr th {\n",
       "        vertical-align: top;\n",
       "    }\n",
       "</style>\n",
       "<table border=\"1\" class=\"dataframe\">\n",
       "  <thead>\n",
       "    <tr style=\"text-align: right;\">\n",
       "      <th></th>\n",
       "      <th>CPSC Case #</th>\n",
       "      <th>trmt_date</th>\n",
       "      <th>psu</th>\n",
       "      <th>weight</th>\n",
       "      <th>stratum</th>\n",
       "      <th>age</th>\n",
       "      <th>sex</th>\n",
       "      <th>race</th>\n",
       "      <th>race_other</th>\n",
       "      <th>diag</th>\n",
       "      <th>...</th>\n",
       "      <th>body_part</th>\n",
       "      <th>disposition</th>\n",
       "      <th>location</th>\n",
       "      <th>fmv</th>\n",
       "      <th>prod1</th>\n",
       "      <th>prod2</th>\n",
       "      <th>narr1</th>\n",
       "      <th>narr2</th>\n",
       "      <th>prod1_code</th>\n",
       "      <th>prod1_desc</th>\n",
       "    </tr>\n",
       "  </thead>\n",
       "  <tbody>\n",
       "    <tr>\n",
       "      <th>0</th>\n",
       "      <td>150733174</td>\n",
       "      <td>07/11/2015</td>\n",
       "      <td>38</td>\n",
       "      <td>15.7762</td>\n",
       "      <td>V</td>\n",
       "      <td>5.0</td>\n",
       "      <td>1</td>\n",
       "      <td>0</td>\n",
       "      <td>NaN</td>\n",
       "      <td>57</td>\n",
       "      <td>...</td>\n",
       "      <td>lower arm</td>\n",
       "      <td>1</td>\n",
       "      <td>9</td>\n",
       "      <td>0</td>\n",
       "      <td>1267</td>\n",
       "      <td></td>\n",
       "      <td>5 YR OLD MALE PLAYING SOCCER BLOCKING BALL AND...</td>\n",
       "      <td>X IT</td>\n",
       "      <td>1267</td>\n",
       "      <td>Soccer (activity, apparel or equipment)</td>\n",
       "    </tr>\n",
       "    <tr>\n",
       "      <th>1</th>\n",
       "      <td>150821622</td>\n",
       "      <td>07/20/2015</td>\n",
       "      <td>43</td>\n",
       "      <td>83.2157</td>\n",
       "      <td>S</td>\n",
       "      <td>20.0</td>\n",
       "      <td>2</td>\n",
       "      <td>1</td>\n",
       "      <td>NaN</td>\n",
       "      <td>57</td>\n",
       "      <td>...</td>\n",
       "      <td>lower leg</td>\n",
       "      <td>1</td>\n",
       "      <td>9</td>\n",
       "      <td>0</td>\n",
       "      <td>1267</td>\n",
       "      <td></td>\n",
       "      <td>L DISTAL FIB FX/20YOWF WHILE PLAYING SOCCER AT...</td>\n",
       "      <td>LE CAUSING INJURY TO DISTAL FIB.</td>\n",
       "      <td>1267</td>\n",
       "      <td>Soccer (activity, apparel or equipment)</td>\n",
       "    </tr>\n",
       "  </tbody>\n",
       "</table>\n",
       "<p>2 rows × 21 columns</p>\n",
       "</div>"
      ],
      "text/plain": [
       "   CPSC Case #   trmt_date  psu   weight stratum   age  sex  race race_other  \\\n",
       "0    150733174  07/11/2015   38  15.7762       V   5.0    1     0        NaN   \n",
       "1    150821622  07/20/2015   43  83.2157       S  20.0    2     1        NaN   \n",
       "\n",
       "   diag                   ...                     body_part disposition  \\\n",
       "0    57                   ...                     lower arm           1   \n",
       "1    57                   ...                     lower leg           1   \n",
       "\n",
       "   location  fmv  prod1 prod2  \\\n",
       "0         9    0   1267         \n",
       "1         9    0   1267         \n",
       "\n",
       "                                               narr1  \\\n",
       "0  5 YR OLD MALE PLAYING SOCCER BLOCKING BALL AND...   \n",
       "1  L DISTAL FIB FX/20YOWF WHILE PLAYING SOCCER AT...   \n",
       "\n",
       "                              narr2 prod1_code  \\\n",
       "0                              X IT       1267   \n",
       "1  LE CAUSING INJURY TO DISTAL FIB.       1267   \n",
       "\n",
       "                                prod1_desc  \n",
       "0  Soccer (activity, apparel or equipment)  \n",
       "1  Soccer (activity, apparel or equipment)  \n",
       "\n",
       "[2 rows x 21 columns]"
      ]
     },
     "execution_count": 96,
     "metadata": {},
     "output_type": "execute_result"
    }
   ],
   "source": [
    "dfnss_products.head(2)"
   ]
  },
  {
   "cell_type": "markdown",
   "metadata": {},
   "source": [
    "## How many different injuries involved an electric/electrical/electronic product?"
   ]
  },
  {
   "cell_type": "code",
   "execution_count": 97,
   "metadata": {},
   "outputs": [
    {
     "name": "stderr",
     "output_type": "stream",
     "text": [
      "/usr/local/lib/python3.6/site-packages/ipykernel_launcher.py:1: FutureWarning: currently extract(expand=None) means expand=False (return Index/Series/DataFrame) but in a future version of pandas this will be changed to expand=True (return DataFrame)\n",
      "  \"\"\"Entry point for launching an IPython kernel.\n"
     ]
    },
    {
     "data": {
      "text/plain": [
       "Computers (equipment and electronic games)                        547\n",
       "Cords, electrical, other or not specified                         177\n",
       "Floor lamps or table lamps, electric (excluding halogen lamps)    163\n",
       "Pretend electronics, tools, housewares, and appliances             97\n",
       "Portable electric heaters                                          43\n",
       "Musical instruments, electric or battery operated                  14\n",
       "Other electric lighting equipment                                  12\n",
       "Outdoor electric lighting equipment                                12\n",
       "Clocks, electric or battery operated                                9\n",
       "Scales, electric or battery operated (excluding baby scales)        9\n",
       "Ashtrays, electric or battery operated                              1\n",
       "Name: prod1_desc, dtype: int64"
      ]
     },
     "execution_count": 97,
     "metadata": {},
     "output_type": "execute_result"
    }
   ],
   "source": [
    "dfnss_products.prod1_desc.str.extract('(.*?[^ not] electr[io].*)').value_counts()"
   ]
  },
  {
   "cell_type": "markdown",
   "metadata": {},
   "source": [
    "## Graph the most common injuries involving an electrical product"
   ]
  },
  {
   "cell_type": "code",
   "execution_count": 104,
   "metadata": {},
   "outputs": [
    {
     "name": "stderr",
     "output_type": "stream",
     "text": [
      "/usr/local/lib/python3.6/site-packages/ipykernel_launcher.py:1: FutureWarning: currently extract(expand=None) means expand=False (return Index/Series/DataFrame) but in a future version of pandas this will be changed to expand=True (return DataFrame)\n",
      "  \"\"\"Entry point for launching an IPython kernel.\n"
     ]
    },
    {
     "data": {
      "text/plain": [
       "<matplotlib.axes._subplots.AxesSubplot at 0x10db959b0>"
      ]
     },
     "execution_count": 104,
     "metadata": {},
     "output_type": "execute_result"
    },
    {
     "data": {
      "image/png": "[encoded data removed]",
      "text/plain": [
       "<matplotlib.figure.Figure at 0x10dac5a20>"
      ]
     },
     "metadata": {},
     "output_type": "display_data"
    }
   ],
   "source": [
    "dfnss_products.prod1_desc.str.extract('(.*?[^ not] electrical.*)').value_counts(ascending=True).plot(kind='barh')"
   ]
  },
  {
   "cell_type": "markdown",
   "metadata": {},
   "source": [
    "## When people get injuries using an electrical product, what part of their body is injured?"
   ]
  },
  {
   "cell_type": "code",
   "execution_count": 111,
   "metadata": {},
   "outputs": [
    {
     "name": "stderr",
     "output_type": "stream",
     "text": [
      "/usr/local/lib/python3.6/site-packages/ipykernel_launcher.py:1: UserWarning: This pattern has match groups. To actually get the groups, use str.extract.\n",
      "  \"\"\"Entry point for launching an IPython kernel.\n"
     ]
    },
    {
     "data": {
      "text/plain": [
       "head                 28\n",
       "face                 18\n",
       "lower trunk          17\n",
       "upper trunk          13\n",
       "knee                 13\n",
       "foot                 13\n",
       "hand                 10\n",
       "shoulder              9\n",
       "eyeball               8\n",
       "lower arm             7\n",
       "ankle                 6\n",
       "upper arm             5\n",
       "neck                  5\n",
       "elbow                 4\n",
       "all parts of body     4\n",
       "mouth                 3\n",
       "lower leg             3\n",
       "finger                3\n",
       "not recorded          2\n",
       "toe                   2\n",
       "upper leg             2\n",
       "wrist                 2\n",
       "Name: body_part, dtype: int64"
      ]
     },
     "execution_count": 111,
     "metadata": {},
     "output_type": "execute_result"
    }
   ],
   "source": [
    "dfnss_products[dfnss_products.prod1_desc.str.contains('(.*?[^ not] electrical.*)')].body_part.value_counts()"
   ]
  },
  {
   "cell_type": "markdown",
   "metadata": {},
   "source": [
    "## What product is most likely to injure your mouth?"
   ]
  },
  {
   "cell_type": "code",
   "execution_count": 107,
   "metadata": {},
   "outputs": [
    {
     "data": {
      "text/plain": [
       "Floors or flooring materials                                                                                              655\n",
       "Beds or bedframes, other or not specified                                                                                 469\n",
       "Tables, not elsewhere classified (excl. baby changing tables, billiard or pool tables and television tables or stands)    461\n",
       "Stairs or steps (excluding pull-down and folding stairs)                                                                  454\n",
       "Bicycles or accessories (excluding mountain or all-terrain bicycles)                                                      353\n",
       "Basketball (activity, apparel or equipment)                                                                               346\n",
       "Chairs, other or not specified                                                                                            326\n",
       "Sofas, couches, davenports, divans or studio couches                                                                      200\n",
       "Bathtubs or showers (including fixtures or accessories; excluding enclosures, faucets, spigots and towel racks)           163\n",
       "Toys, not specified                                                                                                       142\n",
       "Name: prod1_desc, dtype: int64"
      ]
     },
     "execution_count": 107,
     "metadata": {},
     "output_type": "execute_result"
    }
   ],
   "source": [
    "dfnss_products[dfnss_products.body_part == 'mouth'].prod1_desc.value_counts().head(10)"
   ]
  },
  {
   "cell_type": "markdown",
   "metadata": {},
   "source": [
    "## What product is most likely to injure your ears?"
   ]
  },
  {
   "cell_type": "code",
   "execution_count": 109,
   "metadata": {},
   "outputs": [
    {
     "data": {
      "text/plain": [
       "Jewelry (excluding watches)                                                                                               1209\n",
       "Swimming (activity, apparel or equipment; excluding flotation devices)                                                    1003\n",
       "Paper products (excluding bags, cups, straws and cardboard products)                                                       159\n",
       "Tables, not elsewhere classified (excl. baby changing tables, billiard or pool tables and television tables or stands)     128\n",
       "Beds or bedframes, other or not specified                                                                                   99\n",
       "Stereo or hi-fi components or accessories (excluding self-contained units)                                                  98\n",
       "Pens and pencils                                                                                                            91\n",
       "Swimming pools, not specified                                                                                               72\n",
       "Bathtubs or showers (including fixtures or accessories; excluding enclosures, faucets, spigots and towel racks)             69\n",
       "Desk supplies (excluding pens and pencils)                                                                                  68\n",
       "Name: prod1_desc, dtype: int64"
      ]
     },
     "execution_count": 109,
     "metadata": {},
     "output_type": "execute_result"
    }
   ],
   "source": [
    "dfnss_products[dfnss_products.body_part == 'ear'].prod1_desc.value_counts().head(10)"
   ]
  }
 ],
 "metadata": {
  "kernelspec": {
   "display_name": "Python 3",
   "language": "python",
   "name": "python3"
  },
  "language_info": {
   "codemirror_mode": {
    "name": "ipython",
    "version": 3
   },
   "file_extension": ".py",
   "mimetype": "text/x-python",
   "name": "python",
   "nbconvert_exporter": "python",
   "pygments_lexer": "ipython3",
   "version": "3.6.1"
  }
 },
 "nbformat": 4,
 "nbformat_minor": 2
}
