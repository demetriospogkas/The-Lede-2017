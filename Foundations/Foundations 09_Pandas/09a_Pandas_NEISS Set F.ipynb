{
 "cells": [
  {
   "cell_type": "markdown",
   "metadata": {},
   "source": [
    "# Exercise: NEISS, Question Set F\n",
    "\n",
    "#### Summary\n",
    "\n",
    "The [National Electronic Injury Surveillance System](https://www.cpsc.gov/Safety-Education/Safety-Guides/General-Information/National-Electronic-Injury-Surveillance-System-NEISS) is a data product produced by the US Consumer Product Safety Commission. It tracks emergency room injuries related to consumer products (e.g., \"a door fell on me!\").\n",
    "\n",
    "#### Files\n",
    "\n",
    "- **nss15.tsv**: injury data (one injury per row)\n",
    "- **2017NEISSCodingManualCPSConlyNontrauma.pdf**: column definitions and explanations\n",
    "- **2015 Neiss data highlights.pdf**: a partial summary of the data\n",
    "- **2017ComparabilityTable.pdf**: product code definitions\n",
    "- **categories-cleaned.txt**: product code definitions in CSV format (great for joining!)\n",
    "\n",
    "#### Source\n",
    "\n",
    "https://www.cpsc.gov/Safety-Education/Safety-Guides/General-Information/National-Electronic-Injury-Surveillance-System-NEISS\n",
    "\n",
    "#### Skills\n",
    "\n",
    "- Reading tab-separated files\n",
    "- Ignoring bad lines\n",
    "- Replacing values\n",
    "- Using numpy/`np.nan`\n",
    "- String search using regular expressions\n",
    "- String replacement using regular expressions\n",
    "- Using codebooks"
   ]
  },
  {
   "cell_type": "markdown",
   "metadata": {},
   "source": [
    "# Read in `nss15.tsv`\n",
    "\n",
    "Some of the lines just **aren't formatted correctly**. Maybe we can avoid those?"
   ]
  },
  {
   "cell_type": "code",
   "execution_count": 1,
   "metadata": {
    "scrolled": true
   },
   "outputs": [
    {
     "name": "stderr",
     "output_type": "stream",
     "text": [
      "b'Skipping line 10822: expected 19 fields, saw 20\\n'\n",
      "b'Skipping line 48623: expected 19 fields, saw 20\\nSkipping line 62534: expected 19 fields, saw 20\\n'\n",
      "b'Skipping line 103739: expected 19 fields, saw 20\\n'\n",
      "b'Skipping line 135495: expected 19 fields, saw 20\\nSkipping line 151678: expected 19 fields, saw 20\\n'\n",
      "b'Skipping line 237135: expected 19 fields, saw 20\\nSkipping line 240597: expected 19 fields, saw 20\\n'\n",
      "b'Skipping line 274270: expected 19 fields, saw 20\\nSkipping line 277461: expected 19 fields, saw 20\\n'\n"
     ]
    }
   ],
   "source": [
    "import pandas as pd\n",
    "%matplotlib inline\n",
    "#df_nss15 = pd.read_csv('nss15.tsv', sep = '\\t') # Getting error because the data is bad\n",
    "df_nss15 = pd.read_csv('nss15.tsv', sep = '\\t', error_bad_lines = False, converters = {'prod1': str, 'prod2':str}) # Getting error because the data is bad"
   ]
  },
  {
   "cell_type": "code",
   "execution_count": 2,
   "metadata": {},
   "outputs": [
    {
     "data": {
      "text/html": [
       "<div>\n",
       "<style>\n",
       "    .dataframe thead tr:only-child th {\n",
       "        text-align: right;\n",
       "    }\n",
       "\n",
       "    .dataframe thead th {\n",
       "        text-align: left;\n",
       "    }\n",
       "\n",
       "    .dataframe tbody tr th {\n",
       "        vertical-align: top;\n",
       "    }\n",
       "</style>\n",
       "<table border=\"1\" class=\"dataframe\">\n",
       "  <thead>\n",
       "    <tr style=\"text-align: right;\">\n",
       "      <th></th>\n",
       "      <th>CPSC Case #</th>\n",
       "      <th>trmt_date</th>\n",
       "      <th>psu</th>\n",
       "      <th>weight</th>\n",
       "      <th>stratum</th>\n",
       "      <th>age</th>\n",
       "      <th>sex</th>\n",
       "      <th>race</th>\n",
       "      <th>race_other</th>\n",
       "      <th>diag</th>\n",
       "      <th>diag_other</th>\n",
       "      <th>body_part</th>\n",
       "      <th>disposition</th>\n",
       "      <th>location</th>\n",
       "      <th>fmv</th>\n",
       "      <th>prod1</th>\n",
       "      <th>prod2</th>\n",
       "      <th>narr1</th>\n",
       "      <th>narr2</th>\n",
       "    </tr>\n",
       "  </thead>\n",
       "  <tbody>\n",
       "    <tr>\n",
       "      <th>0</th>\n",
       "      <td>150733174</td>\n",
       "      <td>07/11/2015</td>\n",
       "      <td>38</td>\n",
       "      <td>15.7762</td>\n",
       "      <td>V</td>\n",
       "      <td>5</td>\n",
       "      <td>1</td>\n",
       "      <td>0</td>\n",
       "      <td>NaN</td>\n",
       "      <td>57</td>\n",
       "      <td>NaN</td>\n",
       "      <td>33</td>\n",
       "      <td>1</td>\n",
       "      <td>9</td>\n",
       "      <td>0</td>\n",
       "      <td>1267</td>\n",
       "      <td></td>\n",
       "      <td>5 YR OLD MALE PLAYING SOCCER BLOCKING BALL AND...</td>\n",
       "      <td>X IT</td>\n",
       "    </tr>\n",
       "    <tr>\n",
       "      <th>1</th>\n",
       "      <td>150734723</td>\n",
       "      <td>07/06/2015</td>\n",
       "      <td>43</td>\n",
       "      <td>83.2157</td>\n",
       "      <td>S</td>\n",
       "      <td>36</td>\n",
       "      <td>1</td>\n",
       "      <td>1</td>\n",
       "      <td>NaN</td>\n",
       "      <td>57</td>\n",
       "      <td>NaN</td>\n",
       "      <td>34</td>\n",
       "      <td>1</td>\n",
       "      <td>1</td>\n",
       "      <td>0</td>\n",
       "      <td>1439</td>\n",
       "      <td>4057</td>\n",
       "      <td>L WRIST FX(?)/36YOWM 2 WKS AGO@G-FRIENDS HM,MO...</td>\n",
       "      <td>AN OBJECT&amp;TWISTED WRIST TRYING TO CONTOL MOWER...</td>\n",
       "    </tr>\n",
       "    <tr>\n",
       "      <th>2</th>\n",
       "      <td>150817487</td>\n",
       "      <td>08/02/2015</td>\n",
       "      <td>51</td>\n",
       "      <td>74.8813</td>\n",
       "      <td>L</td>\n",
       "      <td>20</td>\n",
       "      <td>2</td>\n",
       "      <td>0</td>\n",
       "      <td>NaN</td>\n",
       "      <td>71</td>\n",
       "      <td>OTITIS EXTERNA</td>\n",
       "      <td>94</td>\n",
       "      <td>1</td>\n",
       "      <td>0</td>\n",
       "      <td>0</td>\n",
       "      <td>3274</td>\n",
       "      <td></td>\n",
       "      <td>20 YO F C/O EAR PAIN 1 DAY SAS WAS SWIMMING YE...</td>\n",
       "      <td>T TRIED TO USE ***S TO REMOVE WAX MADE IT WORS...</td>\n",
       "    </tr>\n",
       "    <tr>\n",
       "      <th>3</th>\n",
       "      <td>150717776</td>\n",
       "      <td>06/26/2015</td>\n",
       "      <td>41</td>\n",
       "      <td>15.7762</td>\n",
       "      <td>V</td>\n",
       "      <td>61</td>\n",
       "      <td>1</td>\n",
       "      <td>0</td>\n",
       "      <td>NaN</td>\n",
       "      <td>71</td>\n",
       "      <td>PAIN</td>\n",
       "      <td>35</td>\n",
       "      <td>1</td>\n",
       "      <td>0</td>\n",
       "      <td>0</td>\n",
       "      <td>611</td>\n",
       "      <td></td>\n",
       "      <td>61YOM W/KNEE PAIN S/P FALLING IN SHOWER 2 DAYS...</td>\n",
       "      <td>NaN</td>\n",
       "    </tr>\n",
       "    <tr>\n",
       "      <th>4</th>\n",
       "      <td>150721694</td>\n",
       "      <td>07/04/2015</td>\n",
       "      <td>42</td>\n",
       "      <td>74.8813</td>\n",
       "      <td>L</td>\n",
       "      <td>88</td>\n",
       "      <td>2</td>\n",
       "      <td>3</td>\n",
       "      <td>HISPANIC</td>\n",
       "      <td>62</td>\n",
       "      <td>NaN</td>\n",
       "      <td>75</td>\n",
       "      <td>1</td>\n",
       "      <td>0</td>\n",
       "      <td>0</td>\n",
       "      <td>1893</td>\n",
       "      <td>1807</td>\n",
       "      <td>88YOF PAIN TO HEAD WHEN FALL TO FLOOR WHEN WAL...</td>\n",
       "      <td>DOOR AND FELL.DENIES LOC. DX HEAD INJURY</td>\n",
       "    </tr>\n",
       "    <tr>\n",
       "      <th>5</th>\n",
       "      <td>150721815</td>\n",
       "      <td>07/02/2015</td>\n",
       "      <td>32</td>\n",
       "      <td>5.6748</td>\n",
       "      <td>C</td>\n",
       "      <td>216</td>\n",
       "      <td>2</td>\n",
       "      <td>1</td>\n",
       "      <td>NaN</td>\n",
       "      <td>71</td>\n",
       "      <td>DOG SCRATCH/BITE</td>\n",
       "      <td>76</td>\n",
       "      <td>1</td>\n",
       "      <td>1</td>\n",
       "      <td>0</td>\n",
       "      <td>1715</td>\n",
       "      <td></td>\n",
       "      <td>16 MOF AT HOME PULLED FAMILY DOG-HUSKIES COLLA...</td>\n",
       "      <td>ND SCRAPING TEETH ON PTS FACE, NOT A TRUE BITE...</td>\n",
       "    </tr>\n",
       "  </tbody>\n",
       "</table>\n",
       "</div>"
      ],
      "text/plain": [
       "   CPSC Case #   trmt_date  psu   weight stratum  age  sex  race race_other  \\\n",
       "0    150733174  07/11/2015   38  15.7762       V    5    1     0        NaN   \n",
       "1    150734723  07/06/2015   43  83.2157       S   36    1     1        NaN   \n",
       "2    150817487  08/02/2015   51  74.8813       L   20    2     0        NaN   \n",
       "3    150717776  06/26/2015   41  15.7762       V   61    1     0        NaN   \n",
       "4    150721694  07/04/2015   42  74.8813       L   88    2     3   HISPANIC   \n",
       "5    150721815  07/02/2015   32   5.6748       C  216    2     1        NaN   \n",
       "\n",
       "   diag        diag_other  body_part  disposition  location  fmv prod1 prod2  \\\n",
       "0    57               NaN         33            1         9    0  1267         \n",
       "1    57               NaN         34            1         1    0  1439  4057   \n",
       "2    71    OTITIS EXTERNA         94            1         0    0  3274         \n",
       "3    71              PAIN         35            1         0    0   611         \n",
       "4    62               NaN         75            1         0    0  1893  1807   \n",
       "5    71  DOG SCRATCH/BITE         76            1         1    0  1715         \n",
       "\n",
       "                                               narr1  \\\n",
       "0  5 YR OLD MALE PLAYING SOCCER BLOCKING BALL AND...   \n",
       "1  L WRIST FX(?)/36YOWM 2 WKS AGO@G-FRIENDS HM,MO...   \n",
       "2  20 YO F C/O EAR PAIN 1 DAY SAS WAS SWIMMING YE...   \n",
       "3  61YOM W/KNEE PAIN S/P FALLING IN SHOWER 2 DAYS...   \n",
       "4  88YOF PAIN TO HEAD WHEN FALL TO FLOOR WHEN WAL...   \n",
       "5  16 MOF AT HOME PULLED FAMILY DOG-HUSKIES COLLA...   \n",
       "\n",
       "                                               narr2  \n",
       "0                                               X IT  \n",
       "1  AN OBJECT&TWISTED WRIST TRYING TO CONTOL MOWER...  \n",
       "2  T TRIED TO USE ***S TO REMOVE WAX MADE IT WORS...  \n",
       "3                                                NaN  \n",
       "4           DOOR AND FELL.DENIES LOC. DX HEAD INJURY  \n",
       "5  ND SCRAPING TEETH ON PTS FACE, NOT A TRUE BITE...  "
      ]
     },
     "execution_count": 2,
     "metadata": {},
     "output_type": "execute_result"
    }
   ],
   "source": [
    "df_nss15.head(6)"
   ]
  },
  {
   "cell_type": "markdown",
   "metadata": {},
   "source": [
    "### Check that your dataframe has 357727 rows and 19 columns."
   ]
  },
  {
   "cell_type": "code",
   "execution_count": 3,
   "metadata": {},
   "outputs": [
    {
     "data": {
      "text/plain": [
       "(357727, 19)"
      ]
     },
     "execution_count": 3,
     "metadata": {},
     "output_type": "execute_result"
    }
   ],
   "source": [
    "df_nss15.shape"
   ]
  },
  {
   "cell_type": "markdown",
   "metadata": {},
   "source": [
    "### List the columns and their data types"
   ]
  },
  {
   "cell_type": "code",
   "execution_count": 4,
   "metadata": {},
   "outputs": [
    {
     "data": {
      "text/plain": [
       "CPSC Case #      int64\n",
       "trmt_date       object\n",
       "psu              int64\n",
       "weight         float64\n",
       "stratum         object\n",
       "age              int64\n",
       "sex              int64\n",
       "race             int64\n",
       "race_other      object\n",
       "diag             int64\n",
       "diag_other      object\n",
       "body_part        int64\n",
       "disposition      int64\n",
       "location         int64\n",
       "fmv              int64\n",
       "prod1           object\n",
       "prod2           object\n",
       "narr1           object\n",
       "narr2           object\n",
       "dtype: object"
      ]
     },
     "execution_count": 4,
     "metadata": {},
     "output_type": "execute_result"
    }
   ],
   "source": [
    "df_nss15.dtypes"
   ]
  },
  {
   "cell_type": "markdown",
   "metadata": {},
   "source": [
    "### What does each column mean?"
   ]
  },
  {
   "cell_type": "code",
   "execution_count": 5,
   "metadata": {},
   "outputs": [
    {
     "data": {
      "text/plain": [
       "2     11735\n",
       "3     10117\n",
       "14     9209\n",
       "13     8878\n",
       "15     8779\n",
       "Name: age, dtype: int64"
      ]
     },
     "execution_count": 5,
     "metadata": {},
     "output_type": "execute_result"
    }
   ],
   "source": [
    "# Types of age\n",
    "# When the date of birth is not available, the age of the patient must be entered.\n",
    "# For children under two years old, record the age in months.\n",
    "# To show that the age is in months instead of years, put a \"2\" in the first space of the age code.\n",
    "# Code the age of infants in \"completed months;\"\n",
    "# e.g., code the age of infants who are four to seven weeks old as one month.\n",
    "# Code the age of infants who are less than one month old as one month.\n",
    "\n",
    "# Examples:\n",
    "# Age Code\n",
    "# Three weeks 201 Four weeks (one month) 201 Seven weeks 201 Ten weeks 202\n",
    "# Nine months 209 Twelve months (one year) 212 Eighteen months 218\n",
    "# For a patient two years of age or older, record age in years.\n",
    "\n",
    "# Examples:\n",
    "# Age Code\n",
    "# Two years 2 Eight years 8 Forty-five years 45 One hundred years 100 Not recorded 0\n",
    "# If the patient is older than 115 years old, code the age as 115 and indicate the actual age in the narrative.\n",
    "# If twins are involved in an incident, and both twins are patients being coded,\n",
    "# be sure to indicate “Twin A” or “Twin B” in the comment.\n",
    "\n",
    "df_nss15['age'].value_counts().head()"
   ]
  },
  {
   "cell_type": "code",
   "execution_count": 6,
   "metadata": {},
   "outputs": [
    {
     "data": {
      "text/plain": [
       "1    195071\n",
       "2    162654\n",
       "0         2\n",
       "Name: sex, dtype: int64"
      ]
     },
     "execution_count": 6,
     "metadata": {},
     "output_type": "execute_result"
    }
   ],
   "source": [
    "# Types of sex\n",
    "# Indicate the sex of the patient with one of the codes listed below:\n",
    "# Sex Code: Male 1 Female 2 Not recorded 0\n",
    "df_nss15['sex'].value_counts()"
   ]
  },
  {
   "cell_type": "code",
   "execution_count": 7,
   "metadata": {},
   "outputs": [
    {
     "data": {
      "text/plain": [
       "1842    28609\n",
       "1807    28255\n",
       "4076    16707\n",
       "1205    14095\n",
       "5040    12737\n",
       "1211    11614\n",
       "Name: prod1, dtype: int64"
      ]
     },
     "execution_count": 7,
     "metadata": {},
     "output_type": "execute_result"
    }
   ],
   "source": [
    "# Products\n",
    "# When only one product is associated with an injury, place the product code for that product\n",
    "# in the space allocated for \"First Product Code\"\n",
    "# and fill in the \"Second Product Code\" spaces with 4 zeros (0000).\n",
    "\n",
    "# When two products are associated with an injury, either product may be coded as the first\n",
    "# product and the other as the second product.\n",
    "df_nss15['prod1'].value_counts().head(6)"
   ]
  },
  {
   "cell_type": "markdown",
   "metadata": {},
   "source": [
    "# Cleaning up a column\n",
    "\n",
    "Take a look at the **race** column. How many rows of each race are there?"
   ]
  },
  {
   "cell_type": "code",
   "execution_count": 8,
   "metadata": {},
   "outputs": [
    {
     "data": {
      "text/plain": [
       "1    145813\n",
       "0    138666\n",
       "2     48868\n",
       "3     18884\n",
       "4      4130\n",
       "5      1000\n",
       "6       366\n",
       "Name: race, dtype: int64"
      ]
     },
     "execution_count": 8,
     "metadata": {},
     "output_type": "execute_result"
    }
   ],
   "source": [
    "# Types of race\n",
    "# Race\n",
    "# White: A person having origins in any of the original peoples of Europe, the Middle East, or North Africa. 1\n",
    "# Black/African American: A person having origins in any of the black racial groups of Africa. 2\n",
    "# Asian: A person having origins in any of the original peoples of the Far East, Southeast Asia,\n",
    "# or the Indian subcontinent. 4\n",
    "# American Indian/Alaska Native: A person having origins in any of the original peoples of North\n",
    "# and South America (including Central America), and who maintains tribal affiliation or community attachment. 5\n",
    "# Native Hawaiian/Pacific Islander: A person having origins in any of the original peoples of Hawaii, Guam,\n",
    "# Samoa, or other Pacific Islands. 6\n",
    "# Other: Use this code when: (1) the emergency department record indicates more than one race,\n",
    "# or (2) the race is stated in the emergency department record and none of the above applies.\n",
    "# Enter the specific race(s) in the \"Race Other\" text field. 3\n",
    "# Not Stated in ED record: Use this code when there is no information on the\n",
    "# patient's race in the emergency department record. 0\n",
    "\n",
    "df_nss15['race'].value_counts()"
   ]
  },
  {
   "cell_type": "markdown",
   "metadata": {},
   "source": [
    "## Replace the numbers with the appropriate words they stand for.\n",
    "\n",
    "Those numbers are terrible - codes are fine for storage but not really for reading. **Replace the numbers with the  words they stand for.**\n",
    "\n",
    "Refer to page 28 of the column definitions file."
   ]
  },
  {
   "cell_type": "code",
   "execution_count": 9,
   "metadata": {},
   "outputs": [
    {
     "data": {
      "text/html": [
       "<div>\n",
       "<style>\n",
       "    .dataframe thead tr:only-child th {\n",
       "        text-align: right;\n",
       "    }\n",
       "\n",
       "    .dataframe thead th {\n",
       "        text-align: left;\n",
       "    }\n",
       "\n",
       "    .dataframe tbody tr th {\n",
       "        vertical-align: top;\n",
       "    }\n",
       "</style>\n",
       "<table border=\"1\" class=\"dataframe\">\n",
       "  <thead>\n",
       "    <tr style=\"text-align: right;\">\n",
       "      <th></th>\n",
       "      <th>CPSC Case #</th>\n",
       "      <th>trmt_date</th>\n",
       "      <th>psu</th>\n",
       "      <th>weight</th>\n",
       "      <th>stratum</th>\n",
       "      <th>age</th>\n",
       "      <th>sex</th>\n",
       "      <th>race</th>\n",
       "      <th>race_other</th>\n",
       "      <th>diag</th>\n",
       "      <th>diag_other</th>\n",
       "      <th>body_part</th>\n",
       "      <th>disposition</th>\n",
       "      <th>location</th>\n",
       "      <th>fmv</th>\n",
       "      <th>prod1</th>\n",
       "      <th>prod2</th>\n",
       "      <th>narr1</th>\n",
       "      <th>narr2</th>\n",
       "    </tr>\n",
       "  </thead>\n",
       "  <tbody>\n",
       "    <tr>\n",
       "      <th>0</th>\n",
       "      <td>150733174</td>\n",
       "      <td>07/11/2015</td>\n",
       "      <td>38</td>\n",
       "      <td>15.7762</td>\n",
       "      <td>V</td>\n",
       "      <td>5</td>\n",
       "      <td>1</td>\n",
       "      <td>Not Stated in ED record</td>\n",
       "      <td>NaN</td>\n",
       "      <td>57</td>\n",
       "      <td>NaN</td>\n",
       "      <td>33</td>\n",
       "      <td>1</td>\n",
       "      <td>9</td>\n",
       "      <td>0</td>\n",
       "      <td>1267</td>\n",
       "      <td></td>\n",
       "      <td>5 YR OLD MALE PLAYING SOCCER BLOCKING BALL AND...</td>\n",
       "      <td>X IT</td>\n",
       "    </tr>\n",
       "    <tr>\n",
       "      <th>1</th>\n",
       "      <td>150734723</td>\n",
       "      <td>07/06/2015</td>\n",
       "      <td>43</td>\n",
       "      <td>83.2157</td>\n",
       "      <td>S</td>\n",
       "      <td>36</td>\n",
       "      <td>1</td>\n",
       "      <td>White</td>\n",
       "      <td>NaN</td>\n",
       "      <td>57</td>\n",
       "      <td>NaN</td>\n",
       "      <td>34</td>\n",
       "      <td>1</td>\n",
       "      <td>1</td>\n",
       "      <td>0</td>\n",
       "      <td>1439</td>\n",
       "      <td>4057</td>\n",
       "      <td>L WRIST FX(?)/36YOWM 2 WKS AGO@G-FRIENDS HM,MO...</td>\n",
       "      <td>AN OBJECT&amp;TWISTED WRIST TRYING TO CONTOL MOWER...</td>\n",
       "    </tr>\n",
       "    <tr>\n",
       "      <th>2</th>\n",
       "      <td>150817487</td>\n",
       "      <td>08/02/2015</td>\n",
       "      <td>51</td>\n",
       "      <td>74.8813</td>\n",
       "      <td>L</td>\n",
       "      <td>20</td>\n",
       "      <td>2</td>\n",
       "      <td>Not Stated in ED record</td>\n",
       "      <td>NaN</td>\n",
       "      <td>71</td>\n",
       "      <td>OTITIS EXTERNA</td>\n",
       "      <td>94</td>\n",
       "      <td>1</td>\n",
       "      <td>0</td>\n",
       "      <td>0</td>\n",
       "      <td>3274</td>\n",
       "      <td></td>\n",
       "      <td>20 YO F C/O EAR PAIN 1 DAY SAS WAS SWIMMING YE...</td>\n",
       "      <td>T TRIED TO USE ***S TO REMOVE WAX MADE IT WORS...</td>\n",
       "    </tr>\n",
       "    <tr>\n",
       "      <th>3</th>\n",
       "      <td>150717776</td>\n",
       "      <td>06/26/2015</td>\n",
       "      <td>41</td>\n",
       "      <td>15.7762</td>\n",
       "      <td>V</td>\n",
       "      <td>61</td>\n",
       "      <td>1</td>\n",
       "      <td>Not Stated in ED record</td>\n",
       "      <td>NaN</td>\n",
       "      <td>71</td>\n",
       "      <td>PAIN</td>\n",
       "      <td>35</td>\n",
       "      <td>1</td>\n",
       "      <td>0</td>\n",
       "      <td>0</td>\n",
       "      <td>611</td>\n",
       "      <td></td>\n",
       "      <td>61YOM W/KNEE PAIN S/P FALLING IN SHOWER 2 DAYS...</td>\n",
       "      <td>NaN</td>\n",
       "    </tr>\n",
       "    <tr>\n",
       "      <th>4</th>\n",
       "      <td>150721694</td>\n",
       "      <td>07/04/2015</td>\n",
       "      <td>42</td>\n",
       "      <td>74.8813</td>\n",
       "      <td>L</td>\n",
       "      <td>88</td>\n",
       "      <td>2</td>\n",
       "      <td>Other</td>\n",
       "      <td>HISPANIC</td>\n",
       "      <td>62</td>\n",
       "      <td>NaN</td>\n",
       "      <td>75</td>\n",
       "      <td>1</td>\n",
       "      <td>0</td>\n",
       "      <td>0</td>\n",
       "      <td>1893</td>\n",
       "      <td>1807</td>\n",
       "      <td>88YOF PAIN TO HEAD WHEN FALL TO FLOOR WHEN WAL...</td>\n",
       "      <td>DOOR AND FELL.DENIES LOC. DX HEAD INJURY</td>\n",
       "    </tr>\n",
       "  </tbody>\n",
       "</table>\n",
       "</div>"
      ],
      "text/plain": [
       "   CPSC Case #   trmt_date  psu   weight stratum  age  sex  \\\n",
       "0    150733174  07/11/2015   38  15.7762       V    5    1   \n",
       "1    150734723  07/06/2015   43  83.2157       S   36    1   \n",
       "2    150817487  08/02/2015   51  74.8813       L   20    2   \n",
       "3    150717776  06/26/2015   41  15.7762       V   61    1   \n",
       "4    150721694  07/04/2015   42  74.8813       L   88    2   \n",
       "\n",
       "                      race race_other  diag      diag_other  body_part  \\\n",
       "0  Not Stated in ED record        NaN    57             NaN         33   \n",
       "1                    White        NaN    57             NaN         34   \n",
       "2  Not Stated in ED record        NaN    71  OTITIS EXTERNA         94   \n",
       "3  Not Stated in ED record        NaN    71            PAIN         35   \n",
       "4                    Other   HISPANIC    62             NaN         75   \n",
       "\n",
       "   disposition  location  fmv prod1 prod2  \\\n",
       "0            1         9    0  1267         \n",
       "1            1         1    0  1439  4057   \n",
       "2            1         0    0  3274         \n",
       "3            1         0    0   611         \n",
       "4            1         0    0  1893  1807   \n",
       "\n",
       "                                               narr1  \\\n",
       "0  5 YR OLD MALE PLAYING SOCCER BLOCKING BALL AND...   \n",
       "1  L WRIST FX(?)/36YOWM 2 WKS AGO@G-FRIENDS HM,MO...   \n",
       "2  20 YO F C/O EAR PAIN 1 DAY SAS WAS SWIMMING YE...   \n",
       "3  61YOM W/KNEE PAIN S/P FALLING IN SHOWER 2 DAYS...   \n",
       "4  88YOF PAIN TO HEAD WHEN FALL TO FLOOR WHEN WAL...   \n",
       "\n",
       "                                               narr2  \n",
       "0                                               X IT  \n",
       "1  AN OBJECT&TWISTED WRIST TRYING TO CONTOL MOWER...  \n",
       "2  T TRIED TO USE ***S TO REMOVE WAX MADE IT WORS...  \n",
       "3                                                NaN  \n",
       "4           DOOR AND FELL.DENIES LOC. DX HEAD INJURY  "
      ]
     },
     "execution_count": 9,
     "metadata": {},
     "output_type": "execute_result"
    }
   ],
   "source": [
    "df_nss15.race.replace(1, 'White', inplace=True)\n",
    "df_nss15.race.replace(2, 'Black/African American', inplace=True)\n",
    "df_nss15.race.replace(3, 'Other', inplace=True)\n",
    "df_nss15.race.replace(4, 'Asian', inplace=True)\n",
    "df_nss15.race.replace(5, 'American Indian/Alaska Native', inplace=True)\n",
    "df_nss15.race.replace(6, 'Native Hawaiian/Pacific Islander', inplace=True)\n",
    "df_nss15.race.replace(0, 'Not Stated in ED record', inplace=True)\n",
    "\n",
    "df_nss15.head(5)"
   ]
  },
  {
   "cell_type": "markdown",
   "metadata": {},
   "source": [
    "## Confirm you have 145813 White, 138666 not stated, and 48868 Black."
   ]
  },
  {
   "cell_type": "code",
   "execution_count": 10,
   "metadata": {},
   "outputs": [
    {
     "data": {
      "text/plain": [
       "White                               145813\n",
       "Not Stated in ED record             138666\n",
       "Black/African American               48868\n",
       "Other                                18884\n",
       "Asian                                 4130\n",
       "American Indian/Alaska Native         1000\n",
       "Native Hawaiian/Pacific Islander       366\n",
       "Name: race, dtype: int64"
      ]
     },
     "execution_count": 10,
     "metadata": {},
     "output_type": "execute_result"
    }
   ],
   "source": [
    "df_nss15.race.value_counts()"
   ]
  },
  {
   "cell_type": "markdown",
   "metadata": {},
   "source": [
    "## Graph the number of each race, but don’t included the “Not Stated” records"
   ]
  },
  {
   "cell_type": "code",
   "execution_count": 11,
   "metadata": {},
   "outputs": [
    {
     "data": {
      "text/plain": [
       "<matplotlib.axes._subplots.AxesSubplot at 0x10ffcdda0>"
      ]
     },
     "execution_count": 11,
     "metadata": {},
     "output_type": "execute_result"
    },
    {
     "data": {
      "image/png": "[encoded data removed]",
      "text/plain": [
       "<matplotlib.figure.Figure at 0x10ffcd978>"
      ]
     },
     "metadata": {},
     "output_type": "display_data"
    }
   ],
   "source": [
    "df_race_recorded = df_nss15[df_nss15.race != 'Not Stated in ED record']\n",
    "df_race_recorded.race.value_counts().plot(kind='barh')"
   ]
  },
  {
   "cell_type": "markdown",
   "metadata": {},
   "source": [
    "## \"Not Stated\" seems silly - change it to be `NaN` instead\n",
    "\n",
    "Don't use `na_values` for this."
   ]
  },
  {
   "cell_type": "code",
   "execution_count": 12,
   "metadata": {},
   "outputs": [
    {
     "data": {
      "text/plain": [
       "nan"
      ]
     },
     "execution_count": 12,
     "metadata": {},
     "output_type": "execute_result"
    }
   ],
   "source": [
    "import numpy as np\n",
    "np.nan"
   ]
  },
  {
   "cell_type": "code",
   "execution_count": 13,
   "metadata": {},
   "outputs": [
    {
     "data": {
      "text/plain": [
       "White                               145813\n",
       "NaN                                 138666\n",
       "Black/African American               48868\n",
       "Other                                18884\n",
       "Asian                                 4130\n",
       "American Indian/Alaska Native         1000\n",
       "Native Hawaiian/Pacific Islander       366\n",
       "Name: race, dtype: int64"
      ]
     },
     "execution_count": 13,
     "metadata": {},
     "output_type": "execute_result"
    }
   ],
   "source": [
    "nan_values = np.nan\n",
    "df_nss15.race.replace('Not Stated in ED record', nan_values, inplace=True)\n",
    "df_nss15.race.value_counts(dropna=False)"
   ]
  },
  {
   "cell_type": "markdown",
   "metadata": {},
   "source": [
    "## Graph the count of each race, but don’t included the “Not Stated” records\n",
    "\n",
    "Yes, again! The code you use should be different this time."
   ]
  },
  {
   "cell_type": "code",
   "execution_count": 14,
   "metadata": {},
   "outputs": [
    {
     "data": {
      "text/plain": [
       "<matplotlib.axes._subplots.AxesSubplot at 0x10ffcd400>"
      ]
     },
     "execution_count": 14,
     "metadata": {},
     "output_type": "execute_result"
    },
    {
     "data": {
      "image/png": "[encoded data removed]",
      "text/plain": [
       "<matplotlib.figure.Figure at 0x111ad0908>"
      ]
     },
     "metadata": {},
     "output_type": "display_data"
    }
   ],
   "source": [
    "df_nss15.race.value_counts().plot(kind='barh')"
   ]
  },
  {
   "cell_type": "markdown",
   "metadata": {},
   "source": [
    "## Graph the top 10 most popular products for injuries "
   ]
  },
  {
   "cell_type": "code",
   "execution_count": 15,
   "metadata": {
    "scrolled": false
   },
   "outputs": [
    {
     "data": {
      "text/html": [
       "<div>\n",
       "<style>\n",
       "    .dataframe thead tr:only-child th {\n",
       "        text-align: right;\n",
       "    }\n",
       "\n",
       "    .dataframe thead th {\n",
       "        text-align: left;\n",
       "    }\n",
       "\n",
       "    .dataframe tbody tr th {\n",
       "        vertical-align: top;\n",
       "    }\n",
       "</style>\n",
       "<table border=\"1\" class=\"dataframe\">\n",
       "  <thead>\n",
       "    <tr style=\"text-align: right;\">\n",
       "      <th></th>\n",
       "      <th>product_code</th>\n",
       "      <th>product_desc</th>\n",
       "    </tr>\n",
       "  </thead>\n",
       "  <tbody>\n",
       "    <tr>\n",
       "      <th>0</th>\n",
       "      <td>0102</td>\n",
       "      <td>Wringer washing machines</td>\n",
       "    </tr>\n",
       "    <tr>\n",
       "      <th>1</th>\n",
       "      <td>0106</td>\n",
       "      <td>Electric clothes dryers without washers</td>\n",
       "    </tr>\n",
       "    <tr>\n",
       "      <th>2</th>\n",
       "      <td>0107</td>\n",
       "      <td>Gas clothes dryers without washers</td>\n",
       "    </tr>\n",
       "    <tr>\n",
       "      <th>3</th>\n",
       "      <td>0110</td>\n",
       "      <td>Electric heating pads</td>\n",
       "    </tr>\n",
       "    <tr>\n",
       "      <th>4</th>\n",
       "      <td>0112</td>\n",
       "      <td>Sewing machines or accessories</td>\n",
       "    </tr>\n",
       "    <tr>\n",
       "      <th>5</th>\n",
       "      <td>0113</td>\n",
       "      <td>Floor buffers or waxers</td>\n",
       "    </tr>\n",
       "  </tbody>\n",
       "</table>\n",
       "</div>"
      ],
      "text/plain": [
       "  product_code                             product_desc\n",
       "0         0102                 Wringer washing machines\n",
       "1         0106  Electric clothes dryers without washers\n",
       "2         0107       Gas clothes dryers without washers\n",
       "3         0110                    Electric heating pads\n",
       "4         0112           Sewing machines or accessories\n",
       "5         0113                  Floor buffers or waxers"
      ]
     },
     "execution_count": 15,
     "metadata": {},
     "output_type": "execute_result"
    }
   ],
   "source": [
    "#prod1\n",
    "df_products = pd.read_csv('categories-cleaned.txt', names = [\"product_code\", \"product_desc\"], converters = {'product_code':str})\n",
    "df_products.head(6)"
   ]
  },
  {
   "cell_type": "code",
   "execution_count": 16,
   "metadata": {
    "collapsed": true
   },
   "outputs": [],
   "source": [
    "df_new = df_nss15.merge(df_products, left_on = 'prod1', right_on = 'product_code')"
   ]
  },
  {
   "cell_type": "code",
   "execution_count": 17,
   "metadata": {
    "scrolled": true
   },
   "outputs": [
    {
     "data": {
      "text/html": [
       "<div>\n",
       "<style>\n",
       "    .dataframe thead tr:only-child th {\n",
       "        text-align: right;\n",
       "    }\n",
       "\n",
       "    .dataframe thead th {\n",
       "        text-align: left;\n",
       "    }\n",
       "\n",
       "    .dataframe tbody tr th {\n",
       "        vertical-align: top;\n",
       "    }\n",
       "</style>\n",
       "<table border=\"1\" class=\"dataframe\">\n",
       "  <thead>\n",
       "    <tr style=\"text-align: right;\">\n",
       "      <th></th>\n",
       "      <th>CPSC Case #</th>\n",
       "      <th>trmt_date</th>\n",
       "      <th>psu</th>\n",
       "      <th>weight</th>\n",
       "      <th>stratum</th>\n",
       "      <th>age</th>\n",
       "      <th>sex</th>\n",
       "      <th>race</th>\n",
       "      <th>race_other</th>\n",
       "      <th>diag</th>\n",
       "      <th>...</th>\n",
       "      <th>body_part</th>\n",
       "      <th>disposition</th>\n",
       "      <th>location</th>\n",
       "      <th>fmv</th>\n",
       "      <th>prod1</th>\n",
       "      <th>prod2</th>\n",
       "      <th>narr1</th>\n",
       "      <th>narr2</th>\n",
       "      <th>prod1_code</th>\n",
       "      <th>prod1_desc</th>\n",
       "    </tr>\n",
       "  </thead>\n",
       "  <tbody>\n",
       "    <tr>\n",
       "      <th>0</th>\n",
       "      <td>150733174</td>\n",
       "      <td>07/11/2015</td>\n",
       "      <td>38</td>\n",
       "      <td>15.7762</td>\n",
       "      <td>V</td>\n",
       "      <td>5</td>\n",
       "      <td>1</td>\n",
       "      <td>NaN</td>\n",
       "      <td>NaN</td>\n",
       "      <td>57</td>\n",
       "      <td>...</td>\n",
       "      <td>33</td>\n",
       "      <td>1</td>\n",
       "      <td>9</td>\n",
       "      <td>0</td>\n",
       "      <td>1267</td>\n",
       "      <td></td>\n",
       "      <td>5 YR OLD MALE PLAYING SOCCER BLOCKING BALL AND...</td>\n",
       "      <td>X IT</td>\n",
       "      <td>1267</td>\n",
       "      <td>Soccer (activity, apparel or equipment)</td>\n",
       "    </tr>\n",
       "    <tr>\n",
       "      <th>1</th>\n",
       "      <td>150821622</td>\n",
       "      <td>07/20/2015</td>\n",
       "      <td>43</td>\n",
       "      <td>83.2157</td>\n",
       "      <td>S</td>\n",
       "      <td>20</td>\n",
       "      <td>2</td>\n",
       "      <td>White</td>\n",
       "      <td>NaN</td>\n",
       "      <td>57</td>\n",
       "      <td>...</td>\n",
       "      <td>36</td>\n",
       "      <td>1</td>\n",
       "      <td>9</td>\n",
       "      <td>0</td>\n",
       "      <td>1267</td>\n",
       "      <td></td>\n",
       "      <td>L DISTAL FIB FX/20YOWF WHILE PLAYING SOCCER AT...</td>\n",
       "      <td>LE CAUSING INJURY TO DISTAL FIB.</td>\n",
       "      <td>1267</td>\n",
       "      <td>Soccer (activity, apparel or equipment)</td>\n",
       "    </tr>\n",
       "    <tr>\n",
       "      <th>2</th>\n",
       "      <td>150948626</td>\n",
       "      <td>09/08/2015</td>\n",
       "      <td>37</td>\n",
       "      <td>5.6748</td>\n",
       "      <td>C</td>\n",
       "      <td>10</td>\n",
       "      <td>2</td>\n",
       "      <td>NaN</td>\n",
       "      <td>NaN</td>\n",
       "      <td>57</td>\n",
       "      <td>...</td>\n",
       "      <td>33</td>\n",
       "      <td>1</td>\n",
       "      <td>0</td>\n",
       "      <td>0</td>\n",
       "      <td>1267</td>\n",
       "      <td></td>\n",
       "      <td>10 YO F TRIPPED FORWARD WHEN PLAYING SOCCER FX...</td>\n",
       "      <td>NaN</td>\n",
       "      <td>1267</td>\n",
       "      <td>Soccer (activity, apparel or equipment)</td>\n",
       "    </tr>\n",
       "    <tr>\n",
       "      <th>3</th>\n",
       "      <td>151029422</td>\n",
       "      <td>10/06/2015</td>\n",
       "      <td>24</td>\n",
       "      <td>97.9239</td>\n",
       "      <td>M</td>\n",
       "      <td>37</td>\n",
       "      <td>1</td>\n",
       "      <td>White</td>\n",
       "      <td>NaN</td>\n",
       "      <td>64</td>\n",
       "      <td>...</td>\n",
       "      <td>35</td>\n",
       "      <td>1</td>\n",
       "      <td>0</td>\n",
       "      <td>0</td>\n",
       "      <td>1267</td>\n",
       "      <td></td>\n",
       "      <td>J/ 37 YOM. LT KNEE PAIN AFTER HE KICKED THE BA...</td>\n",
       "      <td>DXL KNEE SPRAIN</td>\n",
       "      <td>1267</td>\n",
       "      <td>Soccer (activity, apparel or equipment)</td>\n",
       "    </tr>\n",
       "    <tr>\n",
       "      <th>4</th>\n",
       "      <td>151029234</td>\n",
       "      <td>10/10/2015</td>\n",
       "      <td>21</td>\n",
       "      <td>16.5650</td>\n",
       "      <td>V</td>\n",
       "      <td>13</td>\n",
       "      <td>2</td>\n",
       "      <td>NaN</td>\n",
       "      <td>NaN</td>\n",
       "      <td>62</td>\n",
       "      <td>...</td>\n",
       "      <td>75</td>\n",
       "      <td>1</td>\n",
       "      <td>9</td>\n",
       "      <td>0</td>\n",
       "      <td>1267</td>\n",
       "      <td></td>\n",
       "      <td>13YF H/A&amp;VOMITINGX4 S/P GOT STRUCK TO HEAD C T...</td>\n",
       "      <td>&gt;&gt;CHI</td>\n",
       "      <td>1267</td>\n",
       "      <td>Soccer (activity, apparel or equipment)</td>\n",
       "    </tr>\n",
       "    <tr>\n",
       "      <th>5</th>\n",
       "      <td>151038066</td>\n",
       "      <td>10/16/2015</td>\n",
       "      <td>21</td>\n",
       "      <td>16.5650</td>\n",
       "      <td>V</td>\n",
       "      <td>13</td>\n",
       "      <td>2</td>\n",
       "      <td>NaN</td>\n",
       "      <td>NaN</td>\n",
       "      <td>64</td>\n",
       "      <td>...</td>\n",
       "      <td>34</td>\n",
       "      <td>1</td>\n",
       "      <td>9</td>\n",
       "      <td>0</td>\n",
       "      <td>1267</td>\n",
       "      <td></td>\n",
       "      <td>13YF WRIST PAIN S/P FOOSH WHILE PLAYING SOCCER...</td>\n",
       "      <td>&gt;&gt;SPRAIN</td>\n",
       "      <td>1267</td>\n",
       "      <td>Soccer (activity, apparel or equipment)</td>\n",
       "    </tr>\n",
       "    <tr>\n",
       "      <th>6</th>\n",
       "      <td>150959538</td>\n",
       "      <td>09/18/2015</td>\n",
       "      <td>32</td>\n",
       "      <td>5.6748</td>\n",
       "      <td>C</td>\n",
       "      <td>15</td>\n",
       "      <td>1</td>\n",
       "      <td>White</td>\n",
       "      <td>NaN</td>\n",
       "      <td>64</td>\n",
       "      <td>...</td>\n",
       "      <td>83</td>\n",
       "      <td>1</td>\n",
       "      <td>9</td>\n",
       "      <td>0</td>\n",
       "      <td>1267</td>\n",
       "      <td></td>\n",
       "      <td>15 YOM PLAYING SOCCER BEGAN HAVING HEEL PAIN D...</td>\n",
       "      <td>NaN</td>\n",
       "      <td>1267</td>\n",
       "      <td>Soccer (activity, apparel or equipment)</td>\n",
       "    </tr>\n",
       "    <tr>\n",
       "      <th>7</th>\n",
       "      <td>150442809</td>\n",
       "      <td>04/15/2015</td>\n",
       "      <td>25</td>\n",
       "      <td>15.0591</td>\n",
       "      <td>V</td>\n",
       "      <td>15</td>\n",
       "      <td>2</td>\n",
       "      <td>White</td>\n",
       "      <td>NaN</td>\n",
       "      <td>64</td>\n",
       "      <td>...</td>\n",
       "      <td>83</td>\n",
       "      <td>1</td>\n",
       "      <td>8</td>\n",
       "      <td>0</td>\n",
       "      <td>1267</td>\n",
       "      <td></td>\n",
       "      <td>A 15YOF INJURED FOOT WHILE PLAYING SOCCER AT S...</td>\n",
       "      <td>NaN</td>\n",
       "      <td>1267</td>\n",
       "      <td>Soccer (activity, apparel or equipment)</td>\n",
       "    </tr>\n",
       "    <tr>\n",
       "      <th>8</th>\n",
       "      <td>151042493</td>\n",
       "      <td>10/15/2015</td>\n",
       "      <td>8</td>\n",
       "      <td>5.6748</td>\n",
       "      <td>C</td>\n",
       "      <td>17</td>\n",
       "      <td>2</td>\n",
       "      <td>White</td>\n",
       "      <td>NaN</td>\n",
       "      <td>57</td>\n",
       "      <td>...</td>\n",
       "      <td>76</td>\n",
       "      <td>1</td>\n",
       "      <td>9</td>\n",
       "      <td>0</td>\n",
       "      <td>1267</td>\n",
       "      <td></td>\n",
       "      <td>17YOF COLLIDED HEADS PLAYING SOCCER GAME; ORBI...</td>\n",
       "      <td>COMPLEX RFX.</td>\n",
       "      <td>1267</td>\n",
       "      <td>Soccer (activity, apparel or equipment)</td>\n",
       "    </tr>\n",
       "    <tr>\n",
       "      <th>9</th>\n",
       "      <td>151026219</td>\n",
       "      <td>09/02/2015</td>\n",
       "      <td>14</td>\n",
       "      <td>49.2646</td>\n",
       "      <td>M</td>\n",
       "      <td>15</td>\n",
       "      <td>1</td>\n",
       "      <td>NaN</td>\n",
       "      <td>NaN</td>\n",
       "      <td>52</td>\n",
       "      <td>...</td>\n",
       "      <td>75</td>\n",
       "      <td>1</td>\n",
       "      <td>8</td>\n",
       "      <td>0</td>\n",
       "      <td>1267</td>\n",
       "      <td></td>\n",
       "      <td>15YOM CONCUSSION - KNEED PLAYING SOCCER</td>\n",
       "      <td>NaN</td>\n",
       "      <td>1267</td>\n",
       "      <td>Soccer (activity, apparel or equipment)</td>\n",
       "    </tr>\n",
       "    <tr>\n",
       "      <th>10</th>\n",
       "      <td>150968183</td>\n",
       "      <td>09/20/2015</td>\n",
       "      <td>42</td>\n",
       "      <td>74.8813</td>\n",
       "      <td>L</td>\n",
       "      <td>8</td>\n",
       "      <td>2</td>\n",
       "      <td>Black/African American</td>\n",
       "      <td>NaN</td>\n",
       "      <td>71</td>\n",
       "      <td>...</td>\n",
       "      <td>34</td>\n",
       "      <td>1</td>\n",
       "      <td>0</td>\n",
       "      <td>0</td>\n",
       "      <td>1267</td>\n",
       "      <td></td>\n",
       "      <td>8YOF PAIN TO R WRIST WHEN PLAYING SOCCER AND K...</td>\n",
       "      <td>/ WRIST PAIN</td>\n",
       "      <td>1267</td>\n",
       "      <td>Soccer (activity, apparel or equipment)</td>\n",
       "    </tr>\n",
       "    <tr>\n",
       "      <th>11</th>\n",
       "      <td>150453422</td>\n",
       "      <td>04/19/2015</td>\n",
       "      <td>32</td>\n",
       "      <td>5.6748</td>\n",
       "      <td>C</td>\n",
       "      <td>13</td>\n",
       "      <td>1</td>\n",
       "      <td>White</td>\n",
       "      <td>NaN</td>\n",
       "      <td>52</td>\n",
       "      <td>...</td>\n",
       "      <td>75</td>\n",
       "      <td>1</td>\n",
       "      <td>9</td>\n",
       "      <td>0</td>\n",
       "      <td>1267</td>\n",
       "      <td></td>\n",
       "      <td>13 YOM PLAYING IN A SOCCER GAME KICKED THE BAL...</td>\n",
       "      <td>IM IN THE HEAD/FACE DX CONCUSSION</td>\n",
       "      <td>1267</td>\n",
       "      <td>Soccer (activity, apparel or equipment)</td>\n",
       "    </tr>\n",
       "    <tr>\n",
       "      <th>12</th>\n",
       "      <td>150739153</td>\n",
       "      <td>07/12/2015</td>\n",
       "      <td>37</td>\n",
       "      <td>5.6748</td>\n",
       "      <td>C</td>\n",
       "      <td>10</td>\n",
       "      <td>2</td>\n",
       "      <td>NaN</td>\n",
       "      <td>NaN</td>\n",
       "      <td>71</td>\n",
       "      <td>...</td>\n",
       "      <td>35</td>\n",
       "      <td>1</td>\n",
       "      <td>9</td>\n",
       "      <td>0</td>\n",
       "      <td>1267</td>\n",
       "      <td></td>\n",
       "      <td>10 YO F WITH R KNEE PAIN WHEN TWISTED KNEE, LE...</td>\n",
       "      <td>OCCER BALL</td>\n",
       "      <td>1267</td>\n",
       "      <td>Soccer (activity, apparel or equipment)</td>\n",
       "    </tr>\n",
       "    <tr>\n",
       "      <th>13</th>\n",
       "      <td>151001622</td>\n",
       "      <td>09/26/2015</td>\n",
       "      <td>8</td>\n",
       "      <td>5.6748</td>\n",
       "      <td>C</td>\n",
       "      <td>8</td>\n",
       "      <td>1</td>\n",
       "      <td>Black/African American</td>\n",
       "      <td>NaN</td>\n",
       "      <td>71</td>\n",
       "      <td>...</td>\n",
       "      <td>35</td>\n",
       "      <td>1</td>\n",
       "      <td>9</td>\n",
       "      <td>0</td>\n",
       "      <td>1267</td>\n",
       "      <td></td>\n",
       "      <td>8YOM WAS PLAYING SOCCER WHEN HE WAS KICKED IN ...</td>\n",
       "      <td>FELL ON IT; KNEE PAIN</td>\n",
       "      <td>1267</td>\n",
       "      <td>Soccer (activity, apparel or equipment)</td>\n",
       "    </tr>\n",
       "    <tr>\n",
       "      <th>14</th>\n",
       "      <td>150948628</td>\n",
       "      <td>09/08/2015</td>\n",
       "      <td>37</td>\n",
       "      <td>5.6748</td>\n",
       "      <td>C</td>\n",
       "      <td>12</td>\n",
       "      <td>1</td>\n",
       "      <td>NaN</td>\n",
       "      <td>NaN</td>\n",
       "      <td>57</td>\n",
       "      <td>...</td>\n",
       "      <td>92</td>\n",
       "      <td>1</td>\n",
       "      <td>9</td>\n",
       "      <td>0</td>\n",
       "      <td>1267</td>\n",
       "      <td>1865</td>\n",
       "      <td>12 YO M WITH FX TO R 5TH FINGER TRIPPED OVER A...</td>\n",
       "      <td>ING A SOCCER GAME</td>\n",
       "      <td>1267</td>\n",
       "      <td>Soccer (activity, apparel or equipment)</td>\n",
       "    </tr>\n",
       "    <tr>\n",
       "      <th>15</th>\n",
       "      <td>151121662</td>\n",
       "      <td>10/23/2015</td>\n",
       "      <td>8</td>\n",
       "      <td>5.6748</td>\n",
       "      <td>C</td>\n",
       "      <td>13</td>\n",
       "      <td>1</td>\n",
       "      <td>White</td>\n",
       "      <td>NaN</td>\n",
       "      <td>57</td>\n",
       "      <td>...</td>\n",
       "      <td>33</td>\n",
       "      <td>1</td>\n",
       "      <td>9</td>\n",
       "      <td>0</td>\n",
       "      <td>1267</td>\n",
       "      <td></td>\n",
       "      <td>13YOM WAS PLAYING SOCCER WHEN HE FELL ONTO HIS...</td>\n",
       "      <td>C/O FOREARM/WRIST PAIN; FOREARM FRACTURE</td>\n",
       "      <td>1267</td>\n",
       "      <td>Soccer (activity, apparel or equipment)</td>\n",
       "    </tr>\n",
       "  </tbody>\n",
       "</table>\n",
       "<p>16 rows × 21 columns</p>\n",
       "</div>"
      ],
      "text/plain": [
       "    CPSC Case #   trmt_date  psu   weight stratum  age  sex  \\\n",
       "0     150733174  07/11/2015   38  15.7762       V    5    1   \n",
       "1     150821622  07/20/2015   43  83.2157       S   20    2   \n",
       "2     150948626  09/08/2015   37   5.6748       C   10    2   \n",
       "3     151029422  10/06/2015   24  97.9239       M   37    1   \n",
       "4     151029234  10/10/2015   21  16.5650       V   13    2   \n",
       "5     151038066  10/16/2015   21  16.5650       V   13    2   \n",
       "6     150959538  09/18/2015   32   5.6748       C   15    1   \n",
       "7     150442809  04/15/2015   25  15.0591       V   15    2   \n",
       "8     151042493  10/15/2015    8   5.6748       C   17    2   \n",
       "9     151026219  09/02/2015   14  49.2646       M   15    1   \n",
       "10    150968183  09/20/2015   42  74.8813       L    8    2   \n",
       "11    150453422  04/19/2015   32   5.6748       C   13    1   \n",
       "12    150739153  07/12/2015   37   5.6748       C   10    2   \n",
       "13    151001622  09/26/2015    8   5.6748       C    8    1   \n",
       "14    150948628  09/08/2015   37   5.6748       C   12    1   \n",
       "15    151121662  10/23/2015    8   5.6748       C   13    1   \n",
       "\n",
       "                      race race_other  diag  \\\n",
       "0                      NaN        NaN    57   \n",
       "1                    White        NaN    57   \n",
       "2                      NaN        NaN    57   \n",
       "3                    White        NaN    64   \n",
       "4                      NaN        NaN    62   \n",
       "5                      NaN        NaN    64   \n",
       "6                    White        NaN    64   \n",
       "7                    White        NaN    64   \n",
       "8                    White        NaN    57   \n",
       "9                      NaN        NaN    52   \n",
       "10  Black/African American        NaN    71   \n",
       "11                   White        NaN    52   \n",
       "12                     NaN        NaN    71   \n",
       "13  Black/African American        NaN    71   \n",
       "14                     NaN        NaN    57   \n",
       "15                   White        NaN    57   \n",
       "\n",
       "                     ...                    body_part  disposition  location  \\\n",
       "0                    ...                           33            1         9   \n",
       "1                    ...                           36            1         9   \n",
       "2                    ...                           33            1         0   \n",
       "3                    ...                           35            1         0   \n",
       "4                    ...                           75            1         9   \n",
       "5                    ...                           34            1         9   \n",
       "6                    ...                           83            1         9   \n",
       "7                    ...                           83            1         8   \n",
       "8                    ...                           76            1         9   \n",
       "9                    ...                           75            1         8   \n",
       "10                   ...                           34            1         0   \n",
       "11                   ...                           75            1         9   \n",
       "12                   ...                           35            1         9   \n",
       "13                   ...                           35            1         9   \n",
       "14                   ...                           92            1         9   \n",
       "15                   ...                           33            1         9   \n",
       "\n",
       "    fmv  prod1 prod2                                              narr1  \\\n",
       "0     0   1267        5 YR OLD MALE PLAYING SOCCER BLOCKING BALL AND...   \n",
       "1     0   1267        L DISTAL FIB FX/20YOWF WHILE PLAYING SOCCER AT...   \n",
       "2     0   1267        10 YO F TRIPPED FORWARD WHEN PLAYING SOCCER FX...   \n",
       "3     0   1267        J/ 37 YOM. LT KNEE PAIN AFTER HE KICKED THE BA...   \n",
       "4     0   1267        13YF H/A&VOMITINGX4 S/P GOT STRUCK TO HEAD C T...   \n",
       "5     0   1267        13YF WRIST PAIN S/P FOOSH WHILE PLAYING SOCCER...   \n",
       "6     0   1267        15 YOM PLAYING SOCCER BEGAN HAVING HEEL PAIN D...   \n",
       "7     0   1267        A 15YOF INJURED FOOT WHILE PLAYING SOCCER AT S...   \n",
       "8     0   1267        17YOF COLLIDED HEADS PLAYING SOCCER GAME; ORBI...   \n",
       "9     0   1267                  15YOM CONCUSSION - KNEED PLAYING SOCCER   \n",
       "10    0   1267        8YOF PAIN TO R WRIST WHEN PLAYING SOCCER AND K...   \n",
       "11    0   1267        13 YOM PLAYING IN A SOCCER GAME KICKED THE BAL...   \n",
       "12    0   1267        10 YO F WITH R KNEE PAIN WHEN TWISTED KNEE, LE...   \n",
       "13    0   1267        8YOM WAS PLAYING SOCCER WHEN HE WAS KICKED IN ...   \n",
       "14    0   1267  1865  12 YO M WITH FX TO R 5TH FINGER TRIPPED OVER A...   \n",
       "15    0   1267        13YOM WAS PLAYING SOCCER WHEN HE FELL ONTO HIS...   \n",
       "\n",
       "                                       narr2 prod1_code  \\\n",
       "0                                       X IT       1267   \n",
       "1           LE CAUSING INJURY TO DISTAL FIB.       1267   \n",
       "2                                        NaN       1267   \n",
       "3                            DXL KNEE SPRAIN       1267   \n",
       "4                                      >>CHI       1267   \n",
       "5                                   >>SPRAIN       1267   \n",
       "6                                        NaN       1267   \n",
       "7                                        NaN       1267   \n",
       "8                               COMPLEX RFX.       1267   \n",
       "9                                        NaN       1267   \n",
       "10                              / WRIST PAIN       1267   \n",
       "11         IM IN THE HEAD/FACE DX CONCUSSION       1267   \n",
       "12                                OCCER BALL       1267   \n",
       "13                     FELL ON IT; KNEE PAIN       1267   \n",
       "14                         ING A SOCCER GAME       1267   \n",
       "15  C/O FOREARM/WRIST PAIN; FOREARM FRACTURE       1267   \n",
       "\n",
       "                                 prod1_desc  \n",
       "0   Soccer (activity, apparel or equipment)  \n",
       "1   Soccer (activity, apparel or equipment)  \n",
       "2   Soccer (activity, apparel or equipment)  \n",
       "3   Soccer (activity, apparel or equipment)  \n",
       "4   Soccer (activity, apparel or equipment)  \n",
       "5   Soccer (activity, apparel or equipment)  \n",
       "6   Soccer (activity, apparel or equipment)  \n",
       "7   Soccer (activity, apparel or equipment)  \n",
       "8   Soccer (activity, apparel or equipment)  \n",
       "9   Soccer (activity, apparel or equipment)  \n",
       "10  Soccer (activity, apparel or equipment)  \n",
       "11  Soccer (activity, apparel or equipment)  \n",
       "12  Soccer (activity, apparel or equipment)  \n",
       "13  Soccer (activity, apparel or equipment)  \n",
       "14  Soccer (activity, apparel or equipment)  \n",
       "15  Soccer (activity, apparel or equipment)  \n",
       "\n",
       "[16 rows x 21 columns]"
      ]
     },
     "execution_count": 17,
     "metadata": {},
     "output_type": "execute_result"
    }
   ],
   "source": [
    "df_new = df_new.rename(columns = {'product_code':'prod1_code', 'product_desc':'prod1_desc'})\n",
    "df_new.head(16)"
   ]
  },
  {
   "cell_type": "code",
   "execution_count": 18,
   "metadata": {},
   "outputs": [
    {
     "data": {
      "text/plain": [
       "<matplotlib.axes._subplots.AxesSubplot at 0x111d0e2b0>"
      ]
     },
     "execution_count": 18,
     "metadata": {},
     "output_type": "execute_result"
    },
    {
     "data": {
      "image/png": "[encoded data removed]",
      "text/plain": [
       "<matplotlib.figure.Figure at 0x111d0edd8>"
      ]
     },
     "metadata": {},
     "output_type": "display_data"
    }
   ],
   "source": [
    "df_new.prod1_desc.value_counts(ascending = True).tail(10).plot(kind='barh')"
   ]
  },
  {
   "cell_type": "markdown",
   "metadata": {
    "collapsed": true
   },
   "source": [
    "# Cleaning up `race_other`"
   ]
  },
  {
   "cell_type": "markdown",
   "metadata": {},
   "source": [
    "## `race_other` is a field for free-form race input. How many patients have a race of \"HISPANIC\"?"
   ]
  },
  {
   "cell_type": "code",
   "execution_count": 19,
   "metadata": {
    "scrolled": true
   },
   "outputs": [
    {
     "data": {
      "text/html": [
       "<div>\n",
       "<style>\n",
       "    .dataframe thead tr:only-child th {\n",
       "        text-align: right;\n",
       "    }\n",
       "\n",
       "    .dataframe thead th {\n",
       "        text-align: left;\n",
       "    }\n",
       "\n",
       "    .dataframe tbody tr th {\n",
       "        vertical-align: top;\n",
       "    }\n",
       "</style>\n",
       "<table border=\"1\" class=\"dataframe\">\n",
       "  <thead>\n",
       "    <tr style=\"text-align: right;\">\n",
       "      <th></th>\n",
       "      <th>CPSC Case #</th>\n",
       "      <th>trmt_date</th>\n",
       "      <th>psu</th>\n",
       "      <th>weight</th>\n",
       "      <th>stratum</th>\n",
       "      <th>age</th>\n",
       "      <th>sex</th>\n",
       "      <th>race</th>\n",
       "      <th>race_other</th>\n",
       "      <th>diag</th>\n",
       "      <th>...</th>\n",
       "      <th>body_part</th>\n",
       "      <th>disposition</th>\n",
       "      <th>location</th>\n",
       "      <th>fmv</th>\n",
       "      <th>prod1</th>\n",
       "      <th>prod2</th>\n",
       "      <th>narr1</th>\n",
       "      <th>narr2</th>\n",
       "      <th>prod1_code</th>\n",
       "      <th>prod1_desc</th>\n",
       "    </tr>\n",
       "  </thead>\n",
       "  <tbody>\n",
       "    <tr>\n",
       "      <th>27</th>\n",
       "      <td>151034636</td>\n",
       "      <td>10/10/2015</td>\n",
       "      <td>8</td>\n",
       "      <td>5.6748</td>\n",
       "      <td>C</td>\n",
       "      <td>12</td>\n",
       "      <td>1</td>\n",
       "      <td>White</td>\n",
       "      <td>HISPANIC</td>\n",
       "      <td>71</td>\n",
       "      <td>...</td>\n",
       "      <td>33</td>\n",
       "      <td>1</td>\n",
       "      <td>9</td>\n",
       "      <td>0</td>\n",
       "      <td>1267</td>\n",
       "      <td></td>\n",
       "      <td>12YOM WAS PLAYING SOCCER 1 DAY AGO WHEN HE WAS...</td>\n",
       "      <td>, C/O HAND/FOREARM PAIN AND SWELLING; FOREARM ...</td>\n",
       "      <td>1267</td>\n",
       "      <td>Soccer (activity, apparel or equipment)</td>\n",
       "    </tr>\n",
       "    <tr>\n",
       "      <th>33</th>\n",
       "      <td>150720697</td>\n",
       "      <td>06/19/2015</td>\n",
       "      <td>54</td>\n",
       "      <td>49.2646</td>\n",
       "      <td>M</td>\n",
       "      <td>32</td>\n",
       "      <td>1</td>\n",
       "      <td>Other</td>\n",
       "      <td>HISPANIC</td>\n",
       "      <td>53</td>\n",
       "      <td>...</td>\n",
       "      <td>31</td>\n",
       "      <td>1</td>\n",
       "      <td>9</td>\n",
       "      <td>0</td>\n",
       "      <td>1267</td>\n",
       "      <td></td>\n",
       "      <td>32YOM PLAYING SOCCER &amp; FELL LANDING WIT KNEES ...</td>\n",
       "      <td>S +PAIN &amp; TENDERNESS TO RIB AREA.  DX; RIB CON...</td>\n",
       "      <td>1267</td>\n",
       "      <td>Soccer (activity, apparel or equipment)</td>\n",
       "    </tr>\n",
       "    <tr>\n",
       "      <th>54</th>\n",
       "      <td>150444109</td>\n",
       "      <td>04/16/2015</td>\n",
       "      <td>90</td>\n",
       "      <td>5.6748</td>\n",
       "      <td>C</td>\n",
       "      <td>13</td>\n",
       "      <td>1</td>\n",
       "      <td>Other</td>\n",
       "      <td>HISPANIC</td>\n",
       "      <td>64</td>\n",
       "      <td>...</td>\n",
       "      <td>34</td>\n",
       "      <td>1</td>\n",
       "      <td>9</td>\n",
       "      <td>0</td>\n",
       "      <td>1267</td>\n",
       "      <td></td>\n",
       "      <td>13YOM- YESTERDAY PT WAS PLAYING SOCCER FOOSH O...</td>\n",
       "      <td>PAIN. DX- RIGHT WRIST SPRAIN.</td>\n",
       "      <td>1267</td>\n",
       "      <td>Soccer (activity, apparel or equipment)</td>\n",
       "    </tr>\n",
       "    <tr>\n",
       "      <th>66</th>\n",
       "      <td>150406281</td>\n",
       "      <td>03/20/2015</td>\n",
       "      <td>90</td>\n",
       "      <td>5.6748</td>\n",
       "      <td>C</td>\n",
       "      <td>8</td>\n",
       "      <td>1</td>\n",
       "      <td>Other</td>\n",
       "      <td>HISPANIC</td>\n",
       "      <td>62</td>\n",
       "      <td>...</td>\n",
       "      <td>75</td>\n",
       "      <td>1</td>\n",
       "      <td>8</td>\n",
       "      <td>0</td>\n",
       "      <td>1267</td>\n",
       "      <td></td>\n",
       "      <td>8 YOM TRIPPED OVER SOMEONE'S FOOT WHILE PLAYIN...</td>\n",
       "      <td>SCHOOL &amp; HIT HIS HEAD- NO LOC, BUT SPOTS IN VI...</td>\n",
       "      <td>1267</td>\n",
       "      <td>Soccer (activity, apparel or equipment)</td>\n",
       "    </tr>\n",
       "    <tr>\n",
       "      <th>67</th>\n",
       "      <td>150247768</td>\n",
       "      <td>02/20/2015</td>\n",
       "      <td>61</td>\n",
       "      <td>15.7762</td>\n",
       "      <td>V</td>\n",
       "      <td>25</td>\n",
       "      <td>2</td>\n",
       "      <td>Other</td>\n",
       "      <td>HISPANIC</td>\n",
       "      <td>64</td>\n",
       "      <td>...</td>\n",
       "      <td>37</td>\n",
       "      <td>1</td>\n",
       "      <td>9</td>\n",
       "      <td>0</td>\n",
       "      <td>1267</td>\n",
       "      <td></td>\n",
       "      <td>25 YOF TWISTED HER RIGHT ANKLE WHILE PLAYING S...</td>\n",
       "      <td>AND WEIGHT BEARING, DX: ANKLE SPRAIN</td>\n",
       "      <td>1267</td>\n",
       "      <td>Soccer (activity, apparel or equipment)</td>\n",
       "    </tr>\n",
       "  </tbody>\n",
       "</table>\n",
       "<p>5 rows × 21 columns</p>\n",
       "</div>"
      ],
      "text/plain": [
       "    CPSC Case #   trmt_date  psu   weight stratum  age  sex   race race_other  \\\n",
       "27    151034636  10/10/2015    8   5.6748       C   12    1  White   HISPANIC   \n",
       "33    150720697  06/19/2015   54  49.2646       M   32    1  Other   HISPANIC   \n",
       "54    150444109  04/16/2015   90   5.6748       C   13    1  Other   HISPANIC   \n",
       "66    150406281  03/20/2015   90   5.6748       C    8    1  Other   HISPANIC   \n",
       "67    150247768  02/20/2015   61  15.7762       V   25    2  Other   HISPANIC   \n",
       "\n",
       "    diag                   ...                    body_part  disposition  \\\n",
       "27    71                   ...                           33            1   \n",
       "33    53                   ...                           31            1   \n",
       "54    64                   ...                           34            1   \n",
       "66    62                   ...                           75            1   \n",
       "67    64                   ...                           37            1   \n",
       "\n",
       "    location  fmv  prod1 prod2  \\\n",
       "27         9    0   1267         \n",
       "33         9    0   1267         \n",
       "54         9    0   1267         \n",
       "66         8    0   1267         \n",
       "67         9    0   1267         \n",
       "\n",
       "                                                narr1  \\\n",
       "27  12YOM WAS PLAYING SOCCER 1 DAY AGO WHEN HE WAS...   \n",
       "33  32YOM PLAYING SOCCER & FELL LANDING WIT KNEES ...   \n",
       "54  13YOM- YESTERDAY PT WAS PLAYING SOCCER FOOSH O...   \n",
       "66  8 YOM TRIPPED OVER SOMEONE'S FOOT WHILE PLAYIN...   \n",
       "67  25 YOF TWISTED HER RIGHT ANKLE WHILE PLAYING S...   \n",
       "\n",
       "                                                narr2 prod1_code  \\\n",
       "27  , C/O HAND/FOREARM PAIN AND SWELLING; FOREARM ...       1267   \n",
       "33  S +PAIN & TENDERNESS TO RIB AREA.  DX; RIB CON...       1267   \n",
       "54                      PAIN. DX- RIGHT WRIST SPRAIN.       1267   \n",
       "66  SCHOOL & HIT HIS HEAD- NO LOC, BUT SPOTS IN VI...       1267   \n",
       "67               AND WEIGHT BEARING, DX: ANKLE SPRAIN       1267   \n",
       "\n",
       "                                 prod1_desc  \n",
       "27  Soccer (activity, apparel or equipment)  \n",
       "33  Soccer (activity, apparel or equipment)  \n",
       "54  Soccer (activity, apparel or equipment)  \n",
       "66  Soccer (activity, apparel or equipment)  \n",
       "67  Soccer (activity, apparel or equipment)  \n",
       "\n",
       "[5 rows x 21 columns]"
      ]
     },
     "execution_count": 19,
     "metadata": {},
     "output_type": "execute_result"
    }
   ],
   "source": [
    "df_hisp = df_new[df_new['race_other'] == 'HISPANIC']\n",
    "df_hisp.head()"
   ]
  },
  {
   "cell_type": "code",
   "execution_count": 20,
   "metadata": {},
   "outputs": [
    {
     "data": {
      "text/plain": [
       "(11870, 21)"
      ]
     },
     "execution_count": 20,
     "metadata": {},
     "output_type": "execute_result"
    }
   ],
   "source": [
    "df_hisp.shape"
   ]
  },
  {
   "cell_type": "markdown",
   "metadata": {},
   "source": [
    "## What are the top 5 most popular \"other\" races?"
   ]
  },
  {
   "cell_type": "code",
   "execution_count": 21,
   "metadata": {},
   "outputs": [
    {
     "data": {
      "text/plain": [
       "(15676, 21)"
      ]
     },
     "execution_count": 21,
     "metadata": {},
     "output_type": "execute_result"
    }
   ],
   "source": [
    "df_other = df_new[df_new.race == \"Other\"]\n",
    "df_other.shape"
   ]
  },
  {
   "cell_type": "code",
   "execution_count": 22,
   "metadata": {},
   "outputs": [
    {
     "data": {
      "text/plain": [
       "HISPANIC        11870\n",
       "MULTI-RACIAL     1461\n",
       "UNKNOWN          1316\n",
       "HISP             1141\n",
       "NS                395\n",
       "Name: race_other, dtype: int64"
      ]
     },
     "execution_count": 22,
     "metadata": {},
     "output_type": "execute_result"
    }
   ],
   "source": [
    "df_new.race_other.value_counts().head(5)"
   ]
  },
  {
   "cell_type": "markdown",
   "metadata": {},
   "source": [
    "## Searching for multiracial patients\n",
    "\n",
    "Wow, this data entry is terrible. “Multiracial” is spelled as **MULT RACIAL**, **MULTIPLE RACIAL**, and many more. How many different spellings can you find? **Use only one line to find the spellings.**\n",
    "\n",
    "- Tip: Be sure to **ignore the na values**.\n",
    "- Tip: You should probably find the multiracial-ish rows and then `value_counts` their `other_race`\n",
    "- Tip: Maybe... ask me about .str.contains support for regular expressions?"
   ]
  },
  {
   "cell_type": "code",
   "execution_count": 23,
   "metadata": {},
   "outputs": [
    {
     "data": {
      "text/plain": [
       "HISPANIC        11870\n",
       "MULTI-RACIAL     1461\n",
       "UNKNOWN          1316\n",
       "HISP             1141\n",
       "NS                395\n",
       "SOMALI            274\n",
       "MULTIRACIAL       119\n",
       "UNKN              101\n",
       "BIRACIAL           25\n",
       "MULTI              18\n",
       "Name: race_other, dtype: int64"
      ]
     },
     "execution_count": 23,
     "metadata": {},
     "output_type": "execute_result"
    }
   ],
   "source": [
    "df_new.race_other.value_counts().head(10)"
   ]
  },
  {
   "cell_type": "code",
   "execution_count": 24,
   "metadata": {},
   "outputs": [
    {
     "data": {
      "text/plain": [
       "MULTI-RACIAL       1461\n",
       "MULTIRACIAL         119\n",
       "BIRACIAL             25\n",
       "MULTI                18\n",
       "MULTI RACIAL         12\n",
       "MIXED                 7\n",
       "BI-RACIAL             2\n",
       "MULTIRACAIL           1\n",
       "MULTRACIAL            1\n",
       "MULTIPLE RACIAL       1\n",
       "MULT RACIAL           1\n",
       "Name: race_other, dtype: int64"
      ]
     },
     "execution_count": 24,
     "metadata": {},
     "output_type": "execute_result"
    }
   ],
   "source": [
    "df_new[df_new.race_other.str.lower().str.contains(\"^[bm][iu][^d]\", na=False)].race_other.value_counts()"
   ]
  },
  {
   "cell_type": "code",
   "execution_count": 25,
   "metadata": {},
   "outputs": [
    {
     "data": {
      "text/plain": [
       "(1648, 21)"
      ]
     },
     "execution_count": 25,
     "metadata": {},
     "output_type": "execute_result"
    }
   ],
   "source": [
    "df_multiracial = df_new[df_new.race_other.str.lower().str.contains(\"^[bm][iu][^d]\", na=False)]\n",
    "df_multiracial.shape"
   ]
  },
  {
   "cell_type": "markdown",
   "metadata": {},
   "source": [
    "## Replace all of those spellings with “MULTIRACIAL.”\n",
    "\n",
    "Confirm that you’ve ended up with about 1900 MULTIRACIAL rows (yours might be anywhere between 1899-1910, depending on how many spellings you caught)"
   ]
  },
  {
   "cell_type": "code",
   "execution_count": 26,
   "metadata": {},
   "outputs": [
    {
     "data": {
      "text/plain": [
       "HISPANIC       11870\n",
       "MULTIRACIAL     1648\n",
       "UNKNOWN         1316\n",
       "HISP            1141\n",
       "NS               395\n",
       "SOMALI           274\n",
       "UNKN             101\n",
       "NEPALI            17\n",
       "DECLINED          13\n",
       "UKNOWN            13\n",
       "Name: race_other, dtype: int64"
      ]
     },
     "execution_count": 26,
     "metadata": {},
     "output_type": "execute_result"
    }
   ],
   "source": [
    "df_new['race_other'].replace('^[BM][IU][^D].*', 'MULTIRACIAL', inplace=True, regex=True)\n",
    "df_new['race_other'].value_counts().head(10)"
   ]
  },
  {
   "cell_type": "markdown",
   "metadata": {},
   "source": [
    "## Do the same thing with misspellings of \"Unknown\"\n",
    "\n",
    "You should end up with around 1660-1670 UNKNOWN entries"
   ]
  },
  {
   "cell_type": "code",
   "execution_count": 27,
   "metadata": {},
   "outputs": [
    {
     "data": {
      "text/plain": [
       "UNKNOWN     1316\n",
       "UNKN         101\n",
       "UKNOWN        13\n",
       "UINKNOWN       1\n",
       "UNKNOKWN       1\n",
       "UNKNONW        1\n",
       "UNKOWN         1\n",
       "UNKNONWN       1\n",
       "UNKNKOWN       1\n",
       "UNK            1\n",
       "UNNOWN         1\n",
       "Name: race_other, dtype: int64"
      ]
     },
     "execution_count": 27,
     "metadata": {},
     "output_type": "execute_result"
    }
   ],
   "source": [
    "df_new[df_new.race_other.str.contains('U[IKN][NK]', na=False)]['race_other'].value_counts()"
   ]
  },
  {
   "cell_type": "code",
   "execution_count": 28,
   "metadata": {},
   "outputs": [
    {
     "data": {
      "text/plain": [
       "HISPANIC       11870\n",
       "MULTIRACIAL     1648\n",
       "UNKNOWN         1438\n",
       "HISP            1141\n",
       "NS               395\n",
       "SOMALI           274\n",
       "NEPALI            17\n",
       "DECLINED          13\n",
       "MEXICAN           10\n",
       "ARAB               7\n",
       "Name: race_other, dtype: int64"
      ]
     },
     "execution_count": 28,
     "metadata": {},
     "output_type": "execute_result"
    }
   ],
   "source": [
    "df_new.race_other.replace('U[IKN][NK].*', 'UNKNOWN', inplace=True, regex=True)\n",
    "df_new.race_other.value_counts().head(10)"
   ]
  },
  {
   "cell_type": "markdown",
   "metadata": {},
   "source": [
    "## What variations on HISPANIC can you find? Standardize them to HISPANIC."
   ]
  },
  {
   "cell_type": "code",
   "execution_count": 29,
   "metadata": {
    "scrolled": true
   },
   "outputs": [
    {
     "data": {
      "text/plain": [
       "HISPANIC           11870\n",
       "HISP                1141\n",
       "HISPNANIC              2\n",
       "HISPPANIC              1\n",
       "HISPANIC/LATINO        1\n",
       "HISPAANIC              1\n",
       "HISPANIC S/P B         1\n",
       "QRYOMHISPANIC          1\n",
       "HISPAINIC              1\n",
       "HISO                   1\n",
       "NISPANIC               1\n",
       "HISPAINC               1\n",
       "HISPNIC                1\n",
       "ISPANIC                1\n",
       "Name: race_other, dtype: int64"
      ]
     },
     "execution_count": 29,
     "metadata": {},
     "output_type": "execute_result"
    }
   ],
   "source": [
    "df_new[df_new.race_other.str.contains('^.*IS[^HT].*', na=False)]['race_other'].value_counts()"
   ]
  },
  {
   "cell_type": "code",
   "execution_count": 30,
   "metadata": {
    "collapsed": true
   },
   "outputs": [],
   "source": [
    "df_new.race_other.replace('^.*IS[^HT].*', 'HISPANIC', regex = True, inplace=True)"
   ]
  },
  {
   "cell_type": "markdown",
   "metadata": {},
   "source": [
    "## Now try counting the number of hispanic people again."
   ]
  },
  {
   "cell_type": "code",
   "execution_count": 31,
   "metadata": {},
   "outputs": [
    {
     "data": {
      "text/plain": [
       "(13024, 21)"
      ]
     },
     "execution_count": 31,
     "metadata": {},
     "output_type": "execute_result"
    }
   ],
   "source": [
    "df_new[df_new.race_other == 'HISPANIC'].shape"
   ]
  },
  {
   "cell_type": "markdown",
   "metadata": {},
   "source": [
    "## Seems like a lot! Update their race column to be ‘Hispanic’ instead of “Other”\n",
    "\n",
    "You'll try to do this using skills you know, but pandas will probably yell at you. You get to learn this new thing called `loc` now! \n",
    "\n",
    "```\n",
    "df.loc[df.country == 'Angola', \"continent\"] = \"Africa\"\n",
    "```\n",
    "\n",
    "This updates the `continent` column to be `Africa` for every row where `country == 'Angola'`. You CANNOT do the following, which is probably what you've wanted to do:\n",
    "\n",
    "```\n",
    "df[df.country == 'Angola']['continent'] = 'Africa'\n",
    "```\n",
    "\n",
    "And now you know."
   ]
  },
  {
   "cell_type": "code",
   "execution_count": 32,
   "metadata": {},
   "outputs": [
    {
     "data": {
      "text/plain": [
       "White                               118712\n",
       "Black/African American               41149\n",
       "Hispanic                             13024\n",
       "Asian                                 3386\n",
       "Other                                 3306\n",
       "American Indian/Alaska Native          820\n",
       "Native Hawaiian/Pacific Islander       296\n",
       "Name: race, dtype: int64"
      ]
     },
     "execution_count": 32,
     "metadata": {},
     "output_type": "execute_result"
    }
   ],
   "source": [
    "df_new.loc[df_new.race_other == 'HISPANIC', \"race\"] = 'Hispanic'\n",
    "df_new.race.value_counts()"
   ]
  },
  {
   "cell_type": "markdown",
   "metadata": {},
   "source": [
    "## Graph the frequency of each race in the dataset"
   ]
  },
  {
   "cell_type": "code",
   "execution_count": 33,
   "metadata": {},
   "outputs": [
    {
     "data": {
      "text/plain": [
       "<matplotlib.axes._subplots.AxesSubplot at 0x10b581cf8>"
      ]
     },
     "execution_count": 33,
     "metadata": {},
     "output_type": "execute_result"
    },
    {
     "data": {
      "image/png": "[encoded data removed]",
      "text/plain": [
       "<matplotlib.figure.Figure at 0x10b589048>"
      ]
     },
     "metadata": {},
     "output_type": "display_data"
    }
   ],
   "source": [
    "df_new.race.value_counts(ascending=True).plot(kind='barh')"
   ]
  },
  {
   "cell_type": "markdown",
   "metadata": {},
   "source": [
    "## Find every injury involving unicycles."
   ]
  },
  {
   "cell_type": "code",
   "execution_count": 34,
   "metadata": {},
   "outputs": [
    {
     "data": {
      "text/plain": [
       "Unicycles    5\n",
       "Name: prod1_desc, dtype: int64"
      ]
     },
     "execution_count": 34,
     "metadata": {},
     "output_type": "execute_result"
    }
   ],
   "source": [
    "df_new[df_new.prod1_desc.str.lower().str.contains('unic', na=False)]['prod1_desc'].value_counts()"
   ]
  },
  {
   "cell_type": "code",
   "execution_count": 35,
   "metadata": {},
   "outputs": [
    {
     "data": {
      "text/html": [
       "<div>\n",
       "<style>\n",
       "    .dataframe thead tr:only-child th {\n",
       "        text-align: right;\n",
       "    }\n",
       "\n",
       "    .dataframe thead th {\n",
       "        text-align: left;\n",
       "    }\n",
       "\n",
       "    .dataframe tbody tr th {\n",
       "        vertical-align: top;\n",
       "    }\n",
       "</style>\n",
       "<table border=\"1\" class=\"dataframe\">\n",
       "  <thead>\n",
       "    <tr style=\"text-align: right;\">\n",
       "      <th></th>\n",
       "      <th>CPSC Case #</th>\n",
       "      <th>trmt_date</th>\n",
       "      <th>psu</th>\n",
       "      <th>weight</th>\n",
       "      <th>stratum</th>\n",
       "      <th>age</th>\n",
       "      <th>sex</th>\n",
       "      <th>race</th>\n",
       "      <th>race_other</th>\n",
       "      <th>diag</th>\n",
       "      <th>...</th>\n",
       "      <th>body_part</th>\n",
       "      <th>disposition</th>\n",
       "      <th>location</th>\n",
       "      <th>fmv</th>\n",
       "      <th>prod1</th>\n",
       "      <th>prod2</th>\n",
       "      <th>narr1</th>\n",
       "      <th>narr2</th>\n",
       "      <th>prod1_code</th>\n",
       "      <th>prod1_desc</th>\n",
       "    </tr>\n",
       "  </thead>\n",
       "  <tbody>\n",
       "    <tr>\n",
       "      <th>288058</th>\n",
       "      <td>150744255</td>\n",
       "      <td>06/23/2015</td>\n",
       "      <td>8</td>\n",
       "      <td>5.6748</td>\n",
       "      <td>C</td>\n",
       "      <td>12</td>\n",
       "      <td>2</td>\n",
       "      <td>White</td>\n",
       "      <td>NaN</td>\n",
       "      <td>57</td>\n",
       "      <td>...</td>\n",
       "      <td>33</td>\n",
       "      <td>1</td>\n",
       "      <td>0</td>\n",
       "      <td>0</td>\n",
       "      <td>1283</td>\n",
       "      <td></td>\n",
       "      <td>12YOF FELL OFF A UNICYCLE; FOREARM FX.</td>\n",
       "      <td>NaN</td>\n",
       "      <td>1283</td>\n",
       "      <td>Unicycles</td>\n",
       "    </tr>\n",
       "    <tr>\n",
       "      <th>288059</th>\n",
       "      <td>150502967</td>\n",
       "      <td>04/22/2015</td>\n",
       "      <td>41</td>\n",
       "      <td>15.0591</td>\n",
       "      <td>V</td>\n",
       "      <td>62</td>\n",
       "      <td>1</td>\n",
       "      <td>NaN</td>\n",
       "      <td>NaN</td>\n",
       "      <td>57</td>\n",
       "      <td>...</td>\n",
       "      <td>33</td>\n",
       "      <td>4</td>\n",
       "      <td>9</td>\n",
       "      <td>0</td>\n",
       "      <td>1283</td>\n",
       "      <td></td>\n",
       "      <td>62YOM RIDING A UNICYCLE AT THE PARK AND FELL. ...</td>\n",
       "      <td>NaN</td>\n",
       "      <td>1283</td>\n",
       "      <td>Unicycles</td>\n",
       "    </tr>\n",
       "    <tr>\n",
       "      <th>288060</th>\n",
       "      <td>150337697</td>\n",
       "      <td>03/15/2015</td>\n",
       "      <td>67</td>\n",
       "      <td>15.0591</td>\n",
       "      <td>V</td>\n",
       "      <td>9</td>\n",
       "      <td>2</td>\n",
       "      <td>NaN</td>\n",
       "      <td>NaN</td>\n",
       "      <td>71</td>\n",
       "      <td>...</td>\n",
       "      <td>33</td>\n",
       "      <td>1</td>\n",
       "      <td>8</td>\n",
       "      <td>0</td>\n",
       "      <td>1283</td>\n",
       "      <td></td>\n",
       "      <td>DX PN RT ARM 9YOF PATIENT WITH RT ARM PN SHE H...</td>\n",
       "      <td>FELL OFF UNICYCLE AT SCHOOL  NOW WITH ARM PAIN RT</td>\n",
       "      <td>1283</td>\n",
       "      <td>Unicycles</td>\n",
       "    </tr>\n",
       "    <tr>\n",
       "      <th>288061</th>\n",
       "      <td>151223619</td>\n",
       "      <td>12/08/2015</td>\n",
       "      <td>51</td>\n",
       "      <td>74.8813</td>\n",
       "      <td>L</td>\n",
       "      <td>56</td>\n",
       "      <td>1</td>\n",
       "      <td>Black/African American</td>\n",
       "      <td>NaN</td>\n",
       "      <td>71</td>\n",
       "      <td>...</td>\n",
       "      <td>35</td>\n",
       "      <td>6</td>\n",
       "      <td>0</td>\n",
       "      <td>0</td>\n",
       "      <td>1283</td>\n",
       "      <td>1807</td>\n",
       "      <td>56 YO M PT WAS TRYING TO TEACH A COUPLE OF KID...</td>\n",
       "      <td>FELL BACKWARDS ONTO FLOOR C/O LEFT KNEE PAIN W...</td>\n",
       "      <td>1283</td>\n",
       "      <td>Unicycles</td>\n",
       "    </tr>\n",
       "    <tr>\n",
       "      <th>288062</th>\n",
       "      <td>150919495</td>\n",
       "      <td>08/18/2015</td>\n",
       "      <td>93</td>\n",
       "      <td>15.7762</td>\n",
       "      <td>V</td>\n",
       "      <td>52</td>\n",
       "      <td>1</td>\n",
       "      <td>White</td>\n",
       "      <td>NaN</td>\n",
       "      <td>53</td>\n",
       "      <td>...</td>\n",
       "      <td>79</td>\n",
       "      <td>1</td>\n",
       "      <td>4</td>\n",
       "      <td>0</td>\n",
       "      <td>1283</td>\n",
       "      <td></td>\n",
       "      <td>52 YOM WAS UNICYCLING DOWN STREET WHEN HE WAS ...</td>\n",
       "      <td>AT LOW SPEED.  DX:  COCCYGEAL CONT.</td>\n",
       "      <td>1283</td>\n",
       "      <td>Unicycles</td>\n",
       "    </tr>\n",
       "  </tbody>\n",
       "</table>\n",
       "<p>5 rows × 21 columns</p>\n",
       "</div>"
      ],
      "text/plain": [
       "        CPSC Case #   trmt_date  psu   weight stratum  age  sex  \\\n",
       "288058    150744255  06/23/2015    8   5.6748       C   12    2   \n",
       "288059    150502967  04/22/2015   41  15.0591       V   62    1   \n",
       "288060    150337697  03/15/2015   67  15.0591       V    9    2   \n",
       "288061    151223619  12/08/2015   51  74.8813       L   56    1   \n",
       "288062    150919495  08/18/2015   93  15.7762       V   52    1   \n",
       "\n",
       "                          race race_other  diag    ...     body_part  \\\n",
       "288058                   White        NaN    57    ...            33   \n",
       "288059                     NaN        NaN    57    ...            33   \n",
       "288060                     NaN        NaN    71    ...            33   \n",
       "288061  Black/African American        NaN    71    ...            35   \n",
       "288062                   White        NaN    53    ...            79   \n",
       "\n",
       "        disposition  location  fmv  prod1 prod2  \\\n",
       "288058            1         0    0   1283         \n",
       "288059            4         9    0   1283         \n",
       "288060            1         8    0   1283         \n",
       "288061            6         0    0   1283  1807   \n",
       "288062            1         4    0   1283         \n",
       "\n",
       "                                                    narr1  \\\n",
       "288058             12YOF FELL OFF A UNICYCLE; FOREARM FX.   \n",
       "288059  62YOM RIDING A UNICYCLE AT THE PARK AND FELL. ...   \n",
       "288060  DX PN RT ARM 9YOF PATIENT WITH RT ARM PN SHE H...   \n",
       "288061  56 YO M PT WAS TRYING TO TEACH A COUPLE OF KID...   \n",
       "288062  52 YOM WAS UNICYCLING DOWN STREET WHEN HE WAS ...   \n",
       "\n",
       "                                                    narr2 prod1_code  \\\n",
       "288058                                                NaN       1283   \n",
       "288059                                                NaN       1283   \n",
       "288060  FELL OFF UNICYCLE AT SCHOOL  NOW WITH ARM PAIN RT       1283   \n",
       "288061  FELL BACKWARDS ONTO FLOOR C/O LEFT KNEE PAIN W...       1283   \n",
       "288062                AT LOW SPEED.  DX:  COCCYGEAL CONT.       1283   \n",
       "\n",
       "       prod1_desc  \n",
       "288058  Unicycles  \n",
       "288059  Unicycles  \n",
       "288060  Unicycles  \n",
       "288061  Unicycles  \n",
       "288062  Unicycles  \n",
       "\n",
       "[5 rows x 21 columns]"
      ]
     },
     "execution_count": 35,
     "metadata": {},
     "output_type": "execute_result"
    }
   ],
   "source": [
    "df_new[df_new.prod1_desc.str.lower().str.contains('unic', na=False)]"
   ]
  },
  {
   "cell_type": "markdown",
   "metadata": {},
   "source": [
    "## What is the racial breakdown of people involved in unicycle accidents?\n",
    "\n",
    "I want a **percentage**, and I want that percentage to include unknowns/NaN values."
   ]
  },
  {
   "cell_type": "code",
   "execution_count": 36,
   "metadata": {},
   "outputs": [
    {
     "data": {
      "text/plain": [
       "White                     0.4\n",
       "NaN                       0.4\n",
       "Black/African American    0.2\n",
       "Name: race, dtype: float64"
      ]
     },
     "execution_count": 36,
     "metadata": {},
     "output_type": "execute_result"
    }
   ],
   "source": [
    "df_new[df_new.prod1_desc.str.lower().str.contains('unic')]['race'].value_counts(dropna=False, normalize = True)"
   ]
  },
  {
   "cell_type": "markdown",
   "metadata": {},
   "source": [
    "## How about injuries with toboggans?\n",
    "\n",
    "Is the racial breakdown significantly different than the racial breakdown of all patients?"
   ]
  },
  {
   "cell_type": "code",
   "execution_count": 37,
   "metadata": {},
   "outputs": [
    {
     "data": {
      "text/plain": [
       "T oboggans    9\n",
       "Name: prod1_desc, dtype: int64"
      ]
     },
     "execution_count": 37,
     "metadata": {},
     "output_type": "execute_result"
    }
   ],
   "source": [
    "df_new[df_new.prod1_desc.str.lower().str.contains('gans', na = False)]['prod1_desc'].value_counts()"
   ]
  },
  {
   "cell_type": "code",
   "execution_count": 38,
   "metadata": {},
   "outputs": [
    {
     "data": {
      "text/plain": [
       "NaN         0.555556\n",
       "White       0.333333\n",
       "Hispanic    0.111111\n",
       "Name: race, dtype: float64"
      ]
     },
     "execution_count": 38,
     "metadata": {},
     "output_type": "execute_result"
    }
   ],
   "source": [
    "df_new[df_new.prod1_desc.str.lower().str.contains('gans')]['race'].value_counts(dropna=False, normalize = True)"
   ]
  },
  {
   "cell_type": "code",
   "execution_count": 39,
   "metadata": {},
   "outputs": [
    {
     "data": {
      "text/plain": [
       "White                               0.403153\n",
       "NaN                                 0.386356\n",
       "Black/African American              0.139744\n",
       "Hispanic                            0.044230\n",
       "Asian                               0.011499\n",
       "Other                               0.011227\n",
       "American Indian/Alaska Native       0.002785\n",
       "Native Hawaiian/Pacific Islander    0.001005\n",
       "Name: race, dtype: float64"
      ]
     },
     "execution_count": 39,
     "metadata": {},
     "output_type": "execute_result"
    }
   ],
   "source": [
    "df_new.race.value_counts(dropna=False, normalize=True)"
   ]
  },
  {
   "cell_type": "markdown",
   "metadata": {},
   "source": [
    "## Find the top 5 most dangerous products\n",
    "\n",
    "Just use the `prod1` column."
   ]
  },
  {
   "cell_type": "code",
   "execution_count": 40,
   "metadata": {},
   "outputs": [
    {
     "data": {
      "text/plain": [
       "Stairs or steps (excluding pull-down and folding stairs)                28609\n",
       "Floors or flooring materials                                            28255\n",
       "Beds or bedframes, other or not specified                               16707\n",
       "Basketball (activity, apparel or equipment)                             14095\n",
       "Bicycles or accessories (excluding mountain or all-terrain bicycles)    12737\n",
       "Name: prod1_desc, dtype: int64"
      ]
     },
     "execution_count": 40,
     "metadata": {},
     "output_type": "execute_result"
    }
   ],
   "source": [
    "df_new.prod1_desc.value_counts().head(5)"
   ]
  },
  {
   "cell_type": "markdown",
   "metadata": {},
   "source": [
    "## Find the top 5 most dangerous products by race\n",
    "\n",
    "This is that weird groupby thing that you can either memorize or cut and paste every time. If you ask I'll tell it to you and you won't have to search!"
   ]
  },
  {
   "cell_type": "code",
   "execution_count": 41,
   "metadata": {},
   "outputs": [
    {
     "data": {
      "text/plain": [
       "race                              prod1_desc                                                          \n",
       "American Indian/Alaska Native     Floors or flooring materials                                               92\n",
       "                                  Stairs or steps (excluding pull-down and folding stairs)                   70\n",
       "                                  Bicycles or accessories (excluding mountain or all-terrain bicycles)       58\n",
       "                                  Beds or bedframes, other or not specified                                  52\n",
       "                                  Basketball (activity, apparel or equipment)                                31\n",
       "Asian                             Stairs or steps (excluding pull-down and folding stairs)                  310\n",
       "                                  Floors or flooring materials                                              253\n",
       "                                  Beds or bedframes, other or not specified                                 219\n",
       "                                  Basketball (activity, apparel or equipment)                               203\n",
       "                                  Bicycles or accessories (excluding mountain or all-terrain bicycles)      198\n",
       "Black/African American            Stairs or steps (excluding pull-down and folding stairs)                 4377\n",
       "                                  Basketball (activity, apparel or equipment)                              4249\n",
       "                                  Football (activity, apparel or equipment)                                3030\n",
       "                                  Floors or flooring materials                                             2608\n",
       "                                  Beds or bedframes, other or not specified                                2292\n",
       "Hispanic                          Stairs or steps (excluding pull-down and folding stairs)                 1024\n",
       "                                  Soccer (activity, apparel or equipment)                                   880\n",
       "                                  Beds or bedframes, other or not specified                                 851\n",
       "                                  Floors or flooring materials                                              837\n",
       "                                  Bicycles or accessories (excluding mountain or all-terrain bicycles)      643\n",
       "Native Hawaiian/Pacific Islander  Stairs or steps (excluding pull-down and folding stairs)                   28\n",
       "                                  Floors or flooring materials                                               27\n",
       "                                  Football (activity, apparel or equipment)                                  20\n",
       "                                  Basketball (activity, apparel or equipment)                                16\n",
       "                                  Bicycles or accessories (excluding mountain or all-terrain bicycles)       15\n",
       "Other                             Stairs or steps (excluding pull-down and folding stairs)                  224\n",
       "                                  Beds or bedframes, other or not specified                                 184\n",
       "                                  Basketball (activity, apparel or equipment)                               177\n",
       "                                  Floors or flooring materials                                              172\n",
       "                                  Soccer (activity, apparel or equipment)                                   169\n",
       "White                             Floors or flooring materials                                            11649\n",
       "                                  Stairs or steps (excluding pull-down and folding stairs)                11302\n",
       "                                  Beds or bedframes, other or not specified                                6454\n",
       "                                  Bicycles or accessories (excluding mountain or all-terrain bicycles)     4975\n",
       "                                  Football (activity, apparel or equipment)                                4088\n",
       "Name: prod1_desc, dtype: int64"
      ]
     },
     "execution_count": 41,
     "metadata": {},
     "output_type": "execute_result"
    }
   ],
   "source": [
    "df_new.groupby('race')['prod1_desc'].value_counts().groupby(level=0).head(5)"
   ]
  }
 ],
 "metadata": {
  "kernelspec": {
   "display_name": "Python 3",
   "language": "python",
   "name": "python3"
  },
  "language_info": {
   "codemirror_mode": {
    "name": "ipython",
    "version": 3
   },
   "file_extension": ".py",
   "mimetype": "text/x-python",
   "name": "python",
   "nbconvert_exporter": "python",
   "pygments_lexer": "ipython3",
   "version": "3.6.1"
  }
 },
 "nbformat": 4,
 "nbformat_minor": 2
}
