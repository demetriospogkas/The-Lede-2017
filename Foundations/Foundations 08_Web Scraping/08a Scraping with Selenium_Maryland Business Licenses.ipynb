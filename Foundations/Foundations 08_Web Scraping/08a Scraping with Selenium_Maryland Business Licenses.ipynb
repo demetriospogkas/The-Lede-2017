{
 "cells": [
  {
   "cell_type": "markdown",
   "metadata": {},
   "source": [
    "# Scraping Maryland Business Licenses with Selenium\n",
    "\n",
    "Maryland has a [great portal](https://jportal.mdcourts.gov/license/pbPublicSearch.jsp) for searching business licenses, but the only problem is you have to check a box in order to get in.\n",
    "\n",
    "1. Try to visit [the public search page](https://jportal.mdcourts.gov/license/pbPublicSearch.jsp)\n",
    "2. Get redirected to a \"I agree to this\" page. Click that you've read the disclaimer, click Enter the Site.\n",
    "3. Click \"Search License Records\" down at the bottom of the page\n",
    "4. You're now on the search page! From the \"Jurisdiction\" dropdown, select \"Statewide\"\n",
    "5. In the \"Trade Name\" field, type \"Vap%\" to try to find vape shops\n",
    "6. Click \"Next\" in the bottom right-hand corner to go to the next page\n",
    "7. Click \"Click for detail\" to see the details for a specific business license.\n",
    "\n",
    "That's a lot of stuff! **Let's get to work.**"
   ]
  },
  {
   "cell_type": "markdown",
   "metadata": {},
   "source": [
    "## Preparation\n",
    "\n",
    "### When you search for a business license, what URL should Selenium try to visit first?"
   ]
  },
  {
   "cell_type": "code",
   "execution_count": 1,
   "metadata": {
    "collapsed": true
   },
   "outputs": [],
   "source": [
    "# https://jportal.mdcourts.gov/license/pbPublicSearch.jsp"
   ]
  },
  {
   "cell_type": "markdown",
   "metadata": {},
   "source": [
    "**It isn't going to work, though! It's going to redirect to that intro page.** You can use *Incognito mode* to go back through the \"Check the box, etc\" series of pages.\n",
    "\n",
    "### How will you identify the checkbox to check it?\n",
    "\n",
    "Selenium can find elements by:\n",
    "\n",
    "- name\n",
    "- Class\n",
    "- ID\n",
    "- CSS selector (**ASK ME WHAT THIS IS** if you don't know)\n",
    "- XPath (**ASK ME WHAT THIS IS** because you definitely don't know)\n",
    "- Link text\n",
    "- Partial link text\n",
    "\n",
    "So in other words, what's unique about this element?\n",
    "\n",
    "- *TIP: I have a secret awesome way to do this, but you have to ask.*"
   ]
  },
  {
   "cell_type": "code",
   "execution_count": 2,
   "metadata": {
    "collapsed": true
   },
   "outputs": [],
   "source": [
    "# <input name=\"ac\" value=\"y\" id=\"checkbox\" type=\"checkbox\">\n",
    "# .click()"
   ]
  },
  {
   "cell_type": "markdown",
   "metadata": {},
   "source": [
    "### How will you identify the button to select it, or the form to submit it?\n",
    "\n",
    "Selenium can submit forms by either\n",
    "\n",
    "- Selecting the form and using `.submit()`, or\n",
    "- Selecting the button and using `.click()`\n",
    "\n",
    "You only need to be able to get **one, not both.**"
   ]
  },
  {
   "cell_type": "code",
   "execution_count": 3,
   "metadata": {
    "collapsed": true
   },
   "outputs": [],
   "source": [
    "# <input value=\"Enter the Site\" type=\"submit\">\n",
    "# .click()\n",
    "\n",
    "# <form action=\"pbIndex.jsp\" method=\"get\">\n",
    "# \t\t\t\t<div class=\"copy\"><input name=\"ac\" value=\"y\" id=\"checkbox\" type=\"checkbox\"><label for=\"checkbox\">&nbsp;I have read the below disclaimer&nbsp;</label>\n",
    "# \t\t\t\t<input value=\"Enter the Site\" type=\"submit\"></div>\n",
    "# \t\t\t</form>\n",
    "# .submit()"
   ]
  },
  {
   "cell_type": "markdown",
   "metadata": {},
   "source": [
    "### Once you're on the next page, how will you click the \"SEARCH LICENSE RECORDS\" link or follow its URL?"
   ]
  },
  {
   "cell_type": "code",
   "execution_count": 4,
   "metadata": {
    "collapsed": true
   },
   "outputs": [],
   "source": [
    "# <a href=\"pbPublicSearch.jsp\">SEARCH LICENSE RECORDS</a>\n",
    "# .click()"
   ]
  },
  {
   "cell_type": "markdown",
   "metadata": {},
   "source": [
    "### Now you're on the form page. How do you pick \"Statewide\" for the jurisdiction dropdown?"
   ]
  },
  {
   "cell_type": "code",
   "execution_count": 5,
   "metadata": {
    "collapsed": true
   },
   "outputs": [],
   "source": [
    "# <option value=\"50\">Statewide</option>\n",
    "# .click()"
   ]
  },
  {
   "cell_type": "markdown",
   "metadata": {},
   "source": [
    "### How do you type \"vap%\" into the Trade Name field?"
   ]
  },
  {
   "cell_type": "code",
   "execution_count": 6,
   "metadata": {
    "collapsed": true
   },
   "outputs": [],
   "source": [
    "# <input id=\"txtTradeName\" name=\"txtTradeName\" value=\"\" type=\"text\">\n",
    "# .send_keys('')"
   ]
  },
  {
   "cell_type": "markdown",
   "metadata": {},
   "source": [
    "### How do you click the submit button or submit the form?"
   ]
  },
  {
   "cell_type": "code",
   "execution_count": 7,
   "metadata": {
    "collapsed": true
   },
   "outputs": [],
   "source": [
    "# <input value=\"Submit\" type=\"submit\">\n",
    "# .click()\n",
    "\n",
    "# <form name=\"searchForm\" method=\"get\" action=\"pbelservlet/Search\">\n",
    "# \t\t\t\t</form>\n",
    "# submit()"
   ]
  },
  {
   "cell_type": "markdown",
   "metadata": {},
   "source": [
    "### How can you find and click the 'Next' button on the search results page?"
   ]
  },
  {
   "cell_type": "code",
   "execution_count": 8,
   "metadata": {
    "collapsed": true
   },
   "outputs": [],
   "source": [
    "# <nobr>Next »</nobr>"
   ]
  },
  {
   "cell_type": "markdown",
   "metadata": {},
   "source": [
    "# Okay, let's scrape!\n",
    "\n",
    "### Use Selenium to search for vape shops statewide, and then click through until it reaches the last page.\n",
    "\n",
    "Don't scrape yet!"
   ]
  },
  {
   "cell_type": "code",
   "execution_count": 9,
   "metadata": {
    "collapsed": true
   },
   "outputs": [],
   "source": [
    "from selenium import webdriver\n",
    "from selenium.webdriver.support.ui import WebDriverWait"
   ]
  },
  {
   "cell_type": "code",
   "execution_count": 10,
   "metadata": {
    "collapsed": true
   },
   "outputs": [],
   "source": [
    "driver = webdriver.Firefox()\n",
    "#driver.implicitly_wait(2)"
   ]
  },
  {
   "cell_type": "code",
   "execution_count": 11,
   "metadata": {
    "collapsed": true
   },
   "outputs": [],
   "source": [
    "# Open the intro page\n",
    "driver.get('https://jportal.mdcourts.gov/license/index_disclaimer.jsp')"
   ]
  },
  {
   "cell_type": "code",
   "execution_count": 12,
   "metadata": {
    "collapsed": true
   },
   "outputs": [],
   "source": [
    "# Tick the button\n",
    "# <input name=\"ac\" value=\"y\" id=\"checkbox\" type=\"checkbox\">\n",
    "checkbox = driver.find_element_by_id('checkbox')\n",
    "checkbox.click()"
   ]
  },
  {
   "cell_type": "code",
   "execution_count": 13,
   "metadata": {
    "collapsed": true
   },
   "outputs": [],
   "source": [
    "# Click Enter the Site\n",
    "# <input value=\"Enter the Site\" type=\"submit\">\n",
    "# div.copy > input:nth-child(3)\n",
    "enter_site = driver.find_element_by_css_selector('div.copy > input:nth-child(3)')\n",
    "enter_site.click()"
   ]
  },
  {
   "cell_type": "code",
   "execution_count": 15,
   "metadata": {
    "collapsed": true
   },
   "outputs": [],
   "source": [
    "# Click the Search License Records\n",
    "# .divider > a:nth-child(2)\n",
    "WebDriverWait(driver, 100).until( lambda driver: driver.find_element_by_css_selector('td.divider > a:nth-child(2)'))\n",
    "license_records = driver.find_element_by_css_selector('td.divider > a:nth-child(2)')\n",
    "license_records.click()"
   ]
  },
  {
   "cell_type": "code",
   "execution_count": 16,
   "metadata": {
    "collapsed": true
   },
   "outputs": [],
   "source": [
    "# Click on statewide\n",
    "statewide = driver.find_element_by_css_selector('#slcJurisdiction > option:nth-child(2)')\n",
    "statewide.click()"
   ]
  },
  {
   "cell_type": "code",
   "execution_count": 17,
   "metadata": {
    "collapsed": true
   },
   "outputs": [],
   "source": [
    "# Click on Trade Name\n",
    "# <input id=\"txtTradeName\" name=\"txtTradeName\" value=\"\" type=\"text\">\n",
    "trade_name = driver.find_element_by_id('txtTradeName')\n",
    "trade_name.send_keys('vap%')"
   ]
  },
  {
   "cell_type": "code",
   "execution_count": 18,
   "metadata": {
    "collapsed": true
   },
   "outputs": [],
   "source": [
    "# Submit the form\n",
    "search_form = driver.find_element_by_css_selector('body > table:nth-child(2) > tbody:nth-child(1) > tr:nth-child(4) > td:nth-child(2) > form:nth-child(7)')\n",
    "search_form.submit()"
   ]
  },
  {
   "cell_type": "code",
   "execution_count": 19,
   "metadata": {
    "collapsed": true
   },
   "outputs": [],
   "source": [
    "WebDriverWait(driver, 100).until( lambda driver: driver.find_element_by_css_selector('table.btmnavtable > tbody:nth-child(1) > tr:nth-child(1) > td:nth-child(3) > a:nth-child(1) > nobr:nth-child(1)'))\n",
    "for i in range(1,10):\n",
    "    # Kudos to Soma for try-pass\n",
    "    try:\n",
    "        next_button = driver.find_element_by_css_selector('table.btmnavtable > tbody:nth-child(1) > tr:nth-child(1) > td:nth-child(3) > a:nth-child(1) > nobr:nth-child(1)')\n",
    "        next_button.click()\n",
    "    except:\n",
    "        pass\n",
    "\n",
    "## Unused alternative - Kudos to Soma for this\n",
    "# for i in range(1,8):\n",
    "#     next_buttons = driver.find_element_by_css_selector('table.btmnavtable > tbody:nth-child(1) > tr:nth-child(1) > td:nth-child(3) > a:nth-child(1) > nobr:nth-child(1)')\n",
    "#     if len(next_buttons) > 0:\n",
    "#         next_buttons[0].click()"
   ]
  },
  {
   "cell_type": "markdown",
   "metadata": {},
   "source": [
    "### Use Selenium to scrape the first page of search results for vape shops statewide (well, we'll try).\n",
    "\n",
    "- *TIP: You can find elements/text using Selenium, or use BeautifulSoup with `doc = BeautifulSoup(driver.page_source)`*\n",
    "\n",
    "I've included some BeautifulSoup code that might be helpful. If you use it, **ask me how I made it.** It's important."
   ]
  },
  {
   "cell_type": "code",
   "execution_count": 20,
   "metadata": {
    "collapsed": true,
    "scrolled": true
   },
   "outputs": [],
   "source": [
    "from bs4 import BeautifulSoup\n",
    "doc = BeautifulSoup(driver.page_source, 'html.parser')"
   ]
  },
  {
   "cell_type": "code",
   "execution_count": 21,
   "metadata": {
    "scrolled": true
   },
   "outputs": [
    {
     "data": {
      "text/plain": [
       "5"
      ]
     },
     "execution_count": 21,
     "metadata": {},
     "output_type": "execute_result"
    }
   ],
   "source": [
    "# IF YOU ARE USING BEAUTIFULSOUP, HERE IS SOME SAMPLE CODE\n",
    "# IF YOU USE THIS CODE, ASK ME HOW I MADE IT. IT'S IMPORTANT.\n",
    "business_headers = doc.find_all('tr',class_='searchfieldtitle')\n",
    "len(business_headers)"
   ]
  },
  {
   "cell_type": "code",
   "execution_count": 22,
   "metadata": {
    "scrolled": true
   },
   "outputs": [
    {
     "name": "stdout",
     "output_type": "stream",
     "text": [
      "HEADER is 1.\n",
      "VAPE IT STORE I\n",
      "ROW 0 IS AMIN NARGIS\n",
      "Lic. Status: Issued\n",
      "ROW 1 IS 1724 N SALISBURY BLVD UNIT 2\n",
      "License: 22173807\n",
      "ROW 2 IS SALISBURY, MD 21801\n",
      "Issued Date: 4/27/2017\n",
      "ROW 3 IS Wicomico County\n",
      "HEADER is 2.\n",
      "VAPE IT STORE II\n",
      "ROW 0 IS AMIN NARGIS\n",
      "Lic. Status: Issued\n",
      "ROW 1 IS 1015 S SALISBURY BLVD\n",
      "License: 22173808\n",
      "ROW 2 IS SALISBURY, MD 21801\n",
      "Issued Date: 4/27/2017\n",
      "ROW 3 IS Wicomico County\n",
      "HEADER is 3.\n",
      "VAPEPAD THE\n",
      "ROW 0 IS ANJ DISTRIBUTIONS LLC\n",
      "Lic. Status: Issued\n",
      "ROW 1 IS 2299 JOHNS HOPKINS ROAD\n",
      "License: 02104436\n",
      "ROW 2 IS GAMBRILLS, MD 21054\n",
      "Issued Date: 4/05/2017\n",
      "ROW 3 IS Anne Arundel County\n",
      "HEADER is 4.\n",
      "VAPE FROG\n",
      "ROW 0 IS COX TRADING COMPANY L L C\n",
      "Lic. Status: Issued\n",
      "ROW 1 IS 110 S. PINEY RD\n",
      "License: 17165957\n",
      "ROW 2 IS CHESTER, MD 21619\n",
      "Issued Date: 5/31/2017\n",
      "ROW 3 IS Queen Anne's County\n",
      "HEADER is 5.\n",
      "VAPE FROG\n",
      "Pending *\n",
      "ROW 0 IS COX TRADING LLC\n",
      "Lic. Status: Pending\n",
      "ROW 1 IS 346 RITCHIE HIGHWAY\n",
      "ROW 2 IS SEVERNA PARK, MD 21146\n",
      "ROW 3 IS Anne Arundel County\n"
     ]
    }
   ],
   "source": [
    "# You'll probably need to find specific tds inside\n",
    "# of the rows instead of looking at the whole thing.\n",
    "for header in business_headers:\n",
    "    rows = header.find_next_siblings('tr')\n",
    "    print(\"HEADER is\", header.text.strip())\n",
    "    print(\"ROW 0 IS\", rows[0].text.strip())\n",
    "    print(\"ROW 1 IS\", rows[1].text.strip())\n",
    "    print(\"ROW 2 IS\", rows[2].text.strip())\n",
    "    print(\"ROW 3 IS\", rows[3].text.strip())\n",
    "    #print(rows)"
   ]
  },
  {
   "cell_type": "code",
   "execution_count": 23,
   "metadata": {
    "scrolled": true
   },
   "outputs": [
    {
     "name": "stdout",
     "output_type": "stream",
     "text": [
      "business_brand: VAPE IT STORE I\n",
      "business_name: AMIN NARGIS\n",
      "address_street: 1724 N SALISBURY BLVD UNIT 2\n",
      "address_state SALISBURY, MD 21801\n",
      "county: Wicomico County\n",
      "license_status: Issued\n",
      "license_no: 22173807\n",
      "license_issued: 4/27/2017\n",
      "details_url: https://jportal.mdcourts.gov/license/pbLicenseDetail.jsp?owi=%2B1bvyN7iH%2F4%3D\n",
      "-----\n",
      "business_brand: VAPE IT STORE II\n",
      "business_name: AMIN NARGIS\n",
      "address_street: 1015 S SALISBURY BLVD\n",
      "address_state SALISBURY, MD 21801\n",
      "county: Wicomico County\n",
      "license_status: Issued\n",
      "license_no: 22173808\n",
      "license_issued: 4/27/2017\n",
      "details_url: https://jportal.mdcourts.gov/license/pbLicenseDetail.jsp?owi=5jnekbCeW7k%3D\n",
      "-----\n",
      "business_brand: VAPEPAD THE\n",
      "business_name: ANJ DISTRIBUTIONS LLC\n",
      "address_street: 2299 JOHNS HOPKINS ROAD\n",
      "address_state GAMBRILLS, MD 21054\n",
      "county: Anne Arundel County\n",
      "license_status: Issued\n",
      "license_no: 02104436\n",
      "license_issued: 4/05/2017\n",
      "details_url: https://jportal.mdcourts.gov/license/pbLicenseDetail.jsp?owi=BlH4BpkdkBw%3D\n",
      "-----\n",
      "business_brand: VAPE FROG\n",
      "business_name: COX TRADING COMPANY L L C\n",
      "address_street: 110 S. PINEY RD\n",
      "address_state CHESTER, MD 21619\n",
      "county: Queen Anne's County\n",
      "license_status: Issued\n",
      "license_no: 17165957\n",
      "license_issued: 5/31/2017\n",
      "details_url: https://jportal.mdcourts.gov/license/pbLicenseDetail.jsp?owi=TugmXmvp4gs%3D\n",
      "-----\n",
      "business_brand: VAPE FROG\n",
      "business_name: COX TRADING LLC\n",
      "address_street: 346 RITCHIE HIGHWAY\n",
      "address_state SEVERNA PARK, MD 21146\n",
      "county: Anne Arundel County\n",
      "license_status: Pending\n",
      "-----\n"
     ]
    }
   ],
   "source": [
    "for header in business_headers:\n",
    "    business_brand = header.text.strip().split('\\n')[1]\n",
    "    print('business_brand:', business_brand)\n",
    "    rows = header.find_next_siblings('tr')\n",
    "    # Scraping business registration name\n",
    "    business_name = rows[0].text.strip().split('\\n')[0]\n",
    "    print('business_name:', business_name)\n",
    "    # Scraping streets\n",
    "    address_street = rows[1].text.strip().split('\\n')[0]\n",
    "    print('address_street:', address_street)\n",
    "    # Scraping state\n",
    "    address_state = rows[2].text.strip().split('\\n')[0]\n",
    "    print('address_state', address_state)\n",
    "    # Scraping county\n",
    "    county = rows[3].text.strip().split('\\n')[0]\n",
    "    print('county:', county)\n",
    "    # Scraping license status\n",
    "    license_status = rows[0].text.strip().split(': ')[1]\n",
    "    print('license_status:', license_status)\n",
    "    # Scraping license number\n",
    "    try:\n",
    "        license_no = rows[1].text.strip().split(': ')[1]\n",
    "        print('license_no:', license_no)\n",
    "    except:\n",
    "        pass\n",
    "    # Scraping license issued date\n",
    "    try:\n",
    "        license_issued = rows[2].text.strip().split(': ')[1]\n",
    "        print('license_issued:', license_issued) \n",
    "    except:\n",
    "        pass\n",
    "    # Scraping details link\n",
    "    try:\n",
    "        details_url = header.a['href']\n",
    "        print('details_url: ' + 'https://jportal.mdcourts.gov/license/' + details_url)\n",
    "    except:\n",
    "        pass\n",
    "    print('-----')"
   ]
  },
  {
   "cell_type": "markdown",
   "metadata": {},
   "source": [
    "### Save these into `vape-results.csv`"
   ]
  },
  {
   "cell_type": "code",
   "execution_count": 24,
   "metadata": {
    "scrolled": false
   },
   "outputs": [
    {
     "data": {
      "text/html": [
       "<div>\n",
       "<style>\n",
       "    .dataframe thead tr:only-child th {\n",
       "        text-align: right;\n",
       "    }\n",
       "\n",
       "    .dataframe thead th {\n",
       "        text-align: left;\n",
       "    }\n",
       "\n",
       "    .dataframe tbody tr th {\n",
       "        vertical-align: top;\n",
       "    }\n",
       "</style>\n",
       "<table border=\"1\" class=\"dataframe\">\n",
       "  <thead>\n",
       "    <tr style=\"text-align: right;\">\n",
       "      <th></th>\n",
       "      <th>address_state</th>\n",
       "      <th>address_street</th>\n",
       "      <th>business_brand</th>\n",
       "      <th>business_name</th>\n",
       "      <th>county</th>\n",
       "      <th>details_url</th>\n",
       "      <th>license_issued</th>\n",
       "      <th>license_no</th>\n",
       "      <th>license_status:</th>\n",
       "    </tr>\n",
       "  </thead>\n",
       "  <tbody>\n",
       "    <tr>\n",
       "      <th>0</th>\n",
       "      <td>SALISBURY, MD 21801</td>\n",
       "      <td>1724 N SALISBURY BLVD UNIT 2</td>\n",
       "      <td>VAPE IT STORE I</td>\n",
       "      <td>AMIN NARGIS</td>\n",
       "      <td>Wicomico County</td>\n",
       "      <td>https://jportal.mdcourts.gov/license/pbLicense...</td>\n",
       "      <td>4/27/2017</td>\n",
       "      <td>22173807</td>\n",
       "      <td>Issued</td>\n",
       "    </tr>\n",
       "    <tr>\n",
       "      <th>1</th>\n",
       "      <td>SALISBURY, MD 21801</td>\n",
       "      <td>1015 S SALISBURY BLVD</td>\n",
       "      <td>VAPE IT STORE II</td>\n",
       "      <td>AMIN NARGIS</td>\n",
       "      <td>Wicomico County</td>\n",
       "      <td>https://jportal.mdcourts.gov/license/pbLicense...</td>\n",
       "      <td>4/27/2017</td>\n",
       "      <td>22173808</td>\n",
       "      <td>Issued</td>\n",
       "    </tr>\n",
       "    <tr>\n",
       "      <th>2</th>\n",
       "      <td>GAMBRILLS, MD 21054</td>\n",
       "      <td>2299 JOHNS HOPKINS ROAD</td>\n",
       "      <td>VAPEPAD THE</td>\n",
       "      <td>ANJ DISTRIBUTIONS LLC</td>\n",
       "      <td>Anne Arundel County</td>\n",
       "      <td>https://jportal.mdcourts.gov/license/pbLicense...</td>\n",
       "      <td>4/05/2017</td>\n",
       "      <td>02104436</td>\n",
       "      <td>Issued</td>\n",
       "    </tr>\n",
       "    <tr>\n",
       "      <th>3</th>\n",
       "      <td>CHESTER, MD 21619</td>\n",
       "      <td>110 S. PINEY RD</td>\n",
       "      <td>VAPE FROG</td>\n",
       "      <td>COX TRADING COMPANY L L C</td>\n",
       "      <td>Queen Anne's County</td>\n",
       "      <td>https://jportal.mdcourts.gov/license/pbLicense...</td>\n",
       "      <td>5/31/2017</td>\n",
       "      <td>17165957</td>\n",
       "      <td>Issued</td>\n",
       "    </tr>\n",
       "    <tr>\n",
       "      <th>4</th>\n",
       "      <td>SEVERNA PARK, MD 21146</td>\n",
       "      <td>346 RITCHIE HIGHWAY</td>\n",
       "      <td>VAPE FROG</td>\n",
       "      <td>COX TRADING LLC</td>\n",
       "      <td>Anne Arundel County</td>\n",
       "      <td>NaN</td>\n",
       "      <td>NaN</td>\n",
       "      <td>NaN</td>\n",
       "      <td>Pending</td>\n",
       "    </tr>\n",
       "  </tbody>\n",
       "</table>\n",
       "</div>"
      ],
      "text/plain": [
       "            address_state                address_street    business_brand  \\\n",
       "0     SALISBURY, MD 21801  1724 N SALISBURY BLVD UNIT 2   VAPE IT STORE I   \n",
       "1     SALISBURY, MD 21801         1015 S SALISBURY BLVD  VAPE IT STORE II   \n",
       "2     GAMBRILLS, MD 21054       2299 JOHNS HOPKINS ROAD       VAPEPAD THE   \n",
       "3       CHESTER, MD 21619               110 S. PINEY RD         VAPE FROG   \n",
       "4  SEVERNA PARK, MD 21146           346 RITCHIE HIGHWAY         VAPE FROG   \n",
       "\n",
       "               business_name               county  \\\n",
       "0                AMIN NARGIS      Wicomico County   \n",
       "1                AMIN NARGIS      Wicomico County   \n",
       "2      ANJ DISTRIBUTIONS LLC  Anne Arundel County   \n",
       "3  COX TRADING COMPANY L L C  Queen Anne's County   \n",
       "4            COX TRADING LLC  Anne Arundel County   \n",
       "\n",
       "                                         details_url license_issued  \\\n",
       "0  https://jportal.mdcourts.gov/license/pbLicense...      4/27/2017   \n",
       "1  https://jportal.mdcourts.gov/license/pbLicense...      4/27/2017   \n",
       "2  https://jportal.mdcourts.gov/license/pbLicense...      4/05/2017   \n",
       "3  https://jportal.mdcourts.gov/license/pbLicense...      5/31/2017   \n",
       "4                                                NaN            NaN   \n",
       "\n",
       "  license_no license_status:  \n",
       "0   22173807          Issued  \n",
       "1   22173808          Issued  \n",
       "2   02104436          Issued  \n",
       "3   17165957          Issued  \n",
       "4        NaN         Pending  "
      ]
     },
     "execution_count": 24,
     "metadata": {},
     "output_type": "execute_result"
    }
   ],
   "source": [
    "import selenium\n",
    "from bs4 import BeautifulSoup\n",
    "import pandas as pd\n",
    "\n",
    "\n",
    "driver = webdriver.Firefox()\n",
    "driver.get('https://jportal.mdcourts.gov/license/index_disclaimer.jsp')\n",
    "checkbox = driver.find_element_by_id('checkbox')\n",
    "checkbox.click()\n",
    "enter_site = driver.find_element_by_css_selector('div.copy > input:nth-child(3)')\n",
    "enter_site.click()\n",
    "WebDriverWait(driver, 100).until( lambda driver: driver.find_element_by_css_selector('td.divider > a:nth-child(2)'))\n",
    "license_records = driver.find_element_by_css_selector('td.divider > a:nth-child(2)')\n",
    "license_records.click()\n",
    "statewide = driver.find_element_by_css_selector('#slcJurisdiction > option:nth-child(2)')\n",
    "statewide.click()\n",
    "trade_name = driver.find_element_by_id('txtTradeName')\n",
    "trade_name.send_keys('vap%')\n",
    "search_form = driver.find_element_by_css_selector('body > table:nth-child(2) > tbody:nth-child(1) > tr:nth-child(4) > td:nth-child(2) > form:nth-child(7)')\n",
    "search_form.submit()\n",
    "WebDriverWait(driver, 100).until( lambda driver: driver.find_element_by_class_name('searchfieldtitle'))\n",
    "\n",
    "doc = BeautifulSoup(driver.page_source, 'html.parser')\n",
    "\n",
    "business_headers = doc.find_all('tr',class_='searchfieldtitle')\n",
    "\n",
    "vape_page_one_list = []\n",
    "for header in business_headers:\n",
    "    vage_page_one_dict = {}\n",
    "    business_brand = header.text.strip().split('\\n')[1]\n",
    "    vage_page_one_dict['business_brand'] = business_brand\n",
    "    \n",
    "    rows = header.find_next_siblings('tr')\n",
    "    # Scraping business registration name\n",
    "    business_name = rows[0].text.strip().split('\\n')[0]\n",
    "    vage_page_one_dict['business_name'] = business_name\n",
    "    \n",
    "    # Scraping streets\n",
    "    address_street = rows[1].text.strip().split('\\n')[0]\n",
    "    vage_page_one_dict['address_street'] = address_street\n",
    "\n",
    "    # Scraping state\n",
    "    address_state = rows[2].text.strip().split('\\n')[0]\n",
    "    vage_page_one_dict['address_state'] = address_state\n",
    "\n",
    "    # Scraping county\n",
    "    county = rows[3].text.strip().split('\\n')[0]\n",
    "    vage_page_one_dict['county'] = county\n",
    "\n",
    "    # Scraping license status\n",
    "    license_status = rows[0].text.strip().split(': ')[1]\n",
    "    vage_page_one_dict['license_status:'] = license_status\n",
    "    \n",
    "    # Scraping license number\n",
    "    try:\n",
    "        license_no = rows[1].text.strip().split(': ')[1]\n",
    "        vage_page_one_dict['license_no'] = license_no\n",
    "    except:\n",
    "        pass\n",
    "    # Scraping license issued date\n",
    "    try:\n",
    "        license_issued = rows[2].text.strip().split(': ')[1]\n",
    "        vage_page_one_dict['license_issued'] = license_issued\n",
    "    except:\n",
    "        pass\n",
    "    # Scraping details link\n",
    "    try:\n",
    "        details_url = header.a['href']\n",
    "        vage_page_one_dict['details_url'] = 'https://jportal.mdcourts.gov/license/' + details_url\n",
    "    except:\n",
    "        pass\n",
    "    vape_page_one_list.append(vage_page_one_dict)\n",
    "    \n",
    "#print(vape_page_one_list)     \n",
    "\n",
    "df = pd.DataFrame(vape_page_one_list)\n",
    "df.head()"
   ]
  },
  {
   "cell_type": "code",
   "execution_count": 25,
   "metadata": {},
   "outputs": [
    {
     "data": {
      "text/plain": [
       "address_state      object\n",
       "address_street     object\n",
       "business_brand     object\n",
       "business_name      object\n",
       "county             object\n",
       "details_url        object\n",
       "license_issued     object\n",
       "license_no         object\n",
       "license_status:    object\n",
       "dtype: object"
      ]
     },
     "execution_count": 25,
     "metadata": {},
     "output_type": "execute_result"
    }
   ],
   "source": [
    "df.dtypes"
   ]
  },
  {
   "cell_type": "code",
   "execution_count": 26,
   "metadata": {
    "collapsed": true
   },
   "outputs": [],
   "source": [
    "df.to_csv('vape-results.csv', index=False)"
   ]
  },
  {
   "cell_type": "markdown",
   "metadata": {},
   "source": [
    "### Open `vape-results.csv` to make sure there aren't any extra weird columns"
   ]
  },
  {
   "cell_type": "code",
   "execution_count": 27,
   "metadata": {},
   "outputs": [
    {
     "data": {
      "text/html": [
       "<div>\n",
       "<style>\n",
       "    .dataframe thead tr:only-child th {\n",
       "        text-align: right;\n",
       "    }\n",
       "\n",
       "    .dataframe thead th {\n",
       "        text-align: left;\n",
       "    }\n",
       "\n",
       "    .dataframe tbody tr th {\n",
       "        vertical-align: top;\n",
       "    }\n",
       "</style>\n",
       "<table border=\"1\" class=\"dataframe\">\n",
       "  <thead>\n",
       "    <tr style=\"text-align: right;\">\n",
       "      <th></th>\n",
       "      <th>address_state</th>\n",
       "      <th>address_street</th>\n",
       "      <th>business_brand</th>\n",
       "      <th>business_name</th>\n",
       "      <th>county</th>\n",
       "      <th>details_url</th>\n",
       "      <th>license_issued</th>\n",
       "      <th>license_no</th>\n",
       "      <th>license_status:</th>\n",
       "    </tr>\n",
       "  </thead>\n",
       "  <tbody>\n",
       "    <tr>\n",
       "      <th>0</th>\n",
       "      <td>SALISBURY, MD 21801</td>\n",
       "      <td>1724 N SALISBURY BLVD UNIT 2</td>\n",
       "      <td>VAPE IT STORE I</td>\n",
       "      <td>AMIN NARGIS</td>\n",
       "      <td>Wicomico County</td>\n",
       "      <td>https://jportal.mdcourts.gov/license/pbLicense...</td>\n",
       "      <td>4/27/2017</td>\n",
       "      <td>22173807</td>\n",
       "      <td>Issued</td>\n",
       "    </tr>\n",
       "    <tr>\n",
       "      <th>1</th>\n",
       "      <td>SALISBURY, MD 21801</td>\n",
       "      <td>1015 S SALISBURY BLVD</td>\n",
       "      <td>VAPE IT STORE II</td>\n",
       "      <td>AMIN NARGIS</td>\n",
       "      <td>Wicomico County</td>\n",
       "      <td>https://jportal.mdcourts.gov/license/pbLicense...</td>\n",
       "      <td>4/27/2017</td>\n",
       "      <td>22173808</td>\n",
       "      <td>Issued</td>\n",
       "    </tr>\n",
       "    <tr>\n",
       "      <th>2</th>\n",
       "      <td>GAMBRILLS, MD 21054</td>\n",
       "      <td>2299 JOHNS HOPKINS ROAD</td>\n",
       "      <td>VAPEPAD THE</td>\n",
       "      <td>ANJ DISTRIBUTIONS LLC</td>\n",
       "      <td>Anne Arundel County</td>\n",
       "      <td>https://jportal.mdcourts.gov/license/pbLicense...</td>\n",
       "      <td>4/05/2017</td>\n",
       "      <td>02104436</td>\n",
       "      <td>Issued</td>\n",
       "    </tr>\n",
       "    <tr>\n",
       "      <th>3</th>\n",
       "      <td>CHESTER, MD 21619</td>\n",
       "      <td>110 S. PINEY RD</td>\n",
       "      <td>VAPE FROG</td>\n",
       "      <td>COX TRADING COMPANY L L C</td>\n",
       "      <td>Queen Anne's County</td>\n",
       "      <td>https://jportal.mdcourts.gov/license/pbLicense...</td>\n",
       "      <td>5/31/2017</td>\n",
       "      <td>17165957</td>\n",
       "      <td>Issued</td>\n",
       "    </tr>\n",
       "    <tr>\n",
       "      <th>4</th>\n",
       "      <td>SEVERNA PARK, MD 21146</td>\n",
       "      <td>346 RITCHIE HIGHWAY</td>\n",
       "      <td>VAPE FROG</td>\n",
       "      <td>COX TRADING LLC</td>\n",
       "      <td>Anne Arundel County</td>\n",
       "      <td>NaN</td>\n",
       "      <td>NaN</td>\n",
       "      <td></td>\n",
       "      <td>Pending</td>\n",
       "    </tr>\n",
       "  </tbody>\n",
       "</table>\n",
       "</div>"
      ],
      "text/plain": [
       "            address_state                address_street    business_brand  \\\n",
       "0     SALISBURY, MD 21801  1724 N SALISBURY BLVD UNIT 2   VAPE IT STORE I   \n",
       "1     SALISBURY, MD 21801         1015 S SALISBURY BLVD  VAPE IT STORE II   \n",
       "2     GAMBRILLS, MD 21054       2299 JOHNS HOPKINS ROAD       VAPEPAD THE   \n",
       "3       CHESTER, MD 21619               110 S. PINEY RD         VAPE FROG   \n",
       "4  SEVERNA PARK, MD 21146           346 RITCHIE HIGHWAY         VAPE FROG   \n",
       "\n",
       "               business_name               county  \\\n",
       "0                AMIN NARGIS      Wicomico County   \n",
       "1                AMIN NARGIS      Wicomico County   \n",
       "2      ANJ DISTRIBUTIONS LLC  Anne Arundel County   \n",
       "3  COX TRADING COMPANY L L C  Queen Anne's County   \n",
       "4            COX TRADING LLC  Anne Arundel County   \n",
       "\n",
       "                                         details_url license_issued  \\\n",
       "0  https://jportal.mdcourts.gov/license/pbLicense...      4/27/2017   \n",
       "1  https://jportal.mdcourts.gov/license/pbLicense...      4/27/2017   \n",
       "2  https://jportal.mdcourts.gov/license/pbLicense...      4/05/2017   \n",
       "3  https://jportal.mdcourts.gov/license/pbLicense...      5/31/2017   \n",
       "4                                                NaN            NaN   \n",
       "\n",
       "  license_no license_status:  \n",
       "0   22173807          Issued  \n",
       "1   22173808          Issued  \n",
       "2   02104436          Issued  \n",
       "3   17165957          Issued  \n",
       "4                    Pending  "
      ]
     },
     "execution_count": 27,
     "metadata": {},
     "output_type": "execute_result"
    }
   ],
   "source": [
    "pd.read_csv('vape-results.csv', converters = {'license_no':str})"
   ]
  },
  {
   "cell_type": "markdown",
   "metadata": {},
   "source": [
    "## Use Selenium to scrape ALL pages of results, save the results into `vape-results-all.csv`."
   ]
  },
  {
   "cell_type": "code",
   "execution_count": 28,
   "metadata": {
    "collapsed": true
   },
   "outputs": [],
   "source": [
    "from selenium import webdriver\n",
    "from selenium.webdriver.support.ui import WebDriverWait\n",
    "from bs4 import BeautifulSoup\n",
    "import pandas as pd\n",
    "\n",
    "# Creating the main scraping function\n",
    "# We include the list.append call inside the funnction\n",
    "# but the driver assignment and call to the browser\n",
    "# and the empty list will need to be created outside of the function\n",
    "def scrape_vapes():\n",
    "    doc = BeautifulSoup(driver.page_source, 'html.parser')\n",
    "    business_headers = doc.find_all('tr',class_='searchfieldtitle')\n",
    "\n",
    "    for header in business_headers:\n",
    "        vage_page_one_dict = {}\n",
    "        business_brand = header.text.strip().split('\\n')[1]\n",
    "        vage_page_one_dict['business_brand'] = business_brand\n",
    "\n",
    "        rows = header.find_next_siblings('tr')\n",
    "        # Scraping business registration name\n",
    "        business_name = rows[0].text.strip().split('\\n')[0]\n",
    "        vage_page_one_dict['business_name'] = business_name\n",
    "\n",
    "        # Scraping streets\n",
    "        address_street = rows[1].text.strip().split('\\n')[0]\n",
    "        vage_page_one_dict['address_street'] = address_street\n",
    "\n",
    "        # Scraping state\n",
    "        address_state = rows[2].text.strip().split('\\n')[0]\n",
    "        vage_page_one_dict['address_state'] = address_state\n",
    "\n",
    "        # Scraping county\n",
    "        county = rows[3].text.strip().split('\\n')[0]\n",
    "        vage_page_one_dict['county'] = county\n",
    "\n",
    "        # Scraping license status\n",
    "        license_status = rows[0].text.strip().split(': ')[1]\n",
    "        vage_page_one_dict['license_status:'] = license_status\n",
    "\n",
    "        # Scraping license number\n",
    "        try:\n",
    "            license_no = rows[1].text.strip().split(': ')[1]\n",
    "            vage_page_one_dict['license_no'] = license_no\n",
    "        except:\n",
    "            pass\n",
    "        # Scraping license issued date\n",
    "        try:\n",
    "            license_issued = rows[2].text.strip().split(': ')[1]\n",
    "            vage_page_one_dict['license_issued'] = license_issued\n",
    "        except:\n",
    "            pass\n",
    "        # Scraping details link\n",
    "        try:\n",
    "            details_url = header.a['href']\n",
    "            vage_page_one_dict['details_url'] = 'https://jportal.mdcourts.gov/license/' + details_url\n",
    "        except:\n",
    "            pass\n",
    "        vape_page_all_list.append(vage_page_one_dict)\n",
    "        \n",
    "# Function to navigate to results page with selenium\n",
    "def get_results_page():\n",
    "    driver.get('https://jportal.mdcourts.gov/license/index_disclaimer.jsp')\n",
    "    checkbox = driver.find_element_by_id('checkbox')\n",
    "    checkbox.click()\n",
    "    enter_site = driver.find_element_by_css_selector('div.copy > input:nth-child(3)')\n",
    "    enter_site.click()\n",
    "    WebDriverWait(driver, 100).until( lambda driver: driver.find_element_by_css_selector('td.divider > a:nth-child(2)'))\n",
    "    license_records = driver.find_element_by_css_selector('td.divider > a:nth-child(2)')\n",
    "    license_records.click()\n",
    "    statewide = driver.find_element_by_css_selector('#slcJurisdiction > option:nth-child(2)')\n",
    "    statewide.click()\n",
    "    trade_name = driver.find_element_by_id('txtTradeName')\n",
    "    trade_name.send_keys('vap%')\n",
    "    search_form = driver.find_element_by_css_selector('body > table:nth-child(2) > tbody:nth-child(1) > tr:nth-child(4) > td:nth-child(2) > form:nth-child(7)')\n",
    "    search_form.submit()\n",
    "    WebDriverWait(driver, 100).until( lambda driver: driver.find_element_by_class_name('searchfieldtitle'))\n",
    "        \n",
    "# Function to click through next pages with selenium\n",
    "# and on each new page to call the main scraping function\n",
    "def click_next_scrape():\n",
    "    for i in range(1,10):\n",
    "        WebDriverWait(driver, 100).until( lambda driver: driver.find_element_by_class_name('searchfieldtitle'))\n",
    "        try:\n",
    "            next_button = driver.find_element_by_link_text('Next »')\n",
    "            next_button.click()\n",
    "            scrape_vapes()\n",
    "        except:\n",
    "            pass\n",
    "\n",
    "# Separate function to create the pandas DataFrame from our new list of dictionaries\n",
    "# and generate the CSV file\n",
    "def create_csv():\n",
    "    df_vape_results_all = pd.DataFrame(vape_page_all_list)\n",
    "    df_vape_results_all.to_csv('vape-results-all.csv', index=False)\n",
    "\n",
    "    \n",
    "# Putting everything together\n",
    "# First we call the browser\n",
    "driver = webdriver.Firefox()\n",
    "# We then get to result page\n",
    "get_results_page()\n",
    "# Creating the empty list our function will append the scraped data\n",
    "vape_page_all_list = []\n",
    "# Calling main scraping function for first page of results\n",
    "scrape_vapes()\n",
    "# Click next button and scrape the results of that page\n",
    "click_next_scrape()\n",
    "# Generate DataFrame and CSV\n",
    "create_csv()"
   ]
  },
  {
   "cell_type": "code",
   "execution_count": 29,
   "metadata": {},
   "outputs": [
    {
     "data": {
      "text/html": [
       "<div>\n",
       "<style>\n",
       "    .dataframe thead tr:only-child th {\n",
       "        text-align: right;\n",
       "    }\n",
       "\n",
       "    .dataframe thead th {\n",
       "        text-align: left;\n",
       "    }\n",
       "\n",
       "    .dataframe tbody tr th {\n",
       "        vertical-align: top;\n",
       "    }\n",
       "</style>\n",
       "<table border=\"1\" class=\"dataframe\">\n",
       "  <thead>\n",
       "    <tr style=\"text-align: right;\">\n",
       "      <th></th>\n",
       "      <th>address_state</th>\n",
       "      <th>address_street</th>\n",
       "      <th>business_brand</th>\n",
       "      <th>business_name</th>\n",
       "      <th>county</th>\n",
       "      <th>details_url</th>\n",
       "      <th>license_issued</th>\n",
       "      <th>license_no</th>\n",
       "      <th>license_status:</th>\n",
       "    </tr>\n",
       "  </thead>\n",
       "  <tbody>\n",
       "    <tr>\n",
       "      <th>0</th>\n",
       "      <td>SALISBURY, MD 21801</td>\n",
       "      <td>1724 N SALISBURY BLVD UNIT 2</td>\n",
       "      <td>VAPE IT STORE I</td>\n",
       "      <td>AMIN NARGIS</td>\n",
       "      <td>Wicomico County</td>\n",
       "      <td>https://jportal.mdcourts.gov/license/pbLicense...</td>\n",
       "      <td>4/27/2017</td>\n",
       "      <td>22173807</td>\n",
       "      <td>Issued</td>\n",
       "    </tr>\n",
       "    <tr>\n",
       "      <th>1</th>\n",
       "      <td>SALISBURY, MD 21801</td>\n",
       "      <td>1015 S SALISBURY BLVD</td>\n",
       "      <td>VAPE IT STORE II</td>\n",
       "      <td>AMIN NARGIS</td>\n",
       "      <td>Wicomico County</td>\n",
       "      <td>https://jportal.mdcourts.gov/license/pbLicense...</td>\n",
       "      <td>4/27/2017</td>\n",
       "      <td>22173808</td>\n",
       "      <td>Issued</td>\n",
       "    </tr>\n",
       "    <tr>\n",
       "      <th>2</th>\n",
       "      <td>GAMBRILLS, MD 21054</td>\n",
       "      <td>2299 JOHNS HOPKINS ROAD</td>\n",
       "      <td>VAPEPAD THE</td>\n",
       "      <td>ANJ DISTRIBUTIONS LLC</td>\n",
       "      <td>Anne Arundel County</td>\n",
       "      <td>https://jportal.mdcourts.gov/license/pbLicense...</td>\n",
       "      <td>4/05/2017</td>\n",
       "      <td>02104436</td>\n",
       "      <td>Issued</td>\n",
       "    </tr>\n",
       "    <tr>\n",
       "      <th>3</th>\n",
       "      <td>CHESTER, MD 21619</td>\n",
       "      <td>110 S. PINEY RD</td>\n",
       "      <td>VAPE FROG</td>\n",
       "      <td>COX TRADING COMPANY L L C</td>\n",
       "      <td>Queen Anne's County</td>\n",
       "      <td>https://jportal.mdcourts.gov/license/pbLicense...</td>\n",
       "      <td>5/31/2017</td>\n",
       "      <td>17165957</td>\n",
       "      <td>Issued</td>\n",
       "    </tr>\n",
       "    <tr>\n",
       "      <th>4</th>\n",
       "      <td>SEVERNA PARK, MD 21146</td>\n",
       "      <td>346 RITCHIE HIGHWAY</td>\n",
       "      <td>VAPE FROG</td>\n",
       "      <td>COX TRADING LLC</td>\n",
       "      <td>Anne Arundel County</td>\n",
       "      <td>NaN</td>\n",
       "      <td>NaN</td>\n",
       "      <td></td>\n",
       "      <td>Pending</td>\n",
       "    </tr>\n",
       "  </tbody>\n",
       "</table>\n",
       "</div>"
      ],
      "text/plain": [
       "            address_state                address_street    business_brand  \\\n",
       "0     SALISBURY, MD 21801  1724 N SALISBURY BLVD UNIT 2   VAPE IT STORE I   \n",
       "1     SALISBURY, MD 21801         1015 S SALISBURY BLVD  VAPE IT STORE II   \n",
       "2     GAMBRILLS, MD 21054       2299 JOHNS HOPKINS ROAD       VAPEPAD THE   \n",
       "3       CHESTER, MD 21619               110 S. PINEY RD         VAPE FROG   \n",
       "4  SEVERNA PARK, MD 21146           346 RITCHIE HIGHWAY         VAPE FROG   \n",
       "\n",
       "               business_name               county  \\\n",
       "0                AMIN NARGIS      Wicomico County   \n",
       "1                AMIN NARGIS      Wicomico County   \n",
       "2      ANJ DISTRIBUTIONS LLC  Anne Arundel County   \n",
       "3  COX TRADING COMPANY L L C  Queen Anne's County   \n",
       "4            COX TRADING LLC  Anne Arundel County   \n",
       "\n",
       "                                         details_url license_issued  \\\n",
       "0  https://jportal.mdcourts.gov/license/pbLicense...      4/27/2017   \n",
       "1  https://jportal.mdcourts.gov/license/pbLicense...      4/27/2017   \n",
       "2  https://jportal.mdcourts.gov/license/pbLicense...      4/05/2017   \n",
       "3  https://jportal.mdcourts.gov/license/pbLicense...      5/31/2017   \n",
       "4                                                NaN            NaN   \n",
       "\n",
       "  license_no license_status:  \n",
       "0   22173807          Issued  \n",
       "1   22173808          Issued  \n",
       "2   02104436          Issued  \n",
       "3   17165957          Issued  \n",
       "4                    Pending  "
      ]
     },
     "execution_count": 29,
     "metadata": {},
     "output_type": "execute_result"
    }
   ],
   "source": [
    "df_new = pd.read_csv('vape-results-all.csv', converters = {'license_no':str})\n",
    "df_new.head()"
   ]
  },
  {
   "cell_type": "code",
   "execution_count": 30,
   "metadata": {},
   "outputs": [
    {
     "data": {
      "text/plain": [
       "(32, 9)"
      ]
     },
     "execution_count": 30,
     "metadata": {},
     "output_type": "execute_result"
    }
   ],
   "source": [
    "df_new.shape"
   ]
  },
  {
   "cell_type": "code",
   "execution_count": 31,
   "metadata": {},
   "outputs": [
    {
     "data": {
      "text/plain": [
       "address_state      object\n",
       "address_street     object\n",
       "business_brand     object\n",
       "business_name      object\n",
       "county             object\n",
       "details_url        object\n",
       "license_issued     object\n",
       "license_no         object\n",
       "license_status:    object\n",
       "dtype: object"
      ]
     },
     "execution_count": 31,
     "metadata": {},
     "output_type": "execute_result"
    }
   ],
   "source": [
    "df_new.dtypes"
   ]
  }
 ],
 "metadata": {
  "kernelspec": {
   "display_name": "Python 3",
   "language": "python",
   "name": "python3"
  },
  "language_info": {
   "codemirror_mode": {
    "name": "ipython",
    "version": 3
   },
   "file_extension": ".py",
   "mimetype": "text/x-python",
   "name": "python",
   "nbconvert_exporter": "python",
   "pygments_lexer": "ipython3",
   "version": "3.6.1"
  }
 },
 "nbformat": 4,
 "nbformat_minor": 2
}
