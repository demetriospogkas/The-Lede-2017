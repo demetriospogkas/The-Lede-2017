{
 "cells": [
  {
   "cell_type": "markdown",
   "metadata": {},
   "source": [
    "# Texas Tow Trucks (`.apply` and `requests`)\n",
    "\n",
    "We're going to scrape some [tow trucks in Texas](https://www.tdlr.texas.gov/tools_search/).\n",
    "\n",
    "Try searching for the TLDR Number `006179570C`."
   ]
  },
  {
   "cell_type": "markdown",
   "metadata": {},
   "source": [
    "## Preparation\n",
    "\n",
    "> You do not need to actually search this out using BeautifulSoup, this is more for you to say \"it's a td, it isn't special, but it looks like the third td in a tr with a class\" or something"
   ]
  },
  {
   "cell_type": "markdown",
   "metadata": {},
   "source": [
    "### What is the URL you will be scraping?"
   ]
  },
  {
   "cell_type": "code",
   "execution_count": 1,
   "metadata": {
    "collapsed": true
   },
   "outputs": [],
   "source": [
    "# https://www.tdlr.texas.gov/tools_search/mccs_display.asp?mcrnumber=006179570C"
   ]
  },
  {
   "cell_type": "markdown",
   "metadata": {},
   "source": [
    "### When you search for information on a specific mine, do you need form data? If so, what is your form data going to be?"
   ]
  },
  {
   "cell_type": "code",
   "execution_count": 2,
   "metadata": {
    "collapsed": true
   },
   "outputs": [],
   "source": [
    "# Just the TDLR number on the URL\n",
    "# and Referer and Cookie headers\n",
    "# Referer: https://www.tdlr.texas.gov/tools_search/\n",
    "# Cookie: ASPSESSIONIDSCHQSRDT=IHPBKFEDPMFEAFGGINJJOLHJ"
   ]
  },
  {
   "cell_type": "markdown",
   "metadata": {},
   "source": [
    "## Scrape this page\n",
    "\n",
    "Scrape this page, displaying the\n",
    "\n",
    "- The business name\n",
    "- Phone number\n",
    "- License status\n",
    "- Physical address\n",
    "\n",
    ".\n",
    "\n",
    "- *TIP: This one isn't very fun, but I have some secret tricks. **Ask me on the board**.*"
   ]
  },
  {
   "cell_type": "code",
   "execution_count": 3,
   "metadata": {},
   "outputs": [
    {
     "data": {
      "text/plain": [
       "\n",
       "<link href=\"style.css\" rel=\"stylesheet\" type=\"text/css\"/>\n",
       "<html>\n",
       "<head><title>Towing Company Information</title></head>\n",
       "<body onload=\"scrollTo(4000,4000)\" topmargin=\"0\">\n",
       "<style media=\"screen\" type=\"text/css\">\n",
       "\tbody {\n",
       "\t\tbackground-color: #CCCCCC;\n",
       "\t\tborder-color: #000000;\n",
       "\t\tcolor: #2e2d2c;\n",
       "\t\tfont-family: Arial, Helvetica, sans-serif;\n",
       "\t\tfont-size: .9em;\n",
       "\t\tline-height: normal;\n",
       "\t\tmargin: 0 0 0 0;\n",
       "\t\tpadding: 0 0 0 0;\n",
       "\t\ttext-align: center;\n",
       "\t}\n",
       "\n",
       "\t#outerWrapper {\n",
       "\t\tposition: relative;\n",
       "\t\tbackground-color: #ffc;\n",
       "\t\tmargin: 0 auto 0 auto; \n",
       "\t\twidth: 960px;\n",
       "\t}\n",
       "\t#outerWrapper #header {\n",
       "\t\tbackground-color: #dbc9a0;\n",
       "\t\ttext-align: left; \n",
       "\t}\n",
       "\t#outerWrapper #header h1 {\n",
       "\t\tbackground-color: #fff6d9;\n",
       "\t\ttext-align: left; \n",
       "\t\tcolor: #000000;\n",
       "\t}\n",
       "\t#outerWrapper #topNavigation {\n",
       "\t\tclear: left;\n",
       "\t\tmargin: 0 0 0 0;\n",
       "\t\tline-height: 2em;\n",
       "\t\tborder-bottom: 1px solid #ccc;\n",
       "\t\tbackground-color: #FFC;\n",
       "\t\tborder-bottom: 1px solid #ccc;\n",
       "\t\tborder-top: 1px solid #ccc;\n",
       "\t}\n",
       "\t#outerWrapper #main-nav {\n",
       "\t\tbackground-color: #FFC;\n",
       "\t\tfont-family:helvetica,arial,sans-serif;\n",
       "\t\tmargin:0;\n",
       "\t\tpadding: 0px 25px 0px 20px;\n",
       "\t\tfloat:left;\n",
       "\t\t\twidth: 915px;\n",
       "\t\tfont-size: .85em;\n",
       "\t}\n",
       "\t\t\tul#main-nav li {margin:0;padding:0;list-style:none;float:left;margin:0 0.5em 0 0;}\n",
       "\t\t\tul#main-nav li a {text-decoration:none;padding:0.5em 0.5em;color:#039;}\n",
       "\t\t\tul#main-nav li a:hover {color:#33c;background:#efefef;\n",
       "\t}\n",
       "\t#outerWrapper #contentWrapper {\n",
       "\t\ttext-align: left; \n",
       "\t\toverflow: hidden;\n",
       "\t\tclear: both;\n",
       "\t}\n",
       "\t#outerWrapper #contentWrapper #content {\n",
       "\t\tposition: relative;\n",
       "\t\tbackground-color: #ffffff;\n",
       "\t\tcolor: #333333;\n",
       "\t\tfont-family: Arial, Helvetica, sans-serif;\n",
       "\t\tfont-size: 0.9em;\n",
       "\t\tline-height: normal;\n",
       "\t\tmargin: 0px;\n",
       "\t\tpadding: 1em 4em .5em 4em;\n",
       "\t}\n",
       "\t#outerWrapper #footer {\n",
       "\t\tclear: both;\n",
       "\t\tcolor: #000;\n",
       "\t\t\ttext-align: center;\n",
       "\t\tfont-family: Arial, Helvetica, sans-serif;\n",
       "\t\tfont-size: 0.9em;\n",
       "\t\theight: 20px;\n",
       "\t\tline-height: normal;\n",
       "\t\tpadding: 5px 0px 20px 0px; /* perimeter of the footer div */\n",
       "\t}\n",
       "\t#outerWrapper #footer a {\n",
       "\t\tcolor: #000;\n",
       "\t\t\ttext-align: center;\n",
       "\t\t\tfont-family: Arial, Helvetica, sans-serif;\n",
       "\t\tfont-size: .9em;\n",
       "\t\theight: 20px;\n",
       "\t\tline-height: normal;\n",
       "\t\tpadding: 5px 10px 0px 10px; /* perimeter of each individual <a ...> in footer */\n",
       "\t}\n",
       "\t\t\n",
       "\t.float_left {\n",
       "\tfloat:left;\n",
       "\t}\n",
       "\n",
       "\t.float_right {\n",
       "\tfloat:right;\n",
       "\t}\n",
       "</style>\n",
       "<a href=\"/index.htm\"><img align=\"middle\" alt=\"Texas Department of Licensing and Regulation\" border=\"0\" src=\"/images/logo-bar.gif\"/></a>\n",
       "<div id=\"outerWrapper\">\n",
       "<div id=\"contentWrapper\">\n",
       "<div id=\"content\">\n",
       "<table id=\"t1\"><tr><td>\n",
       "<html>\n",
       "<head>\n",
       "<meta content=\"Microsoft Visual Studio 6.0\" name=\"GENERATOR\"/>\n",
       "<title>\n",
       "\tMCCS_Seach Functions\n",
       "</title>\n",
       "</head></html>\n",
       "<table align=\"center\" border=\"0\" cellpadding=\"1\" cellspacing=\"0\">\n",
       "<td><font face=\"Arial\" size=\"4\"><strong><a name=\"anchor\">Company Information</a></strong></font></td>\n",
       "</table>\n",
       "<hr/>\n",
       "<br/>\n",
       "<font size=\"2\">\n",
       "<table align=\"center\" border=\"3\" bordercolor=\"black\" cellpadding=\"1\" cellspacing=\"1\" width=\"86%\">\n",
       "<tr>\n",
       "<td bgcolor=\"#FFF8DC\"><font face=\"Arial\" size=\"2\"><b>IMPORTANT</b>: A tow company is not authorized to operate any tow trucks unless both its certificate status and automobile \n",
       "\t\tliability insurance are active.  Please view the Company Information page and Company Insurance Information page to determine the status of the tow company's certificate and \n",
       "\t\tinsurance.  <b>Exception</b>: Vehicles Storage Facility operators are not required to file vehicles or automobile liability insurance with TDLR.  \n",
       "\t\tA Vehicle Storage Facility can be identified by noting the Company Type on the Company Information page.</font></td>\n",
       "</tr>\n",
       "</table>\n",
       "<br/>\n",
       "<br/>\n",
       "<hr/>\n",
       "<br/>\n",
       "<table align=\"center\" border=\"0\" cellpadding=\"0\" cellspacing=\"0\" width=\"\">\n",
       "<tr>\n",
       "<td bgcolor=\"#FFF8DC\"><font face=\"Arial\" size=\"2\"><strong>Company Information:</strong></font></td><td bgcolor=\"#FFF8DC\"><img src=\"SPACER.gif\"/></td>\n",
       "</tr>\n",
       "<tr>\n",
       "<td align=\"left\" width=\"50%\"><strong>Name:   </strong>B.D. SMITH TOWING</td>\n",
       "<td align=\"left\" nowrap=\"nowrap\" width=\"50%\"><strong>DBA:   <font color=\"red\">NO DATA</font></strong></td>\n",
       "</tr>\n",
       "<tr>\n",
       "<td align=\"left\" width=\"400\"><strong>Owner/Officer:   </strong>BRANDT SMITH                                                 / OWNER<br/></td>\n",
       "<td><img src=\"SPACER.gif\"/></td>\n",
       "</tr>\n",
       "<tr>\n",
       "<td><strong>Phone:</strong>   8173330706<br/><br/></td>\n",
       "<td><img src=\"SPACER.gif\"/></td>\n",
       "</tr>\n",
       "</table>\n",
       "<table align=\"center\" border=\"1\" cellpadding=\"1\" cellspacing=\"0\" width=\"96%\">\n",
       "<tr>\n",
       "<td bgcolor=\"#FFF8DC\"><strong>Certificate Information:</strong></td>\n",
       "<td bgcolor=\"#FFF8DC\"><strong>Status:</strong>  <font color=\"green\"><font color=\"green\">Active</font></font></td>\n",
       "</tr>\n",
       "<tr>\n",
       "<td nowrap=\"nowrap\"><strong>Number:  </strong><font color=\"green\"><b>006179570C</b> (<font color=\"green\">Active</font>)</font></td>\n",
       "<td nowrap=\"nowrap\"><strong>Carrier Type:</strong>  Tow Truck Company\n",
       "    <br>\n",
       "<b>Number of Active Tow Trucks:</b>   0\n",
       "            <br/><br/>\n",
       "<strong>Address Information</strong><br/>\n",
       "<strong>Mailing:</strong><br/>\n",
       "\n",
       "13619 BRETT JACKSON RD <br/>\n",
       "\t\t\t    FORT WORTH, TX. 76179\n",
       "            <br/><br/>\n",
       "<strong>Physical:</strong><br/>\n",
       "\n",
       "13619 BRETT JACKSON RD.<br/>\n",
       "\t\t\t    FORT WORTH, TX. 76179\n",
       "        </br></td>\n",
       "</tr>\n",
       "</table>\n",
       "</font></td></tr></table>\n",
       "<form action=\"mccs_information_display.asp#anchor\" method=\"post\" name=\"typeinfo\">\n",
       "<table border=\"0\" cellpadding=\"0\" cellspacing=\"0\">\n",
       "<td bgcolor=\"#FFF8DC\" colspan=\"6\"><strong>View Company Information By:</strong><br/></td>\n",
       "<tr>\n",
       "<td><input name=\"infotype\" type=\"radio\" value=\"Activity\"/>Activity</td>\n",
       "<td><input name=\"infotype\" type=\"radio\" value=\"Insurance\"/>Insurance</td>\n",
       "<td><input name=\"infotype\" type=\"radio\" value=\"Vehicle\"/>Vehicle</td>\n",
       "<td><input checked=\"\" name=\"infotype\" type=\"radio\" value=\"Carrier\"/>Company Information</td>\n",
       "<!--<td><img src=\"SPACER.gif\"></td> ''by Tao, to show the following message instead. 11-16-2009-->\n",
       "<td>  <font color=\"maroon\">No Tow Fee Schedule on file</font> </td>\n",
       "<td><button id=\"submit3\" name=\"proc\" type=\"submit\"> Go </button></td>\n",
       "</tr>\n",
       "</table>\n",
       "<hr/>\n",
       "<table border=\"0\" cellpadding=\"1\" cellspacing=\"0\" width=\"86%\">\n",
       "<tr>\n",
       "<td align=\"left\" width=\"50%\"><a href=\"mccs_search.asp\"><strong>New Search</strong></a></td>\n",
       "<td align=\"right\" width=\"50%\"><a href=\"#top\"><strong>Top of Page</strong></a>\n",
       "</td></tr>\n",
       "</table>\n",
       "<hr/>\n",
       "<br>\n",
       "</br></form></div> <!-- content -->\n",
       "</div> <!-- contentWrapper -->\n",
       "<div id=\"footer\">\n",
       "<a href=\"/disclaimer.htm\" target=\"_blank\">Privacy and Security Policy</a> | <a href=\"/disclaimer.htm#access\" target=\"_blank\">Accessibility</a> | <a href=\"/disclaimer.htm#PublicInfoPolicy\" target=\"_blank\">Open Records Policy</a> | <a href=\"/disclaimer.htm#link\" target=\"_blank\">Link Policy</a> | <a href=\"/compact.htm\" target=\"_blank\">Compact with Texans</a><br>\n",
       "<a href=\"http://www.texas.gov/en/Pages/default.aspx\" target=\"_blank\">Texas.gov</a> | <a href=\"http://www2.tsl.state.tx.us/trail/\" target=\"_blank\">TRAIL Search</a> | <a href=\"http://www.texashomelandsecurity.com/\" target=\"_blank\">Texas Homeland Security</a> | <a href=\"/links.htm\" target=\"_blank\">Links</a> | <a href=\"http://www.window.state.tx.us/wherethemoneygoes\" target=\"_blank\">Where the Money Goes</a>\n",
       "</br></div> <!-- footer -->\n",
       "</div> <!-- outerWrapper -->\n",
       "</body>\n",
       "</html>"
      ]
     },
     "execution_count": 3,
     "metadata": {},
     "output_type": "execute_result"
    }
   ],
   "source": [
    "# Look out for expired cookie\n",
    "import requests\n",
    "from bs4 import BeautifulSoup\n",
    "\n",
    "url = 'https://www.tdlr.texas.gov/tools_search/mccs_display.asp?mcrnumber=006179570C'\n",
    "headers = {\n",
    "    'Referer' : 'https://www.tdlr.texas.gov/tools_search/',\n",
    "    'Cookie' : 'ASPSESSIONIDSCHQSRDT=MADCKFEDLJJKHEIBKMBGICEO'\n",
    "}\n",
    "\n",
    "response = requests.post(url, headers = headers)\n",
    "doc = BeautifulSoup(response.text, 'html.parser')\n",
    "doc"
   ]
  },
  {
   "cell_type": "code",
   "execution_count": 4,
   "metadata": {},
   "outputs": [
    {
     "name": "stdout",
     "output_type": "stream",
     "text": [
      "B.D. Smith Towing\n",
      "8173330706\n",
      "Active\n",
      "13619 Brett Jackson Rd. Fort Worth, Tx. 76179\n"
     ]
    }
   ],
   "source": [
    "tds = doc.find_all('td')\n",
    "for td in tds:\n",
    "    try:\n",
    "        # The business name\n",
    "        if td.strong.string.strip() == 'Name:':\n",
    "            business_name = td.strong.next.next.string.strip().title()\n",
    "        # Phone Number\n",
    "        if td.strong.string.strip() == 'Phone:':\n",
    "            phone_number = td.strong.next.next.string.strip() \n",
    "        # License status\n",
    "        if td.strong.string.strip() == 'Status:':\n",
    "            license_status = td.font.next.next.string.strip()\n",
    "        # Physical address\n",
    "        strongs = td.find_all('strong')\n",
    "        for strong in strongs:\n",
    "            if strong.string.strip() == 'Physical:':\n",
    "                street = strong.next.next.next\n",
    "                state = street.next.next\n",
    "    except:\n",
    "        pass\n",
    "print(business_name)\n",
    "print(phone_number)\n",
    "print(license_status)\n",
    "print(street.strip().title(), state.strip().title())"
   ]
  },
  {
   "cell_type": "markdown",
   "metadata": {},
   "source": [
    "# Using .apply to find data about SEVERAL tow truck companies\n",
    "\n",
    "The file `trucks-subset.csv` has information about the trucks, we'll use it to find the pages to scrape.\n",
    "\n",
    "### Open up `trucks-subset.csv` and save it into a dataframe"
   ]
  },
  {
   "cell_type": "code",
   "execution_count": 5,
   "metadata": {},
   "outputs": [
    {
     "data": {
      "text/html": [
       "<div>\n",
       "<style>\n",
       "    .dataframe thead tr:only-child th {\n",
       "        text-align: right;\n",
       "    }\n",
       "\n",
       "    .dataframe thead th {\n",
       "        text-align: left;\n",
       "    }\n",
       "\n",
       "    .dataframe tbody tr th {\n",
       "        vertical-align: top;\n",
       "    }\n",
       "</style>\n",
       "<table border=\"1\" class=\"dataframe\">\n",
       "  <thead>\n",
       "    <tr style=\"text-align: right;\">\n",
       "      <th></th>\n",
       "      <th>TDLR Number</th>\n",
       "    </tr>\n",
       "  </thead>\n",
       "  <tbody>\n",
       "    <tr>\n",
       "      <th>0</th>\n",
       "      <td>006507931C</td>\n",
       "    </tr>\n",
       "    <tr>\n",
       "      <th>1</th>\n",
       "      <td>006179570C</td>\n",
       "    </tr>\n",
       "    <tr>\n",
       "      <th>2</th>\n",
       "      <td>006502097C</td>\n",
       "    </tr>\n",
       "  </tbody>\n",
       "</table>\n",
       "</div>"
      ],
      "text/plain": [
       "  TDLR Number\n",
       "0  006507931C\n",
       "1  006179570C\n",
       "2  006502097C"
      ]
     },
     "execution_count": 5,
     "metadata": {},
     "output_type": "execute_result"
    }
   ],
   "source": [
    "import pandas as pd\n",
    "trucks_subs = pd.read_csv('trucks-subset.csv')\n",
    "trucks_subs"
   ]
  },
  {
   "cell_type": "markdown",
   "metadata": {},
   "source": [
    "### Open up `trucks-subset.csv` in a text editor, then look at your dataframe. Is something different about them? If so, make them match.\n",
    "\n",
    "- *TIP: I can help with this.*"
   ]
  },
  {
   "cell_type": "code",
   "execution_count": 6,
   "metadata": {},
   "outputs": [
    {
     "data": {
      "text/html": [
       "<div>\n",
       "<style>\n",
       "    .dataframe thead tr:only-child th {\n",
       "        text-align: right;\n",
       "    }\n",
       "\n",
       "    .dataframe thead th {\n",
       "        text-align: left;\n",
       "    }\n",
       "\n",
       "    .dataframe tbody tr th {\n",
       "        vertical-align: top;\n",
       "    }\n",
       "</style>\n",
       "<table border=\"1\" class=\"dataframe\">\n",
       "  <thead>\n",
       "    <tr style=\"text-align: right;\">\n",
       "      <th></th>\n",
       "      <th>TDLR Number</th>\n",
       "    </tr>\n",
       "  </thead>\n",
       "  <tbody>\n",
       "    <tr>\n",
       "      <th>0</th>\n",
       "      <td>006507931C</td>\n",
       "    </tr>\n",
       "    <tr>\n",
       "      <th>1</th>\n",
       "      <td>006179570C</td>\n",
       "    </tr>\n",
       "    <tr>\n",
       "      <th>2</th>\n",
       "      <td>006502097C</td>\n",
       "    </tr>\n",
       "  </tbody>\n",
       "</table>\n",
       "</div>"
      ],
      "text/plain": [
       "  TDLR Number\n",
       "0  006507931C\n",
       "1  006179570C\n",
       "2  006502097C"
      ]
     },
     "execution_count": 6,
     "metadata": {},
     "output_type": "execute_result"
    }
   ],
   "source": [
    "trucks_subs = pd.read_csv('trucks-subset.csv', converters = {'TDLR Number':str})\n",
    "trucks_subs"
   ]
  },
  {
   "cell_type": "markdown",
   "metadata": {},
   "source": [
    "## Go through each row of the dataset, printing out the URL you will need to scrape for the information on that row\n",
    "\n",
    "For example, `https://www.tdlr.texas.gov/tools_search/mccs_display.asp?mcrnumber=006507931C`.\n",
    "\n",
    "- *TIP: use .apply and a function*\n",
    "- *TIP: If you need help with .apply, look at the \"Using apply in pandas\" notebook *"
   ]
  },
  {
   "cell_type": "code",
   "execution_count": 7,
   "metadata": {},
   "outputs": [
    {
     "name": "stdout",
     "output_type": "stream",
     "text": [
      "https://www.tdlr.texas.gov/tools_search/mccs_display.asp?mcrnumber=006507931C\n",
      "https://www.tdlr.texas.gov/tools_search/mccs_display.asp?mcrnumber=006179570C\n",
      "https://www.tdlr.texas.gov/tools_search/mccs_display.asp?mcrnumber=006502097C\n"
     ]
    },
    {
     "data": {
      "text/plain": [
       "0    None\n",
       "1    None\n",
       "2    None\n",
       "dtype: object"
      ]
     },
     "execution_count": 7,
     "metadata": {},
     "output_type": "execute_result"
    }
   ],
   "source": [
    "def urls_to_scrape(row):\n",
    "    truck_url = 'https://www.tdlr.texas.gov/tools_search/mccs_display.asp?mcrnumber='+row['TDLR Number']\n",
    "    print(truck_url)\n",
    "\n",
    "trucks_subs.apply(urls_to_scrape, axis=1)"
   ]
  },
  {
   "cell_type": "markdown",
   "metadata": {},
   "source": [
    "### Save this URL into a new column of your dataframe\n",
    "\n",
    "- *TIP: Use a function and `.apply`*\n",
    "- *TIP: Be sure to use `return`*"
   ]
  },
  {
   "cell_type": "code",
   "execution_count": 8,
   "metadata": {},
   "outputs": [
    {
     "data": {
      "text/html": [
       "<div>\n",
       "<style>\n",
       "    .dataframe thead tr:only-child th {\n",
       "        text-align: right;\n",
       "    }\n",
       "\n",
       "    .dataframe thead th {\n",
       "        text-align: left;\n",
       "    }\n",
       "\n",
       "    .dataframe tbody tr th {\n",
       "        vertical-align: top;\n",
       "    }\n",
       "</style>\n",
       "<table border=\"1\" class=\"dataframe\">\n",
       "  <thead>\n",
       "    <tr style=\"text-align: right;\">\n",
       "      <th></th>\n",
       "      <th>truck_url</th>\n",
       "      <th>TDLR Number</th>\n",
       "    </tr>\n",
       "  </thead>\n",
       "  <tbody>\n",
       "    <tr>\n",
       "      <th>0</th>\n",
       "      <td>https://www.tdlr.texas.gov/tools_search/mccs_d...</td>\n",
       "      <td>006507931C</td>\n",
       "    </tr>\n",
       "    <tr>\n",
       "      <th>1</th>\n",
       "      <td>https://www.tdlr.texas.gov/tools_search/mccs_d...</td>\n",
       "      <td>006179570C</td>\n",
       "    </tr>\n",
       "    <tr>\n",
       "      <th>2</th>\n",
       "      <td>https://www.tdlr.texas.gov/tools_search/mccs_d...</td>\n",
       "      <td>006502097C</td>\n",
       "    </tr>\n",
       "  </tbody>\n",
       "</table>\n",
       "</div>"
      ],
      "text/plain": [
       "                                           truck_url TDLR Number\n",
       "0  https://www.tdlr.texas.gov/tools_search/mccs_d...  006507931C\n",
       "1  https://www.tdlr.texas.gov/tools_search/mccs_d...  006179570C\n",
       "2  https://www.tdlr.texas.gov/tools_search/mccs_d...  006502097C"
      ]
     },
     "execution_count": 8,
     "metadata": {},
     "output_type": "execute_result"
    }
   ],
   "source": [
    "def urls_to_scrape(row):\n",
    "    truck_url = 'https://www.tdlr.texas.gov/tools_search/mccs_display.asp?mcrnumber=' + row['TDLR Number']\n",
    "    return pd.Series ({\n",
    "        'truck_url' : truck_url\n",
    "    })\n",
    "\n",
    "df_trucks_subs = trucks_subs.apply(urls_to_scrape, axis=1).join(trucks_subs)\n",
    "df_trucks_subs"
   ]
  },
  {
   "cell_type": "markdown",
   "metadata": {},
   "source": [
    "## Go through each row of the dataset, printing out information about each tow truck company.\n",
    "\n",
    "Now will be **scraping** inside of your function.\n",
    "\n",
    "- The business name\n",
    "- Phone number\n",
    "- License status\n",
    "- Physical address\n",
    "\n",
    "Just print it out for now.\n",
    "\n",
    "- *TIP: use .apply and a function*\n",
    "- *TIP: If you need help with .apply, look at the \"Using apply in pandas\" notebook *"
   ]
  },
  {
   "cell_type": "code",
   "execution_count": 9,
   "metadata": {},
   "outputs": [
    {
     "name": "stdout",
     "output_type": "stream",
     "text": [
      "Augustus E Smith\n",
      "9032276464\n",
      "Active\n",
      "103 N Main St Bonham, Tx. 75418\n",
      "------\n",
      "B.D. Smith Towing\n",
      "8173330706\n",
      "Active\n",
      "13619 Brett Jackson Rd. Fort Worth, Tx. 76179\n",
      "------\n",
      "Barry Michael Smith\n",
      "8066544404\n",
      "Active\n",
      "4501 W Cemetery Rd Canyon, Tx. 79015\n",
      "------\n"
     ]
    },
    {
     "data": {
      "text/plain": [
       "0    None\n",
       "1    None\n",
       "2    None\n",
       "dtype: object"
      ]
     },
     "execution_count": 9,
     "metadata": {},
     "output_type": "execute_result"
    }
   ],
   "source": [
    "# Look out for expired cookie\n",
    "\n",
    "import requests\n",
    "from bs4 import BeautifulSoup\n",
    "\n",
    "def scrape_trucks(row):\n",
    "    url_trucks = row['truck_url']\n",
    "    headers_trucks = {\n",
    "        'Referer' : 'https://www.tdlr.texas.gov/tools_search/',\n",
    "        'Cookie' : 'ASPSESSIONIDSCHQSRDT=MADCKFEDLJJKHEIBKMBGICEO'\n",
    "    }\n",
    "    response_trucks = requests.post(url_trucks, headers = headers_trucks)\n",
    "    doc_trucks = BeautifulSoup(response_trucks.text, 'html.parser')\n",
    "\n",
    "    tds = doc_trucks.find_all('td')\n",
    "    for td in tds:\n",
    "        try:\n",
    "            # The business name\n",
    "            if td.strong.string.strip() == 'Name:':\n",
    "                business_name = td.strong.next.next.string.strip().title()\n",
    "            # Phone Number\n",
    "            if td.strong.string.strip() == 'Phone:':\n",
    "                phone_number = td.strong.next.next.string.strip()\n",
    "            # License status\n",
    "            if td.strong.string.strip() == 'Status:':\n",
    "                license_status = td.font.next.next.string.strip()\n",
    "            # Physical address\n",
    "            strongs = td.find_all('strong')\n",
    "            for strong in strongs:\n",
    "                if strong.string.strip() == 'Physical:':\n",
    "                            street = strong.next.next.next\n",
    "                            state = street.next.next\n",
    "                            street = street.strip().title()\n",
    "                            state = state.strip().title()\n",
    "        except:\n",
    "            pass\n",
    "    print(business_name)\n",
    "    print(phone_number)\n",
    "    print(license_status)\n",
    "    print(street, state)\n",
    "    print('------')\n",
    "    \n",
    "\n",
    "df_trucks_subs.apply(scrape_trucks, axis = 1)"
   ]
  },
  {
   "cell_type": "markdown",
   "metadata": {},
   "source": [
    "## Scrape the following information for each row of the dataset, and save it into new columns in your dataframe.\n",
    "\n",
    "- The business name\n",
    "- Phone number\n",
    "- License status\n",
    "- Physical address\n",
    "\n",
    "It's basically what we did before, but using the function a little differently.\n",
    "\n",
    "- *TIP: Use .apply and a function*\n",
    "- *TIP: Remember to use `return`*"
   ]
  },
  {
   "cell_type": "code",
   "execution_count": 10,
   "metadata": {
    "collapsed": true
   },
   "outputs": [],
   "source": [
    "# Look out for expired cookie\n",
    "\n",
    "import requests\n",
    "from bs4 import BeautifulSoup\n",
    "import re\n",
    "\n",
    "def scrape_trucks(row):\n",
    "    url_trucks = row['truck_url']\n",
    "    headers_trucks = {\n",
    "        'Referer' : 'https://www.tdlr.texas.gov/tools_search/',\n",
    "        'Cookie' : 'ASPSESSIONIDSCHQSRDT=MADCKFEDLJJKHEIBKMBGICEO'\n",
    "    }\n",
    "    response_trucks = requests.post(url_trucks, headers = headers_trucks)\n",
    "    doc_trucks = BeautifulSoup(response_trucks.text, 'html.parser')\n",
    "\n",
    "    tds = doc_trucks.find_all('td')\n",
    "    for td in tds:\n",
    "        try:\n",
    "            # The business name\n",
    "            if td.strong.string.strip() == 'Name:':\n",
    "                business_name = td.strong.next.next.string.strip().title()\n",
    "            # Phone Number\n",
    "            if td.strong.string.strip() == 'Phone:':\n",
    "                phone_number = td.strong.next.next.string.strip()\n",
    "            # License status\n",
    "            if td.strong.string.strip() == 'Status:':\n",
    "                license_status = td.font.next.next.string.strip()\n",
    "            # Physical address\n",
    "            strongs = td.find_all('strong')\n",
    "            for strong in strongs:\n",
    "                if strong.string.strip() == 'Physical:':\n",
    "                            street = strong.next.next.next\n",
    "                            state = street.next.next\n",
    "                            street = street.strip().title()\n",
    "                            state = state.strip().title()\n",
    "        except:\n",
    "            pass\n",
    "        \n",
    "    return pd.Series({\n",
    "        'business_name':business_name,\n",
    "        'phone_number':phone_number,\n",
    "        'license_status':license_status,\n",
    "        'physical_address': street + ', '+ state\n",
    "    })\n",
    "    \n",
    "\n",
    "df_trucks_subs = df_trucks_subs.apply(scrape_trucks, axis = 1).join(df_trucks_subs)"
   ]
  },
  {
   "cell_type": "code",
   "execution_count": 11,
   "metadata": {},
   "outputs": [
    {
     "data": {
      "text/html": [
       "<div>\n",
       "<style>\n",
       "    .dataframe thead tr:only-child th {\n",
       "        text-align: right;\n",
       "    }\n",
       "\n",
       "    .dataframe thead th {\n",
       "        text-align: left;\n",
       "    }\n",
       "\n",
       "    .dataframe tbody tr th {\n",
       "        vertical-align: top;\n",
       "    }\n",
       "</style>\n",
       "<table border=\"1\" class=\"dataframe\">\n",
       "  <thead>\n",
       "    <tr style=\"text-align: right;\">\n",
       "      <th></th>\n",
       "      <th>business_name</th>\n",
       "      <th>license_status</th>\n",
       "      <th>phone_number</th>\n",
       "      <th>physical_address</th>\n",
       "      <th>truck_url</th>\n",
       "      <th>TDLR Number</th>\n",
       "    </tr>\n",
       "  </thead>\n",
       "  <tbody>\n",
       "    <tr>\n",
       "      <th>0</th>\n",
       "      <td>Augustus E Smith</td>\n",
       "      <td>Active</td>\n",
       "      <td>9032276464</td>\n",
       "      <td>103 N Main St, Bonham, Tx. 75418</td>\n",
       "      <td>https://www.tdlr.texas.gov/tools_search/mccs_d...</td>\n",
       "      <td>006507931C</td>\n",
       "    </tr>\n",
       "    <tr>\n",
       "      <th>1</th>\n",
       "      <td>B.D. Smith Towing</td>\n",
       "      <td>Active</td>\n",
       "      <td>8173330706</td>\n",
       "      <td>13619 Brett Jackson Rd., Fort Worth, Tx. 76179</td>\n",
       "      <td>https://www.tdlr.texas.gov/tools_search/mccs_d...</td>\n",
       "      <td>006179570C</td>\n",
       "    </tr>\n",
       "    <tr>\n",
       "      <th>2</th>\n",
       "      <td>Barry Michael Smith</td>\n",
       "      <td>Active</td>\n",
       "      <td>8066544404</td>\n",
       "      <td>4501 W Cemetery Rd, Canyon, Tx. 79015</td>\n",
       "      <td>https://www.tdlr.texas.gov/tools_search/mccs_d...</td>\n",
       "      <td>006502097C</td>\n",
       "    </tr>\n",
       "  </tbody>\n",
       "</table>\n",
       "</div>"
      ],
      "text/plain": [
       "         business_name license_status phone_number  \\\n",
       "0     Augustus E Smith         Active   9032276464   \n",
       "1    B.D. Smith Towing         Active   8173330706   \n",
       "2  Barry Michael Smith         Active   8066544404   \n",
       "\n",
       "                                 physical_address  \\\n",
       "0                103 N Main St, Bonham, Tx. 75418   \n",
       "1  13619 Brett Jackson Rd., Fort Worth, Tx. 76179   \n",
       "2           4501 W Cemetery Rd, Canyon, Tx. 79015   \n",
       "\n",
       "                                           truck_url TDLR Number  \n",
       "0  https://www.tdlr.texas.gov/tools_search/mccs_d...  006507931C  \n",
       "1  https://www.tdlr.texas.gov/tools_search/mccs_d...  006179570C  \n",
       "2  https://www.tdlr.texas.gov/tools_search/mccs_d...  006502097C  "
      ]
     },
     "execution_count": 11,
     "metadata": {},
     "output_type": "execute_result"
    }
   ],
   "source": [
    "df_trucks_subs"
   ]
  },
  {
   "cell_type": "markdown",
   "metadata": {},
   "source": [
    "### Save your dataframe as a CSV"
   ]
  },
  {
   "cell_type": "code",
   "execution_count": 12,
   "metadata": {
    "collapsed": true
   },
   "outputs": [],
   "source": [
    "df_trucks_subs.to_csv('trucks-subset-requests.csv', index = False)"
   ]
  },
  {
   "cell_type": "markdown",
   "metadata": {},
   "source": [
    "### Re-open your dataframe to confirm you didn't save any extra weird columns"
   ]
  },
  {
   "cell_type": "code",
   "execution_count": 13,
   "metadata": {},
   "outputs": [
    {
     "data": {
      "text/html": [
       "<div>\n",
       "<style>\n",
       "    .dataframe thead tr:only-child th {\n",
       "        text-align: right;\n",
       "    }\n",
       "\n",
       "    .dataframe thead th {\n",
       "        text-align: left;\n",
       "    }\n",
       "\n",
       "    .dataframe tbody tr th {\n",
       "        vertical-align: top;\n",
       "    }\n",
       "</style>\n",
       "<table border=\"1\" class=\"dataframe\">\n",
       "  <thead>\n",
       "    <tr style=\"text-align: right;\">\n",
       "      <th></th>\n",
       "      <th>business_name</th>\n",
       "      <th>license_status</th>\n",
       "      <th>phone_number</th>\n",
       "      <th>physical_address</th>\n",
       "      <th>truck_url</th>\n",
       "      <th>TDLR Number</th>\n",
       "    </tr>\n",
       "  </thead>\n",
       "  <tbody>\n",
       "    <tr>\n",
       "      <th>0</th>\n",
       "      <td>Augustus E Smith</td>\n",
       "      <td>Active</td>\n",
       "      <td>9032276464</td>\n",
       "      <td>103 N Main St, Bonham, Tx. 75418</td>\n",
       "      <td>https://www.tdlr.texas.gov/tools_search/mccs_d...</td>\n",
       "      <td>006507931C</td>\n",
       "    </tr>\n",
       "    <tr>\n",
       "      <th>1</th>\n",
       "      <td>B.D. Smith Towing</td>\n",
       "      <td>Active</td>\n",
       "      <td>8173330706</td>\n",
       "      <td>13619 Brett Jackson Rd., Fort Worth, Tx. 76179</td>\n",
       "      <td>https://www.tdlr.texas.gov/tools_search/mccs_d...</td>\n",
       "      <td>006179570C</td>\n",
       "    </tr>\n",
       "    <tr>\n",
       "      <th>2</th>\n",
       "      <td>Barry Michael Smith</td>\n",
       "      <td>Active</td>\n",
       "      <td>8066544404</td>\n",
       "      <td>4501 W Cemetery Rd, Canyon, Tx. 79015</td>\n",
       "      <td>https://www.tdlr.texas.gov/tools_search/mccs_d...</td>\n",
       "      <td>006502097C</td>\n",
       "    </tr>\n",
       "  </tbody>\n",
       "</table>\n",
       "</div>"
      ],
      "text/plain": [
       "         business_name license_status  phone_number  \\\n",
       "0     Augustus E Smith         Active    9032276464   \n",
       "1    B.D. Smith Towing         Active    8173330706   \n",
       "2  Barry Michael Smith         Active    8066544404   \n",
       "\n",
       "                                 physical_address  \\\n",
       "0                103 N Main St, Bonham, Tx. 75418   \n",
       "1  13619 Brett Jackson Rd., Fort Worth, Tx. 76179   \n",
       "2           4501 W Cemetery Rd, Canyon, Tx. 79015   \n",
       "\n",
       "                                           truck_url TDLR Number  \n",
       "0  https://www.tdlr.texas.gov/tools_search/mccs_d...  006507931C  \n",
       "1  https://www.tdlr.texas.gov/tools_search/mccs_d...  006179570C  \n",
       "2  https://www.tdlr.texas.gov/tools_search/mccs_d...  006502097C  "
      ]
     },
     "execution_count": 13,
     "metadata": {},
     "output_type": "execute_result"
    }
   ],
   "source": [
    "pd.read_csv('trucks-subset-requests.csv')"
   ]
  },
  {
   "cell_type": "markdown",
   "metadata": {},
   "source": [
    "## Repeat this process for the entire `tow-trucks.csv` file"
   ]
  },
  {
   "cell_type": "code",
   "execution_count": 14,
   "metadata": {},
   "outputs": [
    {
     "data": {
      "text/html": [
       "<div>\n",
       "<style>\n",
       "    .dataframe thead tr:only-child th {\n",
       "        text-align: right;\n",
       "    }\n",
       "\n",
       "    .dataframe thead th {\n",
       "        text-align: left;\n",
       "    }\n",
       "\n",
       "    .dataframe tbody tr th {\n",
       "        vertical-align: top;\n",
       "    }\n",
       "</style>\n",
       "<table border=\"1\" class=\"dataframe\">\n",
       "  <thead>\n",
       "    <tr style=\"text-align: right;\">\n",
       "      <th></th>\n",
       "      <th>TDLR Number</th>\n",
       "    </tr>\n",
       "  </thead>\n",
       "  <tbody>\n",
       "    <tr>\n",
       "      <th>0</th>\n",
       "      <td>006507931C</td>\n",
       "    </tr>\n",
       "    <tr>\n",
       "      <th>1</th>\n",
       "      <td>006179570C</td>\n",
       "    </tr>\n",
       "    <tr>\n",
       "      <th>2</th>\n",
       "      <td>006502097C</td>\n",
       "    </tr>\n",
       "    <tr>\n",
       "      <th>3</th>\n",
       "      <td>006494912C</td>\n",
       "    </tr>\n",
       "    <tr>\n",
       "      <th>4</th>\n",
       "      <td>0649468VSF</td>\n",
       "    </tr>\n",
       "  </tbody>\n",
       "</table>\n",
       "</div>"
      ],
      "text/plain": [
       "  TDLR Number\n",
       "0  006507931C\n",
       "1  006179570C\n",
       "2  006502097C\n",
       "3  006494912C\n",
       "4  0649468VSF"
      ]
     },
     "execution_count": 14,
     "metadata": {},
     "output_type": "execute_result"
    }
   ],
   "source": [
    "tow_trucks = pd.read_csv('tow-trucks.csv')\n",
    "tow_trucks.head()"
   ]
  },
  {
   "cell_type": "code",
   "execution_count": 15,
   "metadata": {},
   "outputs": [
    {
     "data": {
      "text/plain": [
       "(20, 1)"
      ]
     },
     "execution_count": 15,
     "metadata": {},
     "output_type": "execute_result"
    }
   ],
   "source": [
    "tow_trucks.shape"
   ]
  },
  {
   "cell_type": "code",
   "execution_count": 16,
   "metadata": {},
   "outputs": [
    {
     "data": {
      "text/html": [
       "<div>\n",
       "<style>\n",
       "    .dataframe thead tr:only-child th {\n",
       "        text-align: right;\n",
       "    }\n",
       "\n",
       "    .dataframe thead th {\n",
       "        text-align: left;\n",
       "    }\n",
       "\n",
       "    .dataframe tbody tr th {\n",
       "        vertical-align: top;\n",
       "    }\n",
       "</style>\n",
       "<table border=\"1\" class=\"dataframe\">\n",
       "  <thead>\n",
       "    <tr style=\"text-align: right;\">\n",
       "      <th></th>\n",
       "      <th>business_name</th>\n",
       "      <th>license_status</th>\n",
       "      <th>phone_number</th>\n",
       "      <th>physical_address</th>\n",
       "      <th>truck_url</th>\n",
       "      <th>TDLR Number</th>\n",
       "    </tr>\n",
       "  </thead>\n",
       "  <tbody>\n",
       "    <tr>\n",
       "      <th>0</th>\n",
       "      <td>Augustus E Smith</td>\n",
       "      <td>Active</td>\n",
       "      <td>9032276464</td>\n",
       "      <td>103 N Main St, Bonham, Tx. 75418</td>\n",
       "      <td>https://www.tdlr.texas.gov/tools_search/mccs_d...</td>\n",
       "      <td>006507931C</td>\n",
       "    </tr>\n",
       "    <tr>\n",
       "      <th>1</th>\n",
       "      <td>B.D. Smith Towing</td>\n",
       "      <td>Active</td>\n",
       "      <td>8173330706</td>\n",
       "      <td>13619 Brett Jackson Rd., Fort Worth, Tx. 76179</td>\n",
       "      <td>https://www.tdlr.texas.gov/tools_search/mccs_d...</td>\n",
       "      <td>006179570C</td>\n",
       "    </tr>\n",
       "    <tr>\n",
       "      <th>2</th>\n",
       "      <td>Barry Michael Smith</td>\n",
       "      <td>Active</td>\n",
       "      <td>8066544404</td>\n",
       "      <td>4501 W Cemetery Rd, Canyon, Tx. 79015</td>\n",
       "      <td>https://www.tdlr.texas.gov/tools_search/mccs_d...</td>\n",
       "      <td>006502097C</td>\n",
       "    </tr>\n",
       "    <tr>\n",
       "      <th>3</th>\n",
       "      <td>Heath Smith</td>\n",
       "      <td>Expired</td>\n",
       "      <td>940-552-0687</td>\n",
       "      <td>1529  Wilbarger St, Vernon, Tx. 76384</td>\n",
       "      <td>https://www.tdlr.texas.gov/tools_search/mccs_d...</td>\n",
       "      <td>006494912C</td>\n",
       "    </tr>\n",
       "    <tr>\n",
       "      <th>4</th>\n",
       "      <td>Heath Smith</td>\n",
       "      <td>Expired</td>\n",
       "      <td>9405520687</td>\n",
       "      <td>1529  Wilbarger St, Vernon, Tx. 76384</td>\n",
       "      <td>https://www.tdlr.texas.gov/tools_search/mccs_d...</td>\n",
       "      <td>0649468VSF</td>\n",
       "    </tr>\n",
       "  </tbody>\n",
       "</table>\n",
       "</div>"
      ],
      "text/plain": [
       "         business_name license_status  phone_number  \\\n",
       "0     Augustus E Smith         Active    9032276464   \n",
       "1    B.D. Smith Towing         Active    8173330706   \n",
       "2  Barry Michael Smith         Active    8066544404   \n",
       "3          Heath Smith        Expired  940-552-0687   \n",
       "4          Heath Smith        Expired    9405520687   \n",
       "\n",
       "                                 physical_address  \\\n",
       "0                103 N Main St, Bonham, Tx. 75418   \n",
       "1  13619 Brett Jackson Rd., Fort Worth, Tx. 76179   \n",
       "2           4501 W Cemetery Rd, Canyon, Tx. 79015   \n",
       "3           1529  Wilbarger St, Vernon, Tx. 76384   \n",
       "4           1529  Wilbarger St, Vernon, Tx. 76384   \n",
       "\n",
       "                                           truck_url TDLR Number  \n",
       "0  https://www.tdlr.texas.gov/tools_search/mccs_d...  006507931C  \n",
       "1  https://www.tdlr.texas.gov/tools_search/mccs_d...  006179570C  \n",
       "2  https://www.tdlr.texas.gov/tools_search/mccs_d...  006502097C  \n",
       "3  https://www.tdlr.texas.gov/tools_search/mccs_d...  006494912C  \n",
       "4  https://www.tdlr.texas.gov/tools_search/mccs_d...  0649468VSF  "
      ]
     },
     "execution_count": 16,
     "metadata": {},
     "output_type": "execute_result"
    }
   ],
   "source": [
    "# Look out for expired cookie\n",
    "\n",
    "import requests\n",
    "from bs4 import BeautifulSoup\n",
    "import re\n",
    "\n",
    "def urls_to_scrape(row):\n",
    "    truck_url = 'https://www.tdlr.texas.gov/tools_search/mccs_display.asp?mcrnumber=' + row['TDLR Number']\n",
    "    return pd.Series ({\n",
    "        'truck_url' : truck_url\n",
    "    })\n",
    "\n",
    "\n",
    "\n",
    "def scrape_trucks(row):\n",
    "    url_trucks = row['truck_url']\n",
    "    headers_trucks = {\n",
    "        'Referer' : 'https://www.tdlr.texas.gov/tools_search/',\n",
    "        'Cookie' : 'ASPSESSIONIDSCHQSRDT=MADCKFEDLJJKHEIBKMBGICEO'\n",
    "    }\n",
    "    response_trucks = requests.post(url_trucks, headers = headers_trucks)\n",
    "    doc_trucks = BeautifulSoup(response_trucks.text, 'html.parser')\n",
    "\n",
    "    tds = doc_trucks.find_all('td')\n",
    "    for td in tds:\n",
    "        try:\n",
    "            # The business name\n",
    "            if td.strong.string.strip() == 'Name:':\n",
    "                business_name = td.strong.next.next.string.strip().title()\n",
    "            # Phone Number\n",
    "            if td.strong.string.strip() == 'Phone:':\n",
    "                phone_number = td.strong.next.next.string.strip()\n",
    "            # License status\n",
    "            if td.strong.string.strip() == 'Status:':\n",
    "                if td.font.next.next.string.strip():\n",
    "                    license_status = 'Active'\n",
    "                else:\n",
    "                    license_status = 'Expired'\n",
    "            # Physical address\n",
    "            strongs = td.find_all('strong')\n",
    "            for strong in strongs:\n",
    "                if strong.string.strip() == 'Physical:':\n",
    "                            street = strong.next.next.next\n",
    "                            state = street.next.next\n",
    "                            street = street.strip().title()\n",
    "                            state = state.strip().title()\n",
    "        except:\n",
    "            pass\n",
    "        \n",
    "    return pd.Series({\n",
    "        'business_name':business_name,\n",
    "        'phone_number':phone_number,\n",
    "        'license_status':license_status,\n",
    "        'physical_address': street + ', '+ state\n",
    "    })\n",
    "    \n",
    "\n",
    "df_tow_trucks = tow_trucks.apply(urls_to_scrape, axis=1).join(tow_trucks)\n",
    "df_tow_trucks = df_tow_trucks.apply(scrape_trucks, axis = 1).join(df_tow_trucks)\n",
    "df_tow_trucks.head()"
   ]
  },
  {
   "cell_type": "code",
   "execution_count": 17,
   "metadata": {},
   "outputs": [
    {
     "data": {
      "text/plain": [
       "(20, 6)"
      ]
     },
     "execution_count": 17,
     "metadata": {},
     "output_type": "execute_result"
    }
   ],
   "source": [
    "df_tow_trucks.shape"
   ]
  },
  {
   "cell_type": "code",
   "execution_count": 18,
   "metadata": {
    "collapsed": true
   },
   "outputs": [],
   "source": [
    "df_tow_trucks.to_csv('tow-trucks-requests.csv', index = False)"
   ]
  },
  {
   "cell_type": "code",
   "execution_count": 19,
   "metadata": {},
   "outputs": [
    {
     "data": {
      "text/html": [
       "<div>\n",
       "<style>\n",
       "    .dataframe thead tr:only-child th {\n",
       "        text-align: right;\n",
       "    }\n",
       "\n",
       "    .dataframe thead th {\n",
       "        text-align: left;\n",
       "    }\n",
       "\n",
       "    .dataframe tbody tr th {\n",
       "        vertical-align: top;\n",
       "    }\n",
       "</style>\n",
       "<table border=\"1\" class=\"dataframe\">\n",
       "  <thead>\n",
       "    <tr style=\"text-align: right;\">\n",
       "      <th></th>\n",
       "      <th>business_name</th>\n",
       "      <th>license_status</th>\n",
       "      <th>phone_number</th>\n",
       "      <th>physical_address</th>\n",
       "      <th>truck_url</th>\n",
       "      <th>TDLR Number</th>\n",
       "    </tr>\n",
       "  </thead>\n",
       "  <tbody>\n",
       "    <tr>\n",
       "      <th>0</th>\n",
       "      <td>Augustus E Smith</td>\n",
       "      <td>Active</td>\n",
       "      <td>9032276464</td>\n",
       "      <td>103 N Main St, Bonham, Tx. 75418</td>\n",
       "      <td>https://www.tdlr.texas.gov/tools_search/mccs_d...</td>\n",
       "      <td>006507931C</td>\n",
       "    </tr>\n",
       "    <tr>\n",
       "      <th>1</th>\n",
       "      <td>B.D. Smith Towing</td>\n",
       "      <td>Active</td>\n",
       "      <td>8173330706</td>\n",
       "      <td>13619 Brett Jackson Rd., Fort Worth, Tx. 76179</td>\n",
       "      <td>https://www.tdlr.texas.gov/tools_search/mccs_d...</td>\n",
       "      <td>006179570C</td>\n",
       "    </tr>\n",
       "    <tr>\n",
       "      <th>2</th>\n",
       "      <td>Barry Michael Smith</td>\n",
       "      <td>Active</td>\n",
       "      <td>8066544404</td>\n",
       "      <td>4501 W Cemetery Rd, Canyon, Tx. 79015</td>\n",
       "      <td>https://www.tdlr.texas.gov/tools_search/mccs_d...</td>\n",
       "      <td>006502097C</td>\n",
       "    </tr>\n",
       "    <tr>\n",
       "      <th>3</th>\n",
       "      <td>Heath Smith</td>\n",
       "      <td>Expired</td>\n",
       "      <td>940-552-0687</td>\n",
       "      <td>1529  Wilbarger St, Vernon, Tx. 76384</td>\n",
       "      <td>https://www.tdlr.texas.gov/tools_search/mccs_d...</td>\n",
       "      <td>006494912C</td>\n",
       "    </tr>\n",
       "    <tr>\n",
       "      <th>4</th>\n",
       "      <td>Heath Smith</td>\n",
       "      <td>Expired</td>\n",
       "      <td>9405520687</td>\n",
       "      <td>1529  Wilbarger St, Vernon, Tx. 76384</td>\n",
       "      <td>https://www.tdlr.texas.gov/tools_search/mccs_d...</td>\n",
       "      <td>0649468VSF</td>\n",
       "    </tr>\n",
       "  </tbody>\n",
       "</table>\n",
       "</div>"
      ],
      "text/plain": [
       "         business_name license_status  phone_number  \\\n",
       "0     Augustus E Smith         Active    9032276464   \n",
       "1    B.D. Smith Towing         Active    8173330706   \n",
       "2  Barry Michael Smith         Active    8066544404   \n",
       "3          Heath Smith        Expired  940-552-0687   \n",
       "4          Heath Smith        Expired    9405520687   \n",
       "\n",
       "                                 physical_address  \\\n",
       "0                103 N Main St, Bonham, Tx. 75418   \n",
       "1  13619 Brett Jackson Rd., Fort Worth, Tx. 76179   \n",
       "2           4501 W Cemetery Rd, Canyon, Tx. 79015   \n",
       "3           1529  Wilbarger St, Vernon, Tx. 76384   \n",
       "4           1529  Wilbarger St, Vernon, Tx. 76384   \n",
       "\n",
       "                                           truck_url TDLR Number  \n",
       "0  https://www.tdlr.texas.gov/tools_search/mccs_d...  006507931C  \n",
       "1  https://www.tdlr.texas.gov/tools_search/mccs_d...  006179570C  \n",
       "2  https://www.tdlr.texas.gov/tools_search/mccs_d...  006502097C  \n",
       "3  https://www.tdlr.texas.gov/tools_search/mccs_d...  006494912C  \n",
       "4  https://www.tdlr.texas.gov/tools_search/mccs_d...  0649468VSF  "
      ]
     },
     "execution_count": 19,
     "metadata": {},
     "output_type": "execute_result"
    }
   ],
   "source": [
    "pd.read_csv('tow-trucks-requests.csv').head()"
   ]
  },
  {
   "cell_type": "code",
   "execution_count": 20,
   "metadata": {},
   "outputs": [
    {
     "data": {
      "text/plain": [
       "(20, 6)"
      ]
     },
     "execution_count": 20,
     "metadata": {},
     "output_type": "execute_result"
    }
   ],
   "source": [
    "pd.read_csv('tow-trucks-requests.csv').shape"
   ]
  }
 ],
 "metadata": {
  "kernelspec": {
   "display_name": "Python 3",
   "language": "python",
   "name": "python3"
  },
  "language_info": {
   "codemirror_mode": {
    "name": "ipython",
    "version": 3
   },
   "file_extension": ".py",
   "mimetype": "text/x-python",
   "name": "python",
   "nbconvert_exporter": "python",
   "pygments_lexer": "ipython3",
   "version": "3.6.1"
  }
 },
 "nbformat": 4,
 "nbformat_minor": 2
}
